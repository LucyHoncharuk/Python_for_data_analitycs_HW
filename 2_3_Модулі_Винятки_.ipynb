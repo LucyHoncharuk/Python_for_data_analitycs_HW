{
 "cells": [
  {
   "cell_type": "markdown",
   "id": "1561554f",
   "metadata": {
    "id": "1561554f"
   },
   "source": [
    "# Домашнє завдання до теми \"Модулі. Винятки (Exceptions)\"\n",
    "\n"
   ]
  },
  {
   "cell_type": "markdown",
   "id": "c094769a",
   "metadata": {
    "ExecuteTime": {
     "end_time": "2022-10-22T04:15:21.939494Z",
     "start_time": "2022-10-22T04:15:21.933981Z"
    },
    "id": "c094769a"
   },
   "source": [
    "Почнемо з закріплення матеріалу щодо фукнцій і віпрацювання роботи з модулем `random`.\n",
    "\n",
    "1. Напишіть функцію `get_random_int_list`, яка приймає один аргумент - кількість чисел `n`, і повертає список, що містить `n` випадкових цілих чисел з діапазону від 0 до 100 включно. Для генерації випадкових чисел використовуйте модуль `random`.\n",
    "\n",
    "  **Вимоги до реалізації:**\n",
    "\n",
    "  - Функція повинна приймати один аргумент `n` - кількість чисел у списку.\n",
    "  - Для генерації випадкових чисел використовуйте функцію `random.randint(0, 100)`.\n",
    "  - Повернутий список має містити рівно `n` випадкових чисел.\n",
    "\n",
    "  **Приклади виклику функції та очікувані результати:**\n",
    "\n",
    "  1. **Приклад 1:**\n",
    "    - Виклик функції: `get_random_int_list(5)`\n",
    "    - Очікуваний результат: Список з 5 випадковими числами, наприклад, `[23, 77, 45, 8, 91]`. Кожен запуск може повертати різні числа через випадковість.\n",
    "\n",
    "  2. **Приклад 2:**\n",
    "    - Виклик функції: `get_random_int_list(3)`\n",
    "    - Очікуваний результат: Список з 3 випадковими числами, наприклад, `[64, 20, 37]`.\n",
    "\n",
    "  3. **Приклад 3:**\n",
    "    - Виклик функції: `get_random_int_list(0)`\n",
    "    - Очікуваний результат: Порожній список `[]`, оскільки було запитано 0 чисел.\n",
    "\n",
    "Продемонструйте результати робити функції запустивши код нижче."
   ]
  },
  {
   "cell_type": "code",
   "execution_count": 7,
   "id": "8c20a96f-e9e2-416e-b9cb-613cceda9b4c",
   "metadata": {
    "execution": {
     "iopub.execute_input": "2025-06-25T16:46:00.746967Z",
     "iopub.status.busy": "2025-06-25T16:46:00.746173Z",
     "iopub.status.idle": "2025-06-25T16:46:00.751344Z",
     "shell.execute_reply": "2025-06-25T16:46:00.750407Z",
     "shell.execute_reply.started": "2025-06-25T16:46:00.746931Z"
    }
   },
   "outputs": [],
   "source": [
    "import random"
   ]
  },
  {
   "cell_type": "code",
   "execution_count": 24,
   "id": "1d500192-8809-4e79-bfe4-3c44a9d1253d",
   "metadata": {
    "execution": {
     "iopub.execute_input": "2025-06-25T16:54:12.376112Z",
     "iopub.status.busy": "2025-06-25T16:54:12.375530Z",
     "iopub.status.idle": "2025-06-25T16:54:12.381198Z",
     "shell.execute_reply": "2025-06-25T16:54:12.380194Z",
     "shell.execute_reply.started": "2025-06-25T16:54:12.376077Z"
    }
   },
   "outputs": [],
   "source": [
    "from random import randint"
   ]
  },
  {
   "cell_type": "code",
   "execution_count": 40,
   "id": "m5hUhAQaqP78",
   "metadata": {
    "execution": {
     "iopub.execute_input": "2025-06-25T17:00:36.114294Z",
     "iopub.status.busy": "2025-06-25T17:00:36.113640Z",
     "iopub.status.idle": "2025-06-25T17:00:36.119778Z",
     "shell.execute_reply": "2025-06-25T17:00:36.118588Z",
     "shell.execute_reply.started": "2025-06-25T17:00:36.114273Z"
    },
    "id": "m5hUhAQaqP78"
   },
   "outputs": [],
   "source": [
    " def get_random_int_list(number):\n",
    "     return [random.randint(0,100) for i in range(number)]\n"
   ]
  },
  {
   "cell_type": "code",
   "execution_count": 41,
   "id": "7e6a9fc8-4fcb-4dfc-87d4-2295d9267a63",
   "metadata": {
    "execution": {
     "iopub.execute_input": "2025-06-25T17:00:37.965226Z",
     "iopub.status.busy": "2025-06-25T17:00:37.964805Z",
     "iopub.status.idle": "2025-06-25T17:00:37.971133Z",
     "shell.execute_reply": "2025-06-25T17:00:37.970042Z",
     "shell.execute_reply.started": "2025-06-25T17:00:37.965174Z"
    }
   },
   "outputs": [
    {
     "data": {
      "text/plain": [
       "[91, 29, 31, 9, 80]"
      ]
     },
     "execution_count": 41,
     "metadata": {},
     "output_type": "execute_result"
    }
   ],
   "source": [
    "get_random_int_list(5)"
   ]
  },
  {
   "cell_type": "code",
   "execution_count": 42,
   "id": "XV-QkjcbqZNv",
   "metadata": {
    "execution": {
     "iopub.execute_input": "2025-06-25T17:00:39.960715Z",
     "iopub.status.busy": "2025-06-25T17:00:39.960208Z",
     "iopub.status.idle": "2025-06-25T17:00:39.965420Z",
     "shell.execute_reply": "2025-06-25T17:00:39.964282Z",
     "shell.execute_reply.started": "2025-06-25T17:00:39.960693Z"
    },
    "id": "XV-QkjcbqZNv"
   },
   "outputs": [
    {
     "name": "stdout",
     "output_type": "stream",
     "text": [
      "[48, 22, 40, 84, 72]\n",
      "[59, 49, 70]\n",
      "[]\n",
      "[81, 19, 28, 88, 49, 39, 18, 54]\n"
     ]
    }
   ],
   "source": [
    "for number in [5, 3, 0, 8]:\n",
    "  print(get_random_int_list(number))"
   ]
  },
  {
   "cell_type": "markdown",
   "id": "iBHEcmV7R34X",
   "metadata": {
    "id": "iBHEcmV7R34X"
   },
   "source": [
    "2. **Конвертер рядка в число**\n",
    "\n",
    "  **Опис завдання:**\n",
    "\n",
    "  Створіть функцію `string_to_int`, яка приймає рядок і намагається перетворити його в ціле число. Якщо рядок не можна перетворити на ціле число, функція повинна обробити виключення про неправильне значення, вивести на екран `\"Некоректне введення\"` і повернути `None`.\n",
    "\n",
    "  **Приклади виклику функції:**\n",
    "\n",
    "  - `string_to_int(\"123\")` повинно повернути `123`.\n",
    "  - `string_to_int(\"abc\")` повинно вивести повідомлення `\"Некоректне введення\"` і повернути `None`."
   ]
  },
  {
   "cell_type": "code",
   "execution_count": 98,
   "id": "5UT2YNrISdLR",
   "metadata": {
    "execution": {
     "iopub.execute_input": "2025-06-25T17:44:43.293095Z",
     "iopub.status.busy": "2025-06-25T17:44:43.292583Z",
     "iopub.status.idle": "2025-06-25T17:44:43.297924Z",
     "shell.execute_reply": "2025-06-25T17:44:43.297054Z",
     "shell.execute_reply.started": "2025-06-25T17:44:43.293041Z"
    },
    "id": "5UT2YNrISdLR"
   },
   "outputs": [],
   "source": [
    "def string_to_int(a):\n",
    "    try:\n",
    "        print (int(a))\n",
    "        return ( int(a))\n",
    "    except ValueError:\n",
    "        print(\"Некоректне введення\")\n",
    "        return None"
   ]
  },
  {
   "cell_type": "code",
   "execution_count": 99,
   "id": "18167089-3641-403d-9308-ea8ad828057e",
   "metadata": {
    "execution": {
     "iopub.execute_input": "2025-06-25T17:44:47.208548Z",
     "iopub.status.busy": "2025-06-25T17:44:47.207500Z",
     "iopub.status.idle": "2025-06-25T17:44:47.215424Z",
     "shell.execute_reply": "2025-06-25T17:44:47.214445Z",
     "shell.execute_reply.started": "2025-06-25T17:44:47.208525Z"
    }
   },
   "outputs": [
    {
     "name": "stdout",
     "output_type": "stream",
     "text": [
      "123\n"
     ]
    },
    {
     "data": {
      "text/plain": [
       "123"
      ]
     },
     "execution_count": 99,
     "metadata": {},
     "output_type": "execute_result"
    }
   ],
   "source": [
    "string_to_int(\"123\")"
   ]
  },
  {
   "cell_type": "code",
   "execution_count": 100,
   "id": "27f2c87e-3829-46fa-a817-8c8b2aee0f30",
   "metadata": {
    "execution": {
     "iopub.execute_input": "2025-06-25T17:44:50.354038Z",
     "iopub.status.busy": "2025-06-25T17:44:50.353405Z",
     "iopub.status.idle": "2025-06-25T17:44:50.358442Z",
     "shell.execute_reply": "2025-06-25T17:44:50.357439Z",
     "shell.execute_reply.started": "2025-06-25T17:44:50.354016Z"
    },
    "scrolled": true
   },
   "outputs": [
    {
     "name": "stdout",
     "output_type": "stream",
     "text": [
      "Некоректне введення\n"
     ]
    }
   ],
   "source": [
    "string_to_int(\"abc\")"
   ]
  },
  {
   "cell_type": "markdown",
   "id": "UbIaPiOHSgE7",
   "metadata": {
    "id": "UbIaPiOHSgE7"
   },
   "source": [
    "Продемонструйте результати робити функції запустивши код нижче."
   ]
  },
  {
   "cell_type": "code",
   "execution_count": 101,
   "id": "AL7sINtwSgcs",
   "metadata": {
    "execution": {
     "iopub.execute_input": "2025-06-25T17:44:56.428058Z",
     "iopub.status.busy": "2025-06-25T17:44:56.427066Z",
     "iopub.status.idle": "2025-06-25T17:44:56.436517Z",
     "shell.execute_reply": "2025-06-25T17:44:56.435628Z",
     "shell.execute_reply.started": "2025-06-25T17:44:56.428019Z"
    },
    "id": "AL7sINtwSgcs"
   },
   "outputs": [
    {
     "name": "stdout",
     "output_type": "stream",
     "text": [
      "123\n",
      "Некоректне введення\n",
      "Некоректне введення\n",
      "100\n"
     ]
    },
    {
     "data": {
      "text/plain": [
       "{'123': 123, 'abc': None, '456.78': None, '100': 100}"
      ]
     },
     "execution_count": 101,
     "metadata": {},
     "output_type": "execute_result"
    }
   ],
   "source": [
    "test_inputs = [\"123\", \"abc\", \"456.78\", \"100\"]\n",
    "results = {input_value: string_to_int(input_value) for input_value in test_inputs}\n",
    "results\n"
   ]
  },
  {
   "cell_type": "markdown",
   "id": "KkzLp29pQ1-U",
   "metadata": {
    "id": "KkzLp29pQ1-U"
   },
   "source": [
    "3. **Контроль введення користувача**\n",
    "\n",
    "  Створіть функцію `check_age`, яка приймає на вхід вік користувача у форматі рядок і перевіряє, чи є користувач повнолітнім (18 років і старше). Якщо введене значення не може бути перетворено на ціле число, функція повинна обробити виняток, вивести на екран `\"Некоректне введення. Будь ласка, введіть числове значення.\"` і повернути `False`. Якщо вік користувача менше 18, вивести повідомлення `\"Ви не повнолітній!\"` і також повернути `False`. У випадку, коли вік 18 років або більше, вивести повідомлення `\"Ви повнолітній.\"` і повернути `True`.\n",
    "\n",
    "  **Приклад роботи програми:**\n",
    "\n",
    "  1. Користувач вводить `\"двадцять\"`: програма виводить на екрнан `\"Некоректне введення. Будь ласка, введіть числове значення.\"` і повертає `False`.\n",
    "  2. Користувач вводить `\"17\"`: програма виводить `\"Ви не повнолітній!\"` і повертає `False`.\n",
    "  3. Користувач вводить `\"18\"`: програма виводить `\"Ви повнолітній.\"` і повертає `True`.\n"
   ]
  },
  {
   "cell_type": "code",
   "execution_count": 86,
   "id": "K3PTENm-Ae3-",
   "metadata": {
    "execution": {
     "iopub.execute_input": "2025-06-25T17:32:24.192156Z",
     "iopub.status.busy": "2025-06-25T17:32:24.191619Z",
     "iopub.status.idle": "2025-06-25T17:32:24.197586Z",
     "shell.execute_reply": "2025-06-25T17:32:24.196548Z",
     "shell.execute_reply.started": "2025-06-25T17:32:24.192134Z"
    },
    "id": "K3PTENm-Ae3-"
   },
   "outputs": [],
   "source": [
    "def check_age(age):\n",
    "    \n",
    "    try:\n",
    "        if int(age) >= 18:\n",
    "            print(\"Ви повнолітній.\")\n",
    "            return True\n",
    "        elif int(age) < 18:\n",
    "            print(\"Ви не повнолітній.\")\n",
    "            return False\n",
    "    except ValueError:\n",
    "        print(\"Некоректне введення. Будь ласка, введіть числове значення.\")\n",
    "        return False"
   ]
  },
  {
   "cell_type": "markdown",
   "id": "huphMh7YR2GJ",
   "metadata": {
    "id": "huphMh7YR2GJ"
   },
   "source": [
    "Продемонструйте результати робити функції запустивши код нижче."
   ]
  },
  {
   "cell_type": "code",
   "execution_count": 87,
   "id": "YuEQrntVRgSE",
   "metadata": {
    "execution": {
     "iopub.execute_input": "2025-06-25T17:32:26.685823Z",
     "iopub.status.busy": "2025-06-25T17:32:26.685070Z",
     "iopub.status.idle": "2025-06-25T17:32:26.693989Z",
     "shell.execute_reply": "2025-06-25T17:32:26.692649Z",
     "shell.execute_reply.started": "2025-06-25T17:32:26.685800Z"
    },
    "id": "YuEQrntVRgSE"
   },
   "outputs": [
    {
     "name": "stdout",
     "output_type": "stream",
     "text": [
      "Некоректне введення. Будь ласка, введіть числове значення.\n",
      "Ви не повнолітній.\n",
      "Ви повнолітній.\n"
     ]
    },
    {
     "data": {
      "text/plain": [
       "[False, False, True]"
      ]
     },
     "execution_count": 87,
     "metadata": {},
     "output_type": "execute_result"
    }
   ],
   "source": [
    "test_inputs = [\"двадцять\", \"17\", \"18\"]\n",
    "results = [check_age(input_value) for input_value in test_inputs]\n",
    "results"
   ]
  },
  {
   "cell_type": "markdown",
   "id": "CQg-zIJGTqjw",
   "metadata": {
    "id": "CQg-zIJGTqjw"
   },
   "source": [
    "4. **Обчислення середнього з перевіркою:** Напишіть функцію `calculate_average`, яка приймає на вхід список чисел і обчислює середнє арифметичне значення цих чисел. Функція повинна перевіряти, що всі елементи списку є числами. Якщо серед елементів списку зустрічається елемент, який не є числом, функція повинна вивести повідомлення `\"Всі елементи повинні бути числами\"` і повернути `None`.\n",
    "\n",
    "  **Приклади виклику функції:**\n",
    "\n",
    "  - `calculate_average([1, 2, 3, 4, 5])` повинно повернути `3.0`.\n",
    "  - `calculate_average([1, \"2\", 3])` повинно вивести `\"Всі елементи повинні бути числами\"` і повернути `None`.\n",
    "  - `calculate_average([-1.1, \"ф\", 4])` повинно вивести `\"Всі елементи повинні бути числами\"` і повернути `None`."
   ]
  },
  {
   "cell_type": "code",
   "execution_count": 96,
   "id": "91VU_y5sUAKB",
   "metadata": {
    "execution": {
     "iopub.execute_input": "2025-06-25T17:44:03.117185Z",
     "iopub.status.busy": "2025-06-25T17:44:03.116706Z",
     "iopub.status.idle": "2025-06-25T17:44:03.122443Z",
     "shell.execute_reply": "2025-06-25T17:44:03.121332Z",
     "shell.execute_reply.started": "2025-06-25T17:44:03.117127Z"
    },
    "id": "91VU_y5sUAKB"
   },
   "outputs": [],
   "source": [
    "def calculate_average(numbers):\n",
    "    try:\n",
    "       print (sum(numbers) / len(numbers))\n",
    "       return sum(numbers) / len(numbers)\n",
    "    except TypeError :\n",
    "       print(\"Всі елементи повинні бути числами\")\n",
    "       return None"
   ]
  },
  {
   "cell_type": "markdown",
   "id": "ib-JWKKmUeF8",
   "metadata": {
    "id": "ib-JWKKmUeF8"
   },
   "source": [
    "Продемонструйте результати робити функції запустивши код нижче."
   ]
  },
  {
   "cell_type": "code",
   "execution_count": 97,
   "id": "axEmZx0rUNqT",
   "metadata": {
    "execution": {
     "iopub.execute_input": "2025-06-25T17:44:05.170079Z",
     "iopub.status.busy": "2025-06-25T17:44:05.169623Z",
     "iopub.status.idle": "2025-06-25T17:44:05.178227Z",
     "shell.execute_reply": "2025-06-25T17:44:05.177145Z",
     "shell.execute_reply.started": "2025-06-25T17:44:05.170057Z"
    },
    "id": "axEmZx0rUNqT"
   },
   "outputs": [
    {
     "name": "stdout",
     "output_type": "stream",
     "text": [
      "3.0\n",
      "Всі елементи повинні бути числами\n",
      "20.0\n",
      "Всі елементи повинні бути числами\n"
     ]
    },
    {
     "data": {
      "text/plain": [
       "[3.0, None, 20.0, None]"
      ]
     },
     "execution_count": 97,
     "metadata": {},
     "output_type": "execute_result"
    }
   ],
   "source": [
    "test_data = [\n",
    "    [1, 2, 3, 4, 5],  # Коректні дані\n",
    "    [1, \"2\", 3],      # Некоректні дані\n",
    "    [10, 20, 30],     # Коректні дані\n",
    "    [-1.1, \"ф\", 4]    # Некоректні дані\n",
    "]\n",
    "\n",
    "results = [calculate_average(data) for data in test_data]\n",
    "results"
   ]
  }
 ],
 "metadata": {
  "colab": {
   "provenance": []
  },
  "kernelspec": {
   "display_name": "Python 3 (ipykernel)",
   "language": "python",
   "name": "python3"
  },
  "language_info": {
   "codemirror_mode": {
    "name": "ipython",
    "version": 3
   },
   "file_extension": ".py",
   "mimetype": "text/x-python",
   "name": "python",
   "nbconvert_exporter": "python",
   "pygments_lexer": "ipython3",
   "version": "3.13.3"
  },
  "toc": {
   "base_numbering": 1,
   "nav_menu": {},
   "number_sections": true,
   "sideBar": true,
   "skip_h1_title": false,
   "title_cell": "Table of Contents",
   "title_sidebar": "Contents",
   "toc_cell": false,
   "toc_position": {},
   "toc_section_display": true,
   "toc_window_display": false
  }
 },
 "nbformat": 4,
 "nbformat_minor": 5
}
