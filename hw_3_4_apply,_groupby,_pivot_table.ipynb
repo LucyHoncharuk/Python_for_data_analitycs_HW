{
 "cells": [
  {
   "cell_type": "markdown",
   "metadata": {
    "id": "LwNpAFw_eTF3"
   },
   "source": [
    "#Домашнє завдання до тем apply(), groupby(), pivot_table()"
   ]
  },
  {
   "cell_type": "markdown",
   "metadata": {
    "id": "vP2PEJyq8Yrj"
   },
   "source": [
    "В цьому домашньому завданні продовжуємо працювати з набором даних `supermarket_sales.csv`."
   ]
  },
  {
   "cell_type": "markdown",
   "metadata": {
    "id": "dh9lfpDb8gBL"
   },
   "source": [
    "0. Імпортуйте бібліотеку pandas та зчитайте дані у змінну `df` типу `pandas.DataFrame`."
   ]
  },
  {
   "cell_type": "code",
   "execution_count": 1,
   "metadata": {
    "execution": {
     "iopub.execute_input": "2025-07-06T05:03:59.178041Z",
     "iopub.status.busy": "2025-07-06T05:03:59.177664Z",
     "iopub.status.idle": "2025-07-06T05:04:03.816079Z",
     "shell.execute_reply": "2025-07-06T05:04:03.812992Z",
     "shell.execute_reply.started": "2025-07-06T05:03:59.178015Z"
    },
    "id": "xBI9gJMK8qnl"
   },
   "outputs": [],
   "source": [
    "import numpy as np\n",
    "import pandas as pd\n",
    "data_path = '../data/supermarket_sales.csv'\n",
    "df = pd.read_csv(data_path)"
   ]
  },
  {
   "cell_type": "markdown",
   "metadata": {
    "id": "28638363"
   },
   "source": [
    "1. Дослідимо, який філіал супермаркету ('Branch') є найприбутковішим. Для цього знайдіть сумарний прибуток за кожним філіалом і виявіть, який філіал має найвищий."
   ]
  },
  {
   "cell_type": "code",
   "execution_count": 2,
   "metadata": {
    "ExecuteTime": {
     "end_time": "2022-11-01T17:27:42.023877Z",
     "start_time": "2022-11-01T17:27:42.020277Z"
    },
    "execution": {
     "iopub.execute_input": "2025-07-06T05:06:07.025627Z",
     "iopub.status.busy": "2025-07-06T05:06:07.024813Z",
     "iopub.status.idle": "2025-07-06T05:06:07.030180Z",
     "shell.execute_reply": "2025-07-06T05:06:07.029140Z",
     "shell.execute_reply.started": "2025-07-06T05:06:07.025596Z"
    },
    "id": "916d731d"
   },
   "outputs": [],
   "source": [
    "grouped = df.groupby(\"Branch\")"
   ]
  },
  {
   "cell_type": "code",
   "execution_count": 10,
   "metadata": {
    "execution": {
     "iopub.execute_input": "2025-07-06T05:14:04.446326Z",
     "iopub.status.busy": "2025-07-06T05:14:04.445975Z",
     "iopub.status.idle": "2025-07-06T05:14:04.462749Z",
     "shell.execute_reply": "2025-07-06T05:14:04.461678Z",
     "shell.execute_reply.started": "2025-07-06T05:14:04.446304Z"
    },
    "scrolled": true
   },
   "outputs": [
    {
     "data": {
      "text/html": [
       "<div>\n",
       "<style scoped>\n",
       "    .dataframe tbody tr th:only-of-type {\n",
       "        vertical-align: middle;\n",
       "    }\n",
       "\n",
       "    .dataframe tbody tr th {\n",
       "        vertical-align: top;\n",
       "    }\n",
       "\n",
       "    .dataframe thead th {\n",
       "        text-align: right;\n",
       "    }\n",
       "</style>\n",
       "<table border=\"1\" class=\"dataframe\">\n",
       "  <thead>\n",
       "    <tr style=\"text-align: right;\">\n",
       "      <th></th>\n",
       "      <th>Unit price</th>\n",
       "      <th>Quantity</th>\n",
       "      <th>Tax 5%</th>\n",
       "      <th>Total</th>\n",
       "      <th>cogs</th>\n",
       "      <th>gross margin percentage</th>\n",
       "      <th>gross income</th>\n",
       "      <th>Rating</th>\n",
       "    </tr>\n",
       "    <tr>\n",
       "      <th>Branch</th>\n",
       "      <th></th>\n",
       "      <th></th>\n",
       "      <th></th>\n",
       "      <th></th>\n",
       "      <th></th>\n",
       "      <th></th>\n",
       "      <th></th>\n",
       "      <th></th>\n",
       "    </tr>\n",
       "  </thead>\n",
       "  <tbody>\n",
       "    <tr>\n",
       "      <th>A</th>\n",
       "      <td>18625.49</td>\n",
       "      <td>1859</td>\n",
       "      <td>5057.1605</td>\n",
       "      <td>106200.3705</td>\n",
       "      <td>101143.21</td>\n",
       "      <td>1619.047619</td>\n",
       "      <td>5057.1605</td>\n",
       "      <td>2389.2</td>\n",
       "    </tr>\n",
       "    <tr>\n",
       "      <th>B</th>\n",
       "      <td>18478.88</td>\n",
       "      <td>1820</td>\n",
       "      <td>5057.0320</td>\n",
       "      <td>106197.6720</td>\n",
       "      <td>101140.64</td>\n",
       "      <td>1580.952381</td>\n",
       "      <td>5057.0320</td>\n",
       "      <td>2263.6</td>\n",
       "    </tr>\n",
       "    <tr>\n",
       "      <th>C</th>\n",
       "      <td>18567.76</td>\n",
       "      <td>1831</td>\n",
       "      <td>5265.1765</td>\n",
       "      <td>110568.7065</td>\n",
       "      <td>105303.53</td>\n",
       "      <td>1561.904762</td>\n",
       "      <td>5265.1765</td>\n",
       "      <td>2319.9</td>\n",
       "    </tr>\n",
       "  </tbody>\n",
       "</table>\n",
       "</div>"
      ],
      "text/plain": [
       "        Unit price  Quantity     Tax 5%        Total       cogs  \\\n",
       "Branch                                                            \n",
       "A         18625.49      1859  5057.1605  106200.3705  101143.21   \n",
       "B         18478.88      1820  5057.0320  106197.6720  101140.64   \n",
       "C         18567.76      1831  5265.1765  110568.7065  105303.53   \n",
       "\n",
       "        gross margin percentage  gross income  Rating  \n",
       "Branch                                                 \n",
       "A                   1619.047619     5057.1605  2389.2  \n",
       "B                   1580.952381     5057.0320  2263.6  \n",
       "C                   1561.904762     5265.1765  2319.9  "
      ]
     },
     "execution_count": 10,
     "metadata": {},
     "output_type": "execute_result"
    }
   ],
   "source": [
    "grouped.sum('Total')"
   ]
  },
  {
   "cell_type": "code",
   "execution_count": 13,
   "metadata": {
    "execution": {
     "iopub.execute_input": "2025-07-06T05:17:21.593412Z",
     "iopub.status.busy": "2025-07-06T05:17:21.592743Z",
     "iopub.status.idle": "2025-07-06T05:17:21.603892Z",
     "shell.execute_reply": "2025-07-06T05:17:21.602735Z",
     "shell.execute_reply.started": "2025-07-06T05:17:21.593384Z"
    }
   },
   "outputs": [
    {
     "data": {
      "text/html": [
       "<div>\n",
       "<style scoped>\n",
       "    .dataframe tbody tr th:only-of-type {\n",
       "        vertical-align: middle;\n",
       "    }\n",
       "\n",
       "    .dataframe tbody tr th {\n",
       "        vertical-align: top;\n",
       "    }\n",
       "\n",
       "    .dataframe thead th {\n",
       "        text-align: right;\n",
       "    }\n",
       "</style>\n",
       "<table border=\"1\" class=\"dataframe\">\n",
       "  <thead>\n",
       "    <tr style=\"text-align: right;\">\n",
       "      <th></th>\n",
       "      <th>Branch</th>\n",
       "      <th>gross income</th>\n",
       "    </tr>\n",
       "  </thead>\n",
       "  <tbody>\n",
       "    <tr>\n",
       "      <th>0</th>\n",
       "      <td>A</td>\n",
       "      <td>5057.1605</td>\n",
       "    </tr>\n",
       "    <tr>\n",
       "      <th>1</th>\n",
       "      <td>B</td>\n",
       "      <td>5057.0320</td>\n",
       "    </tr>\n",
       "    <tr>\n",
       "      <th>2</th>\n",
       "      <td>C</td>\n",
       "      <td>5265.1765</td>\n",
       "    </tr>\n",
       "  </tbody>\n",
       "</table>\n",
       "</div>"
      ],
      "text/plain": [
       "  Branch  gross income\n",
       "0      A     5057.1605\n",
       "1      B     5057.0320\n",
       "2      C     5265.1765"
      ]
     },
     "execution_count": 13,
     "metadata": {},
     "output_type": "execute_result"
    }
   ],
   "source": [
    "profit_by_city = df.groupby('Branch')['gross income'].sum().reset_index()\n",
    "profit_by_city"
   ]
  },
  {
   "cell_type": "markdown",
   "metadata": {
    "id": "2qL_OddUCZKK"
   },
   "source": [
    "2. В якому місті знайходиться філіал з найвищим прибутком? Може в тому місці нам розмітисти ще один магазин.  \n",
    "Знайдіть відповідь за допомогою функціоналу Pandas."
   ]
  },
  {
   "cell_type": "code",
   "execution_count": 15,
   "metadata": {
    "execution": {
     "iopub.execute_input": "2025-07-06T05:21:05.727583Z",
     "iopub.status.busy": "2025-07-06T05:21:05.727197Z",
     "iopub.status.idle": "2025-07-06T05:21:05.747217Z",
     "shell.execute_reply": "2025-07-06T05:21:05.746278Z",
     "shell.execute_reply.started": "2025-07-06T05:21:05.727560Z"
    },
    "id": "bBJUc1dWCwdi"
   },
   "outputs": [
    {
     "data": {
      "text/html": [
       "<div>\n",
       "<style scoped>\n",
       "    .dataframe tbody tr th:only-of-type {\n",
       "        vertical-align: middle;\n",
       "    }\n",
       "\n",
       "    .dataframe tbody tr th {\n",
       "        vertical-align: top;\n",
       "    }\n",
       "\n",
       "    .dataframe thead th {\n",
       "        text-align: right;\n",
       "    }\n",
       "</style>\n",
       "<table border=\"1\" class=\"dataframe\">\n",
       "  <thead>\n",
       "    <tr style=\"text-align: right;\">\n",
       "      <th>Branch</th>\n",
       "      <th>A</th>\n",
       "      <th>B</th>\n",
       "      <th>C</th>\n",
       "    </tr>\n",
       "    <tr>\n",
       "      <th>City</th>\n",
       "      <th></th>\n",
       "      <th></th>\n",
       "      <th></th>\n",
       "    </tr>\n",
       "  </thead>\n",
       "  <tbody>\n",
       "    <tr>\n",
       "      <th>Mandalay</th>\n",
       "      <td>0.0000</td>\n",
       "      <td>5057.032</td>\n",
       "      <td>0.0000</td>\n",
       "    </tr>\n",
       "    <tr>\n",
       "      <th>Naypyitaw</th>\n",
       "      <td>0.0000</td>\n",
       "      <td>0.000</td>\n",
       "      <td>5265.1765</td>\n",
       "    </tr>\n",
       "    <tr>\n",
       "      <th>Yangon</th>\n",
       "      <td>5057.1605</td>\n",
       "      <td>0.000</td>\n",
       "      <td>0.0000</td>\n",
       "    </tr>\n",
       "  </tbody>\n",
       "</table>\n",
       "</div>"
      ],
      "text/plain": [
       "Branch             A         B          C\n",
       "City                                     \n",
       "Mandalay      0.0000  5057.032     0.0000\n",
       "Naypyitaw     0.0000     0.000  5265.1765\n",
       "Yangon     5057.1605     0.000     0.0000"
      ]
     },
     "execution_count": 15,
     "metadata": {},
     "output_type": "execute_result"
    }
   ],
   "source": [
    "pd.pivot_table(\n",
    "    df,\n",
    "    index='City',\n",
    "    columns='Branch',\n",
    "    values='gross income',\n",
    "    aggfunc='sum',\n",
    "    fill_value=0\n",
    ")\n",
    "\n"
   ]
  },
  {
   "cell_type": "markdown",
   "metadata": {
    "id": "6dec795f"
   },
   "source": [
    "3.1. Створіть зводну таблицю, яка покаже, скільки покупок (інвойсів) було зроблено в кожній з філій (`Branch`) за різними категоріями товарів. Запишіть таблицю в змінну `invoices_by_category` і виведіть змінну на екран.\n",
    "Ця таблиця допоможе проаналізувати, в якій філії купують найбільше товарів кожної з категорій."
   ]
  },
  {
   "cell_type": "code",
   "execution_count": 16,
   "metadata": {
    "execution": {
     "iopub.execute_input": "2025-07-06T05:22:44.046937Z",
     "iopub.status.busy": "2025-07-06T05:22:44.046196Z",
     "iopub.status.idle": "2025-07-06T05:22:44.059313Z",
     "shell.execute_reply": "2025-07-06T05:22:44.058357Z",
     "shell.execute_reply.started": "2025-07-06T05:22:44.046908Z"
    },
    "id": "N7TfUBf4ZrkX"
   },
   "outputs": [
    {
     "name": "stdout",
     "output_type": "stream",
     "text": [
      "Branch                   A   B   C\n",
      "Product line                      \n",
      "Electronic accessories  60  55  55\n",
      "Fashion accessories     51  62  65\n",
      "Food and beverages      58  50  66\n",
      "Health and beauty       47  53  52\n",
      "Home and lifestyle      65  50  45\n",
      "Sports and travel       59  62  45\n"
     ]
    }
   ],
   "source": [
    "invoices_by_category = pd.pivot_table(\n",
    "    df,\n",
    "    index='Product line',       \n",
    "    columns='Branch',           \n",
    "    values='Invoice ID',        \n",
    "    aggfunc='count',            \n",
    "    fill_value=0                \n",
    ")\n",
    "\n",
    "print(invoices_by_category)\n"
   ]
  },
  {
   "cell_type": "code",
   "execution_count": 17,
   "metadata": {
    "execution": {
     "iopub.execute_input": "2025-07-06T05:24:12.584079Z",
     "iopub.status.busy": "2025-07-06T05:24:12.583370Z",
     "iopub.status.idle": "2025-07-06T05:24:12.599152Z",
     "shell.execute_reply": "2025-07-06T05:24:12.598006Z",
     "shell.execute_reply.started": "2025-07-06T05:24:12.584052Z"
    }
   },
   "outputs": [
    {
     "name": "stdout",
     "output_type": "stream",
     "text": [
      "Product line  Electronic accessories  Fashion accessories  Food and beverages  \\\n",
      "Branch                                                                          \n",
      "A                                 60                   51                  58   \n",
      "B                                 55                   62                  50   \n",
      "C                                 55                   65                  66   \n",
      "\n",
      "Product line  Health and beauty  Home and lifestyle  Sports and travel  \n",
      "Branch                                                                  \n",
      "A                            47                  65                 59  \n",
      "B                            53                  50                 62  \n",
      "C                            52                  45                 45  \n"
     ]
    }
   ],
   "source": [
    "invoices_by_category = pd.pivot_table(\n",
    "    df,\n",
    "    index='Branch',          \n",
    "    columns='Product line',    \n",
    "    values='Invoice ID',\n",
    "    aggfunc='count',\n",
    "    fill_value=0\n",
    ")\n",
    "\n",
    "print(invoices_by_category)\n"
   ]
  },
  {
   "cell_type": "markdown",
   "metadata": {
    "ExecuteTime": {
     "end_time": "2022-11-01T16:50:46.961201Z",
     "start_time": "2022-11-01T16:50:46.955894Z"
    },
    "id": "f5bbfa34"
   },
   "source": [
    "Очікуваний результат:"
   ]
  },
  {
   "cell_type": "markdown",
   "metadata": {
    "id": "34b9bcdc"
   },
   "source": [
    "![](https://drive.google.com/uc?export=view&id=1rueAdko6S3UxIHGtojetTxlES-EyM6Yb)"
   ]
  },
  {
   "cell_type": "markdown",
   "metadata": {
    "id": "woygDEA0OSwJ"
   },
   "source": [
    "3.2. Викристовуючи змінну `invoices_by_category` дайте відповідь програмно (тобто значення треба не просто знайти очима, а вивести за допомогою коду), в якому філіалі магазину (`Branch`) найбільше інвойсів із покупкою товарів категорії \"Електронні аксесуари\" (`Electronic accessories`)?\n"
   ]
  },
  {
   "cell_type": "code",
   "execution_count": 18,
   "metadata": {
    "execution": {
     "iopub.execute_input": "2025-07-06T05:25:08.232196Z",
     "iopub.status.busy": "2025-07-06T05:25:08.231788Z",
     "iopub.status.idle": "2025-07-06T05:25:08.240630Z",
     "shell.execute_reply": "2025-07-06T05:25:08.238990Z",
     "shell.execute_reply.started": "2025-07-06T05:25:08.232171Z"
    },
    "id": "B5x8kTE-Qcq8"
   },
   "outputs": [
    {
     "name": "stdout",
     "output_type": "stream",
     "text": [
      "Найбільше інвойсів у категорії 'Electronic accessories' зроблено у філії: A (60 інвойсів)\n"
     ]
    }
   ],
   "source": [
    "top_branch = invoices_by_category['Electronic accessories'].idxmax()\n",
    "top_count = invoices_by_category['Electronic accessories'].max()\n",
    "\n",
    "print(f\"Найбільше інвойсів у категорії 'Electronic accessories' зроблено у філії: {top_branch} ({top_count} інвойсів)\")\n"
   ]
  },
  {
   "cell_type": "markdown",
   "metadata": {
    "ExecuteTime": {
     "end_time": "2022-11-01T17:56:02.981755Z",
     "start_time": "2022-11-01T17:56:02.977086Z"
    },
    "id": "d005a2b8"
   },
   "source": [
    "4-6. **Творче завдання на розвиток аналітичного мислення**\n",
    "\n",
    "Крок 1. Сформулюйте ТРИ питання (гіпотези) до наявних даних, які допомогли б вам зрозуміти, які користувачі що, де та коли найбільше/найменше купують, аби дати на основі цих гіпотез рекомендації бізнесу. Звісно питання мають бути не тими, на які ми вже відповіли в завданнях модулю.\n",
    "\n",
    "Крок 2. Знайдіть відповіді на свої питання з допомогою функціоналу pandas.\n",
    "\n",
    "Крок 3. Напишіть, як відповідь на це питання може бути використана для прийняття бізнес рішень.   \n",
    "   \n",
    " Питання можуть бути будь-якої складності, але їх має бути 3. Кожне питання оцінюється як 1 завдання. Без виконання цього завдання ДЗ не приймається. Якщо є питання щодо виконання - пишіть у чат 🙌\n"
   ]
  },
  {
   "cell_type": "markdown",
   "metadata": {
    "id": "cM3cApWSZuRX"
   },
   "source": [
    "#### Гіпотези\n",
    "* Гіпотеза: певний метод оплати пов’язаний з більшими витратами.\n",
    "* Гіпотеза: Постійні клієнти (Loyal) витрачають більше за звичайних (Normal).\n",
    "* Гіпотеза: У різних містах покупці по-різному оцінюють категорії товарів — в одних містах можуть бути вищі середні чеки на певні категорії."
   ]
  },
  {
   "cell_type": "markdown",
   "metadata": {},
   "source": [
    "## Гіпотеза 1"
   ]
  },
  {
   "cell_type": "code",
   "execution_count": 19,
   "metadata": {
    "execution": {
     "iopub.execute_input": "2025-07-06T05:34:09.972059Z",
     "iopub.status.busy": "2025-07-06T05:34:09.971380Z",
     "iopub.status.idle": "2025-07-06T05:34:09.983106Z",
     "shell.execute_reply": "2025-07-06T05:34:09.982128Z",
     "shell.execute_reply.started": "2025-07-06T05:34:09.972029Z"
    }
   },
   "outputs": [
    {
     "name": "stdout",
     "output_type": "stream",
     "text": [
      "Payment\n",
      "Cash           326.18\n",
      "Credit card    324.01\n",
      "Ewallet        318.82\n",
      "Name: Total, dtype: float64\n"
     ]
    }
   ],
   "source": [
    " \n",
    "payment_means = df.groupby('Payment')['Total'].mean().round(2)\n",
    "print(payment_means)\n"
   ]
  },
  {
   "cell_type": "markdown",
   "metadata": {},
   "source": [
    "#### Висновок щодо гіпотези:\n",
    "Гіпотеза, що певний метод оплати пов’язаний з більшими витратами, підтверджується лише частково, бо різниця дуже незначна.\n",
    "\n",
    "Можливо, метод оплати мало впливає на розмір чека у цій вибірці."
   ]
  },
  {
   "cell_type": "markdown",
   "metadata": {},
   "source": [
    "## Гіпотеза 2"
   ]
  },
  {
   "cell_type": "code",
   "execution_count": 20,
   "metadata": {
    "execution": {
     "iopub.execute_input": "2025-07-06T05:37:09.077878Z",
     "iopub.status.busy": "2025-07-06T05:37:09.077367Z",
     "iopub.status.idle": "2025-07-06T05:37:09.087305Z",
     "shell.execute_reply": "2025-07-06T05:37:09.086303Z",
     "shell.execute_reply.started": "2025-07-06T05:37:09.077852Z"
    }
   },
   "outputs": [
    {
     "data": {
      "text/plain": [
       "Customer type\n",
       "Member    327.79\n",
       "Normal    318.12\n",
       "Name: Total, dtype: float64"
      ]
     },
     "execution_count": 20,
     "metadata": {},
     "output_type": "execute_result"
    }
   ],
   "source": [
    "df.groupby('Customer type')['Total'].mean().round(2)\n"
   ]
  },
  {
   "cell_type": "markdown",
   "metadata": {},
   "source": [
    "#### Що це означає для бізнесу:\n",
    "Програма лояльності працює: члени купують більше, і вони цінніші для бізнесу.\n",
    "\n",
    "Важливо утримувати і розширювати базу Member через бонуси, акції, персональні пропозиції."
   ]
  },
  {
   "cell_type": "markdown",
   "metadata": {},
   "source": [
    "## Гіпотеза 3"
   ]
  },
  {
   "cell_type": "code",
   "execution_count": 21,
   "metadata": {
    "execution": {
     "iopub.execute_input": "2025-07-06T05:39:08.534626Z",
     "iopub.status.busy": "2025-07-06T05:39:08.533571Z",
     "iopub.status.idle": "2025-07-06T05:39:08.548727Z",
     "shell.execute_reply": "2025-07-06T05:39:08.547730Z",
     "shell.execute_reply.started": "2025-07-06T05:39:08.534597Z"
    }
   },
   "outputs": [
    {
     "name": "stdout",
     "output_type": "stream",
     "text": [
      "Product line  Electronic accessories  Fashion accessories  Food and beverages  \\\n",
      "City                                                                            \n",
      "Mandalay                      310.03               264.73              304.30   \n",
      "Naypyitaw                     344.89               331.69              360.10   \n",
      "Yangon                        305.29               320.25              295.92   \n",
      "\n",
      "Product line  Health and beauty  Home and lifestyle  Sports and travel  \n",
      "City                                                                    \n",
      "Mandalay                 376.99              350.98             322.39  \n",
      "Naypyitaw                319.53              308.79             350.27  \n",
      "Yangon                   268.04              344.88             328.35  \n"
     ]
    }
   ],
   "source": [
    "pivot_city_category = pd.pivot_table(\n",
    "    df,\n",
    "    index='City',\n",
    "    columns='Product line',\n",
    "    values='Total',\n",
    "    aggfunc='mean',\n",
    "    fill_value=0\n",
    ").round(2)\n",
    "\n",
    "print(pivot_city_category)\n"
   ]
  },
  {
   "cell_type": "markdown",
   "metadata": {},
   "source": [
    " #### Рекомендації для бізнесу:\n",
    " * Mandalay:\n",
    "Варто акцентувати увагу на розширенні асортименту та маркетингових активностях у сегменті Health and beauty, а також у категоріях для дому та спорту.\n",
    "\n",
    " * Naypyitaw:\n",
    "Варто підтримувати і розвивати напрямки Food and beverages, Electronic accessories і Fashion accessories — це локальні «локомотиви» прибутку.\n",
    "\n",
    " * Yangon:\n",
    "Можливо, варто покращити асортимент і пропозиції у категорії Health and beauty (наприклад, через акції чи новинки), а також продовжити підтримку сильних напрямків: Home and lifestyle і Fashion accessories."
   ]
  }
 ],
 "metadata": {
  "colab": {
   "provenance": []
  },
  "kernelspec": {
   "display_name": "Python 3 (ipykernel)",
   "language": "python",
   "name": "python3"
  },
  "language_info": {
   "codemirror_mode": {
    "name": "ipython",
    "version": 3
   },
   "file_extension": ".py",
   "mimetype": "text/x-python",
   "name": "python",
   "nbconvert_exporter": "python",
   "pygments_lexer": "ipython3",
   "version": "3.13.3"
  }
 },
 "nbformat": 4,
 "nbformat_minor": 4
}
