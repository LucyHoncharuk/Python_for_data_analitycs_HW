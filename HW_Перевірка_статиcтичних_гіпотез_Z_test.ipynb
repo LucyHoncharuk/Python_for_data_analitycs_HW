{
 "cells": [
  {
   "cell_type": "code",
   "execution_count": 1,
   "id": "b708366c-10ea-4bf6-9957-922ec85b5a11",
   "metadata": {
    "execution": {
     "iopub.execute_input": "2025-08-29T14:24:13.969043Z",
     "iopub.status.busy": "2025-08-29T14:24:13.968635Z",
     "iopub.status.idle": "2025-08-29T14:24:23.649008Z",
     "shell.execute_reply": "2025-08-29T14:24:23.647958Z",
     "shell.execute_reply.started": "2025-08-29T14:24:13.969022Z"
    }
   },
   "outputs": [],
   "source": [
    "import numpy as np\n",
    "import pandas as pd\n",
    "import matplotlib.pyplot as plt\n",
    "import seaborn as sns\n",
    "from scipy import stats\n",
    "\n",
    "# Налаштування для візуалізації\n",
    "plt.rcParams['figure.figsize'] = (12, 7)\n",
    "plt.rcParams['font.size'] = 12\n"
   ]
  },
  {
   "cell_type": "markdown",
   "id": "e152f6d6",
   "metadata": {
    "ExecuteTime": {
     "end_time": "2022-12-10T14:29:24.703416Z",
     "start_time": "2022-12-10T14:29:24.688485Z"
    },
    "id": "e152f6d6"
   },
   "source": [
    "#Перевірка статиcтичних гіпотез. Z-test.\n",
    "\n"
   ]
  },
  {
   "cell_type": "markdown",
   "id": "cd404683",
   "metadata": {
    "id": "cd404683"
   },
   "source": [
    "0. Зчитайте дані з `data.csv` у змінну data, яка має тип pandas.DataFrame. Ми будемо далі працювати з цією змінною."
   ]
  },
  {
   "cell_type": "code",
   "execution_count": 6,
   "id": "b20b6ba2",
   "metadata": {
    "execution": {
     "iopub.execute_input": "2025-08-29T14:47:18.027155Z",
     "iopub.status.busy": "2025-08-29T14:47:18.026256Z",
     "iopub.status.idle": "2025-08-29T14:47:18.055175Z",
     "shell.execute_reply": "2025-08-29T14:47:18.053721Z",
     "shell.execute_reply.started": "2025-08-29T14:47:18.027132Z"
    },
    "id": "b20b6ba2"
   },
   "outputs": [],
   "source": [
    "df = pd.read_csv(\"D:/Studing DATA/Model_python/data/statistical_hypothesis/statistical_hypothesis/data.csv\")"
   ]
  },
  {
   "cell_type": "code",
   "execution_count": 9,
   "id": "eff7cf25-e75e-4abf-bc5f-6a4cdac64c53",
   "metadata": {
    "execution": {
     "iopub.execute_input": "2025-08-29T14:48:09.537378Z",
     "iopub.status.busy": "2025-08-29T14:48:09.536601Z",
     "iopub.status.idle": "2025-08-29T14:48:09.557512Z",
     "shell.execute_reply": "2025-08-29T14:48:09.555995Z",
     "shell.execute_reply.started": "2025-08-29T14:48:09.537348Z"
    }
   },
   "outputs": [
    {
     "name": "stdout",
     "output_type": "stream",
     "text": [
      "   Unnamed: 0       data\n",
      "0           0  17.499453\n",
      "1           1  19.662399\n",
      "2           2   7.182823\n",
      "3           3  29.841625\n",
      "4           4   9.239386\n"
     ]
    }
   ],
   "source": [
    "print(df.head())"
   ]
  },
  {
   "cell_type": "markdown",
   "id": "3d06cbbf",
   "metadata": {
    "id": "3d06cbbf"
   },
   "source": [
    "Запустіть код нижче. Для коректної робити всіх подальших методів дані мають бути у вигляді одновимірного `numpy.ndarray` вектора та мати розмірність (100,). Така розмірність означає, що дані - одновимірні (колонка), якщо б розмірність була (100, 1), то дані сприймаються методами як двовимірні (таблиця), хоча для нас виглядати можуть так само."
   ]
  },
  {
   "cell_type": "code",
   "execution_count": 8,
   "id": "cce1632b",
   "metadata": {
    "colab": {
     "base_uri": "https://localhost:8080/"
    },
    "execution": {
     "iopub.execute_input": "2025-08-29T14:47:44.362813Z",
     "iopub.status.busy": "2025-08-29T14:47:44.361969Z",
     "iopub.status.idle": "2025-08-29T14:47:44.377201Z",
     "shell.execute_reply": "2025-08-29T14:47:44.375564Z",
     "shell.execute_reply.started": "2025-08-29T14:47:44.362791Z"
    },
    "id": "cce1632b",
    "outputId": "2e142439-2a4f-4057-ff9d-e6a4b3d7e955"
   },
   "outputs": [
    {
     "data": {
      "text/plain": [
       "(100,)"
      ]
     },
     "execution_count": 8,
     "metadata": {},
     "output_type": "execute_result"
    }
   ],
   "source": [
    "data = df.data.values\n",
    "data.shape"
   ]
  },
  {
   "cell_type": "code",
   "execution_count": 10,
   "id": "6b1681af-f752-483e-9bfc-4819469d5a51",
   "metadata": {
    "execution": {
     "iopub.execute_input": "2025-08-29T14:48:22.614587Z",
     "iopub.status.busy": "2025-08-29T14:48:22.613791Z",
     "iopub.status.idle": "2025-08-29T14:48:22.620856Z",
     "shell.execute_reply": "2025-08-29T14:48:22.619665Z",
     "shell.execute_reply.started": "2025-08-29T14:48:22.614552Z"
    }
   },
   "outputs": [
    {
     "name": "stdout",
     "output_type": "stream",
     "text": [
      "   Unnamed: 0       data\n",
      "0           0  17.499453\n",
      "1           1  19.662399\n",
      "2           2   7.182823\n",
      "3           3  29.841625\n",
      "4           4   9.239386\n"
     ]
    }
   ],
   "source": [
    "print(df.head())"
   ]
  },
  {
   "cell_type": "markdown",
   "id": "abdcef5d",
   "metadata": {
    "id": "abdcef5d"
   },
   "source": [
    "**Завдання 1**. Зчитані дані - це сума покупок в доларах наших покупців на сайті протягом липня 2025 року.\n",
    "\n",
    "До цього місяця, ми мали продажі в середньому на чек $20.\n",
    "\n",
    "Необхідно зʼясувати, чи вийшло у нас статистично значущо **підвищити** середній чек за липень 2025?\n",
    "\n",
    "Аби дати відповідь - ми проведемо z-test на рівні значущості $\\alpha=0.05$ двома способами. В цьому завданні ми будемо виконувати обчислення \"вручну\" з використанням бібліотек numpy та scipy.stats подібно до прикладу в лекції. Для цього виконайте наступні 7 кроків. Правильне виконання кожного з кроків оцінюється в 1 бал.\n",
    "\n",
    "1. Запишіть параметри задачі у змінні Python:\n",
    "    - `sample_mean` - $\\bar{x}$, середнє значення в вибірці\n",
    "    - `population_mean` - $\\mu_0$, середнє значення в популяції (тобто те, з яким ми порівнюємо середнє вибіркове значення)\n",
    "    - `population_std` - $\\sigma$, вибіркове стандартне відхилення, яке ми вважаємо, що є рівним ст. відх. популяції, адже маємо достатньо велику вибірку.\n",
    "    - `sample_size` - $n$, розмір вибірки\n",
    "    - `alpha` - $\\alpha$ рівень значущості\n",
    "    \n",
    "    **Увага!** Для обчислення стандартного відхилення маємо скористатись функцією `np.std(your_dataframe, ddof=1)`. Чому так - розбираємо в лекції про t-test.\n",
    "\n"
   ]
  },
  {
   "cell_type": "code",
   "execution_count": 16,
   "id": "83e02cc3-1f83-4951-a343-6c528641ceda",
   "metadata": {
    "execution": {
     "iopub.execute_input": "2025-08-29T16:53:54.206936Z",
     "iopub.status.busy": "2025-08-29T16:53:54.206547Z",
     "iopub.status.idle": "2025-08-29T16:53:54.212285Z",
     "shell.execute_reply": "2025-08-29T16:53:54.211073Z",
     "shell.execute_reply.started": "2025-08-29T16:53:54.206903Z"
    }
   },
   "outputs": [],
   "source": [
    "sample_mean = df[\"data\"].mean()    \n",
    "population_mean = 20    \n",
    "population_std = np.std(df.data, ddof=1)     \n",
    "sample_size = 100  \n",
    "alpha = 0.05 "
   ]
  },
  {
   "cell_type": "code",
   "execution_count": 14,
   "id": "93614c56-0501-4170-86bb-160807bf878d",
   "metadata": {
    "execution": {
     "iopub.execute_input": "2025-08-29T16:52:52.874288Z",
     "iopub.status.busy": "2025-08-29T16:52:52.873864Z",
     "iopub.status.idle": "2025-08-29T16:52:52.880811Z",
     "shell.execute_reply": "2025-08-29T16:52:52.879515Z",
     "shell.execute_reply.started": "2025-08-29T16:52:52.874268Z"
    }
   },
   "outputs": [
    {
     "data": {
      "text/plain": [
       "np.float64(6.25356123240434)"
      ]
     },
     "execution_count": 14,
     "metadata": {},
     "output_type": "execute_result"
    }
   ],
   "source": [
    "population_std"
   ]
  },
  {
   "cell_type": "code",
   "execution_count": 17,
   "id": "e6cee695-94cc-400a-9cb2-8b2e1aed6909",
   "metadata": {
    "execution": {
     "iopub.execute_input": "2025-08-29T16:53:56.282630Z",
     "iopub.status.busy": "2025-08-29T16:53:56.281917Z",
     "iopub.status.idle": "2025-08-29T16:53:56.289018Z",
     "shell.execute_reply": "2025-08-29T16:53:56.287942Z",
     "shell.execute_reply.started": "2025-08-29T16:53:56.282592Z"
    }
   },
   "outputs": [
    {
     "data": {
      "text/plain": [
       "np.float64(19.37755319670441)"
      ]
     },
     "execution_count": 17,
     "metadata": {},
     "output_type": "execute_result"
    }
   ],
   "source": [
    "sample_mean"
   ]
  },
  {
   "cell_type": "markdown",
   "id": "28e09915-c180-43a6-8b2c-ebaf3544d5fe",
   "metadata": {},
   "source": [
    "2. Визначте для цієї задачі:\n",
    "    - якою є гіпотеза $H_0$\n",
    "    - якою є альтернативна гіпотеза $H_a$\n",
    "    - з яким типом тесту ми маємо справу - лівосторонній, правосторонній чи двосторонній."
   ]
  },
  {
   "cell_type": "markdown",
   "id": "ba408964-c4c4-44e5-9c3c-0ccb5349b8dd",
   "metadata": {
    "execution": {
     "iopub.execute_input": "2025-08-29T16:56:57.418312Z",
     "iopub.status.busy": "2025-08-29T16:56:57.417639Z",
     "iopub.status.idle": "2025-08-29T16:56:57.428584Z",
     "shell.execute_reply": "2025-08-29T16:56:57.426852Z",
     "shell.execute_reply.started": "2025-08-29T16:56:57.418288Z"
    }
   },
   "source": [
    " **Гіпотеза**   \n",
    "\n",
    "H₀: μ = 20 $ \n",
    "\n",
    "H₁: μ > 20 $  \n",
    "\n",
    "Тип тесту: правосторонній (one-tailed)\n"
   ]
  },
  {
   "cell_type": "markdown",
   "id": "906e858d-ee5e-4080-90b9-9a7dd82e18ff",
   "metadata": {},
   "source": [
    "3. Обчисліть стандартну помилку SE.\n",
    "4. Розрахуйте z-статистику.\n",
    "5. Знайдіть критичне z-значення з допомогою бібліотеки stats.\n",
    "6. Обчисліть p-value з допомогою бібліотеки stats.\n",
    "7. Прийміть рішення, чи відхиляєте ви гіпотезу $H_0$. Для прийняття рішення зробіть і порівняння z-статистики з критичним значенням, і проаналізуйте p-value."
   ]
  },
  {
   "cell_type": "code",
   "execution_count": 24,
   "id": "NX2XezWLdf4t",
   "metadata": {
    "execution": {
     "iopub.execute_input": "2025-08-29T17:03:21.545463Z",
     "iopub.status.busy": "2025-08-29T17:03:21.544278Z",
     "iopub.status.idle": "2025-08-29T17:03:21.556533Z",
     "shell.execute_reply": "2025-08-29T17:03:21.555345Z",
     "shell.execute_reply.started": "2025-08-29T17:03:21.545434Z"
    },
    "id": "NX2XezWLdf4t"
   },
   "outputs": [
    {
     "name": "stdout",
     "output_type": "stream",
     "text": [
      "SE = 0.625\n",
      "Інтерпретація: В середньому, вибіркове середнє відхиляється\n",
      "від справжнього середнього на ±0.625 балів IQ\n"
     ]
    }
   ],
   "source": [
    " # Формула: SE = σ / √n\n",
    "standard_error = population_std / np.sqrt(sample_size)\n",
    "print(f\"SE = {standard_error:.3f}\")\n",
    "print(\"Інтерпретація: В середньому, вибіркове середнє відхиляється\")\n",
    "print(f\"від справжнього середнього на ±{standard_error:.3f} балів IQ\")"
   ]
  },
  {
   "cell_type": "code",
   "execution_count": 23,
   "id": "1c828d36-fbd8-4f1f-b01e-0d4b2d681c81",
   "metadata": {
    "execution": {
     "iopub.execute_input": "2025-08-29T17:03:09.710385Z",
     "iopub.status.busy": "2025-08-29T17:03:09.709954Z",
     "iopub.status.idle": "2025-08-29T17:03:09.716721Z",
     "shell.execute_reply": "2025-08-29T17:03:09.715308Z",
     "shell.execute_reply.started": "2025-08-29T17:03:09.710346Z"
    }
   },
   "outputs": [
    {
     "name": "stdout",
     "output_type": "stream",
     "text": [
      "z = -0.995\n",
      "Це невелике відхилення (менше 1 стандартної помилки)\n"
     ]
    }
   ],
   "source": [
    "# Формула: z = (x̄ - μ₀) / SE\n",
    "z_statistic = (sample_mean - population_mean) / standard_error\n",
    "print(f\"z = {z_statistic:.3f}\")\n",
    "\n",
    "if z_statistic > 2:\n",
    "    print(\"Це досить велике відхилення. (більше 2 стандартних помилок)\")\n",
    "elif z_statistic > 1:\n",
    "    print(\"Це помірне відхилення (між 1 та 2 стандартними помилками)\")\n",
    "else:\n",
    "    print(\"Це невелике відхилення (менше 1 стандартної помилки)\")"
   ]
  },
  {
   "cell_type": "code",
   "execution_count": 26,
   "id": "22271adf-cde0-400b-94da-d9ffd4047b86",
   "metadata": {
    "execution": {
     "iopub.execute_input": "2025-08-29T17:04:34.233603Z",
     "iopub.status.busy": "2025-08-29T17:04:34.232979Z",
     "iopub.status.idle": "2025-08-29T17:04:34.239448Z",
     "shell.execute_reply": "2025-08-29T17:04:34.238287Z",
     "shell.execute_reply.started": "2025-08-29T17:04:34.233568Z"
    }
   },
   "outputs": [
    {
     "name": "stdout",
     "output_type": "stream",
     "text": [
      "Критичне z-значення = 1.645\n"
     ]
    }
   ],
   "source": [
    "# Для правостороннього тесту з α = 0.05\n",
    "z_critical = stats.norm.ppf(1 - alpha)\n",
    "\n",
    "print(f\"Критичне z-значення = {z_critical:.3f}\")\n"
   ]
  },
  {
   "cell_type": "code",
   "execution_count": 29,
   "id": "cb84e19c-9b4a-451c-94fa-67df9d9edd0e",
   "metadata": {
    "execution": {
     "iopub.execute_input": "2025-08-29T17:05:52.353973Z",
     "iopub.status.busy": "2025-08-29T17:05:52.352936Z",
     "iopub.status.idle": "2025-08-29T17:05:52.362499Z",
     "shell.execute_reply": "2025-08-29T17:05:52.361024Z",
     "shell.execute_reply.started": "2025-08-29T17:05:52.353915Z"
    }
   },
   "outputs": [
    {
     "name": "stdout",
     "output_type": "stream",
     "text": [
      "Випадково отримати це значення ≥ 19.37755319670441 становить 0.840216\n",
      "або приблизно 84.0216%\n",
      "\n",
      "Це цілком можливо випадково\n"
     ]
    }
   ],
   "source": [
    "# Для правостороннього тесту: p-value = P(Z > z_statistic)\n",
    "p_value = 1 - stats.norm.cdf(z_statistic)\n",
    "print(f\"Випадково отримати це значення ≥ {sample_mean} становить {p_value:.6f}\")\n",
    "print(f\"або приблизно {p_value*100:.4f}%\")\n",
    "print()\n",
    "if p_value < 0.001:\n",
    "    print(\"Це НАДЗВИЧАЙНО малоймовірно! (менше 0.1%)\")\n",
    "elif p_value < 0.01:\n",
    "    print(\"Це дуже малоймовірно! (менше 1%)\")\n",
    "elif p_value < 0.05:\n",
    "    print(\"Це малоймовірно! (менше 5%)\")\n",
    "else:\n",
    "    print(\"Це цілком можливо випадково\")"
   ]
  },
  {
   "cell_type": "markdown",
   "id": "b9bb7bd6-6381-4732-8406-a803ba3fb236",
   "metadata": {},
   "source": [
    " При $Zкр.> Zстат.$  і $p > \\alpha$  ми не відхиляємо $H_0$. "
   ]
  },
  {
   "cell_type": "markdown",
   "id": "0FOBByRMXkL2",
   "metadata": {
    "id": "0FOBByRMXkL2"
   },
   "source": [
    "**Завдання 2.** Виконайте обчислення z-test з використанням бібліотеки statsmodels.\n",
    "\n",
    "Отримайте z-статистику та р-значення.\n",
    "\n",
    "Виведіть p-значення та зробіть висновок, чи ми маємо достатньо доказів, аби стверджувати, що середній чек зріс.\n",
    "\n",
    "Чи зійшлись значення z-статистику та р-значення в цьому завданні з попередніми обчисленнями?\n",
    "\n",
    "Завдання оцінюється в 3 бали."
   ]
  },
  {
   "cell_type": "code",
   "execution_count": 30,
   "id": "053cce70-c15e-42a4-8e58-8189c84996ee",
   "metadata": {
    "execution": {
     "iopub.execute_input": "2025-08-29T17:19:50.452501Z",
     "iopub.status.busy": "2025-08-29T17:19:50.451744Z",
     "iopub.status.idle": "2025-08-29T17:19:50.466366Z",
     "shell.execute_reply": "2025-08-29T17:19:50.465321Z",
     "shell.execute_reply.started": "2025-08-29T17:19:50.452478Z"
    }
   },
   "outputs": [
    {
     "name": "stdout",
     "output_type": "stream",
     "text": [
      "z-статистика = -0.995\n",
      "Критичне значення = 1.645\n",
      "Порівняння: -0.995 ≤ 1.645\n",
      "Висновок: z-статистика НЕ перевищує критичне значення\n",
      "Рішення: НЕ ВІДХИЛЯЄМО H₀\n"
     ]
    }
   ],
   "source": [
    "print(f\"z-статистика = {z_statistic:.3f}\")\n",
    "print(f\"Критичне значення = {z_critical:.3f}\")\n",
    "print(f\"Порівняння: {z_statistic:.3f} {'>' if z_statistic > z_critical else '≤'} {z_critical:.3f}\")\n",
    "\n",
    "if z_statistic > z_critical:\n",
    "    print(\"Висновок: z-статистика ПЕРЕВИЩУЄ критичне значення\")\n",
    "    decision1 = \"ВІДХИЛЯЄМО H₀\"\n",
    "else:\n",
    "    print(\"Висновок: z-статистика НЕ перевищує критичне значення\")\n",
    "    decision1 = \"НЕ ВІДХИЛЯЄМО H₀\"\n",
    "\n",
    "print(f\"Рішення: {decision1}\")"
   ]
  },
  {
   "cell_type": "code",
   "execution_count": 31,
   "id": "f_Oa0DJhdg6v",
   "metadata": {
    "execution": {
     "iopub.execute_input": "2025-08-29T17:20:49.589293Z",
     "iopub.status.busy": "2025-08-29T17:20:49.588727Z",
     "iopub.status.idle": "2025-08-29T17:20:49.596515Z",
     "shell.execute_reply": "2025-08-29T17:20:49.595091Z",
     "shell.execute_reply.started": "2025-08-29T17:20:49.589261Z"
    },
    "id": "f_Oa0DJhdg6v"
   },
   "outputs": [
    {
     "name": "stdout",
     "output_type": "stream",
     "text": [
      "p-value = 0.840216\n",
      "Рівень значущості α = 0.05\n",
      "Порівняння: 0.840216 ≥ 0.05\n",
      "Висновок: p-value НЕ менше за рівень значущості\n",
      "Рішення: НЕ ВІДХИЛЯЄМО H₀\n"
     ]
    }
   ],
   "source": [
    "print(f\"p-value = {p_value:.6f}\")\n",
    "print(f\"Рівень значущості α = {alpha}\")\n",
    "print(f\"Порівняння: {p_value:.6f} {'<' if p_value < alpha else '≥'} {alpha}\")\n",
    "\n",
    "if p_value < alpha:\n",
    "    print(\"Висновок: p-value МЕНШЕ за рівень значущості\")\n",
    "    decision2 = \"ВІДХИЛЯЄМО H₀\"\n",
    "else:\n",
    "    print(\"Висновок: p-value НЕ менше за рівень значущості\")\n",
    "    decision2 = \"НЕ ВІДХИЛЯЄМО H₀\"\n",
    "\n",
    "print(f\"Рішення: {decision2}\")"
   ]
  },
  {
   "cell_type": "code",
   "execution_count": 32,
   "id": "55c82acd-0491-45bf-bf79-86e29b2fad2a",
   "metadata": {
    "execution": {
     "iopub.execute_input": "2025-08-29T17:24:23.937905Z",
     "iopub.status.busy": "2025-08-29T17:24:23.937311Z",
     "iopub.status.idle": "2025-08-29T17:24:24.612408Z",
     "shell.execute_reply": "2025-08-29T17:24:24.611282Z",
     "shell.execute_reply.started": "2025-08-29T17:24:23.937888Z"
    }
   },
   "outputs": [
    {
     "data": {
      "image/png": "[encoded data removed]",
      "text/plain": [
       "<Figure size 1500x600 with 2 Axes>"
      ]
     },
     "metadata": {},
     "output_type": "display_data"
    }
   ],
   "source": [
    "# Створюємо детальну візуалізацію\n",
    "fig, axes = plt.subplots(1, 2, figsize=(15, 6))\n",
    "\n",
    "# Підготовка даних для графіків\n",
    "x = np.linspace(-4, 4, 1000)\n",
    "y = stats.norm.pdf(x, 0, 1)\n",
    "\n",
    "# Графік 1: Критична область\n",
    "ax1 = axes[0]\n",
    "ax1.plot(x, y, 'b-', linewidth=2, label='Стандартний нормальний розподіл')\n",
    "ax1.axvline(z_critical, color='red', linestyle='--', linewidth=2,\n",
    "            label=f'Критичне значення: {z_critical:.3f}')\n",
    "ax1.axvline(z_statistic, color='green', linestyle='-', linewidth=3,\n",
    "            label=f'Наша z-статистика: {z_statistic:.3f}')\n",
    "\n",
    "# Заливаємо критичну область\n",
    "x_crit = x[x >= z_critical]\n",
    "y_crit = stats.norm.pdf(x_crit, 0, 1)\n",
    "ax1.fill_between(x_crit, y_crit, alpha=0.3, color='red',\n",
    "                  label=f'Критична область (α={alpha})')\n",
    "\n",
    "ax1.set_xlabel('z-значення')\n",
    "ax1.set_ylabel('Щільність ймовірності')\n",
    "ax1.set_title('Критична область та наша статистика')\n",
    "ax1.legend()\n",
    "ax1.grid(True, alpha=0.3)\n",
    "\n",
    "# Графік 2: P-value\n",
    "ax2 = axes[1]\n",
    "x_means = np.linspace(population_mean - 4*standard_error,\n",
    "                      population_mean + 4*standard_error, 1000)\n",
    "y_means = stats.norm.pdf(x_means, population_mean, standard_error)\n",
    "ax2.plot(x_means, y_means, 'b-', linewidth=2,\n",
    "         label=f'Розподіл x̄ під H₀ (μ={population_mean})')\n",
    "ax2.axvline(population_mean, color='blue', linestyle=':', linewidth=2,\n",
    "            label=f'H₀: μ = {population_mean}')\n",
    "ax2.axvline(sample_mean, color='green', linestyle='-', linewidth=3,\n",
    "            label=f'Наше x̄ = {sample_mean}')\n",
    "\n",
    "# Критичне значення в термінах IQ\n",
    "critical_iq = population_mean + z_critical * standard_error\n",
    "ax2.axvline(critical_iq, color='red', linestyle='--', linewidth=2,\n",
    "            label=f'Критичне x̄ = {critical_iq:.1f}')\n",
    "\n",
    "ax2.set_xlabel('Середнє IQ')\n",
    "ax2.set_ylabel('Щільність ймовірності')\n",
    "ax2.set_title('Розташування вибіркових середніх')\n",
    "ax2.legend()\n",
    "ax2.grid(True, alpha=0.3)\n",
    "\n",
    "\n",
    "plt.tight_layout()\n",
    "plt.show()"
   ]
  }
 ],
 "metadata": {
  "colab": {
   "provenance": []
  },
  "hide_input": false,
  "kernelspec": {
   "display_name": "Python 3 (ipykernel)",
   "language": "python",
   "name": "python3"
  },
  "language_info": {
   "codemirror_mode": {
    "name": "ipython",
    "version": 3
   },
   "file_extension": ".py",
   "mimetype": "text/x-python",
   "name": "python",
   "nbconvert_exporter": "python",
   "pygments_lexer": "ipython3",
   "version": "3.13.3"
  },
  "toc": {
   "base_numbering": 1,
   "nav_menu": {},
   "number_sections": true,
   "sideBar": true,
   "skip_h1_title": false,
   "title_cell": "Table of Contents",
   "title_sidebar": "Contents",
   "toc_cell": false,
   "toc_position": {},
   "toc_section_display": true,
   "toc_window_display": false
  },
  "varInspector": {
   "cols": {
    "lenName": 16,
    "lenType": 16,
    "lenVar": 40
   },
   "kernels_config": {
    "python": {
     "delete_cmd_postfix": "",
     "delete_cmd_prefix": "del ",
     "library": "var_list.py",
     "varRefreshCmd": "print(var_dic_list())"
    },
    "r": {
     "delete_cmd_postfix": ") ",
     "delete_cmd_prefix": "rm(",
     "library": "var_list.r",
     "varRefreshCmd": "cat(var_dic_list()) "
    }
   },
   "types_to_exclude": [
    "module",
    "function",
    "builtin_function_or_method",
    "instance",
    "_Feature"
   ],
   "window_display": false
  }
 },
 "nbformat": 4,
 "nbformat_minor": 5
}
