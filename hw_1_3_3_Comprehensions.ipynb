{
 "cells": [
  {
   "cell_type": "markdown",
   "metadata": {
    "id": "jGTe7raw9lB_"
   },
   "source": [
    "#Домашнє завдання до теми \"Comprehensions в Python\""
   ]
  },
  {
   "cell_type": "markdown",
   "metadata": {
    "id": "grIbI4ZZ7miJ"
   },
   "source": [
    "Для наступних завдань у нас є наступний список:"
   ]
  },
  {
   "cell_type": "code",
   "execution_count": 1,
   "metadata": {
    "execution": {
     "iopub.execute_input": "2025-06-21T17:45:22.363216Z",
     "iopub.status.busy": "2025-06-21T17:45:22.362480Z",
     "iopub.status.idle": "2025-06-21T17:45:22.367957Z",
     "shell.execute_reply": "2025-06-21T17:45:22.366728Z",
     "shell.execute_reply.started": "2025-06-21T17:45:22.363191Z"
    },
    "id": "nFOAtgsP7nnc"
   },
   "outputs": [],
   "source": [
    "numbers = [42, 51, 29, 2, 13, 44, 80, 66, 16]"
   ]
  },
  {
   "cell_type": "markdown",
   "metadata": {
    "id": "_sRe19Ym6zDc"
   },
   "source": [
    "1. Використовуючи цикл `for` cтворіть новий список `numbers_squared`, де кожен елемент списку `numbers` є домноженим на 2.\n",
    "\n",
    "Нагадаю, що фактично коли ми з допомогою циклу отримуємо новий список, то ми спочатку створюємо пустий список, а потім додаємо в нього новий елемент на кожній ітерації.\n",
    "\n",
    "Новий елемент буде в даному випадку результатом домножання чергового елемента вихідного списку `numbers` на 2."
   ]
  },
  {
   "cell_type": "code",
   "execution_count": 6,
   "metadata": {
    "execution": {
     "iopub.execute_input": "2025-06-21T17:48:28.236628Z",
     "iopub.status.busy": "2025-06-21T17:48:28.235655Z",
     "iopub.status.idle": "2025-06-21T17:48:28.242373Z",
     "shell.execute_reply": "2025-06-21T17:48:28.241552Z",
     "shell.execute_reply.started": "2025-06-21T17:48:28.236604Z"
    },
    "id": "EhGdKWo06nGS"
   },
   "outputs": [
    {
     "name": "stdout",
     "output_type": "stream",
     "text": [
      "[84, 102, 58, 4, 26, 88, 160, 132, 32]\n"
     ]
    }
   ],
   "source": [
    "numbers_squared = []\n",
    "for el in numbers:\n",
    "    numbers_squared.append(el*2)\n",
    "print(numbers_squared)"
   ]
  },
  {
   "cell_type": "markdown",
   "metadata": {
    "id": "XKpWtN8N64np"
   },
   "source": [
    "Очікуваний результат: `[84, 102, 58, 4, 26, 88, 160, 132, 32]`"
   ]
  },
  {
   "cell_type": "markdown",
   "metadata": {
    "id": "aHmdOLkZ7eQ2"
   },
   "source": [
    "2. Використовуючи `list comprehension` cтворіть новий список `numbers_squared_lh`, де кожен елемент списку `numbers` є домноженим 2.\n",
    "Так, операція, яку ми викнуємо над кожним елементом вихідного списку, та сама, що і в попередньому завданні, але інший спосіб отримання результату."
   ]
  },
  {
   "cell_type": "code",
   "execution_count": 7,
   "metadata": {
    "execution": {
     "iopub.execute_input": "2025-06-21T17:48:47.942705Z",
     "iopub.status.busy": "2025-06-21T17:48:47.942135Z",
     "iopub.status.idle": "2025-06-21T17:48:47.948239Z",
     "shell.execute_reply": "2025-06-21T17:48:47.947277Z",
     "shell.execute_reply.started": "2025-06-21T17:48:47.942681Z"
    },
    "id": "fsKlUM9x7T7n"
   },
   "outputs": [
    {
     "name": "stdout",
     "output_type": "stream",
     "text": [
      "[84, 102, 58, 4, 26, 88, 160, 132, 32]\n"
     ]
    }
   ],
   "source": [
    "numbers_squared = ([el*2 for el in numbers])\n",
    "print(numbers_squared)"
   ]
  },
  {
   "cell_type": "markdown",
   "metadata": {
    "id": "tKpPGIQN7fc5"
   },
   "source": [
    "3. У нас вже є знайдене середнє значення за списком - воно визначене в змінній `numbers_mean`.\n",
    "\n",
    "  Використовуючи цикл, створіть новий список `numbers_gt_mean`, який порівнює кожен елемент з цим середнім значенням за списком за наступним правилом: \"якщо цей елемент спиcку `numbers` є більшим за `numbers_mean`, то запишемо 1, інакше 0\". Виведіть новий список на екран."
   ]
  },
  {
   "cell_type": "code",
   "execution_count": 8,
   "metadata": {
    "execution": {
     "iopub.execute_input": "2025-06-21T17:49:47.212342Z",
     "iopub.status.busy": "2025-06-21T17:49:47.211789Z",
     "iopub.status.idle": "2025-06-21T17:49:47.216427Z",
     "shell.execute_reply": "2025-06-21T17:49:47.215462Z",
     "shell.execute_reply.started": "2025-06-21T17:49:47.212320Z"
    },
    "id": "FKGz-HqgwAdX"
   },
   "outputs": [],
   "source": [
    "numbers_mean = 38.11"
   ]
  },
  {
   "cell_type": "code",
   "execution_count": 14,
   "metadata": {
    "execution": {
     "iopub.execute_input": "2025-06-21T17:56:20.188245Z",
     "iopub.status.busy": "2025-06-21T17:56:20.187412Z",
     "iopub.status.idle": "2025-06-21T17:56:20.193424Z",
     "shell.execute_reply": "2025-06-21T17:56:20.192462Z",
     "shell.execute_reply.started": "2025-06-21T17:56:20.188223Z"
    },
    "id": "obelsT8N72Lp"
   },
   "outputs": [
    {
     "name": "stdout",
     "output_type": "stream",
     "text": [
      "[1, 1, 0, 0, 0, 1, 1, 1, 0]\n"
     ]
    }
   ],
   "source": [
    "first_list = []\n",
    "\n",
    "for el in numbers:\n",
    "    if el > numbers_mean:\n",
    "        first_list.append(1)\n",
    "    else:\n",
    "        first_list.append(0)\n",
    "\n",
    "print(first_list)\n"
   ]
  },
  {
   "cell_type": "markdown",
   "metadata": {
    "id": "kRUDVSRs720X"
   },
   "source": [
    "Очікуваний результат: `[1, 1, 0, 0, 0, 1, 1, 1, 0]`"
   ]
  },
  {
   "cell_type": "markdown",
   "metadata": {
    "id": "dudK-NlE76z8"
   },
   "source": [
    "4. Отримайте список за тим самим правилом, що в завданні 3, тільки тепер з list comprehension. Результат запишіть у змінну `numbers_gt_mean_lc`"
   ]
  },
  {
   "cell_type": "code",
   "execution_count": 17,
   "metadata": {
    "execution": {
     "iopub.execute_input": "2025-06-21T17:59:05.511173Z",
     "iopub.status.busy": "2025-06-21T17:59:05.510615Z",
     "iopub.status.idle": "2025-06-21T17:59:05.521949Z",
     "shell.execute_reply": "2025-06-21T17:59:05.520708Z",
     "shell.execute_reply.started": "2025-06-21T17:59:05.511141Z"
    },
    "id": "kpnfXkUu76Ao"
   },
   "outputs": [
    {
     "data": {
      "text/plain": [
       "[True, True, False, False, False, True, True, True, False]"
      ]
     },
     "execution_count": 17,
     "metadata": {},
     "output_type": "execute_result"
    }
   ],
   "source": [
    "numbers_gt_mean_lc = ([el>numbers_mean for el in numbers])\n",
    "numbers_gt_mean_lc"
   ]
  },
  {
   "cell_type": "code",
   "execution_count": 18,
   "metadata": {
    "execution": {
     "iopub.execute_input": "2025-06-21T17:59:57.210422Z",
     "iopub.status.busy": "2025-06-21T17:59:57.209683Z",
     "iopub.status.idle": "2025-06-21T17:59:57.215738Z",
     "shell.execute_reply": "2025-06-21T17:59:57.214681Z",
     "shell.execute_reply.started": "2025-06-21T17:59:57.210399Z"
    }
   },
   "outputs": [
    {
     "name": "stdout",
     "output_type": "stream",
     "text": [
      "[1, 1, 0, 0, 0, 1, 1, 1, 0]\n"
     ]
    }
   ],
   "source": [
    "numbers_gt_mean_lc = [1 if el > numbers_mean else 0 for el in numbers]\n",
    "print(numbers_gt_mean_lc )"
   ]
  },
  {
   "cell_type": "markdown",
   "metadata": {
    "id": "muQmE3Mz8KDx"
   },
   "source": [
    "5. Заданий список `long`. З допомогою циклу створіть словник `n_repeats`, який містить інформацію \"скільки разів повторюється кожен унікальний елемент списку `long`\".\n",
    "Наприклад:\n",
    "```\n",
    "long = [1, 1, 2, 2, 3]\n",
    "# тоді `n_repeats` містить {1: 2, 2: 2, 3: 1}\n",
    "```\n",
    "\n",
    "Аби для кожного унікального елементу знайти, скільки разів він повторюється, виористайте метод списку `list.count(<елемент>)`.\n",
    "Виведіть `n_repeats` на екран.\n",
    "\n",
    "**Підказки**:\n",
    "1. Для початку може бути зручно отримати набір унікальних елементів списку.\n",
    "2. Порядок ключів в словнику не має значення! Тобто ключі в словнику не обовʼязково мають бути в тому ж порядку, як наведено в прикладі результату. Але кількості зустрічань для кожного елемента мають співпадати з наведеними."
   ]
  },
  {
   "cell_type": "code",
   "execution_count": 19,
   "metadata": {
    "execution": {
     "iopub.execute_input": "2025-06-21T18:00:32.930796Z",
     "iopub.status.busy": "2025-06-21T18:00:32.930309Z",
     "iopub.status.idle": "2025-06-21T18:00:32.935744Z",
     "shell.execute_reply": "2025-06-21T18:00:32.934444Z",
     "shell.execute_reply.started": "2025-06-21T18:00:32.930773Z"
    },
    "id": "T_MDOYpa8Khu"
   },
   "outputs": [],
   "source": [
    "long = [75, 39, 95, 1, 91, 43, 97, 24, 86, 75, 92, 91, 15, 15, 75, 95, 54, 29, 55, 98]"
   ]
  },
  {
   "cell_type": "code",
   "execution_count": 20,
   "metadata": {
    "execution": {
     "iopub.execute_input": "2025-06-21T18:02:14.341368Z",
     "iopub.status.busy": "2025-06-21T18:02:14.340988Z",
     "iopub.status.idle": "2025-06-21T18:02:14.346981Z",
     "shell.execute_reply": "2025-06-21T18:02:14.345713Z",
     "shell.execute_reply.started": "2025-06-21T18:02:14.341349Z"
    },
    "id": "FCUf8p3y8RG0"
   },
   "outputs": [
    {
     "name": "stdout",
     "output_type": "stream",
     "text": [
      "{1, 97, 98, 39, 75, 43, 15, 55, 86, 54, 24, 91, 92, 29, 95}\n"
     ]
    }
   ],
   "source": [
    "long_set = set(long)\n",
    "print(long_set)"
   ]
  },
  {
   "cell_type": "code",
   "execution_count": 28,
   "metadata": {
    "execution": {
     "iopub.execute_input": "2025-06-21T18:12:32.771648Z",
     "iopub.status.busy": "2025-06-21T18:12:32.770709Z",
     "iopub.status.idle": "2025-06-21T18:12:32.776470Z",
     "shell.execute_reply": "2025-06-21T18:12:32.775448Z",
     "shell.execute_reply.started": "2025-06-21T18:12:32.771626Z"
    }
   },
   "outputs": [
    {
     "name": "stdout",
     "output_type": "stream",
     "text": [
      "{1: 1, 97: 1, 98: 1, 39: 1, 75: 3, 43: 1, 15: 2, 55: 1, 86: 1, 54: 1, 24: 1, 91: 2, 92: 1, 29: 1, 95: 2}\n"
     ]
    }
   ],
   "source": [
    "n_repeats = {}\n",
    "for el_set in long_set:\n",
    "    n_repeats[el_set] = long.count(el_set)\n",
    "\n",
    "print(n_repeats)"
   ]
  },
  {
   "cell_type": "markdown",
   "metadata": {
    "id": "WQbGyWde8RkT"
   },
   "source": [
    "Очікуваний результат:\n",
    "```\n",
    "{1: 1, 97: 1, 98: 1, 39: 1, 75: 3, 43: 1, 15: 2, 55: 1, 86: 1, 54: 1, 24: 1, 91: 2, 92: 1, 29: 1, 95: 2}\n",
    "\n",
    "```"
   ]
  },
  {
   "cell_type": "markdown",
   "metadata": {
    "id": "W-nelSSP8VeG"
   },
   "source": [
    "6. Виконайте ту саму операцію, що і в попередньому заваднні, але використовуючи `dict comprehension`. Результат запишіть у змінну `n_repeats_dh` та результат виведіть на екран."
   ]
  },
  {
   "cell_type": "code",
   "execution_count": 36,
   "metadata": {
    "execution": {
     "iopub.execute_input": "2025-06-21T18:18:03.335109Z",
     "iopub.status.busy": "2025-06-21T18:18:03.334694Z",
     "iopub.status.idle": "2025-06-21T18:18:03.340016Z",
     "shell.execute_reply": "2025-06-21T18:18:03.339229Z",
     "shell.execute_reply.started": "2025-06-21T18:18:03.335087Z"
    },
    "id": "gDz_kE0N8YM4"
   },
   "outputs": [
    {
     "name": "stdout",
     "output_type": "stream",
     "text": [
      "{1: 1, 97: 1, 98: 1, 39: 1, 75: 3, 43: 1, 15: 2, 55: 1, 86: 1, 54: 1, 24: 1, 91: 2, 92: 1, 29: 1, 95: 2}\n"
     ]
    }
   ],
   "source": [
    "n_repeats_dh = {el_set: long.count(el_set) for el_set in long_set}\n",
    "print( n_repeats_dh)\n",
    "# цей спосіб легший і логіка легша"
   ]
  },
  {
   "cell_type": "markdown",
   "metadata": {
    "id": "Th5wKghw8aYj"
   },
   "source": [
    "7. Знайдіть три найменші **унікальні** елементи в списку `long` та виведіть їх на екран."
   ]
  },
  {
   "cell_type": "code",
   "execution_count": 35,
   "metadata": {
    "execution": {
     "iopub.execute_input": "2025-06-21T18:17:52.834044Z",
     "iopub.status.busy": "2025-06-21T18:17:52.832924Z",
     "iopub.status.idle": "2025-06-21T18:17:52.839174Z",
     "shell.execute_reply": "2025-06-21T18:17:52.838531Z",
     "shell.execute_reply.started": "2025-06-21T18:17:52.833991Z"
    },
    "id": "NG9PvlnK8a2Q"
   },
   "outputs": [
    {
     "name": "stdout",
     "output_type": "stream",
     "text": [
      "[1, 15, 24]\n"
     ]
    }
   ],
   "source": [
    "new_list = sorted(long_set)\n",
    "print(new_list[:3])"
   ]
  },
  {
   "cell_type": "markdown",
   "metadata": {
    "id": "XOW0GDBK8cn7"
   },
   "source": [
    "Очікувана відповідь: [1, 15, 24]"
   ]
  }
 ],
 "metadata": {
  "colab": {
   "provenance": []
  },
  "kernelspec": {
   "display_name": "Python 3 (ipykernel)",
   "language": "python",
   "name": "python3"
  },
  "language_info": {
   "codemirror_mode": {
    "name": "ipython",
    "version": 3
   },
   "file_extension": ".py",
   "mimetype": "text/x-python",
   "name": "python",
   "nbconvert_exporter": "python",
   "pygments_lexer": "ipython3",
   "version": "3.13.3"
  }
 },
 "nbformat": 4,
 "nbformat_minor": 4
}
