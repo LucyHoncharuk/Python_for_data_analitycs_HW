{
 "cells": [
  {
   "cell_type": "markdown",
   "metadata": {
    "id": "15XCoYr0awZ6"
   },
   "source": [
    "#Домашнє завдання до теми \"Цикл while\""
   ]
  },
  {
   "cell_type": "markdown",
   "metadata": {
    "id": "xgCDxF5YhQSa"
   },
   "source": [
    "1. **Лічильник до заданого числа.**\n",
    "   Завдання:\n",
    "     - Створіть цикл `while`, щоб він лічив від 1 до заданого числа в змінній `limit` (включно).\n",
    "     - Виведіть кожне число, яке проходить лічильник, на екран.\n",
    "     - В кінці виведіть повідомлення \"Кінець розрахунку!\".\n"
   ]
  },
  {
   "cell_type": "code",
   "execution_count": 1,
   "metadata": {
    "execution": {
     "iopub.execute_input": "2025-06-21T18:52:51.823519Z",
     "iopub.status.busy": "2025-06-21T18:52:51.822906Z",
     "iopub.status.idle": "2025-06-21T18:52:51.828565Z",
     "shell.execute_reply": "2025-06-21T18:52:51.827412Z",
     "shell.execute_reply.started": "2025-06-21T18:52:51.823496Z"
    },
    "id": "wwSqYFCmiJTt"
   },
   "outputs": [],
   "source": [
    "limit = 9  # Задане число"
   ]
  },
  {
   "cell_type": "code",
   "execution_count": 5,
   "metadata": {
    "execution": {
     "iopub.execute_input": "2025-06-21T18:54:28.239137Z",
     "iopub.status.busy": "2025-06-21T18:54:28.238645Z",
     "iopub.status.idle": "2025-06-21T18:54:28.244597Z",
     "shell.execute_reply": "2025-06-21T18:54:28.243682Z",
     "shell.execute_reply.started": "2025-06-21T18:54:28.239114Z"
    },
    "id": "-t-kC6mJqNVx"
   },
   "outputs": [
    {
     "name": "stdout",
     "output_type": "stream",
     "text": [
      "1\n",
      "2\n",
      "3\n",
      "4\n",
      "5\n",
      "6\n",
      "7\n",
      "8\n",
      "9\n",
      "Кінець розрахунку!\n"
     ]
    }
   ],
   "source": [
    "i = 1\n",
    "while i <= limit:\n",
    "    print(i)\n",
    "    i += 1\n",
    "print(\"Кінець розрахунку!\")"
   ]
  },
  {
   "cell_type": "markdown",
   "metadata": {
    "id": "DlqunQnphZ9s"
   },
   "source": [
    "2. **Пошук першого парного числа.** Завдання:\n",
    "     - Створіть цикл `while`, щоб знайти перше парне число після заданого числа `start`.\n",
    "     - Знайдіть та виведіть перше парне число.\n"
   ]
  },
  {
   "cell_type": "code",
   "execution_count": 6,
   "metadata": {
    "execution": {
     "iopub.execute_input": "2025-06-21T18:55:48.105561Z",
     "iopub.status.busy": "2025-06-21T18:55:48.104770Z",
     "iopub.status.idle": "2025-06-21T18:55:48.109610Z",
     "shell.execute_reply": "2025-06-21T18:55:48.108722Z",
     "shell.execute_reply.started": "2025-06-21T18:55:48.105535Z"
    },
    "id": "3CC3-gNJiW6X"
   },
   "outputs": [],
   "source": [
    "start = 7  # Задане число"
   ]
  },
  {
   "cell_type": "code",
   "execution_count": 3,
   "metadata": {
    "execution": {
     "iopub.execute_input": "2025-06-21T19:07:31.922659Z",
     "iopub.status.busy": "2025-06-21T19:07:31.922178Z",
     "iopub.status.idle": "2025-06-21T19:07:31.927322Z",
     "shell.execute_reply": "2025-06-21T19:07:31.926073Z",
     "shell.execute_reply.started": "2025-06-21T19:07:31.922621Z"
    },
    "id": "5M8Ly9_Lj4-t"
   },
   "outputs": [
    {
     "name": "stdout",
     "output_type": "stream",
     "text": [
      "8\n"
     ]
    }
   ],
   "source": [
    "condition = True\n",
    "i = 7\n",
    "while condition:\n",
    "    i += 1\n",
    "    if i % 2 == 0:\n",
    "        condition = False\n",
    "print(i)"
   ]
  },
  {
   "cell_type": "markdown",
   "metadata": {
    "id": "OlhKezZYiQJ2"
   },
   "source": [
    "\n",
    "3. **Обчислення факторіалу.**   \n",
    "  Факторіал числа - це добуток всіх натуральних чисел від 1 до цього числа включно. Наприклад, факторіал числа 5 (позначається як 5!) дорівнює `1 * 2 * 3 * 4 * 5 = 120`.\n",
    "\n",
    "  Завдання:  \n",
    "      - Обчисліть факторіал заданого числа, використовуючи цикл `while`.  \n",
    "      - Задайте деяке число для обчислення факторіалу у змінній `num`.  \n",
    "      - Виведіть обчислений факторіал на екран.  \n"
   ]
  },
  {
   "cell_type": "code",
   "execution_count": 4,
   "metadata": {
    "execution": {
     "iopub.execute_input": "2025-06-21T19:03:59.157650Z",
     "iopub.status.busy": "2025-06-21T19:03:59.157255Z",
     "iopub.status.idle": "2025-06-21T19:03:59.163349Z",
     "shell.execute_reply": "2025-06-21T19:03:59.162023Z",
     "shell.execute_reply.started": "2025-06-21T19:03:59.157625Z"
    }
   },
   "outputs": [
    {
     "name": "stdout",
     "output_type": "stream",
     "text": [
      "5040\n"
     ]
    }
   ],
   "source": [
    "num = 7\n",
    "fact = 1\n",
    "i = 1\n",
    "while i <= num:\n",
    "    fact *= i\n",
    "    i += 1\n",
    "print(fact)"
   ]
  },
  {
   "cell_type": "markdown",
   "metadata": {},
   "source": []
  },
  {
   "cell_type": "code",
   "execution_count": 2,
   "metadata": {
    "execution": {
     "iopub.execute_input": "2025-06-21T19:03:00.319318Z",
     "iopub.status.busy": "2025-06-21T19:03:00.318339Z",
     "iopub.status.idle": "2025-06-21T19:03:00.328382Z",
     "shell.execute_reply": "2025-06-21T19:03:00.327191Z",
     "shell.execute_reply.started": "2025-06-21T19:03:00.319273Z"
    }
   },
   "outputs": [
    {
     "data": {
      "text/plain": [
       "5040"
      ]
     },
     "execution_count": 2,
     "metadata": {},
     "output_type": "execute_result"
    }
   ],
   "source": [
    "f=1*2*3*4*5*6*7\n",
    "f \n",
    "# перевіряла"
   ]
  }
 ],
 "metadata": {
  "colab": {
   "provenance": []
  },
  "kernelspec": {
   "display_name": "Python 3 (ipykernel)",
   "language": "python",
   "name": "python3"
  },
  "language_info": {
   "codemirror_mode": {
    "name": "ipython",
    "version": 3
   },
   "file_extension": ".py",
   "mimetype": "text/x-python",
   "name": "python",
   "nbconvert_exporter": "python",
   "pygments_lexer": "ipython3",
   "version": "3.13.3"
  }
 },
 "nbformat": 4,
 "nbformat_minor": 4
}
