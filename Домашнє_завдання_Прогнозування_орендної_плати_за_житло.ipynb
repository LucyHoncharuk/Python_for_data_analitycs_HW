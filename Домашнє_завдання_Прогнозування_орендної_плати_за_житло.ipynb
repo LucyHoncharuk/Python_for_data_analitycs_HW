{
 "cells": [
  {
   "cell_type": "markdown",
   "metadata": {
    "id": "349a8211"
   },
   "source": [
    "# Домашнє завдання: Прогнозування орендної плати за житло\n",
    "\n",
    "## Мета завдання\n",
    "Застосувати знання з лекції для побудови моделі лінійної регресії, що прогнозує орендну плату за житло в Індії. Ви пройдете весь цикл вирішення задачі машинного навчання: від дослідницького аналізу до оцінки якості моделі.\n",
    "\n",
    "## Опис датасету\n",
    "**House Rent Prediction Dataset** містить інформацію про 4700+ оголошень про оренду житла в Індії з такими параметрами:\n",
    "- **BHK**: Кількість спалень, залів, кухонь\n",
    "- **Rent**: Орендна плата (цільова змінна)\n",
    "- **Size**: Площа в квадратних футах\n",
    "- **Floor**: Поверх та загальна кількість поверхів\n",
    "- **Area Type**: Тип розрахунку площі\n",
    "- **Area Locality**: Район\n",
    "- **City**: Місто\n",
    "- **Furnishing Status**: Стан меблювання\n",
    "- **Tenant Preferred**: Тип орендаря\n",
    "- **Bathroom**: Кількість ванних кімнат\n",
    "- **Point of Contact**: Контактна особа\n",
    "\n",
    "---\n",
    "\n",
    "## Завдання 1: Завантаження та перший огляд даних (1 бал)\n",
    "\n",
    "**Що потрібно зробити:**\n",
    "1. Завантажте дані з файлу `House_Rent_Dataset.csv`\n",
    "2. Виведіть розмір датасету\n",
    "3. Покажіть перші 5 рядків\n",
    "4. Виведіть загальну інформацію про дані (включно з типами даних та кількістю значень)\n"
   ]
  },
  {
   "cell_type": "code",
   "execution_count": 1,
   "metadata": {
    "execution": {
     "iopub.execute_input": "2025-09-20T05:16:13.874005Z",
     "iopub.status.busy": "2025-09-20T05:16:13.873533Z",
     "iopub.status.idle": "2025-09-20T05:16:21.829311Z",
     "shell.execute_reply": "2025-09-20T05:16:21.828205Z",
     "shell.execute_reply.started": "2025-09-20T05:16:13.873981Z"
    },
    "id": "V4sHrxbjOUau"
   },
   "outputs": [],
   "source": [
    "import pandas as pd\n",
    "import numpy as np\n",
    "import plotly.express as px\n",
    "import plotly.graph_objects as go\n",
    "from plotly.subplots import make_subplots\n",
    "import matplotlib.pyplot as plt\n",
    "import seaborn as sns\n"
   ]
  },
  {
   "cell_type": "code",
   "execution_count": 3,
   "metadata": {
    "execution": {
     "iopub.execute_input": "2025-09-20T05:20:45.995179Z",
     "iopub.status.busy": "2025-09-20T05:20:45.994831Z",
     "iopub.status.idle": "2025-09-20T05:20:46.041117Z",
     "shell.execute_reply": "2025-09-20T05:20:46.039881Z",
     "shell.execute_reply.started": "2025-09-20T05:20:45.995157Z"
    }
   },
   "outputs": [
    {
     "name": "stdout",
     "output_type": "stream",
     "text": [
      "<class 'pandas.core.frame.DataFrame'>\n",
      "RangeIndex: 4746 entries, 0 to 4745\n",
      "Data columns (total 12 columns):\n",
      " #   Column             Non-Null Count  Dtype \n",
      "---  ------             --------------  ----- \n",
      " 0   Posted On          4746 non-null   object\n",
      " 1   BHK                4746 non-null   int64 \n",
      " 2   Rent               4746 non-null   int64 \n",
      " 3   Size               4746 non-null   int64 \n",
      " 4   Floor              4746 non-null   object\n",
      " 5   Area Type          4746 non-null   object\n",
      " 6   Area Locality      4746 non-null   object\n",
      " 7   City               4746 non-null   object\n",
      " 8   Furnishing Status  4746 non-null   object\n",
      " 9   Tenant Preferred   4746 non-null   object\n",
      " 10  Bathroom           4746 non-null   int64 \n",
      " 11  Point of Contact   4746 non-null   object\n",
      "dtypes: int64(4), object(8)\n",
      "memory usage: 445.1+ KB\n",
      "None\n"
     ]
    }
   ],
   "source": [
    "df_hous= pd.read_csv(\"D:/Studing DATA/Model_python/data/House_Rent_Dataset_origin.csv\")\n",
    "print(df_hous.info())"
   ]
  },
  {
   "cell_type": "code",
   "execution_count": 4,
   "metadata": {
    "execution": {
     "iopub.execute_input": "2025-09-20T05:20:56.290984Z",
     "iopub.status.busy": "2025-09-20T05:20:56.290645Z",
     "iopub.status.idle": "2025-09-20T05:20:56.312433Z",
     "shell.execute_reply": "2025-09-20T05:20:56.311114Z",
     "shell.execute_reply.started": "2025-09-20T05:20:56.290963Z"
    }
   },
   "outputs": [
    {
     "data": {
      "text/html": [
       "<div>\n",
       "<style scoped>\n",
       "    .dataframe tbody tr th:only-of-type {\n",
       "        vertical-align: middle;\n",
       "    }\n",
       "\n",
       "    .dataframe tbody tr th {\n",
       "        vertical-align: top;\n",
       "    }\n",
       "\n",
       "    .dataframe thead th {\n",
       "        text-align: right;\n",
       "    }\n",
       "</style>\n",
       "<table border=\"1\" class=\"dataframe\">\n",
       "  <thead>\n",
       "    <tr style=\"text-align: right;\">\n",
       "      <th></th>\n",
       "      <th>Posted On</th>\n",
       "      <th>BHK</th>\n",
       "      <th>Rent</th>\n",
       "      <th>Size</th>\n",
       "      <th>Floor</th>\n",
       "      <th>Area Type</th>\n",
       "      <th>Area Locality</th>\n",
       "      <th>City</th>\n",
       "      <th>Furnishing Status</th>\n",
       "      <th>Tenant Preferred</th>\n",
       "      <th>Bathroom</th>\n",
       "      <th>Point of Contact</th>\n",
       "    </tr>\n",
       "  </thead>\n",
       "  <tbody>\n",
       "    <tr>\n",
       "      <th>0</th>\n",
       "      <td>2022-05-18</td>\n",
       "      <td>2</td>\n",
       "      <td>10000</td>\n",
       "      <td>1100</td>\n",
       "      <td>Ground out of 2</td>\n",
       "      <td>Super Area</td>\n",
       "      <td>Bandel</td>\n",
       "      <td>Kolkata</td>\n",
       "      <td>Unfurnished</td>\n",
       "      <td>Bachelors/Family</td>\n",
       "      <td>2</td>\n",
       "      <td>Contact Owner</td>\n",
       "    </tr>\n",
       "    <tr>\n",
       "      <th>1</th>\n",
       "      <td>2022-05-13</td>\n",
       "      <td>2</td>\n",
       "      <td>20000</td>\n",
       "      <td>800</td>\n",
       "      <td>1 out of 3</td>\n",
       "      <td>Super Area</td>\n",
       "      <td>Phool Bagan, Kankurgachi</td>\n",
       "      <td>Kolkata</td>\n",
       "      <td>Semi-Furnished</td>\n",
       "      <td>Bachelors/Family</td>\n",
       "      <td>1</td>\n",
       "      <td>Contact Owner</td>\n",
       "    </tr>\n",
       "    <tr>\n",
       "      <th>2</th>\n",
       "      <td>2022-05-16</td>\n",
       "      <td>2</td>\n",
       "      <td>17000</td>\n",
       "      <td>1000</td>\n",
       "      <td>1 out of 3</td>\n",
       "      <td>Super Area</td>\n",
       "      <td>Salt Lake City Sector 2</td>\n",
       "      <td>Kolkata</td>\n",
       "      <td>Semi-Furnished</td>\n",
       "      <td>Bachelors/Family</td>\n",
       "      <td>1</td>\n",
       "      <td>Contact Owner</td>\n",
       "    </tr>\n",
       "    <tr>\n",
       "      <th>3</th>\n",
       "      <td>2022-07-04</td>\n",
       "      <td>2</td>\n",
       "      <td>10000</td>\n",
       "      <td>800</td>\n",
       "      <td>1 out of 2</td>\n",
       "      <td>Super Area</td>\n",
       "      <td>Dumdum Park</td>\n",
       "      <td>Kolkata</td>\n",
       "      <td>Unfurnished</td>\n",
       "      <td>Bachelors/Family</td>\n",
       "      <td>1</td>\n",
       "      <td>Contact Owner</td>\n",
       "    </tr>\n",
       "    <tr>\n",
       "      <th>4</th>\n",
       "      <td>2022-05-09</td>\n",
       "      <td>2</td>\n",
       "      <td>7500</td>\n",
       "      <td>850</td>\n",
       "      <td>1 out of 2</td>\n",
       "      <td>Carpet Area</td>\n",
       "      <td>South Dum Dum</td>\n",
       "      <td>Kolkata</td>\n",
       "      <td>Unfurnished</td>\n",
       "      <td>Bachelors</td>\n",
       "      <td>1</td>\n",
       "      <td>Contact Owner</td>\n",
       "    </tr>\n",
       "  </tbody>\n",
       "</table>\n",
       "</div>"
      ],
      "text/plain": [
       "    Posted On  BHK   Rent  Size            Floor    Area Type  \\\n",
       "0  2022-05-18    2  10000  1100  Ground out of 2   Super Area   \n",
       "1  2022-05-13    2  20000   800       1 out of 3   Super Area   \n",
       "2  2022-05-16    2  17000  1000       1 out of 3   Super Area   \n",
       "3  2022-07-04    2  10000   800       1 out of 2   Super Area   \n",
       "4  2022-05-09    2   7500   850       1 out of 2  Carpet Area   \n",
       "\n",
       "              Area Locality     City Furnishing Status  Tenant Preferred  \\\n",
       "0                    Bandel  Kolkata       Unfurnished  Bachelors/Family   \n",
       "1  Phool Bagan, Kankurgachi  Kolkata    Semi-Furnished  Bachelors/Family   \n",
       "2   Salt Lake City Sector 2  Kolkata    Semi-Furnished  Bachelors/Family   \n",
       "3               Dumdum Park  Kolkata       Unfurnished  Bachelors/Family   \n",
       "4             South Dum Dum  Kolkata       Unfurnished         Bachelors   \n",
       "\n",
       "   Bathroom Point of Contact  \n",
       "0         2    Contact Owner  \n",
       "1         1    Contact Owner  \n",
       "2         1    Contact Owner  \n",
       "3         1    Contact Owner  \n",
       "4         1    Contact Owner  "
      ]
     },
     "execution_count": 4,
     "metadata": {},
     "output_type": "execute_result"
    }
   ],
   "source": [
    "df_hous.head()"
   ]
  },
  {
   "cell_type": "markdown",
   "metadata": {
    "id": "7e2f1440"
   },
   "source": [
    "## Завдання 2: Дослідницький аналіз даних (EDA) (4 бали)\n",
    "\n",
    "**Що потрібно зробити:**\n",
    "1. **Аналіз пропущених значень.** Перевірте наявність і відсоток пропущених значень у кожній колонці\n",
    "2. **Базова статистика.** Обчисліть базову статистику (середнє, квартилі, стандартне відхилення) для числових змінних.\n",
    "3. **Аналіз цільової змінної.** Побудуйте гістограму розподілу цільової змінної (Rent)\n",
    "4. **Робота з викидами.** Знайдіть та видаліть викиди в цільовій змінній (якщо є). Визначити викиди можна будь-яким зрозумілим для вас способом, як варіант - таким, що використовується в побудові box-plot (https://en.wikipedia.org/wiki/Box_plot#Example_with_outliers).\n",
    "5. **Аналіз категоріальних змінних.** Виведіть кількість унікальних значень для кожної з категоріальних колонок.\n"
   ]
  },
  {
   "cell_type": "code",
   "execution_count": 5,
   "metadata": {
    "execution": {
     "iopub.execute_input": "2025-09-20T05:21:01.196390Z",
     "iopub.status.busy": "2025-09-20T05:21:01.195692Z",
     "iopub.status.idle": "2025-09-20T05:21:01.204649Z",
     "shell.execute_reply": "2025-09-20T05:21:01.203107Z",
     "shell.execute_reply.started": "2025-09-20T05:21:01.196366Z"
    },
    "id": "aWPsrhm8OVvU"
   },
   "outputs": [
    {
     "name": "stdout",
     "output_type": "stream",
     "text": [
      "Posted On            0\n",
      "BHK                  0\n",
      "Rent                 0\n",
      "Size                 0\n",
      "Floor                0\n",
      "Area Type            0\n",
      "Area Locality        0\n",
      "City                 0\n",
      "Furnishing Status    0\n",
      "Tenant Preferred     0\n",
      "Bathroom             0\n",
      "Point of Contact     0\n",
      "dtype: int64\n"
     ]
    }
   ],
   "source": [
    "print(df_hous.isnull().sum())"
   ]
  },
  {
   "cell_type": "code",
   "execution_count": 6,
   "metadata": {
    "execution": {
     "iopub.execute_input": "2025-09-20T05:21:04.162387Z",
     "iopub.status.busy": "2025-09-20T05:21:04.162016Z",
     "iopub.status.idle": "2025-09-20T05:21:04.185284Z",
     "shell.execute_reply": "2025-09-20T05:21:04.184576Z",
     "shell.execute_reply.started": "2025-09-20T05:21:04.162367Z"
    }
   },
   "outputs": [
    {
     "data": {
      "text/html": [
       "<div>\n",
       "<style scoped>\n",
       "    .dataframe tbody tr th:only-of-type {\n",
       "        vertical-align: middle;\n",
       "    }\n",
       "\n",
       "    .dataframe tbody tr th {\n",
       "        vertical-align: top;\n",
       "    }\n",
       "\n",
       "    .dataframe thead th {\n",
       "        text-align: right;\n",
       "    }\n",
       "</style>\n",
       "<table border=\"1\" class=\"dataframe\">\n",
       "  <thead>\n",
       "    <tr style=\"text-align: right;\">\n",
       "      <th></th>\n",
       "      <th>BHK</th>\n",
       "      <th>Rent</th>\n",
       "      <th>Size</th>\n",
       "      <th>Bathroom</th>\n",
       "    </tr>\n",
       "  </thead>\n",
       "  <tbody>\n",
       "    <tr>\n",
       "      <th>count</th>\n",
       "      <td>4746.00</td>\n",
       "      <td>4746.00</td>\n",
       "      <td>4746.00</td>\n",
       "      <td>4746.00</td>\n",
       "    </tr>\n",
       "    <tr>\n",
       "      <th>mean</th>\n",
       "      <td>2.08</td>\n",
       "      <td>34993.45</td>\n",
       "      <td>967.49</td>\n",
       "      <td>1.97</td>\n",
       "    </tr>\n",
       "    <tr>\n",
       "      <th>std</th>\n",
       "      <td>0.83</td>\n",
       "      <td>78106.41</td>\n",
       "      <td>634.20</td>\n",
       "      <td>0.88</td>\n",
       "    </tr>\n",
       "    <tr>\n",
       "      <th>min</th>\n",
       "      <td>1.00</td>\n",
       "      <td>1200.00</td>\n",
       "      <td>10.00</td>\n",
       "      <td>1.00</td>\n",
       "    </tr>\n",
       "    <tr>\n",
       "      <th>25%</th>\n",
       "      <td>2.00</td>\n",
       "      <td>10000.00</td>\n",
       "      <td>550.00</td>\n",
       "      <td>1.00</td>\n",
       "    </tr>\n",
       "    <tr>\n",
       "      <th>50%</th>\n",
       "      <td>2.00</td>\n",
       "      <td>16000.00</td>\n",
       "      <td>850.00</td>\n",
       "      <td>2.00</td>\n",
       "    </tr>\n",
       "    <tr>\n",
       "      <th>75%</th>\n",
       "      <td>3.00</td>\n",
       "      <td>33000.00</td>\n",
       "      <td>1200.00</td>\n",
       "      <td>2.00</td>\n",
       "    </tr>\n",
       "    <tr>\n",
       "      <th>max</th>\n",
       "      <td>6.00</td>\n",
       "      <td>3500000.00</td>\n",
       "      <td>8000.00</td>\n",
       "      <td>10.00</td>\n",
       "    </tr>\n",
       "  </tbody>\n",
       "</table>\n",
       "</div>"
      ],
      "text/plain": [
       "           BHK        Rent     Size  Bathroom\n",
       "count  4746.00     4746.00  4746.00   4746.00\n",
       "mean      2.08    34993.45   967.49      1.97\n",
       "std       0.83    78106.41   634.20      0.88\n",
       "min       1.00     1200.00    10.00      1.00\n",
       "25%       2.00    10000.00   550.00      1.00\n",
       "50%       2.00    16000.00   850.00      2.00\n",
       "75%       3.00    33000.00  1200.00      2.00\n",
       "max       6.00  3500000.00  8000.00     10.00"
      ]
     },
     "execution_count": 6,
     "metadata": {},
     "output_type": "execute_result"
    }
   ],
   "source": [
    "stats = df_hous[['BHK', 'Rent', 'Size', 'Bathroom']].describe()\n",
    "stats.round(2)"
   ]
  },
  {
   "cell_type": "markdown",
   "metadata": {},
   "source": [
    "##### Аналіз\n",
    "як ми бачимо з 2 наступних графіків підтверджується розподіл Орендної плати, дуже велике стд,та неймовірно різко високі ціни, що сприймаються як викиди, статистично воно так і є , 75% данних містять ціни до 33 000 , і середнє 34993, тобто має розподіл з хвостом в право , тобто правосторонній розподіл. 3,5М це явно виикид, а от до 500К данні ще тягнуться , після ще повторюються трошки значень, але мало даних в діапазоні 500К до 1,25М."
   ]
  },
  {
   "cell_type": "code",
   "execution_count": 7,
   "metadata": {
    "execution": {
     "iopub.execute_input": "2025-09-20T05:21:07.896398Z",
     "iopub.status.busy": "2025-09-20T05:21:07.895351Z",
     "iopub.status.idle": "2025-09-20T05:21:08.214626Z",
     "shell.execute_reply": "2025-09-20T05:21:08.213645Z",
     "shell.execute_reply.started": "2025-09-20T05:21:07.896366Z"
    }
   },
   "outputs": [
    {
     "data": {
      "text/plain": [
       "[Text(0.5, 1.0, 'Розподіл Rent'),\n",
       " Text(0.5, 0, 'Rent'),\n",
       " Text(0, 0.5, 'Кількість')]"
      ]
     },
     "execution_count": 7,
     "metadata": {},
     "output_type": "execute_result"
    },
    {
     "data": {
      "image/png": "[encoded data removed]",
      "text/plain": [
       "<Figure size 640x480 with 1 Axes>"
      ]
     },
     "metadata": {},
     "output_type": "display_data"
    }
   ],
   "source": [
    "df_hous[\"Rent\"] = pd.to_numeric(df_hous[\"Rent\"], errors=\"coerce\")\n",
    "(df_hous[\"Rent\"].plot.hist(bins=30)).set(title=\"Розподіл Rent\", xlabel=\"Rent\", ylabel=\"Кількість\")"
   ]
  },
  {
   "cell_type": "code",
   "execution_count": 8,
   "metadata": {
    "execution": {
     "iopub.execute_input": "2025-09-20T05:21:12.124602Z",
     "iopub.status.busy": "2025-09-20T05:21:12.123867Z",
     "iopub.status.idle": "2025-09-20T05:21:13.874148Z",
     "shell.execute_reply": "2025-09-20T05:21:13.873114Z",
     "shell.execute_reply.started": "2025-09-20T05:21:12.124580Z"
    }
   },
   "outputs": [
    {
     "data": {
      "application/vnd.plotly.v1+json": {
       "config": {
        "plotlyServerURL": "https://plot.ly"
       },
       "data": [
        {
         "bingroup": "x",
         "hovertemplate": "log_Rent=%{x}<br>count=%{y}<extra></extra>",
         "legendgroup": "",
         "marker": {
          "color": "#636efa",
          "pattern": {
           "shape": ""
          }
         },
         "name": "",
         "nbinsx": 100,
         "orientation": "v",
         "showlegend": false,
         "type": "histogram",
         "x": {
          "bdata": "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",
          "dtype": "f8"
         },
         "xaxis": "x",
         "yaxis": "y"
        }
       ],
       "layout": {
        "barmode": "relative",
        "height": 400,
        "legend": {
         "tracegroupgap": 0
        },
        "showlegend": false,
        "template": {
         "data": {
          "bar": [
           {
            "error_x": {
             "color": "#2a3f5f"
            },
            "error_y": {
             "color": "#2a3f5f"
            },
            "marker": {
             "line": {
              "color": "#E5ECF6",
              "width": 0.5
             },
             "pattern": {
              "fillmode": "overlay",
              "size": 10,
              "solidity": 0.2
             }
            },
            "type": "bar"
           }
          ],
          "barpolar": [
           {
            "marker": {
             "line": {
              "color": "#E5ECF6",
              "width": 0.5
             },
             "pattern": {
              "fillmode": "overlay",
              "size": 10,
              "solidity": 0.2
             }
            },
            "type": "barpolar"
           }
          ],
          "carpet": [
           {
            "aaxis": {
             "endlinecolor": "#2a3f5f",
             "gridcolor": "white",
             "linecolor": "white",
             "minorgridcolor": "white",
             "startlinecolor": "#2a3f5f"
            },
            "baxis": {
             "endlinecolor": "#2a3f5f",
             "gridcolor": "white",
             "linecolor": "white",
             "minorgridcolor": "white",
             "startlinecolor": "#2a3f5f"
            },
            "type": "carpet"
           }
          ],
          "choropleth": [
           {
            "colorbar": {
             "outlinewidth": 0,
             "ticks": ""
            },
            "type": "choropleth"
           }
          ],
          "contour": [
           {
            "colorbar": {
             "outlinewidth": 0,
             "ticks": ""
            },
            "colorscale": [
             [
              0,
              "#0d0887"
             ],
             [
              0.1111111111111111,
              "#46039f"
             ],
             [
              0.2222222222222222,
              "#7201a8"
             ],
             [
              0.3333333333333333,
              "#9c179e"
             ],
             [
              0.4444444444444444,
              "#bd3786"
             ],
             [
              0.5555555555555556,
              "#d8576b"
             ],
             [
              0.6666666666666666,
              "#ed7953"
             ],
             [
              0.7777777777777778,
              "#fb9f3a"
             ],
             [
              0.8888888888888888,
              "#fdca26"
             ],
             [
              1,
              "#f0f921"
             ]
            ],
            "type": "contour"
           }
          ],
          "contourcarpet": [
           {
            "colorbar": {
             "outlinewidth": 0,
             "ticks": ""
            },
            "type": "contourcarpet"
           }
          ],
          "heatmap": [
           {
            "colorbar": {
             "outlinewidth": 0,
             "ticks": ""
            },
            "colorscale": [
             [
              0,
              "#0d0887"
             ],
             [
              0.1111111111111111,
              "#46039f"
             ],
             [
              0.2222222222222222,
              "#7201a8"
             ],
             [
              0.3333333333333333,
              "#9c179e"
             ],
             [
              0.4444444444444444,
              "#bd3786"
             ],
             [
              0.5555555555555556,
              "#d8576b"
             ],
             [
              0.6666666666666666,
              "#ed7953"
             ],
             [
              0.7777777777777778,
              "#fb9f3a"
             ],
             [
              0.8888888888888888,
              "#fdca26"
             ],
             [
              1,
              "#f0f921"
             ]
            ],
            "type": "heatmap"
           }
          ],
          "histogram": [
           {
            "marker": {
             "pattern": {
              "fillmode": "overlay",
              "size": 10,
              "solidity": 0.2
             }
            },
            "type": "histogram"
           }
          ],
          "histogram2d": [
           {
            "colorbar": {
             "outlinewidth": 0,
             "ticks": ""
            },
            "colorscale": [
             [
              0,
              "#0d0887"
             ],
             [
              0.1111111111111111,
              "#46039f"
             ],
             [
              0.2222222222222222,
              "#7201a8"
             ],
             [
              0.3333333333333333,
              "#9c179e"
             ],
             [
              0.4444444444444444,
              "#bd3786"
             ],
             [
              0.5555555555555556,
              "#d8576b"
             ],
             [
              0.6666666666666666,
              "#ed7953"
             ],
             [
              0.7777777777777778,
              "#fb9f3a"
             ],
             [
              0.8888888888888888,
              "#fdca26"
             ],
             [
              1,
              "#f0f921"
             ]
            ],
            "type": "histogram2d"
           }
          ],
          "histogram2dcontour": [
           {
            "colorbar": {
             "outlinewidth": 0,
             "ticks": ""
            },
            "colorscale": [
             [
              0,
              "#0d0887"
             ],
             [
              0.1111111111111111,
              "#46039f"
             ],
             [
              0.2222222222222222,
              "#7201a8"
             ],
             [
              0.3333333333333333,
              "#9c179e"
             ],
             [
              0.4444444444444444,
              "#bd3786"
             ],
             [
              0.5555555555555556,
              "#d8576b"
             ],
             [
              0.6666666666666666,
              "#ed7953"
             ],
             [
              0.7777777777777778,
              "#fb9f3a"
             ],
             [
              0.8888888888888888,
              "#fdca26"
             ],
             [
              1,
              "#f0f921"
             ]
            ],
            "type": "histogram2dcontour"
           }
          ],
          "mesh3d": [
           {
            "colorbar": {
             "outlinewidth": 0,
             "ticks": ""
            },
            "type": "mesh3d"
           }
          ],
          "parcoords": [
           {
            "line": {
             "colorbar": {
              "outlinewidth": 0,
              "ticks": ""
             }
            },
            "type": "parcoords"
           }
          ],
          "pie": [
           {
            "automargin": true,
            "type": "pie"
           }
          ],
          "scatter": [
           {
            "fillpattern": {
             "fillmode": "overlay",
             "size": 10,
             "solidity": 0.2
            },
            "type": "scatter"
           }
          ],
          "scatter3d": [
           {
            "line": {
             "colorbar": {
              "outlinewidth": 0,
              "ticks": ""
             }
            },
            "marker": {
             "colorbar": {
              "outlinewidth": 0,
              "ticks": ""
             }
            },
            "type": "scatter3d"
           }
          ],
          "scattercarpet": [
           {
            "marker": {
             "colorbar": {
              "outlinewidth": 0,
              "ticks": ""
             }
            },
            "type": "scattercarpet"
           }
          ],
          "scattergeo": [
           {
            "marker": {
             "colorbar": {
              "outlinewidth": 0,
              "ticks": ""
             }
            },
            "type": "scattergeo"
           }
          ],
          "scattergl": [
           {
            "marker": {
             "colorbar": {
              "outlinewidth": 0,
              "ticks": ""
             }
            },
            "type": "scattergl"
           }
          ],
          "scattermap": [
           {
            "marker": {
             "colorbar": {
              "outlinewidth": 0,
              "ticks": ""
             }
            },
            "type": "scattermap"
           }
          ],
          "scattermapbox": [
           {
            "marker": {
             "colorbar": {
              "outlinewidth": 0,
              "ticks": ""
             }
            },
            "type": "scattermapbox"
           }
          ],
          "scatterpolar": [
           {
            "marker": {
             "colorbar": {
              "outlinewidth": 0,
              "ticks": ""
             }
            },
            "type": "scatterpolar"
           }
          ],
          "scatterpolargl": [
           {
            "marker": {
             "colorbar": {
              "outlinewidth": 0,
              "ticks": ""
             }
            },
            "type": "scatterpolargl"
           }
          ],
          "scatterternary": [
           {
            "marker": {
             "colorbar": {
              "outlinewidth": 0,
              "ticks": ""
             }
            },
            "type": "scatterternary"
           }
          ],
          "surface": [
           {
            "colorbar": {
             "outlinewidth": 0,
             "ticks": ""
            },
            "colorscale": [
             [
              0,
              "#0d0887"
             ],
             [
              0.1111111111111111,
              "#46039f"
             ],
             [
              0.2222222222222222,
              "#7201a8"
             ],
             [
              0.3333333333333333,
              "#9c179e"
             ],
             [
              0.4444444444444444,
              "#bd3786"
             ],
             [
              0.5555555555555556,
              "#d8576b"
             ],
             [
              0.6666666666666666,
              "#ed7953"
             ],
             [
              0.7777777777777778,
              "#fb9f3a"
             ],
             [
              0.8888888888888888,
              "#fdca26"
             ],
             [
              1,
              "#f0f921"
             ]
            ],
            "type": "surface"
           }
          ],
          "table": [
           {
            "cells": {
             "fill": {
              "color": "#EBF0F8"
             },
             "line": {
              "color": "white"
             }
            },
            "header": {
             "fill": {
              "color": "#C8D4E3"
             },
             "line": {
              "color": "white"
             }
            },
            "type": "table"
           }
          ]
         },
         "layout": {
          "annotationdefaults": {
           "arrowcolor": "#2a3f5f",
           "arrowhead": 0,
           "arrowwidth": 1
          },
          "autotypenumbers": "strict",
          "coloraxis": {
           "colorbar": {
            "outlinewidth": 0,
            "ticks": ""
           }
          },
          "colorscale": {
           "diverging": [
            [
             0,
             "#8e0152"
            ],
            [
             0.1,
             "#c51b7d"
            ],
            [
             0.2,
             "#de77ae"
            ],
            [
             0.3,
             "#f1b6da"
            ],
            [
             0.4,
             "#fde0ef"
            ],
            [
             0.5,
             "#f7f7f7"
            ],
            [
             0.6,
             "#e6f5d0"
            ],
            [
             0.7,
             "#b8e186"
            ],
            [
             0.8,
             "#7fbc41"
            ],
            [
             0.9,
             "#4d9221"
            ],
            [
             1,
             "#276419"
            ]
           ],
           "sequential": [
            [
             0,
             "#0d0887"
            ],
            [
             0.1111111111111111,
             "#46039f"
            ],
            [
             0.2222222222222222,
             "#7201a8"
            ],
            [
             0.3333333333333333,
             "#9c179e"
            ],
            [
             0.4444444444444444,
             "#bd3786"
            ],
            [
             0.5555555555555556,
             "#d8576b"
            ],
            [
             0.6666666666666666,
             "#ed7953"
            ],
            [
             0.7777777777777778,
             "#fb9f3a"
            ],
            [
             0.8888888888888888,
             "#fdca26"
            ],
            [
             1,
             "#f0f921"
            ]
           ],
           "sequentialminus": [
            [
             0,
             "#0d0887"
            ],
            [
             0.1111111111111111,
             "#46039f"
            ],
            [
             0.2222222222222222,
             "#7201a8"
            ],
            [
             0.3333333333333333,
             "#9c179e"
            ],
            [
             0.4444444444444444,
             "#bd3786"
            ],
            [
             0.5555555555555556,
             "#d8576b"
            ],
            [
             0.6666666666666666,
             "#ed7953"
            ],
            [
             0.7777777777777778,
             "#fb9f3a"
            ],
            [
             0.8888888888888888,
             "#fdca26"
            ],
            [
             1,
             "#f0f921"
            ]
           ]
          },
          "colorway": [
           "#636efa",
           "#EF553B",
           "#00cc96",
           "#ab63fa",
           "#FFA15A",
           "#19d3f3",
           "#FF6692",
           "#B6E880",
           "#FF97FF",
           "#FECB52"
          ],
          "font": {
           "color": "#2a3f5f"
          },
          "geo": {
           "bgcolor": "white",
           "lakecolor": "white",
           "landcolor": "#E5ECF6",
           "showlakes": true,
           "showland": true,
           "subunitcolor": "white"
          },
          "hoverlabel": {
           "align": "left"
          },
          "hovermode": "closest",
          "mapbox": {
           "style": "light"
          },
          "paper_bgcolor": "white",
          "plot_bgcolor": "#E5ECF6",
          "polar": {
           "angularaxis": {
            "gridcolor": "white",
            "linecolor": "white",
            "ticks": ""
           },
           "bgcolor": "#E5ECF6",
           "radialaxis": {
            "gridcolor": "white",
            "linecolor": "white",
            "ticks": ""
           }
          },
          "scene": {
           "xaxis": {
            "backgroundcolor": "#E5ECF6",
            "gridcolor": "white",
            "gridwidth": 2,
            "linecolor": "white",
            "showbackground": true,
            "ticks": "",
            "zerolinecolor": "white"
           },
           "yaxis": {
            "backgroundcolor": "#E5ECF6",
            "gridcolor": "white",
            "gridwidth": 2,
            "linecolor": "white",
            "showbackground": true,
            "ticks": "",
            "zerolinecolor": "white"
           },
           "zaxis": {
            "backgroundcolor": "#E5ECF6",
            "gridcolor": "white",
            "gridwidth": 2,
            "linecolor": "white",
            "showbackground": true,
            "ticks": "",
            "zerolinecolor": "white"
           }
          },
          "shapedefaults": {
           "line": {
            "color": "#2a3f5f"
           }
          },
          "ternary": {
           "aaxis": {
            "gridcolor": "white",
            "linecolor": "white",
            "ticks": ""
           },
           "baxis": {
            "gridcolor": "white",
            "linecolor": "white",
            "ticks": ""
           },
           "bgcolor": "#E5ECF6",
           "caxis": {
            "gridcolor": "white",
            "linecolor": "white",
            "ticks": ""
           }
          },
          "title": {
           "x": 0.05
          },
          "xaxis": {
           "automargin": true,
           "gridcolor": "white",
           "linecolor": "white",
           "ticks": "",
           "title": {
            "standoff": 15
           },
           "zerolinecolor": "white",
           "zerolinewidth": 2
          },
          "yaxis": {
           "automargin": true,
           "gridcolor": "white",
           "linecolor": "white",
           "ticks": "",
           "title": {
            "standoff": 15
           },
           "zerolinecolor": "white",
           "zerolinewidth": 2
          }
         }
        },
        "title": {
         "text": "Розподіл цільової змінної (орендної плати)"
        },
        "xaxis": {
         "anchor": "y",
         "domain": [
          0,
          1
         ],
         "title": {
          "text": "log_Rent"
         }
        },
        "yaxis": {
         "anchor": "x",
         "domain": [
          0,
          1
         ],
         "title": {
          "text": "count"
         }
        }
       }
      },
      "image/png": "[encoded data removed]"
     },
     "metadata": {},
     "output_type": "display_data"
    }
   ],
   "source": [
    "df_clean = df_hous.copy()\n",
    "df_clean['log_Rent'] = np.log1p(df_hous[\"Rent\"])\n",
    "fig = px.histogram(\n",
    "    df_clean,\n",
    "    x='log_Rent',\n",
    "    nbins=100,\n",
    "    title='Розподіл цільової змінної (орендної плати)',\n",
    "    labels={'log_target': 'log Кількість даних', 'count': 'ціна оренди'}\n",
    ")\n",
    "fig.update_layout(\n",
    "    showlegend=False,\n",
    "    height=400\n",
    ")\n",
    "fig.show()"
   ]
  },
  {
   "cell_type": "code",
   "execution_count": 9,
   "metadata": {
    "execution": {
     "iopub.execute_input": "2025-09-20T05:21:21.274803Z",
     "iopub.status.busy": "2025-09-20T05:21:21.273957Z",
     "iopub.status.idle": "2025-09-20T05:21:21.408315Z",
     "shell.execute_reply": "2025-09-20T05:21:21.407066Z",
     "shell.execute_reply.started": "2025-09-20T05:21:21.274775Z"
    }
   },
   "outputs": [
    {
     "data": {
      "application/vnd.plotly.v1+json": {
       "config": {
        "plotlyServerURL": "https://plot.ly"
       },
       "data": [
        {
         "alignmentgroup": "True",
         "hovertemplate": "Rent=%{x}<extra></extra>",
         "legendgroup": "",
         "marker": {
          "color": "#636efa"
         },
         "name": "",
         "notched": false,
         "offsetgroup": "",
         "orientation": "h",
         "showlegend": false,
         "type": "box",
         "x": {
          "bdata": "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",
          "dtype": "i4"
         },
         "x0": " ",
         "xaxis": "x",
         "y0": " ",
         "yaxis": "y"
        }
       ],
       "layout": {
        "boxmode": "group",
        "legend": {
         "tracegroupgap": 0
        },
        "template": {
         "data": {
          "bar": [
           {
            "error_x": {
             "color": "#2a3f5f"
            },
            "error_y": {
             "color": "#2a3f5f"
            },
            "marker": {
             "line": {
              "color": "#E5ECF6",
              "width": 0.5
             },
             "pattern": {
              "fillmode": "overlay",
              "size": 10,
              "solidity": 0.2
             }
            },
            "type": "bar"
           }
          ],
          "barpolar": [
           {
            "marker": {
             "line": {
              "color": "#E5ECF6",
              "width": 0.5
             },
             "pattern": {
              "fillmode": "overlay",
              "size": 10,
              "solidity": 0.2
             }
            },
            "type": "barpolar"
           }
          ],
          "carpet": [
           {
            "aaxis": {
             "endlinecolor": "#2a3f5f",
             "gridcolor": "white",
             "linecolor": "white",
             "minorgridcolor": "white",
             "startlinecolor": "#2a3f5f"
            },
            "baxis": {
             "endlinecolor": "#2a3f5f",
             "gridcolor": "white",
             "linecolor": "white",
             "minorgridcolor": "white",
             "startlinecolor": "#2a3f5f"
            },
            "type": "carpet"
           }
          ],
          "choropleth": [
           {
            "colorbar": {
             "outlinewidth": 0,
             "ticks": ""
            },
            "type": "choropleth"
           }
          ],
          "contour": [
           {
            "colorbar": {
             "outlinewidth": 0,
             "ticks": ""
            },
            "colorscale": [
             [
              0,
              "#0d0887"
             ],
             [
              0.1111111111111111,
              "#46039f"
             ],
             [
              0.2222222222222222,
              "#7201a8"
             ],
             [
              0.3333333333333333,
              "#9c179e"
             ],
             [
              0.4444444444444444,
              "#bd3786"
             ],
             [
              0.5555555555555556,
              "#d8576b"
             ],
             [
              0.6666666666666666,
              "#ed7953"
             ],
             [
              0.7777777777777778,
              "#fb9f3a"
             ],
             [
              0.8888888888888888,
              "#fdca26"
             ],
             [
              1,
              "#f0f921"
             ]
            ],
            "type": "contour"
           }
          ],
          "contourcarpet": [
           {
            "colorbar": {
             "outlinewidth": 0,
             "ticks": ""
            },
            "type": "contourcarpet"
           }
          ],
          "heatmap": [
           {
            "colorbar": {
             "outlinewidth": 0,
             "ticks": ""
            },
            "colorscale": [
             [
              0,
              "#0d0887"
             ],
             [
              0.1111111111111111,
              "#46039f"
             ],
             [
              0.2222222222222222,
              "#7201a8"
             ],
             [
              0.3333333333333333,
              "#9c179e"
             ],
             [
              0.4444444444444444,
              "#bd3786"
             ],
             [
              0.5555555555555556,
              "#d8576b"
             ],
             [
              0.6666666666666666,
              "#ed7953"
             ],
             [
              0.7777777777777778,
              "#fb9f3a"
             ],
             [
              0.8888888888888888,
              "#fdca26"
             ],
             [
              1,
              "#f0f921"
             ]
            ],
            "type": "heatmap"
           }
          ],
          "histogram": [
           {
            "marker": {
             "pattern": {
              "fillmode": "overlay",
              "size": 10,
              "solidity": 0.2
             }
            },
            "type": "histogram"
           }
          ],
          "histogram2d": [
           {
            "colorbar": {
             "outlinewidth": 0,
             "ticks": ""
            },
            "colorscale": [
             [
              0,
              "#0d0887"
             ],
             [
              0.1111111111111111,
              "#46039f"
             ],
             [
              0.2222222222222222,
              "#7201a8"
             ],
             [
              0.3333333333333333,
              "#9c179e"
             ],
             [
              0.4444444444444444,
              "#bd3786"
             ],
             [
              0.5555555555555556,
              "#d8576b"
             ],
             [
              0.6666666666666666,
              "#ed7953"
             ],
             [
              0.7777777777777778,
              "#fb9f3a"
             ],
             [
              0.8888888888888888,
              "#fdca26"
             ],
             [
              1,
              "#f0f921"
             ]
            ],
            "type": "histogram2d"
           }
          ],
          "histogram2dcontour": [
           {
            "colorbar": {
             "outlinewidth": 0,
             "ticks": ""
            },
            "colorscale": [
             [
              0,
              "#0d0887"
             ],
             [
              0.1111111111111111,
              "#46039f"
             ],
             [
              0.2222222222222222,
              "#7201a8"
             ],
             [
              0.3333333333333333,
              "#9c179e"
             ],
             [
              0.4444444444444444,
              "#bd3786"
             ],
             [
              0.5555555555555556,
              "#d8576b"
             ],
             [
              0.6666666666666666,
              "#ed7953"
             ],
             [
              0.7777777777777778,
              "#fb9f3a"
             ],
             [
              0.8888888888888888,
              "#fdca26"
             ],
             [
              1,
              "#f0f921"
             ]
            ],
            "type": "histogram2dcontour"
           }
          ],
          "mesh3d": [
           {
            "colorbar": {
             "outlinewidth": 0,
             "ticks": ""
            },
            "type": "mesh3d"
           }
          ],
          "parcoords": [
           {
            "line": {
             "colorbar": {
              "outlinewidth": 0,
              "ticks": ""
             }
            },
            "type": "parcoords"
           }
          ],
          "pie": [
           {
            "automargin": true,
            "type": "pie"
           }
          ],
          "scatter": [
           {
            "fillpattern": {
             "fillmode": "overlay",
             "size": 10,
             "solidity": 0.2
            },
            "type": "scatter"
           }
          ],
          "scatter3d": [
           {
            "line": {
             "colorbar": {
              "outlinewidth": 0,
              "ticks": ""
             }
            },
            "marker": {
             "colorbar": {
              "outlinewidth": 0,
              "ticks": ""
             }
            },
            "type": "scatter3d"
           }
          ],
          "scattercarpet": [
           {
            "marker": {
             "colorbar": {
              "outlinewidth": 0,
              "ticks": ""
             }
            },
            "type": "scattercarpet"
           }
          ],
          "scattergeo": [
           {
            "marker": {
             "colorbar": {
              "outlinewidth": 0,
              "ticks": ""
             }
            },
            "type": "scattergeo"
           }
          ],
          "scattergl": [
           {
            "marker": {
             "colorbar": {
              "outlinewidth": 0,
              "ticks": ""
             }
            },
            "type": "scattergl"
           }
          ],
          "scattermap": [
           {
            "marker": {
             "colorbar": {
              "outlinewidth": 0,
              "ticks": ""
             }
            },
            "type": "scattermap"
           }
          ],
          "scattermapbox": [
           {
            "marker": {
             "colorbar": {
              "outlinewidth": 0,
              "ticks": ""
             }
            },
            "type": "scattermapbox"
           }
          ],
          "scatterpolar": [
           {
            "marker": {
             "colorbar": {
              "outlinewidth": 0,
              "ticks": ""
             }
            },
            "type": "scatterpolar"
           }
          ],
          "scatterpolargl": [
           {
            "marker": {
             "colorbar": {
              "outlinewidth": 0,
              "ticks": ""
             }
            },
            "type": "scatterpolargl"
           }
          ],
          "scatterternary": [
           {
            "marker": {
             "colorbar": {
              "outlinewidth": 0,
              "ticks": ""
             }
            },
            "type": "scatterternary"
           }
          ],
          "surface": [
           {
            "colorbar": {
             "outlinewidth": 0,
             "ticks": ""
            },
            "colorscale": [
             [
              0,
              "#0d0887"
             ],
             [
              0.1111111111111111,
              "#46039f"
             ],
             [
              0.2222222222222222,
              "#7201a8"
             ],
             [
              0.3333333333333333,
              "#9c179e"
             ],
             [
              0.4444444444444444,
              "#bd3786"
             ],
             [
              0.5555555555555556,
              "#d8576b"
             ],
             [
              0.6666666666666666,
              "#ed7953"
             ],
             [
              0.7777777777777778,
              "#fb9f3a"
             ],
             [
              0.8888888888888888,
              "#fdca26"
             ],
             [
              1,
              "#f0f921"
             ]
            ],
            "type": "surface"
           }
          ],
          "table": [
           {
            "cells": {
             "fill": {
              "color": "#EBF0F8"
             },
             "line": {
              "color": "white"
             }
            },
            "header": {
             "fill": {
              "color": "#C8D4E3"
             },
             "line": {
              "color": "white"
             }
            },
            "type": "table"
           }
          ]
         },
         "layout": {
          "annotationdefaults": {
           "arrowcolor": "#2a3f5f",
           "arrowhead": 0,
           "arrowwidth": 1
          },
          "autotypenumbers": "strict",
          "coloraxis": {
           "colorbar": {
            "outlinewidth": 0,
            "ticks": ""
           }
          },
          "colorscale": {
           "diverging": [
            [
             0,
             "#8e0152"
            ],
            [
             0.1,
             "#c51b7d"
            ],
            [
             0.2,
             "#de77ae"
            ],
            [
             0.3,
             "#f1b6da"
            ],
            [
             0.4,
             "#fde0ef"
            ],
            [
             0.5,
             "#f7f7f7"
            ],
            [
             0.6,
             "#e6f5d0"
            ],
            [
             0.7,
             "#b8e186"
            ],
            [
             0.8,
             "#7fbc41"
            ],
            [
             0.9,
             "#4d9221"
            ],
            [
             1,
             "#276419"
            ]
           ],
           "sequential": [
            [
             0,
             "#0d0887"
            ],
            [
             0.1111111111111111,
             "#46039f"
            ],
            [
             0.2222222222222222,
             "#7201a8"
            ],
            [
             0.3333333333333333,
             "#9c179e"
            ],
            [
             0.4444444444444444,
             "#bd3786"
            ],
            [
             0.5555555555555556,
             "#d8576b"
            ],
            [
             0.6666666666666666,
             "#ed7953"
            ],
            [
             0.7777777777777778,
             "#fb9f3a"
            ],
            [
             0.8888888888888888,
             "#fdca26"
            ],
            [
             1,
             "#f0f921"
            ]
           ],
           "sequentialminus": [
            [
             0,
             "#0d0887"
            ],
            [
             0.1111111111111111,
             "#46039f"
            ],
            [
             0.2222222222222222,
             "#7201a8"
            ],
            [
             0.3333333333333333,
             "#9c179e"
            ],
            [
             0.4444444444444444,
             "#bd3786"
            ],
            [
             0.5555555555555556,
             "#d8576b"
            ],
            [
             0.6666666666666666,
             "#ed7953"
            ],
            [
             0.7777777777777778,
             "#fb9f3a"
            ],
            [
             0.8888888888888888,
             "#fdca26"
            ],
            [
             1,
             "#f0f921"
            ]
           ]
          },
          "colorway": [
           "#636efa",
           "#EF553B",
           "#00cc96",
           "#ab63fa",
           "#FFA15A",
           "#19d3f3",
           "#FF6692",
           "#B6E880",
           "#FF97FF",
           "#FECB52"
          ],
          "font": {
           "color": "#2a3f5f"
          },
          "geo": {
           "bgcolor": "white",
           "lakecolor": "white",
           "landcolor": "#E5ECF6",
           "showlakes": true,
           "showland": true,
           "subunitcolor": "white"
          },
          "hoverlabel": {
           "align": "left"
          },
          "hovermode": "closest",
          "mapbox": {
           "style": "light"
          },
          "paper_bgcolor": "white",
          "plot_bgcolor": "#E5ECF6",
          "polar": {
           "angularaxis": {
            "gridcolor": "white",
            "linecolor": "white",
            "ticks": ""
           },
           "bgcolor": "#E5ECF6",
           "radialaxis": {
            "gridcolor": "white",
            "linecolor": "white",
            "ticks": ""
           }
          },
          "scene": {
           "xaxis": {
            "backgroundcolor": "#E5ECF6",
            "gridcolor": "white",
            "gridwidth": 2,
            "linecolor": "white",
            "showbackground": true,
            "ticks": "",
            "zerolinecolor": "white"
           },
           "yaxis": {
            "backgroundcolor": "#E5ECF6",
            "gridcolor": "white",
            "gridwidth": 2,
            "linecolor": "white",
            "showbackground": true,
            "ticks": "",
            "zerolinecolor": "white"
           },
           "zaxis": {
            "backgroundcolor": "#E5ECF6",
            "gridcolor": "white",
            "gridwidth": 2,
            "linecolor": "white",
            "showbackground": true,
            "ticks": "",
            "zerolinecolor": "white"
           }
          },
          "shapedefaults": {
           "line": {
            "color": "#2a3f5f"
           }
          },
          "ternary": {
           "aaxis": {
            "gridcolor": "white",
            "linecolor": "white",
            "ticks": ""
           },
           "baxis": {
            "gridcolor": "white",
            "linecolor": "white",
            "ticks": ""
           },
           "bgcolor": "#E5ECF6",
           "caxis": {
            "gridcolor": "white",
            "linecolor": "white",
            "ticks": ""
           }
          },
          "title": {
           "x": 0.05
          },
          "xaxis": {
           "automargin": true,
           "gridcolor": "white",
           "linecolor": "white",
           "ticks": "",
           "title": {
            "standoff": 15
           },
           "zerolinecolor": "white",
           "zerolinewidth": 2
          },
          "yaxis": {
           "automargin": true,
           "gridcolor": "white",
           "linecolor": "white",
           "ticks": "",
           "title": {
            "standoff": 15
           },
           "zerolinecolor": "white",
           "zerolinewidth": 2
          }
         }
        },
        "title": {
         "text": "Інтерактивний boxplot для Rent"
        },
        "xaxis": {
         "anchor": "y",
         "domain": [
          0,
          1
         ],
         "dtick": 100000,
         "title": {
          "text": "Rent (грн)"
         }
        },
        "yaxis": {
         "anchor": "x",
         "domain": [
          0,
          1
         ]
        }
       }
      },
      "image/png": "[encoded data removed]"
     },
     "metadata": {},
     "output_type": "display_data"
    }
   ],
   "source": [
    "import plotly.express as px\n",
    "\n",
    "fig = px.box(df_hous, x=\"Rent\", orientation=\"h\", title=\"Інтерактивний boxplot для Rent\")\n",
    "\n",
    "# Крок поділки 100 000\n",
    "fig.update_xaxes(dtick=100000, title=\"Rent (грн)\")\n",
    "\n",
    "fig.show()\n"
   ]
  },
  {
   "cell_type": "code",
   "execution_count": 10,
   "metadata": {
    "execution": {
     "iopub.execute_input": "2025-09-20T05:21:34.993336Z",
     "iopub.status.busy": "2025-09-20T05:21:34.992981Z",
     "iopub.status.idle": "2025-09-20T05:21:35.009240Z",
     "shell.execute_reply": "2025-09-20T05:21:35.008213Z",
     "shell.execute_reply.started": "2025-09-20T05:21:34.993315Z"
    }
   },
   "outputs": [
    {
     "name": "stdout",
     "output_type": "stream",
     "text": [
      "Q1 = 10000.0, Q3 = 33000.0, IQR = 23000.0\n",
      "Межі викидів: нижня = -24500.0, верхня = 67500.0\n",
      "Було рядків: 4746, залишилось: 4226\n"
     ]
    }
   ],
   "source": [
    "# 1. Розрахунок квартилів і IQR\n",
    "Q1 = df_hous[\"Rent\"].quantile(0.25)\n",
    "Q3 = df_hous[\"Rent\"].quantile(0.75)\n",
    "IQR = Q3 - Q1\n",
    "\n",
    "# 2. Межі для викидів\n",
    "lower_bound = Q1 - 1.5 * IQR\n",
    "upper_bound = Q3 + 1.5 * IQR\n",
    "\n",
    "print(f\"Q1 = {Q1}, Q3 = {Q3}, IQR = {IQR}\")\n",
    "print(f\"Межі викидів: нижня = {lower_bound}, верхня = {upper_bound}\")\n",
    "\n",
    "# 3. Фільтрація (видаляємо викиди)\n",
    "df_hous_no_outliers = df_hous[(df_hous[\"Rent\"] >= lower_bound) & (df_hous[\"Rent\"] <= upper_bound)]\n",
    "\n",
    "print(f\"Було рядків: {len(df_hous)}, залишилось: {len(df_hous_no_outliers)}\")\n"
   ]
  },
  {
   "cell_type": "code",
   "execution_count": 11,
   "metadata": {
    "execution": {
     "iopub.execute_input": "2025-09-20T05:21:50.943129Z",
     "iopub.status.busy": "2025-09-20T05:21:50.942098Z",
     "iopub.status.idle": "2025-09-20T05:21:50.987080Z",
     "shell.execute_reply": "2025-09-20T05:21:50.985586Z",
     "shell.execute_reply.started": "2025-09-20T05:21:50.943089Z"
    }
   },
   "outputs": [
    {
     "name": "stdout",
     "output_type": "stream",
     "text": [
      "<class 'pandas.core.frame.DataFrame'>\n",
      "Index: 4226 entries, 0 to 4745\n",
      "Data columns (total 12 columns):\n",
      " #   Column             Non-Null Count  Dtype \n",
      "---  ------             --------------  ----- \n",
      " 0   Posted On          4226 non-null   object\n",
      " 1   BHK                4226 non-null   int64 \n",
      " 2   Rent               4226 non-null   int64 \n",
      " 3   Size               4226 non-null   int64 \n",
      " 4   Floor              4226 non-null   object\n",
      " 5   Area Type          4226 non-null   object\n",
      " 6   Area Locality      4226 non-null   object\n",
      " 7   City               4226 non-null   object\n",
      " 8   Furnishing Status  4226 non-null   object\n",
      " 9   Tenant Preferred   4226 non-null   object\n",
      " 10  Bathroom           4226 non-null   int64 \n",
      " 11  Point of Contact   4226 non-null   object\n",
      "dtypes: int64(4), object(8)\n",
      "memory usage: 429.2+ KB\n",
      "None\n"
     ]
    }
   ],
   "source": [
    "df_hous_no_outliers.to_csv(\"D:/Studing DATA/Model_python/data/House_Rent_Dataset.csv\", index=False)\n",
    "print(df_hous_no_outliers.info())"
   ]
  },
  {
   "cell_type": "code",
   "execution_count": 12,
   "metadata": {
    "execution": {
     "iopub.execute_input": "2025-09-20T05:21:54.545407Z",
     "iopub.status.busy": "2025-09-20T05:21:54.544637Z",
     "iopub.status.idle": "2025-09-20T05:21:54.559252Z",
     "shell.execute_reply": "2025-09-20T05:21:54.558189Z",
     "shell.execute_reply.started": "2025-09-20T05:21:54.545384Z"
    }
   },
   "outputs": [
    {
     "data": {
      "text/html": [
       "<div>\n",
       "<style scoped>\n",
       "    .dataframe tbody tr th:only-of-type {\n",
       "        vertical-align: middle;\n",
       "    }\n",
       "\n",
       "    .dataframe tbody tr th {\n",
       "        vertical-align: top;\n",
       "    }\n",
       "\n",
       "    .dataframe thead th {\n",
       "        text-align: right;\n",
       "    }\n",
       "</style>\n",
       "<table border=\"1\" class=\"dataframe\">\n",
       "  <thead>\n",
       "    <tr style=\"text-align: right;\">\n",
       "      <th></th>\n",
       "      <th>Posted On</th>\n",
       "      <th>BHK</th>\n",
       "      <th>Rent</th>\n",
       "      <th>Size</th>\n",
       "      <th>Floor</th>\n",
       "      <th>Area Type</th>\n",
       "      <th>Area Locality</th>\n",
       "      <th>City</th>\n",
       "      <th>Furnishing Status</th>\n",
       "      <th>Tenant Preferred</th>\n",
       "      <th>Bathroom</th>\n",
       "      <th>Point of Contact</th>\n",
       "    </tr>\n",
       "  </thead>\n",
       "  <tbody>\n",
       "    <tr>\n",
       "      <th>0</th>\n",
       "      <td>2022-05-18</td>\n",
       "      <td>2</td>\n",
       "      <td>10000</td>\n",
       "      <td>1100</td>\n",
       "      <td>Ground out of 2</td>\n",
       "      <td>Super Area</td>\n",
       "      <td>Bandel</td>\n",
       "      <td>Kolkata</td>\n",
       "      <td>Unfurnished</td>\n",
       "      <td>Bachelors/Family</td>\n",
       "      <td>2</td>\n",
       "      <td>Contact Owner</td>\n",
       "    </tr>\n",
       "    <tr>\n",
       "      <th>1</th>\n",
       "      <td>2022-05-13</td>\n",
       "      <td>2</td>\n",
       "      <td>20000</td>\n",
       "      <td>800</td>\n",
       "      <td>1 out of 3</td>\n",
       "      <td>Super Area</td>\n",
       "      <td>Phool Bagan, Kankurgachi</td>\n",
       "      <td>Kolkata</td>\n",
       "      <td>Semi-Furnished</td>\n",
       "      <td>Bachelors/Family</td>\n",
       "      <td>1</td>\n",
       "      <td>Contact Owner</td>\n",
       "    </tr>\n",
       "    <tr>\n",
       "      <th>2</th>\n",
       "      <td>2022-05-16</td>\n",
       "      <td>2</td>\n",
       "      <td>17000</td>\n",
       "      <td>1000</td>\n",
       "      <td>1 out of 3</td>\n",
       "      <td>Super Area</td>\n",
       "      <td>Salt Lake City Sector 2</td>\n",
       "      <td>Kolkata</td>\n",
       "      <td>Semi-Furnished</td>\n",
       "      <td>Bachelors/Family</td>\n",
       "      <td>1</td>\n",
       "      <td>Contact Owner</td>\n",
       "    </tr>\n",
       "    <tr>\n",
       "      <th>3</th>\n",
       "      <td>2022-07-04</td>\n",
       "      <td>2</td>\n",
       "      <td>10000</td>\n",
       "      <td>800</td>\n",
       "      <td>1 out of 2</td>\n",
       "      <td>Super Area</td>\n",
       "      <td>Dumdum Park</td>\n",
       "      <td>Kolkata</td>\n",
       "      <td>Unfurnished</td>\n",
       "      <td>Bachelors/Family</td>\n",
       "      <td>1</td>\n",
       "      <td>Contact Owner</td>\n",
       "    </tr>\n",
       "    <tr>\n",
       "      <th>4</th>\n",
       "      <td>2022-05-09</td>\n",
       "      <td>2</td>\n",
       "      <td>7500</td>\n",
       "      <td>850</td>\n",
       "      <td>1 out of 2</td>\n",
       "      <td>Carpet Area</td>\n",
       "      <td>South Dum Dum</td>\n",
       "      <td>Kolkata</td>\n",
       "      <td>Unfurnished</td>\n",
       "      <td>Bachelors</td>\n",
       "      <td>1</td>\n",
       "      <td>Contact Owner</td>\n",
       "    </tr>\n",
       "  </tbody>\n",
       "</table>\n",
       "</div>"
      ],
      "text/plain": [
       "    Posted On  BHK   Rent  Size            Floor    Area Type  \\\n",
       "0  2022-05-18    2  10000  1100  Ground out of 2   Super Area   \n",
       "1  2022-05-13    2  20000   800       1 out of 3   Super Area   \n",
       "2  2022-05-16    2  17000  1000       1 out of 3   Super Area   \n",
       "3  2022-07-04    2  10000   800       1 out of 2   Super Area   \n",
       "4  2022-05-09    2   7500   850       1 out of 2  Carpet Area   \n",
       "\n",
       "              Area Locality     City Furnishing Status  Tenant Preferred  \\\n",
       "0                    Bandel  Kolkata       Unfurnished  Bachelors/Family   \n",
       "1  Phool Bagan, Kankurgachi  Kolkata    Semi-Furnished  Bachelors/Family   \n",
       "2   Salt Lake City Sector 2  Kolkata    Semi-Furnished  Bachelors/Family   \n",
       "3               Dumdum Park  Kolkata       Unfurnished  Bachelors/Family   \n",
       "4             South Dum Dum  Kolkata       Unfurnished         Bachelors   \n",
       "\n",
       "   Bathroom Point of Contact  \n",
       "0         2    Contact Owner  \n",
       "1         1    Contact Owner  \n",
       "2         1    Contact Owner  \n",
       "3         1    Contact Owner  \n",
       "4         1    Contact Owner  "
      ]
     },
     "execution_count": 12,
     "metadata": {},
     "output_type": "execute_result"
    }
   ],
   "source": [
    "df_hous_no_outliers.head()"
   ]
  },
  {
   "cell_type": "code",
   "execution_count": 13,
   "metadata": {
    "execution": {
     "iopub.execute_input": "2025-09-20T05:22:02.093813Z",
     "iopub.status.busy": "2025-09-20T05:22:02.093178Z",
     "iopub.status.idle": "2025-09-20T05:22:02.150707Z",
     "shell.execute_reply": "2025-09-20T05:22:02.149607Z",
     "shell.execute_reply.started": "2025-09-20T05:22:02.093791Z"
    }
   },
   "outputs": [
    {
     "name": "stdout",
     "output_type": "stream",
     "text": [
      "Колонка: BHK\n",
      "BHK\n",
      "2    2165\n",
      "1    1156\n",
      "3     838\n",
      "4      56\n",
      "6       6\n",
      "5       5\n",
      "Name: count, dtype: int64\n",
      "\n",
      "------------------------------\n",
      "\n",
      "Колонка: Floor\n",
      "Floor\n",
      "1 out of 2          374\n",
      "Ground out of 2     346\n",
      "2 out of 3          305\n",
      "2 out of 4          295\n",
      "1 out of 3          281\n",
      "                   ... \n",
      "Ground out of 14      1\n",
      "2 out of 11           1\n",
      "12 out of 30          1\n",
      "6 out of 13           1\n",
      "23 out of 34          1\n",
      "Name: count, Length: 340, dtype: int64\n",
      "\n",
      "------------------------------\n",
      "\n",
      "Колонка: Area Type\n",
      "Area Type\n",
      "Super Area     2383\n",
      "Carpet Area    1841\n",
      "Built Area        2\n",
      "Name: count, dtype: int64\n",
      "\n",
      "------------------------------\n",
      "\n",
      "Колонка: Area Locality\n",
      "Area Locality\n",
      "Gachibowli                         28\n",
      "Electronic City                    24\n",
      "Velachery                          22\n",
      "Miyapur, NH 9                      22\n",
      "Madipakkam                         19\n",
      "                                   ..\n",
      "Paschim Barisha                     1\n",
      "Tarulia, Keshtopur                  1\n",
      "Natunhat                            1\n",
      "Palm Avenue Kolkata, Ballygunge     1\n",
      "South Dum Dum                       1\n",
      "Name: count, Length: 1997, dtype: int64\n",
      "\n",
      "------------------------------\n",
      "\n",
      "Колонка: City\n",
      "City\n",
      "Bangalore    851\n",
      "Chennai      850\n",
      "Hyderabad    845\n",
      "Mumbai       605\n",
      "Delhi        552\n",
      "Kolkata      523\n",
      "Name: count, dtype: int64\n",
      "\n",
      "------------------------------\n",
      "\n",
      "Колонка: Furnishing Status\n",
      "Furnishing Status\n",
      "Semi-Furnished    1984\n",
      "Unfurnished       1722\n",
      "Furnished          520\n",
      "Name: count, dtype: int64\n",
      "\n",
      "------------------------------\n",
      "\n",
      "Колонка: Point of Contact\n",
      "Point of Contact\n",
      "Contact Owner      3168\n",
      "Contact Agent      1057\n",
      "Contact Builder       1\n",
      "Name: count, dtype: int64\n",
      "\n",
      "------------------------------\n",
      "\n"
     ]
    }
   ],
   "source": [
    "# Вказуємо свої категоріальні колонки\n",
    "categorical_cols = ['BHK', 'Floor', 'Area Type', 'Area Locality','City','Furnishing Status','Point of Contact' ]\n",
    "\n",
    "# Для кожної колонки виводимо унікальні значення і їх кількість\n",
    "for col in categorical_cols:\n",
    "    print(f\"Колонка: {col}\")\n",
    "    print(df_hous_no_outliers[col].value_counts())\n",
    "    print(\"\\n\" + \"-\"*30 + \"\\n\")"
   ]
  },
  {
   "cell_type": "markdown",
   "metadata": {
    "id": "9386b308"
   },
   "source": [
    "\n",
    "## Завдання 3: Аналіз кореляцій та взаємозв'язків (3 бали)\n",
    "\n",
    "**Що потрібно зробити:**\n",
    "1. Обчисліть матрицю кореляцій для числових змінних\n",
    "2. Візуалізуйте кореляційну матрицю за допомогою heatmap\n",
    "3. Побудуйте scatter plot між Size та Rent\n",
    "4. Проаналізуйте взаємозв'язок між BHK та Rent за допомогою boxplot (який розподіл плати для різних значень BHK)\n"
   ]
  },
  {
   "cell_type": "code",
   "execution_count": 14,
   "metadata": {
    "execution": {
     "iopub.execute_input": "2025-09-20T05:22:46.279655Z",
     "iopub.status.busy": "2025-09-20T05:22:46.278918Z",
     "iopub.status.idle": "2025-09-20T05:22:46.526267Z",
     "shell.execute_reply": "2025-09-20T05:22:46.525459Z",
     "shell.execute_reply.started": "2025-09-20T05:22:46.279632Z"
    },
    "id": "xselVsmDOWqZ"
   },
   "outputs": [
    {
     "data": {
      "image/png": "[encoded data removed]",
      "text/plain": [
       "<Figure size 800x600 with 2 Axes>"
      ]
     },
     "metadata": {},
     "output_type": "display_data"
    }
   ],
   "source": [
    "numeric_cols = ['BHK', 'Rent', 'Size', 'Bathroom']\n",
    "correlation_matrix = df_hous_no_outliers[numeric_cols].corr()\n",
    "plt.figure(figsize=(8,6))\n",
    "sns.heatmap(correlation_matrix, annot=True, cmap='coolwarm', fmt=\".2f\")\n",
    "plt.title(\"Кореляційна матриця числових змінних\")\n",
    "plt.show()"
   ]
  },
  {
   "cell_type": "code",
   "execution_count": 34,
   "metadata": {
    "execution": {
     "iopub.execute_input": "2025-09-19T13:14:15.554760Z",
     "iopub.status.busy": "2025-09-19T13:14:15.553925Z",
     "iopub.status.idle": "2025-09-19T13:14:15.746799Z",
     "shell.execute_reply": "2025-09-19T13:14:15.746063Z",
     "shell.execute_reply.started": "2025-09-19T13:14:15.554726Z"
    }
   },
   "outputs": [
    {
     "data": {
      "image/png": "[encoded data removed]",
      "text/plain": [
       "<Figure size 800x600 with 1 Axes>"
      ]
     },
     "metadata": {},
     "output_type": "display_data"
    }
   ],
   "source": [
    "plt.figure(figsize=(8,6))\n",
    "sns.scatterplot(data=df_hous_no_outliers, x='Size', y='Rent')\n",
    "plt.title('Залежність Rent від Size')\n",
    "plt.xlabel('Size')\n",
    "plt.ylabel('Rent')\n",
    "plt.show()"
   ]
  },
  {
   "cell_type": "code",
   "execution_count": 37,
   "metadata": {
    "execution": {
     "iopub.execute_input": "2025-09-19T13:22:56.307933Z",
     "iopub.status.busy": "2025-09-19T13:22:56.306990Z",
     "iopub.status.idle": "2025-09-19T13:22:56.361752Z",
     "shell.execute_reply": "2025-09-19T13:22:56.360574Z",
     "shell.execute_reply.started": "2025-09-19T13:22:56.307908Z"
    }
   },
   "outputs": [
    {
     "data": {
      "application/vnd.plotly.v1+json": {
       "config": {
        "plotlyServerURL": "https://plot.ly"
       },
       "data": [
        {
         "alignmentgroup": "True",
         "boxpoints": "all",
         "hovertemplate": "BHK=%{x}<br>Rent=%{y}<extra></extra>",
         "legendgroup": "",
         "marker": {
          "color": "#636efa"
         },
         "name": "",
         "notched": false,
         "offsetgroup": "",
         "orientation": "v",
         "showlegend": false,
         "type": "box",
         "x": {
          "bdata": "AgICAgICAgECAgMBAQEDAwICAgICAgEDAQIBAgICAQICAgMCAgICAQIDAQIBAgICAwMBAQICAgECAgICAQMCAwECAQICAQECAgIDAgIBAgEDAQIGAgECAgICAgIBAQIBAgIEAgMEAwIBAgMCAQEBAQMDAgECAQMBAgECAgICAgEBAQECAQICAgICAwIBAgICAgICAgMCAQIDAgICAwIBAgIBAgMDAwICBAECAQIBAQICAwMCAQICAgICAgIBBAIEAgICAQMCAQEBAgEBAgMBAgMCAQIDAgEDAgQCAQECAgICAgIBAgEBAgQCAQIBAQIBAgIBAgMCAwIDAgICAwMCAgIDAwIDAgIBAgMBAgIDAQMBAQQDAQIBAgIBAQIBAwIDAQEDAgICAwIDAQICAwMCAgIBAwEDAQEBAgMCAwIBAQICAwECAwIBAgEBAQEDAwECAgIBAgICAQICAgMCAwICAQIBAgECAgIBAQECAQICAgIBAgICAwMCAgIBAgQDAgECAgECAgMCAgIDAgMCBAECAQIDAgEDAwEDAgICAgMCAgIBAQIBAQECAgIBAQICAgECAgIDAQEBAQICAQIBAgMCAwEBAwICAwIBAgIDBQIDAwECAwEBAgIBAgIDAgICAgICAgIDAQMCBAICAgICAgICAQICAgICAwEDAwEBAQMCAwECAgMDAgIBAgUDAgEBAQEBAQEBAQICAgEBAgIBAgEBAQECAQIBAQICAgEBAgICAQECAQEBAQIBAgEBAgECAgIDAgMCAgICAQIDAgEBAgICAgMBAQICAQIDAgEBAwECAQECAgIBAgIDAQICAwMBAQEBAgEBAQIBAgIBAQIDAQICAgICAgICAgIBAgICAQEBAgEBAgMBAgECAgECAgEBAQECAQIBAgICAQICAgECAQECAgEDAwECAgEBAQEBAgEDAgECAQIDAQICAQECAgECAQIDAgIDAQICAgICAgICAQIBAgEBAQECAgEBAgICAQECAgEBAgIBAQEDAQECAwICAwEBAgICAQIBAQEBAQMBAgEBAQIBAQEBAwIBAQMCAQECAgIBAQICAgIBAgICAgICAgIDAQIBAgMBAQECAgIBAgECAQEBAQECAQICAgEBAgECAQIBAQMCAQICAQECAgECAgECAQEDAgIBAQMCAQICAgIBAQEBAQIDAQEBAgEBAQIDAQICAwIBAgICAgICBAEBAQIBAgECAgECAwECAgICAgIDAgIBAgICAQIBAgICAQIBAQICAQIBAQECAQICAQEBAQMCAgEBAgIDAgIDAQEBAQEBAwIBAQECAQICAQIBAQIDAQEDAQECAQECAQICAQECAQICAgICAQIBAQICAQECAgECAgECAQEBAQECAQEBAgEBAgECAQECAgICAQECAQEBAQIDAgIBAgICAgEBAgECAQECAgEBAgICAQIBAgIBAQICAQICAgECAgEDAQEDAwIBAQEBAQECAgIBAwEBAgECAQIBAQEBAgICAgIBAgICAwIEAgECAwIBAQMCAQIBAgECAgECAQMDAQECAQIBAgICAwMCAgECAQIBAwMBAQECAgECAQIDAwICAQICAQIBAQIBAgIDAgECAgECAgMCAwIBAgICAgIDAQICAQIBAgIBAgIBAQICAwMBAgMDAgEBAQICAQECAgECAQMDAQICAQMCAgECAQIBAQMCAwICAgIDAwIBAgECAQICAgIDBAECAQECAgICAQQCAgEDAgICAgIBAgICAgICAQIBAwMCAgIBAQIDAwIBAwEBAgEDAgECAwMBAQICAgIBAgECAwICAgIBAgIBAwICAgMBAgEDAwEBAwIBAQMCAQICAQICAgECAQICAgMCAQEBAgECAQIBAQICAwIBAQEDAgICAwECAgEDAgECAwECAQMBAQECAgEBAgECAgIDAgIBAgIBAwIDAgIBAgEBAQEDAgICAgECAgICAwMCAgECAQIDAgICAQICAgMCAQIDAgMCAgMCAgICAgEBAQMCAgICAQMCAQICAgICAQEDAQICAgICAgIDAQECAQMDAgECAQICAQEBAgICAQICAgMDAgICAgIDAgEDAQECAQECAgICAQIBAgICAgIEAQEDAQMDAQMBAQICBAIBAgICAQICAQIBAQEBAwECAgICAwMCAwICAwICAQIBAgMCAwICAQMCAQEBAQEDAgMCAgIBAgIBAgICAgICAgIDAQIDAQMBBAICAQIBAgECAQIBAgEDAQIBAwMDAwICAgMBAgECAgECAgICAwICAgEBAwIBAQICAwEBAgEDAgECAQIBAwECAwMBAgECBAEBAQICAgIDAQICAgIBAQEDAwICAQEBAgMCAQICAwIBAgICAQMCAgICAQMBAgICAQICAgIBAwICAgICAQICAgIDAgMCAwIBAQIDAgIBAgICAgICAgMDAgICAgEDAQIDAQECAwMBAgMCAgEBAQECAgMBAQICAgECAgEDAgMBAgECAgMCAQIDAgICAQIBAgIBAwEDAgEBAwECAQMDAQECAQECAQEBAgEBAgIEAgECAQIDAwIBAQICAQIDAQIBAgICAwIBAgMCAQIDAgECAgECAwMBAgMCAQMBAgICAQEBAgICAgIDAQEBAQECAwMCAgICAwQCAQIBAQICAQEDAwICAQMBAQICAQICAwIBAgEDAQIDAgEBAgECAgMBAQICAgMCAwIBAgQCAwICAwEBAgECAgECAQIBAwICAwECAgECAgIDAQEDAQECAwEDAgICAQECAwIBAgEDAgEDAQEBAgICAgICAQEBAQIDAwMBAwICAgMCAQMCAgEBAgICAQIDAgMBAQICAQMBAgMBAQIDAgMCAQMCAgMCAwICAgICAQICAgICAQICAgECAwICAgMBAQICAgICAgICAQEDAQMDAwICAgECAwQCAwMDAwICAwMEAwMBAQECAwICAgMDAQECAgEBAgICAQMCAwEDAgIBAQIEAQECAgQCAgEBAwMDBAQDBAMDAwEBAgMCAwQBBAMBAQICAwQCAgEBAgMDAQIDAQQCAQECAgMCAQIBAQEBAgIBAgICAwICAwEDAgEBAgEDAgEBBAECAgMCAgMCAgICAgIBAwICAgEBBAECAQIDAwEDAgMCAQMBAwICAgICAgIDAgIDAQICAwEDAgMCAgICAQECAgMCAgIBAgECAQIDAgIBAQMCAwMDAgECAQICAwECAgMCAgMBAwMDAgMCAgMCAgICAgICAgEBAgECAgMCAgECAQEBAgEBAgQBAgIBAQMBAgEBAQMCAgICAQECAwMEAQICAgIDAwMBAwICAwMDAQECAQEDAwECAgEBAgEDAwICAQICAQECAgICAQMDAgIDAQIBAQIBAwECAgIBAwICAgECAwICAgECAgMDAgICAgMCAgIDAgICAgECAgQCAgECAgIDAgECAQIBAgICAQIBAgICAQEDAwMCAgICAgIDAwICAgICAgIDAgICAgMCAgEDAQEBAwICAgMCAgMBAQIDAwIBAwICAwICAgICAgIDAwIDAQICAgIDAQMBAgMEAwECAgICAQEDAwIDAwECAwMCAgICAgMCAwICAgECAwMBAgICAgMBBAICAgIDAQECAwICAgICAgICAgIDAgICAwICAgECAQICAgIBAgEDAQICAQEDAgICAgICAgIDAwICAgICAwIBAQEBAgIBAwICAgMBAgIDAwEDAgEBAgIBAQECAgICAwECAgICAgMCAgICAwICAgIDAgECAgMDAgIDAgICAQECAgMBAwIDAgIBAQMCAgICAwQCAwMCAwIBAgICAgIBAwECAgMCAQECBAICAwECAgECAgICAQMDAgICAwICAQMDAgMBAwIBAwICAwIDAgECAgECAQICAgICAwECAQICAwMDAgMCAQIDAgECAwECAgICAgMCAwECAQICAgICAgMCAgICAgMDAwECAgIDAgIBAQEBAgICAwMCAgIBAwIBAgICAgIDAwECAgECAgMBAwEDAgIBAwMFAwIDAwICAgICAgICAwICAgECAgMDAQEDAwICAgIDAgIDAgIBAgIDAQMCAQEDAQIDAwMBAgICAwEDAgMDAwMCAgMDAgICAgICAwECAgMCAgICAgMBAgIBAgMDAQICAQICAgIDAgIDAgECBgECAQMBAgICAwIBAgECAgEBAgEBAgMBAgIDAQEDAwICAQIDAQECAQMDAgIDAgMCAwEBAgIBAgICAgIBAgICAgICAgMCAgIBAwEBAQICAgICAgICAQICAgICAgEDAgICAwIBAgICAgIBAgECAgICAwIBAgEBAwICAQIBAgECAgMCAwMCAwIDAwIDBAIDAwICAQICAwIBAgIDAgMCAwEBAgMCAQICAgIBAgEBAgEDAgECAwICAQIBAgIBAwMDAgIBAgICAgMCAgICAQICAwICAgIDAgMCAgIBAgIDAgECAgICAwEBAwIDAQICAgEDAwICAwMDAQICAwIDAwIDAgIDAQICAgQCAgMCAQICAgICAwICAgMCAwMCAgMCAwMCAQICAgECAgMBAwECAwECAwMCAQMCAgMDAgIDAgICAgICAQIDAwICAQQDAwICAgMCAwIDAwMDBAICAgMBAgICAwIDBQECAgIDAQECAwICAwEDAwMCAwEDAQICAwICAgIDAgICAQMBAgQBAgIDAQECAgIDAQICAwMDAgMBAQICAgIDAwMDAgICAgICAwMCAgIDAgICAwICAQECAQIDAQIBAgICAgIEAwIDAgEDAQIEAgMCAgIDAQMCAwMCAwICAwIDAQICAwMDAwICAwIDAwICAQICAgMCAwIBAwICAgMCAgIDAQICAgIDAgIDAgIBAgIBAgECAwICAwECAwMDAgIBAgEDAwMCAgMCAwICAwECBAICAgICAQMDAgMBAgICAgMDAQICAgICAwIBAgMDAQEBAgEDAwMCAgIDAwICAgMCAgEDAwMBAgMCAwMBAgICAgIDAgICAgICAgICAQMCAwICAwICAwIDAgICAQICAwICAwMDAgICAgEBAwMCAgICAwIDAgICAgMCAgICAgICAQEBAQICAgMCAQEBAgMCAgIBAgEDAgIDAQICAwICAwICAgICAgIEAgICAwMBAQIDAgMCAgICAgYCAgICAwECAgMBAgMCAwICAwMDAgIDAwIDAQECAwECAgMBAwICAwIDAwMBAgICAwIBAwICAgICAgIFAwMCAwMBAwIDAgICAgIBAwEBAgIBAgMCAgIBAgMCAwMBAgIBAgICAwMCAwECAgEDAQICAgIDAgICAgMBAwIDAwIDAgYCAgIBAgEBAgICAwEBAgICAgMCAwIDAgMCAgICAwMBAgEBAgICAgYDAgMEAgICAQIDAwEDAgMCAwIDAQICAQIDAwIBAQQCAgQDAgECAgIDAQECAwIDAgECAgICAgMDAgEDAQIDAgIDAgEDAQIDAwMBAwMDAwMCAwICAwEBAgEDAgICAgICAwMBAQIBAgICAQMBAgICAgMBAQIEAQEBAgICAgIDAgIBAgECAQMBAgICAQMDAQICAgIBAgIDAwICAgMCAgICAgICAgECAgICAQIDAgMCAQYCAwIBAQICAQIBAgIBAgMDAwQCAwIDAgEBAgIBAgMDAgICAgEDAwMDAgICAgMDAwI=",
          "dtype": "i1"
         },
         "x0": " ",
         "xaxis": "x",
         "y": {
          "bdata": "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",
          "dtype": "f8"
         },
         "y0": " ",
         "yaxis": "y"
        }
       ],
       "layout": {
        "boxmode": "group",
        "height": 700,
        "legend": {
         "tracegroupgap": 0
        },
        "template": {
         "data": {
          "bar": [
           {
            "error_x": {
             "color": "#2a3f5f"
            },
            "error_y": {
             "color": "#2a3f5f"
            },
            "marker": {
             "line": {
              "color": "#E5ECF6",
              "width": 0.5
             },
             "pattern": {
              "fillmode": "overlay",
              "size": 10,
              "solidity": 0.2
             }
            },
            "type": "bar"
           }
          ],
          "barpolar": [
           {
            "marker": {
             "line": {
              "color": "#E5ECF6",
              "width": 0.5
             },
             "pattern": {
              "fillmode": "overlay",
              "size": 10,
              "solidity": 0.2
             }
            },
            "type": "barpolar"
           }
          ],
          "carpet": [
           {
            "aaxis": {
             "endlinecolor": "#2a3f5f",
             "gridcolor": "white",
             "linecolor": "white",
             "minorgridcolor": "white",
             "startlinecolor": "#2a3f5f"
            },
            "baxis": {
             "endlinecolor": "#2a3f5f",
             "gridcolor": "white",
             "linecolor": "white",
             "minorgridcolor": "white",
             "startlinecolor": "#2a3f5f"
            },
            "type": "carpet"
           }
          ],
          "choropleth": [
           {
            "colorbar": {
             "outlinewidth": 0,
             "ticks": ""
            },
            "type": "choropleth"
           }
          ],
          "contour": [
           {
            "colorbar": {
             "outlinewidth": 0,
             "ticks": ""
            },
            "colorscale": [
             [
              0,
              "#0d0887"
             ],
             [
              0.1111111111111111,
              "#46039f"
             ],
             [
              0.2222222222222222,
              "#7201a8"
             ],
             [
              0.3333333333333333,
              "#9c179e"
             ],
             [
              0.4444444444444444,
              "#bd3786"
             ],
             [
              0.5555555555555556,
              "#d8576b"
             ],
             [
              0.6666666666666666,
              "#ed7953"
             ],
             [
              0.7777777777777778,
              "#fb9f3a"
             ],
             [
              0.8888888888888888,
              "#fdca26"
             ],
             [
              1,
              "#f0f921"
             ]
            ],
            "type": "contour"
           }
          ],
          "contourcarpet": [
           {
            "colorbar": {
             "outlinewidth": 0,
             "ticks": ""
            },
            "type": "contourcarpet"
           }
          ],
          "heatmap": [
           {
            "colorbar": {
             "outlinewidth": 0,
             "ticks": ""
            },
            "colorscale": [
             [
              0,
              "#0d0887"
             ],
             [
              0.1111111111111111,
              "#46039f"
             ],
             [
              0.2222222222222222,
              "#7201a8"
             ],
             [
              0.3333333333333333,
              "#9c179e"
             ],
             [
              0.4444444444444444,
              "#bd3786"
             ],
             [
              0.5555555555555556,
              "#d8576b"
             ],
             [
              0.6666666666666666,
              "#ed7953"
             ],
             [
              0.7777777777777778,
              "#fb9f3a"
             ],
             [
              0.8888888888888888,
              "#fdca26"
             ],
             [
              1,
              "#f0f921"
             ]
            ],
            "type": "heatmap"
           }
          ],
          "histogram": [
           {
            "marker": {
             "pattern": {
              "fillmode": "overlay",
              "size": 10,
              "solidity": 0.2
             }
            },
            "type": "histogram"
           }
          ],
          "histogram2d": [
           {
            "colorbar": {
             "outlinewidth": 0,
             "ticks": ""
            },
            "colorscale": [
             [
              0,
              "#0d0887"
             ],
             [
              0.1111111111111111,
              "#46039f"
             ],
             [
              0.2222222222222222,
              "#7201a8"
             ],
             [
              0.3333333333333333,
              "#9c179e"
             ],
             [
              0.4444444444444444,
              "#bd3786"
             ],
             [
              0.5555555555555556,
              "#d8576b"
             ],
             [
              0.6666666666666666,
              "#ed7953"
             ],
             [
              0.7777777777777778,
              "#fb9f3a"
             ],
             [
              0.8888888888888888,
              "#fdca26"
             ],
             [
              1,
              "#f0f921"
             ]
            ],
            "type": "histogram2d"
           }
          ],
          "histogram2dcontour": [
           {
            "colorbar": {
             "outlinewidth": 0,
             "ticks": ""
            },
            "colorscale": [
             [
              0,
              "#0d0887"
             ],
             [
              0.1111111111111111,
              "#46039f"
             ],
             [
              0.2222222222222222,
              "#7201a8"
             ],
             [
              0.3333333333333333,
              "#9c179e"
             ],
             [
              0.4444444444444444,
              "#bd3786"
             ],
             [
              0.5555555555555556,
              "#d8576b"
             ],
             [
              0.6666666666666666,
              "#ed7953"
             ],
             [
              0.7777777777777778,
              "#fb9f3a"
             ],
             [
              0.8888888888888888,
              "#fdca26"
             ],
             [
              1,
              "#f0f921"
             ]
            ],
            "type": "histogram2dcontour"
           }
          ],
          "mesh3d": [
           {
            "colorbar": {
             "outlinewidth": 0,
             "ticks": ""
            },
            "type": "mesh3d"
           }
          ],
          "parcoords": [
           {
            "line": {
             "colorbar": {
              "outlinewidth": 0,
              "ticks": ""
             }
            },
            "type": "parcoords"
           }
          ],
          "pie": [
           {
            "automargin": true,
            "type": "pie"
           }
          ],
          "scatter": [
           {
            "fillpattern": {
             "fillmode": "overlay",
             "size": 10,
             "solidity": 0.2
            },
            "type": "scatter"
           }
          ],
          "scatter3d": [
           {
            "line": {
             "colorbar": {
              "outlinewidth": 0,
              "ticks": ""
             }
            },
            "marker": {
             "colorbar": {
              "outlinewidth": 0,
              "ticks": ""
             }
            },
            "type": "scatter3d"
           }
          ],
          "scattercarpet": [
           {
            "marker": {
             "colorbar": {
              "outlinewidth": 0,
              "ticks": ""
             }
            },
            "type": "scattercarpet"
           }
          ],
          "scattergeo": [
           {
            "marker": {
             "colorbar": {
              "outlinewidth": 0,
              "ticks": ""
             }
            },
            "type": "scattergeo"
           }
          ],
          "scattergl": [
           {
            "marker": {
             "colorbar": {
              "outlinewidth": 0,
              "ticks": ""
             }
            },
            "type": "scattergl"
           }
          ],
          "scattermap": [
           {
            "marker": {
             "colorbar": {
              "outlinewidth": 0,
              "ticks": ""
             }
            },
            "type": "scattermap"
           }
          ],
          "scattermapbox": [
           {
            "marker": {
             "colorbar": {
              "outlinewidth": 0,
              "ticks": ""
             }
            },
            "type": "scattermapbox"
           }
          ],
          "scatterpolar": [
           {
            "marker": {
             "colorbar": {
              "outlinewidth": 0,
              "ticks": ""
             }
            },
            "type": "scatterpolar"
           }
          ],
          "scatterpolargl": [
           {
            "marker": {
             "colorbar": {
              "outlinewidth": 0,
              "ticks": ""
             }
            },
            "type": "scatterpolargl"
           }
          ],
          "scatterternary": [
           {
            "marker": {
             "colorbar": {
              "outlinewidth": 0,
              "ticks": ""
             }
            },
            "type": "scatterternary"
           }
          ],
          "surface": [
           {
            "colorbar": {
             "outlinewidth": 0,
             "ticks": ""
            },
            "colorscale": [
             [
              0,
              "#0d0887"
             ],
             [
              0.1111111111111111,
              "#46039f"
             ],
             [
              0.2222222222222222,
              "#7201a8"
             ],
             [
              0.3333333333333333,
              "#9c179e"
             ],
             [
              0.4444444444444444,
              "#bd3786"
             ],
             [
              0.5555555555555556,
              "#d8576b"
             ],
             [
              0.6666666666666666,
              "#ed7953"
             ],
             [
              0.7777777777777778,
              "#fb9f3a"
             ],
             [
              0.8888888888888888,
              "#fdca26"
             ],
             [
              1,
              "#f0f921"
             ]
            ],
            "type": "surface"
           }
          ],
          "table": [
           {
            "cells": {
             "fill": {
              "color": "#EBF0F8"
             },
             "line": {
              "color": "white"
             }
            },
            "header": {
             "fill": {
              "color": "#C8D4E3"
             },
             "line": {
              "color": "white"
             }
            },
            "type": "table"
           }
          ]
         },
         "layout": {
          "annotationdefaults": {
           "arrowcolor": "#2a3f5f",
           "arrowhead": 0,
           "arrowwidth": 1
          },
          "autotypenumbers": "strict",
          "coloraxis": {
           "colorbar": {
            "outlinewidth": 0,
            "ticks": ""
           }
          },
          "colorscale": {
           "diverging": [
            [
             0,
             "#8e0152"
            ],
            [
             0.1,
             "#c51b7d"
            ],
            [
             0.2,
             "#de77ae"
            ],
            [
             0.3,
             "#f1b6da"
            ],
            [
             0.4,
             "#fde0ef"
            ],
            [
             0.5,
             "#f7f7f7"
            ],
            [
             0.6,
             "#e6f5d0"
            ],
            [
             0.7,
             "#b8e186"
            ],
            [
             0.8,
             "#7fbc41"
            ],
            [
             0.9,
             "#4d9221"
            ],
            [
             1,
             "#276419"
            ]
           ],
           "sequential": [
            [
             0,
             "#0d0887"
            ],
            [
             0.1111111111111111,
             "#46039f"
            ],
            [
             0.2222222222222222,
             "#7201a8"
            ],
            [
             0.3333333333333333,
             "#9c179e"
            ],
            [
             0.4444444444444444,
             "#bd3786"
            ],
            [
             0.5555555555555556,
             "#d8576b"
            ],
            [
             0.6666666666666666,
             "#ed7953"
            ],
            [
             0.7777777777777778,
             "#fb9f3a"
            ],
            [
             0.8888888888888888,
             "#fdca26"
            ],
            [
             1,
             "#f0f921"
            ]
           ],
           "sequentialminus": [
            [
             0,
             "#0d0887"
            ],
            [
             0.1111111111111111,
             "#46039f"
            ],
            [
             0.2222222222222222,
             "#7201a8"
            ],
            [
             0.3333333333333333,
             "#9c179e"
            ],
            [
             0.4444444444444444,
             "#bd3786"
            ],
            [
             0.5555555555555556,
             "#d8576b"
            ],
            [
             0.6666666666666666,
             "#ed7953"
            ],
            [
             0.7777777777777778,
             "#fb9f3a"
            ],
            [
             0.8888888888888888,
             "#fdca26"
            ],
            [
             1,
             "#f0f921"
            ]
           ]
          },
          "colorway": [
           "#636efa",
           "#EF553B",
           "#00cc96",
           "#ab63fa",
           "#FFA15A",
           "#19d3f3",
           "#FF6692",
           "#B6E880",
           "#FF97FF",
           "#FECB52"
          ],
          "font": {
           "color": "#2a3f5f"
          },
          "geo": {
           "bgcolor": "white",
           "lakecolor": "white",
           "landcolor": "#E5ECF6",
           "showlakes": true,
           "showland": true,
           "subunitcolor": "white"
          },
          "hoverlabel": {
           "align": "left"
          },
          "hovermode": "closest",
          "mapbox": {
           "style": "light"
          },
          "paper_bgcolor": "white",
          "plot_bgcolor": "#E5ECF6",
          "polar": {
           "angularaxis": {
            "gridcolor": "white",
            "linecolor": "white",
            "ticks": ""
           },
           "bgcolor": "#E5ECF6",
           "radialaxis": {
            "gridcolor": "white",
            "linecolor": "white",
            "ticks": ""
           }
          },
          "scene": {
           "xaxis": {
            "backgroundcolor": "#E5ECF6",
            "gridcolor": "white",
            "gridwidth": 2,
            "linecolor": "white",
            "showbackground": true,
            "ticks": "",
            "zerolinecolor": "white"
           },
           "yaxis": {
            "backgroundcolor": "#E5ECF6",
            "gridcolor": "white",
            "gridwidth": 2,
            "linecolor": "white",
            "showbackground": true,
            "ticks": "",
            "zerolinecolor": "white"
           },
           "zaxis": {
            "backgroundcolor": "#E5ECF6",
            "gridcolor": "white",
            "gridwidth": 2,
            "linecolor": "white",
            "showbackground": true,
            "ticks": "",
            "zerolinecolor": "white"
           }
          },
          "shapedefaults": {
           "line": {
            "color": "#2a3f5f"
           }
          },
          "ternary": {
           "aaxis": {
            "gridcolor": "white",
            "linecolor": "white",
            "ticks": ""
           },
           "baxis": {
            "gridcolor": "white",
            "linecolor": "white",
            "ticks": ""
           },
           "bgcolor": "#E5ECF6",
           "caxis": {
            "gridcolor": "white",
            "linecolor": "white",
            "ticks": ""
           }
          },
          "title": {
           "x": 0.05
          },
          "xaxis": {
           "automargin": true,
           "gridcolor": "white",
           "linecolor": "white",
           "ticks": "",
           "title": {
            "standoff": 15
           },
           "zerolinecolor": "white",
           "zerolinewidth": 2
          },
          "yaxis": {
           "automargin": true,
           "gridcolor": "white",
           "linecolor": "white",
           "ticks": "",
           "title": {
            "standoff": 15
           },
           "zerolinecolor": "white",
           "zerolinewidth": 2
          }
         }
        },
        "title": {
         "text": "Розподіл Rent для різних BHK"
        },
        "width": 1000,
        "xaxis": {
         "anchor": "y",
         "domain": [
          0,
          1
         ],
         "title": {
          "text": "BHK"
         }
        },
        "yaxis": {
         "anchor": "x",
         "domain": [
          0,
          1
         ],
         "title": {
          "text": "Rent"
         }
        }
       }
      },
      "image/png": "[encoded data removed]"
     },
     "metadata": {},
     "output_type": "display_data"
    }
   ],
   "source": [
    "# Колонка: BHK\n",
    "# BHK\n",
    "# 2    2165\n",
    "# 1    1156\n",
    "# 3     838\n",
    "# 4      56\n",
    "# 6       6\n",
    "# 5       5\n",
    "# Name: count, dtype: int64\n",
    "fig = px.box(\n",
    "    df_hous_no_outliers,\n",
    "    x='BHK',\n",
    "    y='Rent',\n",
    "    title='Розподіл Rent для різних BHK',\n",
    "    points=\"all\"  # показує всі точки на графіку\n",
    ")\n",
    "\n",
    "# Збільшуємо розмір фігури\n",
    "fig.update_layout(\n",
    "    width=1000,   # ширина\n",
    "    height=700,   # висота\n",
    "    xaxis_title='BHK',\n",
    "    yaxis_title='Rent'\n",
    ")\n",
    "\n",
    "fig.show()"
   ]
  },
  {
   "cell_type": "markdown",
   "metadata": {},
   "source": [
    "#### АНАЛІЗ\n",
    "Знаючи розподіл унікальних значень, і тепер бачачи розподіл даних відносно орендної плати, добре видно, що категорії ВНК 1,2 мають найширший розкид орендної плати, а також на основі кореляційної таблиці, це підтверджує що насправці вплив ВНК на орендну прямий позитивний.Тенденція зростання Rent із збільшенням BHK чітко простежується.Викиди свідчать про наявність дуже дорогих або дуже дешевих квартир у кожній категорії.Для моделювання Rent можна розглядати BHK як важливу категоріальну ознаку, але враховувати розкид у 3-4 BHK."
   ]
  },
  {
   "cell_type": "markdown",
   "metadata": {
    "id": "628c3b4f"
   },
   "source": [
    "## Завдання 4: Feature Engineering та підготовка даних (4 бали)\n",
    "\n",
    "**Що потрібно зробити:**\n",
    "1. Закодуйте категоріальні змінні за допомогою One-Hot Encoding. Пригадайте, що в лекції ми говорили щодо кодування кат. змінних з великої кількістю різних значень і як працювати з такими випадками. Ви можете закодувати не всі кат. змінні, а лише ті, що вважаєте за потрібні (скажімо ті, що мають відносно небагато різних значень).\n",
    "2. **Опціонально (по 0.5 бала за кожну доцільну ознаку):** Додайте нові ознаки, обчислені на основі наявних даних, які б на ваш погляд були корисними для моделі\n",
    "3. Виберіть ознаки для побудови моделі (виключіть непотрібні колонки). Виключити можна, наприклад, ті колонки, які мають категоріальний тип і забагато (більше 20) різних значень. Треба виключити хоча б 1 колонку.\n",
    "4. Розділіть дані на ознаки (X) та цільову змінну (y)\n",
    "5. Застосуйте стандартизацію до числових ознак\n"
   ]
  },
  {
   "cell_type": "code",
   "execution_count": 16,
   "metadata": {
    "execution": {
     "iopub.execute_input": "2025-09-20T05:26:44.558993Z",
     "iopub.status.busy": "2025-09-20T05:26:44.558496Z",
     "iopub.status.idle": "2025-09-20T05:26:44.569459Z",
     "shell.execute_reply": "2025-09-20T05:26:44.568202Z",
     "shell.execute_reply.started": "2025-09-20T05:26:44.558956Z"
    },
    "id": "aOXZSaK2OX0Y"
   },
   "outputs": [],
   "source": [
    "area_type_dummies = pd.get_dummies(df_hous_no_outliers['Area Type'], prefix='Area Type')"
   ]
  },
  {
   "cell_type": "code",
   "execution_count": 15,
   "metadata": {
    "execution": {
     "iopub.execute_input": "2025-09-20T05:26:34.760505Z",
     "iopub.status.busy": "2025-09-20T05:26:34.759495Z",
     "iopub.status.idle": "2025-09-20T05:26:34.768073Z",
     "shell.execute_reply": "2025-09-20T05:26:34.767095Z",
     "shell.execute_reply.started": "2025-09-20T05:26:34.760481Z"
    }
   },
   "outputs": [
    {
     "data": {
      "text/plain": [
       "0     Super Area\n",
       "1     Super Area\n",
       "2     Super Area\n",
       "3     Super Area\n",
       "4    Carpet Area\n",
       "Name: Area Type, dtype: object"
      ]
     },
     "execution_count": 15,
     "metadata": {},
     "output_type": "execute_result"
    }
   ],
   "source": [
    "df_hous_no_outliers['Area Type'].head()"
   ]
  },
  {
   "cell_type": "code",
   "execution_count": 17,
   "metadata": {
    "execution": {
     "iopub.execute_input": "2025-09-20T05:26:57.559847Z",
     "iopub.status.busy": "2025-09-20T05:26:57.559231Z",
     "iopub.status.idle": "2025-09-20T05:26:57.569428Z",
     "shell.execute_reply": "2025-09-20T05:26:57.568429Z",
     "shell.execute_reply.started": "2025-09-20T05:26:57.559824Z"
    }
   },
   "outputs": [
    {
     "data": {
      "text/html": [
       "<div>\n",
       "<style scoped>\n",
       "    .dataframe tbody tr th:only-of-type {\n",
       "        vertical-align: middle;\n",
       "    }\n",
       "\n",
       "    .dataframe tbody tr th {\n",
       "        vertical-align: top;\n",
       "    }\n",
       "\n",
       "    .dataframe thead th {\n",
       "        text-align: right;\n",
       "    }\n",
       "</style>\n",
       "<table border=\"1\" class=\"dataframe\">\n",
       "  <thead>\n",
       "    <tr style=\"text-align: right;\">\n",
       "      <th></th>\n",
       "      <th>Area Type_Built Area</th>\n",
       "      <th>Area Type_Carpet Area</th>\n",
       "      <th>Area Type_Super Area</th>\n",
       "    </tr>\n",
       "  </thead>\n",
       "  <tbody>\n",
       "    <tr>\n",
       "      <th>0</th>\n",
       "      <td>0</td>\n",
       "      <td>0</td>\n",
       "      <td>1</td>\n",
       "    </tr>\n",
       "    <tr>\n",
       "      <th>1</th>\n",
       "      <td>0</td>\n",
       "      <td>0</td>\n",
       "      <td>1</td>\n",
       "    </tr>\n",
       "    <tr>\n",
       "      <th>2</th>\n",
       "      <td>0</td>\n",
       "      <td>0</td>\n",
       "      <td>1</td>\n",
       "    </tr>\n",
       "    <tr>\n",
       "      <th>3</th>\n",
       "      <td>0</td>\n",
       "      <td>0</td>\n",
       "      <td>1</td>\n",
       "    </tr>\n",
       "    <tr>\n",
       "      <th>4</th>\n",
       "      <td>0</td>\n",
       "      <td>1</td>\n",
       "      <td>0</td>\n",
       "    </tr>\n",
       "  </tbody>\n",
       "</table>\n",
       "</div>"
      ],
      "text/plain": [
       "   Area Type_Built Area  Area Type_Carpet Area  Area Type_Super Area\n",
       "0                     0                      0                     1\n",
       "1                     0                      0                     1\n",
       "2                     0                      0                     1\n",
       "3                     0                      0                     1\n",
       "4                     0                      1                     0"
      ]
     },
     "execution_count": 17,
     "metadata": {},
     "output_type": "execute_result"
    }
   ],
   "source": [
    "area_type_dummies.head().astype(int)"
   ]
  },
  {
   "cell_type": "code",
   "execution_count": 19,
   "metadata": {
    "execution": {
     "iopub.execute_input": "2025-09-20T05:29:35.821467Z",
     "iopub.status.busy": "2025-09-20T05:29:35.820631Z",
     "iopub.status.idle": "2025-09-20T05:29:35.832283Z",
     "shell.execute_reply": "2025-09-20T05:29:35.831598Z",
     "shell.execute_reply.started": "2025-09-20T05:29:35.821446Z"
    }
   },
   "outputs": [
    {
     "data": {
      "text/html": [
       "<div>\n",
       "<style scoped>\n",
       "    .dataframe tbody tr th:only-of-type {\n",
       "        vertical-align: middle;\n",
       "    }\n",
       "\n",
       "    .dataframe tbody tr th {\n",
       "        vertical-align: top;\n",
       "    }\n",
       "\n",
       "    .dataframe thead th {\n",
       "        text-align: right;\n",
       "    }\n",
       "</style>\n",
       "<table border=\"1\" class=\"dataframe\">\n",
       "  <thead>\n",
       "    <tr style=\"text-align: right;\">\n",
       "      <th></th>\n",
       "      <th>Point of Contact_Contact Agent</th>\n",
       "      <th>Point of Contact_Contact Builder</th>\n",
       "      <th>Point of Contact_Contact Owner</th>\n",
       "    </tr>\n",
       "  </thead>\n",
       "  <tbody>\n",
       "    <tr>\n",
       "      <th>0</th>\n",
       "      <td>0</td>\n",
       "      <td>0</td>\n",
       "      <td>1</td>\n",
       "    </tr>\n",
       "    <tr>\n",
       "      <th>1</th>\n",
       "      <td>0</td>\n",
       "      <td>0</td>\n",
       "      <td>1</td>\n",
       "    </tr>\n",
       "    <tr>\n",
       "      <th>2</th>\n",
       "      <td>0</td>\n",
       "      <td>0</td>\n",
       "      <td>1</td>\n",
       "    </tr>\n",
       "    <tr>\n",
       "      <th>3</th>\n",
       "      <td>0</td>\n",
       "      <td>0</td>\n",
       "      <td>1</td>\n",
       "    </tr>\n",
       "    <tr>\n",
       "      <th>4</th>\n",
       "      <td>0</td>\n",
       "      <td>0</td>\n",
       "      <td>1</td>\n",
       "    </tr>\n",
       "  </tbody>\n",
       "</table>\n",
       "</div>"
      ],
      "text/plain": [
       "   Point of Contact_Contact Agent  Point of Contact_Contact Builder  \\\n",
       "0                               0                                 0   \n",
       "1                               0                                 0   \n",
       "2                               0                                 0   \n",
       "3                               0                                 0   \n",
       "4                               0                                 0   \n",
       "\n",
       "   Point of Contact_Contact Owner  \n",
       "0                               1  \n",
       "1                               1  \n",
       "2                               1  \n",
       "3                               1  \n",
       "4                               1  "
      ]
     },
     "execution_count": 19,
     "metadata": {},
     "output_type": "execute_result"
    }
   ],
   "source": [
    "Point_of_Contact_dummies = pd.get_dummies(df_hous_no_outliers['Point of Contact'], prefix='Point of Contact') \n",
    "Point_of_Contact_dummies.head().astype(int)"
   ]
  },
  {
   "cell_type": "code",
   "execution_count": 21,
   "metadata": {
    "execution": {
     "iopub.execute_input": "2025-09-20T05:31:42.230766Z",
     "iopub.status.busy": "2025-09-20T05:31:42.229960Z",
     "iopub.status.idle": "2025-09-20T05:31:42.243051Z",
     "shell.execute_reply": "2025-09-20T05:31:42.242037Z",
     "shell.execute_reply.started": "2025-09-20T05:31:42.230731Z"
    }
   },
   "outputs": [
    {
     "data": {
      "text/html": [
       "<div>\n",
       "<style scoped>\n",
       "    .dataframe tbody tr th:only-of-type {\n",
       "        vertical-align: middle;\n",
       "    }\n",
       "\n",
       "    .dataframe tbody tr th {\n",
       "        vertical-align: top;\n",
       "    }\n",
       "\n",
       "    .dataframe thead th {\n",
       "        text-align: right;\n",
       "    }\n",
       "</style>\n",
       "<table border=\"1\" class=\"dataframe\">\n",
       "  <thead>\n",
       "    <tr style=\"text-align: right;\">\n",
       "      <th></th>\n",
       "      <th>City_Bangalore</th>\n",
       "      <th>City_Chennai</th>\n",
       "      <th>City_Delhi</th>\n",
       "      <th>City_Hyderabad</th>\n",
       "      <th>City_Kolkata</th>\n",
       "      <th>City_Mumbai</th>\n",
       "    </tr>\n",
       "  </thead>\n",
       "  <tbody>\n",
       "    <tr>\n",
       "      <th>0</th>\n",
       "      <td>0</td>\n",
       "      <td>0</td>\n",
       "      <td>0</td>\n",
       "      <td>0</td>\n",
       "      <td>1</td>\n",
       "      <td>0</td>\n",
       "    </tr>\n",
       "    <tr>\n",
       "      <th>1</th>\n",
       "      <td>0</td>\n",
       "      <td>0</td>\n",
       "      <td>0</td>\n",
       "      <td>0</td>\n",
       "      <td>1</td>\n",
       "      <td>0</td>\n",
       "    </tr>\n",
       "    <tr>\n",
       "      <th>2</th>\n",
       "      <td>0</td>\n",
       "      <td>0</td>\n",
       "      <td>0</td>\n",
       "      <td>0</td>\n",
       "      <td>1</td>\n",
       "      <td>0</td>\n",
       "    </tr>\n",
       "    <tr>\n",
       "      <th>3</th>\n",
       "      <td>0</td>\n",
       "      <td>0</td>\n",
       "      <td>0</td>\n",
       "      <td>0</td>\n",
       "      <td>1</td>\n",
       "      <td>0</td>\n",
       "    </tr>\n",
       "    <tr>\n",
       "      <th>4</th>\n",
       "      <td>0</td>\n",
       "      <td>0</td>\n",
       "      <td>0</td>\n",
       "      <td>0</td>\n",
       "      <td>1</td>\n",
       "      <td>0</td>\n",
       "    </tr>\n",
       "  </tbody>\n",
       "</table>\n",
       "</div>"
      ],
      "text/plain": [
       "   City_Bangalore  City_Chennai  City_Delhi  City_Hyderabad  City_Kolkata  \\\n",
       "0               0             0           0               0             1   \n",
       "1               0             0           0               0             1   \n",
       "2               0             0           0               0             1   \n",
       "3               0             0           0               0             1   \n",
       "4               0             0           0               0             1   \n",
       "\n",
       "   City_Mumbai  \n",
       "0            0  \n",
       "1            0  \n",
       "2            0  \n",
       "3            0  \n",
       "4            0  "
      ]
     },
     "execution_count": 21,
     "metadata": {},
     "output_type": "execute_result"
    }
   ],
   "source": [
    "City_dummies = pd.get_dummies(df_hous_no_outliers['City'], prefix='City') \n",
    "City_dummies.head().astype(int)"
   ]
  },
  {
   "cell_type": "code",
   "execution_count": 22,
   "metadata": {
    "execution": {
     "iopub.execute_input": "2025-09-20T05:32:26.271904Z",
     "iopub.status.busy": "2025-09-20T05:32:26.271057Z",
     "iopub.status.idle": "2025-09-20T05:32:26.281717Z",
     "shell.execute_reply": "2025-09-20T05:32:26.280890Z",
     "shell.execute_reply.started": "2025-09-20T05:32:26.271878Z"
    }
   },
   "outputs": [
    {
     "data": {
      "text/html": [
       "<div>\n",
       "<style scoped>\n",
       "    .dataframe tbody tr th:only-of-type {\n",
       "        vertical-align: middle;\n",
       "    }\n",
       "\n",
       "    .dataframe tbody tr th {\n",
       "        vertical-align: top;\n",
       "    }\n",
       "\n",
       "    .dataframe thead th {\n",
       "        text-align: right;\n",
       "    }\n",
       "</style>\n",
       "<table border=\"1\" class=\"dataframe\">\n",
       "  <thead>\n",
       "    <tr style=\"text-align: right;\">\n",
       "      <th></th>\n",
       "      <th>Furnishing Status_Furnished</th>\n",
       "      <th>Furnishing Status_Semi-Furnished</th>\n",
       "      <th>Furnishing Status_Unfurnished</th>\n",
       "    </tr>\n",
       "  </thead>\n",
       "  <tbody>\n",
       "    <tr>\n",
       "      <th>0</th>\n",
       "      <td>0</td>\n",
       "      <td>0</td>\n",
       "      <td>1</td>\n",
       "    </tr>\n",
       "    <tr>\n",
       "      <th>1</th>\n",
       "      <td>0</td>\n",
       "      <td>1</td>\n",
       "      <td>0</td>\n",
       "    </tr>\n",
       "    <tr>\n",
       "      <th>2</th>\n",
       "      <td>0</td>\n",
       "      <td>1</td>\n",
       "      <td>0</td>\n",
       "    </tr>\n",
       "    <tr>\n",
       "      <th>3</th>\n",
       "      <td>0</td>\n",
       "      <td>0</td>\n",
       "      <td>1</td>\n",
       "    </tr>\n",
       "    <tr>\n",
       "      <th>4</th>\n",
       "      <td>0</td>\n",
       "      <td>0</td>\n",
       "      <td>1</td>\n",
       "    </tr>\n",
       "  </tbody>\n",
       "</table>\n",
       "</div>"
      ],
      "text/plain": [
       "   Furnishing Status_Furnished  Furnishing Status_Semi-Furnished  \\\n",
       "0                            0                                 0   \n",
       "1                            0                                 1   \n",
       "2                            0                                 1   \n",
       "3                            0                                 0   \n",
       "4                            0                                 0   \n",
       "\n",
       "   Furnishing Status_Unfurnished  \n",
       "0                              1  \n",
       "1                              0  \n",
       "2                              0  \n",
       "3                              1  \n",
       "4                              1  "
      ]
     },
     "execution_count": 22,
     "metadata": {},
     "output_type": "execute_result"
    }
   ],
   "source": [
    "Furnishing_dummies = pd.get_dummies(df_hous_no_outliers['Furnishing Status'], prefix='Furnishing Status') \n",
    "Furnishing_dummies.head().astype(int)"
   ]
  },
  {
   "cell_type": "code",
   "execution_count": 26,
   "metadata": {
    "execution": {
     "iopub.execute_input": "2025-09-20T05:36:05.344968Z",
     "iopub.status.busy": "2025-09-20T05:36:05.344172Z",
     "iopub.status.idle": "2025-09-20T05:36:05.352350Z",
     "shell.execute_reply": "2025-09-20T05:36:05.351392Z",
     "shell.execute_reply.started": "2025-09-20T05:36:05.344944Z"
    }
   },
   "outputs": [
    {
     "data": {
      "text/plain": [
       "0    Ground out of 2\n",
       "1         1 out of 3\n",
       "2         1 out of 3\n",
       "3         1 out of 2\n",
       "4         1 out of 2\n",
       "5    Ground out of 1\n",
       "6    Ground out of 4\n",
       "7         1 out of 2\n",
       "8         1 out of 2\n",
       "9         1 out of 3\n",
       "Name: Floor, dtype: object"
      ]
     },
     "execution_count": 26,
     "metadata": {},
     "output_type": "execute_result"
    }
   ],
   "source": [
    "df_hous_no_outliers['Floor'].head(10)"
   ]
  },
  {
   "cell_type": "code",
   "execution_count": 29,
   "metadata": {
    "execution": {
     "iopub.execute_input": "2025-09-20T05:44:36.647758Z",
     "iopub.status.busy": "2025-09-20T05:44:36.646971Z",
     "iopub.status.idle": "2025-09-20T05:44:36.701061Z",
     "shell.execute_reply": "2025-09-20T05:44:36.699877Z",
     "shell.execute_reply.started": "2025-09-20T05:44:36.647736Z"
    }
   },
   "outputs": [
    {
     "name": "stderr",
     "output_type": "stream",
     "text": [
      "C:\\Users\\user\\AppData\\Local\\Temp\\ipykernel_18960\\2938011012.py:2: SettingWithCopyWarning:\n",
      "\n",
      "\n",
      "A value is trying to be set on a copy of a slice from a DataFrame.\n",
      "Try using .loc[row_indexer,col_indexer] = value instead\n",
      "\n",
      "See the caveats in the documentation: https://pandas.pydata.org/pandas-docs/stable/user_guide/indexing.html#returning-a-view-versus-a-copy\n",
      "\n"
     ]
    },
    {
     "data": {
      "text/html": [
       "<div>\n",
       "<style scoped>\n",
       "    .dataframe tbody tr th:only-of-type {\n",
       "        vertical-align: middle;\n",
       "    }\n",
       "\n",
       "    .dataframe tbody tr th {\n",
       "        vertical-align: top;\n",
       "    }\n",
       "\n",
       "    .dataframe thead th {\n",
       "        text-align: right;\n",
       "    }\n",
       "</style>\n",
       "<table border=\"1\" class=\"dataframe\">\n",
       "  <thead>\n",
       "    <tr style=\"text-align: right;\">\n",
       "      <th></th>\n",
       "      <th>Posted On</th>\n",
       "      <th>BHK</th>\n",
       "      <th>Rent</th>\n",
       "      <th>Size</th>\n",
       "      <th>Floor</th>\n",
       "      <th>Area Type</th>\n",
       "      <th>Area Locality</th>\n",
       "      <th>City</th>\n",
       "      <th>Furnishing Status</th>\n",
       "      <th>Tenant Preferred</th>\n",
       "      <th>Bathroom</th>\n",
       "      <th>Point of Contact</th>\n",
       "      <th>Apart_Floor</th>\n",
       "      <th>Total_Build_Floor</th>\n",
       "    </tr>\n",
       "  </thead>\n",
       "  <tbody>\n",
       "    <tr>\n",
       "      <th>0</th>\n",
       "      <td>2022-05-18</td>\n",
       "      <td>2</td>\n",
       "      <td>10000</td>\n",
       "      <td>1100</td>\n",
       "      <td>Ground out of 2</td>\n",
       "      <td>Super Area</td>\n",
       "      <td>Bandel</td>\n",
       "      <td>Kolkata</td>\n",
       "      <td>Unfurnished</td>\n",
       "      <td>Bachelors/Family</td>\n",
       "      <td>2</td>\n",
       "      <td>Contact Owner</td>\n",
       "      <td>Ground</td>\n",
       "      <td>2</td>\n",
       "    </tr>\n",
       "    <tr>\n",
       "      <th>1</th>\n",
       "      <td>2022-05-13</td>\n",
       "      <td>2</td>\n",
       "      <td>20000</td>\n",
       "      <td>800</td>\n",
       "      <td>1 out of 3</td>\n",
       "      <td>Super Area</td>\n",
       "      <td>Phool Bagan, Kankurgachi</td>\n",
       "      <td>Kolkata</td>\n",
       "      <td>Semi-Furnished</td>\n",
       "      <td>Bachelors/Family</td>\n",
       "      <td>1</td>\n",
       "      <td>Contact Owner</td>\n",
       "      <td>1</td>\n",
       "      <td>3</td>\n",
       "    </tr>\n",
       "    <tr>\n",
       "      <th>2</th>\n",
       "      <td>2022-05-16</td>\n",
       "      <td>2</td>\n",
       "      <td>17000</td>\n",
       "      <td>1000</td>\n",
       "      <td>1 out of 3</td>\n",
       "      <td>Super Area</td>\n",
       "      <td>Salt Lake City Sector 2</td>\n",
       "      <td>Kolkata</td>\n",
       "      <td>Semi-Furnished</td>\n",
       "      <td>Bachelors/Family</td>\n",
       "      <td>1</td>\n",
       "      <td>Contact Owner</td>\n",
       "      <td>1</td>\n",
       "      <td>3</td>\n",
       "    </tr>\n",
       "    <tr>\n",
       "      <th>3</th>\n",
       "      <td>2022-07-04</td>\n",
       "      <td>2</td>\n",
       "      <td>10000</td>\n",
       "      <td>800</td>\n",
       "      <td>1 out of 2</td>\n",
       "      <td>Super Area</td>\n",
       "      <td>Dumdum Park</td>\n",
       "      <td>Kolkata</td>\n",
       "      <td>Unfurnished</td>\n",
       "      <td>Bachelors/Family</td>\n",
       "      <td>1</td>\n",
       "      <td>Contact Owner</td>\n",
       "      <td>1</td>\n",
       "      <td>2</td>\n",
       "    </tr>\n",
       "    <tr>\n",
       "      <th>4</th>\n",
       "      <td>2022-05-09</td>\n",
       "      <td>2</td>\n",
       "      <td>7500</td>\n",
       "      <td>850</td>\n",
       "      <td>1 out of 2</td>\n",
       "      <td>Carpet Area</td>\n",
       "      <td>South Dum Dum</td>\n",
       "      <td>Kolkata</td>\n",
       "      <td>Unfurnished</td>\n",
       "      <td>Bachelors</td>\n",
       "      <td>1</td>\n",
       "      <td>Contact Owner</td>\n",
       "      <td>1</td>\n",
       "      <td>2</td>\n",
       "    </tr>\n",
       "  </tbody>\n",
       "</table>\n",
       "</div>"
      ],
      "text/plain": [
       "    Posted On  BHK   Rent  Size            Floor    Area Type  \\\n",
       "0  2022-05-18    2  10000  1100  Ground out of 2   Super Area   \n",
       "1  2022-05-13    2  20000   800       1 out of 3   Super Area   \n",
       "2  2022-05-16    2  17000  1000       1 out of 3   Super Area   \n",
       "3  2022-07-04    2  10000   800       1 out of 2   Super Area   \n",
       "4  2022-05-09    2   7500   850       1 out of 2  Carpet Area   \n",
       "\n",
       "              Area Locality     City Furnishing Status  Tenant Preferred  \\\n",
       "0                    Bandel  Kolkata       Unfurnished  Bachelors/Family   \n",
       "1  Phool Bagan, Kankurgachi  Kolkata    Semi-Furnished  Bachelors/Family   \n",
       "2   Salt Lake City Sector 2  Kolkata    Semi-Furnished  Bachelors/Family   \n",
       "3               Dumdum Park  Kolkata       Unfurnished  Bachelors/Family   \n",
       "4             South Dum Dum  Kolkata       Unfurnished         Bachelors   \n",
       "\n",
       "   Bathroom Point of Contact Apart_Floor Total_Build_Floor  \n",
       "0         2    Contact Owner      Ground                 2  \n",
       "1         1    Contact Owner           1                 3  \n",
       "2         1    Contact Owner           1                 3  \n",
       "3         1    Contact Owner           1                 2  \n",
       "4         1    Contact Owner           1                 2  "
      ]
     },
     "execution_count": 29,
     "metadata": {},
     "output_type": "execute_result"
    }
   ],
   "source": [
    "# Витягуємо перше значення (Ground або число) і друге (загальна кількість поверхів)\n",
    "df_hous_no_outliers[['Apart_Floor', 'Total_Build_Floor']] = df_hous_no_outliers['Floor'].str.extract(r'(\\w+|\\d+)\\s+out of\\s+(\\d+)')\n",
    "\n",
    "\n",
    "df_hous_no_outliers.to_csv(\"D:/Studing DATA/Model_python/data/House_Rent_Dataset.csv\", index=False)\n",
    "\n",
    "df_hous_no_outliers.head()"
   ]
  },
  {
   "cell_type": "code",
   "execution_count": 30,
   "metadata": {
    "execution": {
     "iopub.execute_input": "2025-09-20T05:47:30.002828Z",
     "iopub.status.busy": "2025-09-20T05:47:30.002179Z",
     "iopub.status.idle": "2025-09-20T05:47:30.021774Z",
     "shell.execute_reply": "2025-09-20T05:47:30.020763Z",
     "shell.execute_reply.started": "2025-09-20T05:47:30.002806Z"
    }
   },
   "outputs": [
    {
     "name": "stdout",
     "output_type": "stream",
     "text": [
      "Колонка: Apart_Floor\n",
      "Apart_Floor\n",
      "1           1111\n",
      "2            904\n",
      "Ground       902\n",
      "3            473\n",
      "4            242\n",
      "5            129\n",
      "6             62\n",
      "10            51\n",
      "7             50\n",
      "8             46\n",
      "9             39\n",
      "15            28\n",
      "Basement      28\n",
      "12            27\n",
      "11            26\n",
      "14            18\n",
      "13            14\n",
      "17            12\n",
      "18            11\n",
      "16            11\n",
      "19             9\n",
      "23             6\n",
      "20             6\n",
      "25             5\n",
      "26             3\n",
      "21             3\n",
      "24             2\n",
      "34             1\n",
      "48             1\n",
      "30             1\n",
      "28             1\n",
      "Name: count, dtype: int64\n",
      "\n",
      "------------------------------\n",
      "\n",
      "Колонка: Total_Build_Floor\n",
      "Total_Build_Floor\n",
      "4     893\n",
      "3     884\n",
      "2     852\n",
      "5     407\n",
      "1     322\n",
      "7     147\n",
      "6      86\n",
      "8      69\n",
      "14     51\n",
      "10     47\n",
      "12     45\n",
      "20     45\n",
      "22     32\n",
      "16     30\n",
      "18     30\n",
      "9      29\n",
      "15     27\n",
      "23     24\n",
      "19     23\n",
      "13     23\n",
      "11     21\n",
      "17     19\n",
      "24     19\n",
      "21     12\n",
      "32      9\n",
      "31      9\n",
      "28      8\n",
      "30      8\n",
      "25      7\n",
      "36      5\n",
      "40      4\n",
      "35      4\n",
      "58      4\n",
      "38      3\n",
      "37      3\n",
      "29      3\n",
      "43      3\n",
      "27      3\n",
      "34      3\n",
      "42      2\n",
      "44      1\n",
      "48      1\n",
      "45      1\n",
      "68      1\n",
      "62      1\n",
      "26      1\n",
      "33      1\n",
      "Name: count, dtype: int64\n",
      "\n",
      "------------------------------\n",
      "\n"
     ]
    }
   ],
   "source": [
    "floor_cols = ['Apart_Floor', 'Total_Build_Floor']\n",
    "\n",
    "# Для кожної колонки виводимо унікальні значення і їх кількість\n",
    "for col in floor_cols:\n",
    "    print(f\"Колонка: {col}\")\n",
    "    print(df_hous_no_outliers[col].value_counts())\n",
    "    print(\"\\n\" + \"-\"*30 + \"\\n\")\n",
    "    "
   ]
  },
  {
   "cell_type": "code",
   "execution_count": 43,
   "metadata": {
    "execution": {
     "iopub.execute_input": "2025-09-20T06:16:12.640294Z",
     "iopub.status.busy": "2025-09-20T06:16:12.639900Z",
     "iopub.status.idle": "2025-09-20T06:16:12.651230Z",
     "shell.execute_reply": "2025-09-20T06:16:12.650287Z",
     "shell.execute_reply.started": "2025-09-20T06:16:12.640273Z"
    }
   },
   "outputs": [
    {
     "name": "stdout",
     "output_type": "stream",
     "text": [
      "               BHK      Size  Bathroom\n",
      "BHK       1.000000  0.698453  0.747918\n",
      "Size      0.698453  1.000000  0.680607\n",
      "Bathroom  0.747918  0.680607  1.000000\n"
     ]
    }
   ],
   "source": [
    "# Вибираємо потрібні колонки\n",
    "cols = ['BHK', 'Size', 'Bathroom']\n",
    "\n",
    "# Обчислюємо матрицю кореляції\n",
    "top_corr = df_hous_no_outliers[cols].corr()\n",
    "\n",
    "# Дивимось перші рядки\n",
    "print(top_corr.head())"
   ]
  },
  {
   "cell_type": "code",
   "execution_count": null,
   "metadata": {},
   "outputs": [],
   "source": []
  },
  {
   "cell_type": "code",
   "execution_count": 37,
   "metadata": {
    "execution": {
     "iopub.execute_input": "2025-09-20T06:06:43.224856Z",
     "iopub.status.busy": "2025-09-20T06:06:43.224463Z",
     "iopub.status.idle": "2025-09-20T06:06:43.246212Z",
     "shell.execute_reply": "2025-09-20T06:06:43.244966Z",
     "shell.execute_reply.started": "2025-09-20T06:06:43.224836Z"
    }
   },
   "outputs": [
    {
     "name": "stderr",
     "output_type": "stream",
     "text": [
      "C:\\Users\\user\\AppData\\Local\\Temp\\ipykernel_18960\\3109389320.py:1: SettingWithCopyWarning:\n",
      "\n",
      "\n",
      "A value is trying to be set on a copy of a slice from a DataFrame.\n",
      "Try using .loc[row_indexer,col_indexer] = value instead\n",
      "\n",
      "See the caveats in the documentation: https://pandas.pydata.org/pandas-docs/stable/user_guide/indexing.html#returning-a-view-versus-a-copy\n",
      "\n",
      "C:\\Users\\user\\AppData\\Local\\Temp\\ipykernel_18960\\3109389320.py:18: SettingWithCopyWarning:\n",
      "\n",
      "\n",
      "A value is trying to be set on a copy of a slice from a DataFrame.\n",
      "Try using .loc[row_indexer,col_indexer] = value instead\n",
      "\n",
      "See the caveats in the documentation: https://pandas.pydata.org/pandas-docs/stable/user_guide/indexing.html#returning-a-view-versus-a-copy\n",
      "\n"
     ]
    },
    {
     "name": "stdout",
     "output_type": "stream",
     "text": [
      "    Total_Build_Floor  Building_Category\n",
      "0                   2  low-rise building\n",
      "1                   3  low-rise building\n",
      "2                   3  low-rise building\n",
      "3                   2  low-rise building\n",
      "4                   2  low-rise building\n",
      "5                   1  low-rise building\n",
      "6                   4  low-rise building\n",
      "7                   2  low-rise building\n",
      "8                   2  low-rise building\n",
      "9                   3  low-rise building\n",
      "10                  4  low-rise building\n",
      "11                  1  low-rise building\n",
      "12                  4  low-rise building\n",
      "13                  2  low-rise building\n",
      "14                  2  low-rise building\n",
      "15                  1  low-rise building\n",
      "16                  2  low-rise building\n",
      "17                  2  low-rise building\n",
      "18                  3  low-rise building\n",
      "19                  2  low-rise building\n"
     ]
    }
   ],
   "source": [
    "df_hous_no_outliers['Total_Build_Floor'] = df_hous_no_outliers['Total_Build_Floor'].fillna(0).astype(\"Int64\")\n",
    "\n",
    "# Умови\n",
    "conditions = [\n",
    "    df_hous_no_outliers['Total_Build_Floor'] <= 5,                             # low-rise\n",
    "    (df_hous_no_outliers['Total_Build_Floor'] > 5) & (df_hous_no_outliers['Total_Build_Floor'] < 21),  # multi-storey\n",
    "    df_hous_no_outliers['Total_Build_Floor'] >= 21                              # skyscrapers\n",
    "]\n",
    "\n",
    "# Відповідні категорії\n",
    "choices = [\n",
    "    'low-rise building',\n",
    "    'multi-storey building',\n",
    "    'skyscrapers'\n",
    "]\n",
    "\n",
    "# Нова колонка\n",
    "df_hous_no_outliers['Building_Category'] = np.select(conditions, choices, default='unknown')\n",
    "\n",
    "print(df_hous_no_outliers[['Total_Build_Floor', 'Building_Category']].head(20))\n"
   ]
  },
  {
   "cell_type": "code",
   "execution_count": 38,
   "metadata": {
    "execution": {
     "iopub.execute_input": "2025-09-20T06:08:23.404292Z",
     "iopub.status.busy": "2025-09-20T06:08:23.403229Z",
     "iopub.status.idle": "2025-09-20T06:08:23.435437Z",
     "shell.execute_reply": "2025-09-20T06:08:23.434264Z",
     "shell.execute_reply.started": "2025-09-20T06:08:23.404264Z"
    }
   },
   "outputs": [],
   "source": [
    "df_hous_no_outliers.to_csv(\"D:/Studing DATA/Model_python/data/House_Rent_Dataset.csv\", index=False)"
   ]
  },
  {
   "cell_type": "code",
   "execution_count": 39,
   "metadata": {
    "execution": {
     "iopub.execute_input": "2025-09-20T06:09:05.314263Z",
     "iopub.status.busy": "2025-09-20T06:09:05.313665Z",
     "iopub.status.idle": "2025-09-20T06:09:05.326478Z",
     "shell.execute_reply": "2025-09-20T06:09:05.325082Z",
     "shell.execute_reply.started": "2025-09-20T06:09:05.314240Z"
    }
   },
   "outputs": [
    {
     "data": {
      "text/html": [
       "<div>\n",
       "<style scoped>\n",
       "    .dataframe tbody tr th:only-of-type {\n",
       "        vertical-align: middle;\n",
       "    }\n",
       "\n",
       "    .dataframe tbody tr th {\n",
       "        vertical-align: top;\n",
       "    }\n",
       "\n",
       "    .dataframe thead th {\n",
       "        text-align: right;\n",
       "    }\n",
       "</style>\n",
       "<table border=\"1\" class=\"dataframe\">\n",
       "  <thead>\n",
       "    <tr style=\"text-align: right;\">\n",
       "      <th></th>\n",
       "      <th>Building_Category_low-rise building</th>\n",
       "      <th>Building_Category_multi-storey building</th>\n",
       "      <th>Building_Category_skyscrapers</th>\n",
       "    </tr>\n",
       "  </thead>\n",
       "  <tbody>\n",
       "    <tr>\n",
       "      <th>0</th>\n",
       "      <td>1</td>\n",
       "      <td>0</td>\n",
       "      <td>0</td>\n",
       "    </tr>\n",
       "    <tr>\n",
       "      <th>1</th>\n",
       "      <td>1</td>\n",
       "      <td>0</td>\n",
       "      <td>0</td>\n",
       "    </tr>\n",
       "    <tr>\n",
       "      <th>2</th>\n",
       "      <td>1</td>\n",
       "      <td>0</td>\n",
       "      <td>0</td>\n",
       "    </tr>\n",
       "    <tr>\n",
       "      <th>3</th>\n",
       "      <td>1</td>\n",
       "      <td>0</td>\n",
       "      <td>0</td>\n",
       "    </tr>\n",
       "    <tr>\n",
       "      <th>4</th>\n",
       "      <td>1</td>\n",
       "      <td>0</td>\n",
       "      <td>0</td>\n",
       "    </tr>\n",
       "  </tbody>\n",
       "</table>\n",
       "</div>"
      ],
      "text/plain": [
       "   Building_Category_low-rise building  \\\n",
       "0                                    1   \n",
       "1                                    1   \n",
       "2                                    1   \n",
       "3                                    1   \n",
       "4                                    1   \n",
       "\n",
       "   Building_Category_multi-storey building  Building_Category_skyscrapers  \n",
       "0                                        0                              0  \n",
       "1                                        0                              0  \n",
       "2                                        0                              0  \n",
       "3                                        0                              0  \n",
       "4                                        0                              0  "
      ]
     },
     "execution_count": 39,
     "metadata": {},
     "output_type": "execute_result"
    }
   ],
   "source": [
    "Building_Category_dummies = pd.get_dummies(df_hous_no_outliers['Building_Category'], prefix='Building_Category') \n",
    "Building_Category_dummies.head().astype(int)"
   ]
  },
  {
   "cell_type": "code",
   "execution_count": 46,
   "metadata": {
    "execution": {
     "iopub.execute_input": "2025-09-20T06:25:01.437702Z",
     "iopub.status.busy": "2025-09-20T06:25:01.437238Z",
     "iopub.status.idle": "2025-09-20T06:25:01.446616Z",
     "shell.execute_reply": "2025-09-20T06:25:01.445171Z",
     "shell.execute_reply.started": "2025-09-20T06:25:01.437678Z"
    }
   },
   "outputs": [],
   "source": [
    "df_hous_no_outliers = pd.concat([\n",
    "    df_hous_no_outliers,\n",
    "    Building_Category_dummies,\n",
    "    Furnishing_dummies,\n",
    "    area_type_dummies,\n",
    "    City_dummies,\n",
    "    Point_of_Contact_dummies\n",
    "], axis=1)"
   ]
  },
  {
   "cell_type": "code",
   "execution_count": 47,
   "metadata": {
    "execution": {
     "iopub.execute_input": "2025-09-20T06:25:04.413607Z",
     "iopub.status.busy": "2025-09-20T06:25:04.412602Z",
     "iopub.status.idle": "2025-09-20T06:25:04.424504Z",
     "shell.execute_reply": "2025-09-20T06:25:04.423582Z",
     "shell.execute_reply.started": "2025-09-20T06:25:04.413584Z"
    }
   },
   "outputs": [
    {
     "name": "stdout",
     "output_type": "stream",
     "text": [
      "\n",
      "Розмір X (ознак): (4226, 21)\n",
      "Розмір y (цілі): (4226,)\n"
     ]
    }
   ],
   "source": [
    "numeric_features = top_corr.columns.tolist()\n",
    "\n",
    "# Повний список ознак\n",
    "features = numeric_features + \\\n",
    "           Building_Category_dummies.columns.tolist() + \\\n",
    "           Furnishing_dummies.columns.tolist() + \\\n",
    "           area_type_dummies.columns.tolist() + \\\n",
    "           City_dummies.columns.tolist() + \\\n",
    "           Point_of_Contact_dummies.columns.tolist()\n",
    "\n",
    "# Визначаємо X та y\n",
    "X = df_hous_no_outliers[features]\n",
    "y = df_hous_no_outliers['Rent']\n",
    "\n",
    "print(f\"\\nРозмір X (ознак): {X.shape}\")\n",
    "print(f\"Розмір y (цілі): {y.shape}\")"
   ]
  },
  {
   "cell_type": "code",
   "execution_count": 52,
   "metadata": {
    "execution": {
     "iopub.execute_input": "2025-09-20T06:29:54.023657Z",
     "iopub.status.busy": "2025-09-20T06:29:54.023123Z",
     "iopub.status.idle": "2025-09-20T06:29:54.037052Z",
     "shell.execute_reply": "2025-09-20T06:29:54.036149Z",
     "shell.execute_reply.started": "2025-09-20T06:29:54.023635Z"
    }
   },
   "outputs": [],
   "source": [
    "from sklearn.preprocessing import StandardScaler\n",
    "# Створюємо scaler\n",
    "scaler = StandardScaler()\n",
    "\n",
    "# Стандартизуємо лише числові колонки\n",
    "X_scaled = scaler.fit_transform(X)\n",
    "\n",
    "X_scaled_df = pd.DataFrame(X_scaled, columns=X.columns, index=X.index)"
   ]
  },
  {
   "cell_type": "markdown",
   "metadata": {
    "id": "dd7ef1d3"
   },
   "source": [
    "## Завдання 5: Розділення даних та навчання моделі (3 бали)\n",
    "\n",
    "**Що потрібно зробити:**\n",
    "1. Розділіть дані на навчальну (80%) та тестову (20%) вибірки.\n",
    "2. Створіть модель лінійної регресії.\n",
    "3. Навчіть модель на навчальних даних.\n",
    "4. Виведіть усі коефіцієнти моделі (ваги) та напишіть, які 2 ознаки найбільше впливають на прогноз.\n",
    "5. Зробіть прогнози на тренувальній та тестовій вибірках."
   ]
  },
  {
   "cell_type": "code",
   "execution_count": 54,
   "metadata": {
    "execution": {
     "iopub.execute_input": "2025-09-20T06:32:21.481026Z",
     "iopub.status.busy": "2025-09-20T06:32:21.480467Z",
     "iopub.status.idle": "2025-09-20T06:32:22.219669Z",
     "shell.execute_reply": "2025-09-20T06:32:22.218679Z",
     "shell.execute_reply.started": "2025-09-20T06:32:21.481004Z"
    }
   },
   "outputs": [],
   "source": [
    "from sklearn.model_selection import train_test_split\n",
    "from sklearn.linear_model import LinearRegression"
   ]
  },
  {
   "cell_type": "code",
   "execution_count": 55,
   "metadata": {
    "execution": {
     "iopub.execute_input": "2025-09-20T06:32:23.875203Z",
     "iopub.status.busy": "2025-09-20T06:32:23.874887Z",
     "iopub.status.idle": "2025-09-20T06:32:23.884787Z",
     "shell.execute_reply": "2025-09-20T06:32:23.883876Z",
     "shell.execute_reply.started": "2025-09-20T06:32:23.875183Z"
    },
    "id": "SuQ2b116OYjR"
   },
   "outputs": [],
   "source": [
    "# Розділяємо дані: 80% на навчання, 20% на тест\n",
    "X_train, X_test, y_train, y_test = train_test_split(\n",
    "    X_scaled_df, y,\n",
    "    test_size=0.2,  # 20% даних йде на тест\n",
    "    random_state=42  # фіксуємо випадковість для відтворюваності\n",
    ")"
   ]
  },
  {
   "cell_type": "code",
   "execution_count": 56,
   "metadata": {
    "execution": {
     "iopub.execute_input": "2025-09-20T06:32:45.065308Z",
     "iopub.status.busy": "2025-09-20T06:32:45.064930Z",
     "iopub.status.idle": "2025-09-20T06:32:45.126029Z",
     "shell.execute_reply": "2025-09-20T06:32:45.124947Z",
     "shell.execute_reply.started": "2025-09-20T06:32:45.065285Z"
    }
   },
   "outputs": [
    {
     "data": {
      "text/html": [
       "<style>#sk-container-id-1 {\n",
       "  /* Definition of color scheme common for light and dark mode */\n",
       "  --sklearn-color-text: #000;\n",
       "  --sklearn-color-text-muted: #666;\n",
       "  --sklearn-color-line: gray;\n",
       "  /* Definition of color scheme for unfitted estimators */\n",
       "  --sklearn-color-unfitted-level-0: #fff5e6;\n",
       "  --sklearn-color-unfitted-level-1: #f6e4d2;\n",
       "  --sklearn-color-unfitted-level-2: #ffe0b3;\n",
       "  --sklearn-color-unfitted-level-3: chocolate;\n",
       "  /* Definition of color scheme for fitted estimators */\n",
       "  --sklearn-color-fitted-level-0: #f0f8ff;\n",
       "  --sklearn-color-fitted-level-1: #d4ebff;\n",
       "  --sklearn-color-fitted-level-2: #b3dbfd;\n",
       "  --sklearn-color-fitted-level-3: cornflowerblue;\n",
       "\n",
       "  /* Specific color for light theme */\n",
       "  --sklearn-color-text-on-default-background: var(--sg-text-color, var(--theme-code-foreground, var(--jp-content-font-color1, black)));\n",
       "  --sklearn-color-background: var(--sg-background-color, var(--theme-background, var(--jp-layout-color0, white)));\n",
       "  --sklearn-color-border-box: var(--sg-text-color, var(--theme-code-foreground, var(--jp-content-font-color1, black)));\n",
       "  --sklearn-color-icon: #696969;\n",
       "\n",
       "  @media (prefers-color-scheme: dark) {\n",
       "    /* Redefinition of color scheme for dark theme */\n",
       "    --sklearn-color-text-on-default-background: var(--sg-text-color, var(--theme-code-foreground, var(--jp-content-font-color1, white)));\n",
       "    --sklearn-color-background: var(--sg-background-color, var(--theme-background, var(--jp-layout-color0, #111)));\n",
       "    --sklearn-color-border-box: var(--sg-text-color, var(--theme-code-foreground, var(--jp-content-font-color1, white)));\n",
       "    --sklearn-color-icon: #878787;\n",
       "  }\n",
       "}\n",
       "\n",
       "#sk-container-id-1 {\n",
       "  color: var(--sklearn-color-text);\n",
       "}\n",
       "\n",
       "#sk-container-id-1 pre {\n",
       "  padding: 0;\n",
       "}\n",
       "\n",
       "#sk-container-id-1 input.sk-hidden--visually {\n",
       "  border: 0;\n",
       "  clip: rect(1px 1px 1px 1px);\n",
       "  clip: rect(1px, 1px, 1px, 1px);\n",
       "  height: 1px;\n",
       "  margin: -1px;\n",
       "  overflow: hidden;\n",
       "  padding: 0;\n",
       "  position: absolute;\n",
       "  width: 1px;\n",
       "}\n",
       "\n",
       "#sk-container-id-1 div.sk-dashed-wrapped {\n",
       "  border: 1px dashed var(--sklearn-color-line);\n",
       "  margin: 0 0.4em 0.5em 0.4em;\n",
       "  box-sizing: border-box;\n",
       "  padding-bottom: 0.4em;\n",
       "  background-color: var(--sklearn-color-background);\n",
       "}\n",
       "\n",
       "#sk-container-id-1 div.sk-container {\n",
       "  /* jupyter's `normalize.less` sets `[hidden] { display: none; }`\n",
       "     but bootstrap.min.css set `[hidden] { display: none !important; }`\n",
       "     so we also need the `!important` here to be able to override the\n",
       "     default hidden behavior on the sphinx rendered scikit-learn.org.\n",
       "     See: https://github.com/scikit-learn/scikit-learn/issues/21755 */\n",
       "  display: inline-block !important;\n",
       "  position: relative;\n",
       "}\n",
       "\n",
       "#sk-container-id-1 div.sk-text-repr-fallback {\n",
       "  display: none;\n",
       "}\n",
       "\n",
       "div.sk-parallel-item,\n",
       "div.sk-serial,\n",
       "div.sk-item {\n",
       "  /* draw centered vertical line to link estimators */\n",
       "  background-image: linear-gradient(var(--sklearn-color-text-on-default-background), var(--sklearn-color-text-on-default-background));\n",
       "  background-size: 2px 100%;\n",
       "  background-repeat: no-repeat;\n",
       "  background-position: center center;\n",
       "}\n",
       "\n",
       "/* Parallel-specific style estimator block */\n",
       "\n",
       "#sk-container-id-1 div.sk-parallel-item::after {\n",
       "  content: \"\";\n",
       "  width: 100%;\n",
       "  border-bottom: 2px solid var(--sklearn-color-text-on-default-background);\n",
       "  flex-grow: 1;\n",
       "}\n",
       "\n",
       "#sk-container-id-1 div.sk-parallel {\n",
       "  display: flex;\n",
       "  align-items: stretch;\n",
       "  justify-content: center;\n",
       "  background-color: var(--sklearn-color-background);\n",
       "  position: relative;\n",
       "}\n",
       "\n",
       "#sk-container-id-1 div.sk-parallel-item {\n",
       "  display: flex;\n",
       "  flex-direction: column;\n",
       "}\n",
       "\n",
       "#sk-container-id-1 div.sk-parallel-item:first-child::after {\n",
       "  align-self: flex-end;\n",
       "  width: 50%;\n",
       "}\n",
       "\n",
       "#sk-container-id-1 div.sk-parallel-item:last-child::after {\n",
       "  align-self: flex-start;\n",
       "  width: 50%;\n",
       "}\n",
       "\n",
       "#sk-container-id-1 div.sk-parallel-item:only-child::after {\n",
       "  width: 0;\n",
       "}\n",
       "\n",
       "/* Serial-specific style estimator block */\n",
       "\n",
       "#sk-container-id-1 div.sk-serial {\n",
       "  display: flex;\n",
       "  flex-direction: column;\n",
       "  align-items: center;\n",
       "  background-color: var(--sklearn-color-background);\n",
       "  padding-right: 1em;\n",
       "  padding-left: 1em;\n",
       "}\n",
       "\n",
       "\n",
       "/* Toggleable style: style used for estimator/Pipeline/ColumnTransformer box that is\n",
       "clickable and can be expanded/collapsed.\n",
       "- Pipeline and ColumnTransformer use this feature and define the default style\n",
       "- Estimators will overwrite some part of the style using the `sk-estimator` class\n",
       "*/\n",
       "\n",
       "/* Pipeline and ColumnTransformer style (default) */\n",
       "\n",
       "#sk-container-id-1 div.sk-toggleable {\n",
       "  /* Default theme specific background. It is overwritten whether we have a\n",
       "  specific estimator or a Pipeline/ColumnTransformer */\n",
       "  background-color: var(--sklearn-color-background);\n",
       "}\n",
       "\n",
       "/* Toggleable label */\n",
       "#sk-container-id-1 label.sk-toggleable__label {\n",
       "  cursor: pointer;\n",
       "  display: flex;\n",
       "  width: 100%;\n",
       "  margin-bottom: 0;\n",
       "  padding: 0.5em;\n",
       "  box-sizing: border-box;\n",
       "  text-align: center;\n",
       "  align-items: start;\n",
       "  justify-content: space-between;\n",
       "  gap: 0.5em;\n",
       "}\n",
       "\n",
       "#sk-container-id-1 label.sk-toggleable__label .caption {\n",
       "  font-size: 0.6rem;\n",
       "  font-weight: lighter;\n",
       "  color: var(--sklearn-color-text-muted);\n",
       "}\n",
       "\n",
       "#sk-container-id-1 label.sk-toggleable__label-arrow:before {\n",
       "  /* Arrow on the left of the label */\n",
       "  content: \"▸\";\n",
       "  float: left;\n",
       "  margin-right: 0.25em;\n",
       "  color: var(--sklearn-color-icon);\n",
       "}\n",
       "\n",
       "#sk-container-id-1 label.sk-toggleable__label-arrow:hover:before {\n",
       "  color: var(--sklearn-color-text);\n",
       "}\n",
       "\n",
       "/* Toggleable content - dropdown */\n",
       "\n",
       "#sk-container-id-1 div.sk-toggleable__content {\n",
       "  display: none;\n",
       "  text-align: left;\n",
       "  /* unfitted */\n",
       "  background-color: var(--sklearn-color-unfitted-level-0);\n",
       "}\n",
       "\n",
       "#sk-container-id-1 div.sk-toggleable__content.fitted {\n",
       "  /* fitted */\n",
       "  background-color: var(--sklearn-color-fitted-level-0);\n",
       "}\n",
       "\n",
       "#sk-container-id-1 div.sk-toggleable__content pre {\n",
       "  margin: 0.2em;\n",
       "  border-radius: 0.25em;\n",
       "  color: var(--sklearn-color-text);\n",
       "  /* unfitted */\n",
       "  background-color: var(--sklearn-color-unfitted-level-0);\n",
       "}\n",
       "\n",
       "#sk-container-id-1 div.sk-toggleable__content.fitted pre {\n",
       "  /* unfitted */\n",
       "  background-color: var(--sklearn-color-fitted-level-0);\n",
       "}\n",
       "\n",
       "#sk-container-id-1 input.sk-toggleable__control:checked~div.sk-toggleable__content {\n",
       "  /* Expand drop-down */\n",
       "  display: block;\n",
       "  width: 100%;\n",
       "  overflow: visible;\n",
       "}\n",
       "\n",
       "#sk-container-id-1 input.sk-toggleable__control:checked~label.sk-toggleable__label-arrow:before {\n",
       "  content: \"▾\";\n",
       "}\n",
       "\n",
       "/* Pipeline/ColumnTransformer-specific style */\n",
       "\n",
       "#sk-container-id-1 div.sk-label input.sk-toggleable__control:checked~label.sk-toggleable__label {\n",
       "  color: var(--sklearn-color-text);\n",
       "  background-color: var(--sklearn-color-unfitted-level-2);\n",
       "}\n",
       "\n",
       "#sk-container-id-1 div.sk-label.fitted input.sk-toggleable__control:checked~label.sk-toggleable__label {\n",
       "  background-color: var(--sklearn-color-fitted-level-2);\n",
       "}\n",
       "\n",
       "/* Estimator-specific style */\n",
       "\n",
       "/* Colorize estimator box */\n",
       "#sk-container-id-1 div.sk-estimator input.sk-toggleable__control:checked~label.sk-toggleable__label {\n",
       "  /* unfitted */\n",
       "  background-color: var(--sklearn-color-unfitted-level-2);\n",
       "}\n",
       "\n",
       "#sk-container-id-1 div.sk-estimator.fitted input.sk-toggleable__control:checked~label.sk-toggleable__label {\n",
       "  /* fitted */\n",
       "  background-color: var(--sklearn-color-fitted-level-2);\n",
       "}\n",
       "\n",
       "#sk-container-id-1 div.sk-label label.sk-toggleable__label,\n",
       "#sk-container-id-1 div.sk-label label {\n",
       "  /* The background is the default theme color */\n",
       "  color: var(--sklearn-color-text-on-default-background);\n",
       "}\n",
       "\n",
       "/* On hover, darken the color of the background */\n",
       "#sk-container-id-1 div.sk-label:hover label.sk-toggleable__label {\n",
       "  color: var(--sklearn-color-text);\n",
       "  background-color: var(--sklearn-color-unfitted-level-2);\n",
       "}\n",
       "\n",
       "/* Label box, darken color on hover, fitted */\n",
       "#sk-container-id-1 div.sk-label.fitted:hover label.sk-toggleable__label.fitted {\n",
       "  color: var(--sklearn-color-text);\n",
       "  background-color: var(--sklearn-color-fitted-level-2);\n",
       "}\n",
       "\n",
       "/* Estimator label */\n",
       "\n",
       "#sk-container-id-1 div.sk-label label {\n",
       "  font-family: monospace;\n",
       "  font-weight: bold;\n",
       "  display: inline-block;\n",
       "  line-height: 1.2em;\n",
       "}\n",
       "\n",
       "#sk-container-id-1 div.sk-label-container {\n",
       "  text-align: center;\n",
       "}\n",
       "\n",
       "/* Estimator-specific */\n",
       "#sk-container-id-1 div.sk-estimator {\n",
       "  font-family: monospace;\n",
       "  border: 1px dotted var(--sklearn-color-border-box);\n",
       "  border-radius: 0.25em;\n",
       "  box-sizing: border-box;\n",
       "  margin-bottom: 0.5em;\n",
       "  /* unfitted */\n",
       "  background-color: var(--sklearn-color-unfitted-level-0);\n",
       "}\n",
       "\n",
       "#sk-container-id-1 div.sk-estimator.fitted {\n",
       "  /* fitted */\n",
       "  background-color: var(--sklearn-color-fitted-level-0);\n",
       "}\n",
       "\n",
       "/* on hover */\n",
       "#sk-container-id-1 div.sk-estimator:hover {\n",
       "  /* unfitted */\n",
       "  background-color: var(--sklearn-color-unfitted-level-2);\n",
       "}\n",
       "\n",
       "#sk-container-id-1 div.sk-estimator.fitted:hover {\n",
       "  /* fitted */\n",
       "  background-color: var(--sklearn-color-fitted-level-2);\n",
       "}\n",
       "\n",
       "/* Specification for estimator info (e.g. \"i\" and \"?\") */\n",
       "\n",
       "/* Common style for \"i\" and \"?\" */\n",
       "\n",
       ".sk-estimator-doc-link,\n",
       "a:link.sk-estimator-doc-link,\n",
       "a:visited.sk-estimator-doc-link {\n",
       "  float: right;\n",
       "  font-size: smaller;\n",
       "  line-height: 1em;\n",
       "  font-family: monospace;\n",
       "  background-color: var(--sklearn-color-background);\n",
       "  border-radius: 1em;\n",
       "  height: 1em;\n",
       "  width: 1em;\n",
       "  text-decoration: none !important;\n",
       "  margin-left: 0.5em;\n",
       "  text-align: center;\n",
       "  /* unfitted */\n",
       "  border: var(--sklearn-color-unfitted-level-1) 1pt solid;\n",
       "  color: var(--sklearn-color-unfitted-level-1);\n",
       "}\n",
       "\n",
       ".sk-estimator-doc-link.fitted,\n",
       "a:link.sk-estimator-doc-link.fitted,\n",
       "a:visited.sk-estimator-doc-link.fitted {\n",
       "  /* fitted */\n",
       "  border: var(--sklearn-color-fitted-level-1) 1pt solid;\n",
       "  color: var(--sklearn-color-fitted-level-1);\n",
       "}\n",
       "\n",
       "/* On hover */\n",
       "div.sk-estimator:hover .sk-estimator-doc-link:hover,\n",
       ".sk-estimator-doc-link:hover,\n",
       "div.sk-label-container:hover .sk-estimator-doc-link:hover,\n",
       ".sk-estimator-doc-link:hover {\n",
       "  /* unfitted */\n",
       "  background-color: var(--sklearn-color-unfitted-level-3);\n",
       "  color: var(--sklearn-color-background);\n",
       "  text-decoration: none;\n",
       "}\n",
       "\n",
       "div.sk-estimator.fitted:hover .sk-estimator-doc-link.fitted:hover,\n",
       ".sk-estimator-doc-link.fitted:hover,\n",
       "div.sk-label-container:hover .sk-estimator-doc-link.fitted:hover,\n",
       ".sk-estimator-doc-link.fitted:hover {\n",
       "  /* fitted */\n",
       "  background-color: var(--sklearn-color-fitted-level-3);\n",
       "  color: var(--sklearn-color-background);\n",
       "  text-decoration: none;\n",
       "}\n",
       "\n",
       "/* Span, style for the box shown on hovering the info icon */\n",
       ".sk-estimator-doc-link span {\n",
       "  display: none;\n",
       "  z-index: 9999;\n",
       "  position: relative;\n",
       "  font-weight: normal;\n",
       "  right: .2ex;\n",
       "  padding: .5ex;\n",
       "  margin: .5ex;\n",
       "  width: min-content;\n",
       "  min-width: 20ex;\n",
       "  max-width: 50ex;\n",
       "  color: var(--sklearn-color-text);\n",
       "  box-shadow: 2pt 2pt 4pt #999;\n",
       "  /* unfitted */\n",
       "  background: var(--sklearn-color-unfitted-level-0);\n",
       "  border: .5pt solid var(--sklearn-color-unfitted-level-3);\n",
       "}\n",
       "\n",
       ".sk-estimator-doc-link.fitted span {\n",
       "  /* fitted */\n",
       "  background: var(--sklearn-color-fitted-level-0);\n",
       "  border: var(--sklearn-color-fitted-level-3);\n",
       "}\n",
       "\n",
       ".sk-estimator-doc-link:hover span {\n",
       "  display: block;\n",
       "}\n",
       "\n",
       "/* \"?\"-specific style due to the `<a>` HTML tag */\n",
       "\n",
       "#sk-container-id-1 a.estimator_doc_link {\n",
       "  float: right;\n",
       "  font-size: 1rem;\n",
       "  line-height: 1em;\n",
       "  font-family: monospace;\n",
       "  background-color: var(--sklearn-color-background);\n",
       "  border-radius: 1rem;\n",
       "  height: 1rem;\n",
       "  width: 1rem;\n",
       "  text-decoration: none;\n",
       "  /* unfitted */\n",
       "  color: var(--sklearn-color-unfitted-level-1);\n",
       "  border: var(--sklearn-color-unfitted-level-1) 1pt solid;\n",
       "}\n",
       "\n",
       "#sk-container-id-1 a.estimator_doc_link.fitted {\n",
       "  /* fitted */\n",
       "  border: var(--sklearn-color-fitted-level-1) 1pt solid;\n",
       "  color: var(--sklearn-color-fitted-level-1);\n",
       "}\n",
       "\n",
       "/* On hover */\n",
       "#sk-container-id-1 a.estimator_doc_link:hover {\n",
       "  /* unfitted */\n",
       "  background-color: var(--sklearn-color-unfitted-level-3);\n",
       "  color: var(--sklearn-color-background);\n",
       "  text-decoration: none;\n",
       "}\n",
       "\n",
       "#sk-container-id-1 a.estimator_doc_link.fitted:hover {\n",
       "  /* fitted */\n",
       "  background-color: var(--sklearn-color-fitted-level-3);\n",
       "}\n",
       "\n",
       ".estimator-table summary {\n",
       "    padding: .5rem;\n",
       "    font-family: monospace;\n",
       "    cursor: pointer;\n",
       "}\n",
       "\n",
       ".estimator-table details[open] {\n",
       "    padding-left: 0.1rem;\n",
       "    padding-right: 0.1rem;\n",
       "    padding-bottom: 0.3rem;\n",
       "}\n",
       "\n",
       ".estimator-table .parameters-table {\n",
       "    margin-left: auto !important;\n",
       "    margin-right: auto !important;\n",
       "}\n",
       "\n",
       ".estimator-table .parameters-table tr:nth-child(odd) {\n",
       "    background-color: #fff;\n",
       "}\n",
       "\n",
       ".estimator-table .parameters-table tr:nth-child(even) {\n",
       "    background-color: #f6f6f6;\n",
       "}\n",
       "\n",
       ".estimator-table .parameters-table tr:hover {\n",
       "    background-color: #e0e0e0;\n",
       "}\n",
       "\n",
       ".estimator-table table td {\n",
       "    border: 1px solid rgba(106, 105, 104, 0.232);\n",
       "}\n",
       "\n",
       ".user-set td {\n",
       "    color:rgb(255, 94, 0);\n",
       "    text-align: left;\n",
       "}\n",
       "\n",
       ".user-set td.value pre {\n",
       "    color:rgb(255, 94, 0) !important;\n",
       "    background-color: transparent !important;\n",
       "}\n",
       "\n",
       ".default td {\n",
       "    color: black;\n",
       "    text-align: left;\n",
       "}\n",
       "\n",
       ".user-set td i,\n",
       ".default td i {\n",
       "    color: black;\n",
       "}\n",
       "\n",
       ".copy-paste-icon {\n",
       "    background-image: url(data:image/svg+xml;base64,PHN2ZyB4bWxucz0iaHR0cDovL3d3dy53My5vcmcvMjAwMC9zdmciIHZpZXdCb3g9IjAgMCA0NDggNTEyIj48IS0tIUZvbnQgQXdlc29tZSBGcmVlIDYuNy4yIGJ5IEBmb250YXdlc29tZSAtIGh0dHBzOi8vZm9udGF3ZXNvbWUuY29tIExpY2Vuc2UgLSBodHRwczovL2ZvbnRhd2Vzb21lLmNvbS9saWNlbnNlL2ZyZWUgQ29weXJpZ2h0IDIwMjUgRm9udGljb25zLCBJbmMuLS0+PHBhdGggZD0iTTIwOCAwTDMzMi4xIDBjMTIuNyAwIDI0LjkgNS4xIDMzLjkgMTQuMWw2Ny45IDY3LjljOSA5IDE0LjEgMjEuMiAxNC4xIDMzLjlMNDQ4IDMzNmMwIDI2LjUtMjEuNSA0OC00OCA0OGwtMTkyIDBjLTI2LjUgMC00OC0yMS41LTQ4LTQ4bDAtMjg4YzAtMjYuNSAyMS41LTQ4IDQ4LTQ4ek00OCAxMjhsODAgMCAwIDY0LTY0IDAgMCAyNTYgMTkyIDAgMC0zMiA2NCAwIDAgNDhjMCAyNi41LTIxLjUgNDgtNDggNDhMNDggNTEyYy0yNi41IDAtNDgtMjEuNS00OC00OEwwIDE3NmMwLTI2LjUgMjEuNS00OCA0OC00OHoiLz48L3N2Zz4=);\n",
       "    background-repeat: no-repeat;\n",
       "    background-size: 14px 14px;\n",
       "    background-position: 0;\n",
       "    display: inline-block;\n",
       "    width: 14px;\n",
       "    height: 14px;\n",
       "    cursor: pointer;\n",
       "}\n",
       "</style><body><div id=\"sk-container-id-1\" class=\"sk-top-container\"><div class=\"sk-text-repr-fallback\"><pre>LinearRegression()</pre><b>In a Jupyter environment, please rerun this cell to show the HTML representation or trust the notebook. <br />On GitHub, the HTML representation is unable to render, please try loading this page with nbviewer.org.</b></div><div class=\"sk-container\" hidden><div class=\"sk-item\"><div class=\"sk-estimator fitted sk-toggleable\"><input class=\"sk-toggleable__control sk-hidden--visually\" id=\"sk-estimator-id-1\" type=\"checkbox\" checked><label for=\"sk-estimator-id-1\" class=\"sk-toggleable__label fitted sk-toggleable__label-arrow\"><div><div>LinearRegression</div></div><div><a class=\"sk-estimator-doc-link fitted\" rel=\"noreferrer\" target=\"_blank\" href=\"https://scikit-learn.org/1.7/modules/generated/sklearn.linear_model.LinearRegression.html\">?<span>Documentation for LinearRegression</span></a><span class=\"sk-estimator-doc-link fitted\">i<span>Fitted</span></span></div></label><div class=\"sk-toggleable__content fitted\" data-param-prefix=\"\">\n",
       "        <div class=\"estimator-table\">\n",
       "            <details>\n",
       "                <summary>Parameters</summary>\n",
       "                <table class=\"parameters-table\">\n",
       "                  <tbody>\n",
       "                    \n",
       "        <tr class=\"default\">\n",
       "            <td><i class=\"copy-paste-icon\"\n",
       "                 onclick=\"copyToClipboard('fit_intercept',\n",
       "                          this.parentElement.nextElementSibling)\"\n",
       "            ></i></td>\n",
       "            <td class=\"param\">fit_intercept&nbsp;</td>\n",
       "            <td class=\"value\">True</td>\n",
       "        </tr>\n",
       "    \n",
       "\n",
       "        <tr class=\"default\">\n",
       "            <td><i class=\"copy-paste-icon\"\n",
       "                 onclick=\"copyToClipboard('copy_X',\n",
       "                          this.parentElement.nextElementSibling)\"\n",
       "            ></i></td>\n",
       "            <td class=\"param\">copy_X&nbsp;</td>\n",
       "            <td class=\"value\">True</td>\n",
       "        </tr>\n",
       "    \n",
       "\n",
       "        <tr class=\"default\">\n",
       "            <td><i class=\"copy-paste-icon\"\n",
       "                 onclick=\"copyToClipboard('tol',\n",
       "                          this.parentElement.nextElementSibling)\"\n",
       "            ></i></td>\n",
       "            <td class=\"param\">tol&nbsp;</td>\n",
       "            <td class=\"value\">1e-06</td>\n",
       "        </tr>\n",
       "    \n",
       "\n",
       "        <tr class=\"default\">\n",
       "            <td><i class=\"copy-paste-icon\"\n",
       "                 onclick=\"copyToClipboard('n_jobs',\n",
       "                          this.parentElement.nextElementSibling)\"\n",
       "            ></i></td>\n",
       "            <td class=\"param\">n_jobs&nbsp;</td>\n",
       "            <td class=\"value\">None</td>\n",
       "        </tr>\n",
       "    \n",
       "\n",
       "        <tr class=\"default\">\n",
       "            <td><i class=\"copy-paste-icon\"\n",
       "                 onclick=\"copyToClipboard('positive',\n",
       "                          this.parentElement.nextElementSibling)\"\n",
       "            ></i></td>\n",
       "            <td class=\"param\">positive&nbsp;</td>\n",
       "            <td class=\"value\">False</td>\n",
       "        </tr>\n",
       "    \n",
       "                  </tbody>\n",
       "                </table>\n",
       "            </details>\n",
       "        </div>\n",
       "    </div></div></div></div></div><script>function copyToClipboard(text, element) {\n",
       "    // Get the parameter prefix from the closest toggleable content\n",
       "    const toggleableContent = element.closest('.sk-toggleable__content');\n",
       "    const paramPrefix = toggleableContent ? toggleableContent.dataset.paramPrefix : '';\n",
       "    const fullParamName = paramPrefix ? `${paramPrefix}${text}` : text;\n",
       "\n",
       "    const originalStyle = element.style;\n",
       "    const computedStyle = window.getComputedStyle(element);\n",
       "    const originalWidth = computedStyle.width;\n",
       "    const originalHTML = element.innerHTML.replace('Copied!', '');\n",
       "\n",
       "    navigator.clipboard.writeText(fullParamName)\n",
       "        .then(() => {\n",
       "            element.style.width = originalWidth;\n",
       "            element.style.color = 'green';\n",
       "            element.innerHTML = \"Copied!\";\n",
       "\n",
       "            setTimeout(() => {\n",
       "                element.innerHTML = originalHTML;\n",
       "                element.style = originalStyle;\n",
       "            }, 2000);\n",
       "        })\n",
       "        .catch(err => {\n",
       "            console.error('Failed to copy:', err);\n",
       "            element.style.color = 'red';\n",
       "            element.innerHTML = \"Failed!\";\n",
       "            setTimeout(() => {\n",
       "                element.innerHTML = originalHTML;\n",
       "                element.style = originalStyle;\n",
       "            }, 2000);\n",
       "        });\n",
       "    return false;\n",
       "}\n",
       "\n",
       "document.querySelectorAll('.fa-regular.fa-copy').forEach(function(element) {\n",
       "    const toggleableContent = element.closest('.sk-toggleable__content');\n",
       "    const paramPrefix = toggleableContent ? toggleableContent.dataset.paramPrefix : '';\n",
       "    const paramName = element.parentElement.nextElementSibling.textContent.trim();\n",
       "    const fullParamName = paramPrefix ? `${paramPrefix}${paramName}` : paramName;\n",
       "\n",
       "    element.setAttribute('title', fullParamName);\n",
       "});\n",
       "</script></body>"
      ],
      "text/plain": [
       "LinearRegression()"
      ]
     },
     "execution_count": 56,
     "metadata": {},
     "output_type": "execute_result"
    }
   ],
   "source": [
    "# Створюємо модель\n",
    "model = LinearRegression()\n",
    "\n",
    "# Навчаємо модель на навчальних даних\n",
    "model.fit(X_train, y_train)"
   ]
  },
  {
   "cell_type": "code",
   "execution_count": 57,
   "metadata": {
    "execution": {
     "iopub.execute_input": "2025-09-20T06:33:06.018690Z",
     "iopub.status.busy": "2025-09-20T06:33:06.017935Z",
     "iopub.status.idle": "2025-09-20T06:33:06.062826Z",
     "shell.execute_reply": "2025-09-20T06:33:06.061799Z",
     "shell.execute_reply.started": "2025-09-20T06:33:06.018654Z"
    }
   },
   "outputs": [
    {
     "name": "stdout",
     "output_type": "stream",
     "text": [
      "BHK: 2510.41\n",
      "Size: 3841.05\n",
      "Bathroom: 1707.47\n",
      "Building_Category_low-rise building: -699.96\n",
      "Building_Category_multi-storey building: 420.37\n",
      "Building_Category_skyscrapers: 641.40\n",
      "Furnishing Status_Furnished: 1023.45\n",
      "Furnishing Status_Semi-Furnished: -108.90\n",
      "Furnishing Status_Unfurnished: -573.60\n",
      "Area Type_Built Area: 54.25\n",
      "Area Type_Carpet Area: 93.64\n",
      "Area Type_Super Area: -96.01\n",
      "City_Bangalore: -627.88\n",
      "City_Chennai: -1147.32\n",
      "City_Delhi: 280.77\n",
      "City_Hyderabad: -1651.05\n",
      "City_Kolkata: -1502.38\n",
      "City_Mumbai: 5059.95\n",
      "Point of Contact_Contact Agent: 1787.58\n",
      "Point of Contact_Contact Builder: -17.61\n",
      "Point of Contact_Contact Owner: -1786.39\n",
      "\n",
      "Зміщення (intercept): 19321.82\n"
     ]
    }
   ],
   "source": [
    "# Виводимо ваги для кожної ознаки\n",
    "for feature, weight in zip(model.feature_names_in_, model.coef_):\n",
    "    print(f\"{feature}: {weight:.2f}\")\n",
    "\n",
    "print(f\"\\nЗміщення (intercept): {model.intercept_:.2f}\")"
   ]
  },
  {
   "cell_type": "code",
   "execution_count": 59,
   "metadata": {
    "execution": {
     "iopub.execute_input": "2025-09-20T06:35:07.613627Z",
     "iopub.status.busy": "2025-09-20T06:35:07.613230Z",
     "iopub.status.idle": "2025-09-20T06:35:07.647258Z",
     "shell.execute_reply": "2025-09-20T06:35:07.646483Z",
     "shell.execute_reply.started": "2025-09-20T06:35:07.613587Z"
    }
   },
   "outputs": [
    {
     "name": "stdout",
     "output_type": "stream",
     "text": [
      "\n",
      "Коефіцієнти моделі (за абсолютним значенням):\n",
      "                           Feature  Coefficient\n",
      "17                     City_Mumbai  5059.949995\n",
      "1                             Size  3841.052196\n",
      "0                              BHK  2510.405330\n",
      "18  Point of Contact_Contact Agent  1787.575908\n",
      "20  Point of Contact_Contact Owner -1786.387827\n",
      "2                         Bathroom  1707.470771\n",
      "15                  City_Hyderabad -1651.051035\n",
      "16                    City_Kolkata -1502.378557\n",
      "13                    City_Chennai -1147.315733\n",
      "6      Furnishing Status_Furnished  1023.448882\n",
      "\n",
      "Дві ознаки з найбільшим впливом на прогноз:\n",
      "        Feature  Coefficient\n",
      "17  City_Mumbai  5059.949995\n",
      "1          Size  3841.052196\n",
      "\n",
      "Перші 5 прогнозів на тренувальних даних: [20332.38428356 27054.63249641 12431.2722213  20228.68502845\n",
      " 16828.64784202]\n",
      "Перші 5 прогнозів на тестових даних: [27578.57326245  3391.47626177 39668.67057957  2916.48653718\n",
      " 14772.07319096]\n"
     ]
    }
   ],
   "source": [
    "\n",
    "# 4️⃣ Виводимо коефіцієнти\n",
    "coefficients = pd.DataFrame({\n",
    "    'Feature': X.columns,\n",
    "    'Coefficient': model.coef_\n",
    "}).sort_values(by='Coefficient', key=abs, ascending=False)\n",
    "\n",
    "print(\"\\nКоефіцієнти моделі (за абсолютним значенням):\")\n",
    "print(coefficients.head(10))\n",
    "\n",
    "# 2 найбільші за впливом ознаки\n",
    "top_2_features = coefficients.iloc[:2]\n",
    "print(\"\\nДві ознаки з найбільшим впливом на прогноз:\")\n",
    "print(top_2_features)\n",
    "\n",
    "# 5️⃣ Прогнози\n",
    "y_train_pred = model.predict(X_train)\n",
    "y_test_pred = model.predict(X_test)\n",
    "\n",
    "print(\"\\nПерші 5 прогнозів на тренувальних даних:\", y_train_pred[:5])\n",
    "print(\"Перші 5 прогнозів на тестових даних:\", y_test_pred[:5])"
   ]
  },
  {
   "cell_type": "markdown",
   "metadata": {
    "id": "ca7cd90d"
   },
   "source": [
    "## Завдання 6: Оцінка якості моделі (2 бали)\n",
    "\n",
    "**Що потрібно зробити:**\n",
    "1. Обчисліть MAE, RMSE та R² для навчальної та тестової вибірок\n",
    "2. Порівняйте метрики та зробіть висновок про якість моделі\n",
    "3. Проаналізуйте і дайте висновок, чи є ознаки перенавчання або недонавчання (**Нагадування**: перенавчання - коли модель дуже добре працює на тренувальних даних, але погано на тестових; недонавчання - коли модель погано працює навіть на тренувальних даних)\n",
    "4. Побудуйте графік розсіювання \"реальні vs прогнозовані значення\" та зробіть висновок про якість моделі\n"
   ]
  },
  {
   "cell_type": "code",
   "execution_count": 60,
   "metadata": {
    "execution": {
     "iopub.execute_input": "2025-09-20T06:36:17.462971Z",
     "iopub.status.busy": "2025-09-20T06:36:17.462563Z",
     "iopub.status.idle": "2025-09-20T06:36:17.797136Z",
     "shell.execute_reply": "2025-09-20T06:36:17.796218Z",
     "shell.execute_reply.started": "2025-09-20T06:36:17.462932Z"
    },
    "id": "476GoOrAOZS4"
   },
   "outputs": [
    {
     "name": "stdout",
     "output_type": "stream",
     "text": [
      "=== Метрики якості моделі ===\n",
      "Тренувальні дані -> MAE: 5489.03, RMSE: 7653.95, R²: 0.693\n",
      "Тестові дані     -> MAE: 5433.91, RMSE: 7701.64, R²: 0.691\n",
      "\n",
      "Модель має збалансовану якість: тренувальні та тестові метрики близькі.\n"
     ]
    },
    {
     "data": {
      "image/png": "[encoded data removed]",
      "text/plain": [
       "<Figure size 800x600 with 1 Axes>"
      ]
     },
     "metadata": {},
     "output_type": "display_data"
    }
   ],
   "source": [
    "import matplotlib.pyplot as plt\n",
    "from sklearn.metrics import mean_absolute_error, mean_squared_error, r2_score\n",
    "import numpy as np\n",
    "\n",
    "# 1️⃣ Обчислюємо метрики для тренувальної вибірки\n",
    "mae_train = mean_absolute_error(y_train, y_train_pred)\n",
    "rmse_train = np.sqrt(mean_squared_error(y_train, y_train_pred))\n",
    "r2_train = r2_score(y_train, y_train_pred)\n",
    "\n",
    "# 2️⃣ Обчислюємо метрики для тестової вибірки\n",
    "mae_test = mean_absolute_error(y_test, y_test_pred)\n",
    "rmse_test = np.sqrt(mean_squared_error(y_test, y_test_pred))\n",
    "r2_test = r2_score(y_test, y_test_pred)\n",
    "\n",
    "# 3️⃣ Виводимо результати\n",
    "print(\"=== Метрики якості моделі ===\")\n",
    "print(f\"Тренувальні дані -> MAE: {mae_train:.2f}, RMSE: {rmse_train:.2f}, R²: {r2_train:.3f}\")\n",
    "print(f\"Тестові дані     -> MAE: {mae_test:.2f}, RMSE: {rmse_test:.2f}, R²: {r2_test:.3f}\")\n",
    "\n",
    "# 4️⃣ Висновок про якість моделі\n",
    "if r2_train > 0.8 and r2_test < r2_train - 0.2:\n",
    "    print(\"\\nМожливе перенавчання: модель дуже добре працює на тренувальних даних, але гірше на тестових.\")\n",
    "elif r2_train < 0.5 and r2_test < 0.5:\n",
    "    print(\"\\nМожливе недонавчання: модель погано працює навіть на тренувальних даних.\")\n",
    "else:\n",
    "    print(\"\\nМодель має збалансовану якість: тренувальні та тестові метрики близькі.\")\n",
    "\n",
    "# 5️⃣ Графік \"реальні vs прогнозовані значення\"\n",
    "plt.figure(figsize=(8,6))\n",
    "plt.scatter(y_test, y_test_pred, alpha=0.6, color='blue', label='Тестові дані')\n",
    "plt.scatter(y_train, y_train_pred, alpha=0.4, color='green', label='Тренувальні дані')\n",
    "plt.plot([y.min(), y.max()], [y.min(), y.max()], 'r--', lw=2)  # ідеальна лінія\n",
    "plt.xlabel('Реальні значення Rent')\n",
    "plt.ylabel('Прогнозовані значення Rent')\n",
    "plt.title('Реальні vs Прогнозовані значення')\n",
    "plt.legend()\n",
    "plt.show()\n"
   ]
  },
  {
   "cell_type": "markdown",
   "metadata": {
    "id": "9f6f299d"
   },
   "source": [
    "## Завдання 7: Аналіз помилок (4 бали)\n",
    "\n",
    "**Що потрібно зробити:**\n",
    "1. Обчисліть помилки (residuals = реальні - прогнозовані значення)\n",
    "2. Побудуйте гістограму розподілу помилок\n",
    "3. Створіть scatter plot помилок відносно величини прогнозованих значень. Чи росте помилка з ростом прогнозованого значення?\n",
    "4. Знайдіть 5 прогнозів з найбільшими помилками\n",
    "5. Проаналізуйте, на яких типах житла модель помиляється найбільше. Типи можна розрізняти за кількістю кімнат чи містом, наприклад.\n",
    "6. Подумайте і напишіть, які наступні кроки ви б зробили, аби поліпшити якість моделі. Опціонально можна їх зробити і ми перевіримо :)"
   ]
  },
  {
   "cell_type": "code",
   "execution_count": 62,
   "metadata": {
    "execution": {
     "iopub.execute_input": "2025-09-20T06:39:01.704220Z",
     "iopub.status.busy": "2025-09-20T06:39:01.703154Z",
     "iopub.status.idle": "2025-09-20T06:39:02.135767Z",
     "shell.execute_reply": "2025-09-20T06:39:02.135158Z",
     "shell.execute_reply.started": "2025-09-20T06:39:01.704192Z"
    },
    "id": "RxF3y1BcOevB"
   },
   "outputs": [
    {
     "data": {
      "image/png": "[encoded data removed]",
      "text/plain": [
       "<Figure size 800x500 with 1 Axes>"
      ]
     },
     "metadata": {},
     "output_type": "display_data"
    },
    {
     "data": {
      "image/png": "[encoded data removed]",
      "text/plain": [
       "<Figure size 800x500 with 1 Axes>"
      ]
     },
     "metadata": {},
     "output_type": "display_data"
    },
    {
     "name": "stdout",
     "output_type": "stream",
     "text": [
      "Стандартне відхилення помилок по прогнозованих діапазонах:\n"
     ]
    },
    {
     "name": "stderr",
     "output_type": "stream",
     "text": [
      "C:\\Users\\user\\AppData\\Local\\Temp\\ipykernel_18960\\4287099571.py:24: FutureWarning:\n",
      "\n",
      "The default of observed=False is deprecated and will be changed to True in a future version of pandas. Pass observed=False to retain current behavior or observed=True to adopt the future default and silence this warning.\n",
      "\n"
     ]
    },
    {
     "name": "stdout",
     "output_type": "stream",
     "text": [
      "pred\n",
      "(188.909, 8997.198]       2822.231204\n",
      "(8997.198, 14179.44]      4769.586957\n",
      "(14179.44, 18476.592]     5431.502079\n",
      "(18476.592, 29360.37]     7805.699643\n",
      "(29360.37, 60243.384]    12892.637760\n",
      "Name: residual, dtype: float64\n",
      "\n",
      "5 прогнозів з найбільшими помилками:\n",
      "3962    34814.426019\n",
      "549     33293.860385\n",
      "904     31553.919906\n",
      "598     29995.031778\n",
      "3520    29352.838662\n",
      "Name: Rent, dtype: float64\n",
      "\n",
      "Середня абсолютна помилка по BHK:\n",
      "BHK\n",
      "-1.287356     4355.246195\n",
      " 0.052966     4911.431850\n",
      " 1.393288     7822.411614\n",
      " 2.733610    12027.128483\n",
      " 4.073931     2884.807957\n",
      " 5.414253     7505.802055\n",
      "Name: Residual, dtype: float64\n",
      "\n",
      "Середня абсолютна помилка по місту:\n",
      "City\n",
      "City_Bangalore    3864.699609\n",
      "City_Chennai      4793.287343\n",
      "City_Delhi        7263.314014\n",
      "City_Hyderabad    4645.779237\n",
      "City_Kolkata      4130.610012\n",
      "City_Mumbai       9290.179853\n",
      "Name: Residual, dtype: float64\n",
      "\n",
      "1. Додати додаткові числові ознаки (наприклад, рік побудови, відстань до центру, наявність паркінгу).\n",
      "2. Спробувати нелінійні моделі .\n",
      "3. Використати взаємодії між ознаками (BHK*Size, City*Area_Type).\n",
      "\n"
     ]
    }
   ],
   "source": [
    "\n",
    "# 1️⃣ Обчислюємо залишки (residuals) для тестових даних\n",
    "residuals = y_test - y_test_pred\n",
    "\n",
    "# 2️⃣ Гістограма розподілу помилок\n",
    "plt.figure(figsize=(8,5))\n",
    "plt.hist(residuals, bins=30, color='skyblue', edgecolor='black')\n",
    "plt.title(\"Гістограма розподілу помилок (residuals)\")\n",
    "plt.xlabel(\"Помилка (реальні - прогнозовані)\")\n",
    "plt.ylabel(\"Кількість\")\n",
    "plt.show()\n",
    "\n",
    "# 3️⃣ Scatter plot помилок відносно прогнозованих значень\n",
    "plt.figure(figsize=(8,5))\n",
    "plt.scatter(y_test_pred, residuals, alpha=0.6, color='orange')\n",
    "plt.axhline(y=0, color='r', linestyle='--')\n",
    "plt.title(\"Помилки відносно прогнозованих значень\")\n",
    "plt.xlabel(\"Прогнозовані значення Rent\")\n",
    "plt.ylabel(\"Помилка (residual)\")\n",
    "plt.show()\n",
    "\n",
    "# Чи росте помилка з ростом прогнозованого значення?\n",
    "residuals_std_by_pred = pd.DataFrame({'pred': y_test_pred, 'residual': residuals})\n",
    "print(\"Стандартне відхилення помилок по прогнозованих діапазонах:\")\n",
    "print(residuals_std_by_pred.groupby(pd.qcut(residuals_std_by_pred['pred'], 5))['residual'].std())\n",
    "\n",
    "# 4️⃣ 5 прогнозів з найбільшими помилками\n",
    "largest_errors = residuals.abs().sort_values(ascending=False).head(5)\n",
    "print(\"\\n5 прогнозів з найбільшими помилками:\")\n",
    "print(largest_errors)\n",
    "\n",
    "# 5️⃣ Аналіз помилок за типами житла (наприклад, по BHK або місту)\n",
    "error_analysis = pd.DataFrame({\n",
    "    'Actual': y_test,\n",
    "    'Predicted': y_test_pred,\n",
    "    'Residual': residuals,\n",
    "    'BHK': X_test['BHK'],\n",
    "    'City': X_test.filter(like='City_').idxmax(axis=1)  # Визначаємо місто по one-hot\n",
    "})\n",
    "\n",
    "# Середня абсолютна помилка по кількості кімнат\n",
    "mae_by_bhk = error_analysis.groupby('BHK')['Residual'].apply(lambda x: np.mean(np.abs(x)))\n",
    "print(\"\\nСередня абсолютна помилка по BHK:\")\n",
    "print(mae_by_bhk)\n",
    "\n",
    "# Середня абсолютна помилка по місту\n",
    "mae_by_city = error_analysis.groupby('City')['Residual'].apply(lambda x: np.mean(np.abs(x)))\n",
    "print(\"\\nСередня абсолютна помилка по місту:\")\n",
    "print(mae_by_city)\n",
    "\n",
    "# 6️⃣ Наступні кроки для поліпшення моделі:\n",
    "next_steps = \"\"\"\n",
    "1. Додати додаткові числові ознаки (наприклад, рік побудови, відстань до центру, наявність паркінгу).\n",
    "2. Спробувати нелінійні моделі .\n",
    "3. Використати взаємодії між ознаками (BHK*Size, City*Area_Type).\n",
    "\"\"\"\n",
    "print(next_steps)\n"
   ]
  }
 ],
 "metadata": {
  "colab": {
   "provenance": []
  },
  "kernelspec": {
   "display_name": "Python 3 (ipykernel)",
   "language": "python",
   "name": "python3"
  },
  "language_info": {
   "codemirror_mode": {
    "name": "ipython",
    "version": 3
   },
   "file_extension": ".py",
   "mimetype": "text/x-python",
   "name": "python",
   "nbconvert_exporter": "python",
   "pygments_lexer": "ipython3",
   "version": "3.13.3"
  }
 },
 "nbformat": 4,
 "nbformat_minor": 4
}
