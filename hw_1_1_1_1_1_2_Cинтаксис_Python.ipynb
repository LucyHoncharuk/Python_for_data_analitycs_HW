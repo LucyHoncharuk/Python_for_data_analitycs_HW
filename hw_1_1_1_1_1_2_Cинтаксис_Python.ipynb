{
 "cells": [
  {
   "cell_type": "markdown",
   "metadata": {
    "id": "tvPKWXfD7yRv"
   },
   "source": [
    "#Домашнє завдання до теми \"Синтаксис Python\"\n",
    "\n",
    "В ДЗ першого модулю важливою умовою виконання завдань є те, що ми не імпортуємо жодних бібліотек, а робимо все на чистому Python, використовуючи лише базовий функціонал. Це необхідно аби відпрацювати роботу з базовими типами даних. А використовувати бібліотеки ми ще навчимось далі :)"
   ]
  },
  {
   "cell_type": "markdown",
   "metadata": {
    "id": "xE1KHmUbQVbC"
   },
   "source": [
    "1. Створіть змінну, яка буде зберігати кількість яблук. І надайте їй значення 5. Виведіть значення змінної на екран."
   ]
  },
  {
   "cell_type": "code",
   "execution_count": 1,
   "metadata": {
    "execution": {
     "iopub.execute_input": "2025-06-11T19:00:29.387865Z",
     "iopub.status.busy": "2025-06-11T19:00:29.387060Z",
     "iopub.status.idle": "2025-06-11T19:00:29.393225Z",
     "shell.execute_reply": "2025-06-11T19:00:29.391764Z",
     "shell.execute_reply.started": "2025-06-11T19:00:29.387826Z"
    },
    "id": "iz5QpN-vQUtN"
   },
   "outputs": [],
   "source": [
    "apple_q=5"
   ]
  },
  {
   "cell_type": "code",
   "execution_count": 2,
   "metadata": {
    "execution": {
     "iopub.execute_input": "2025-06-11T19:01:05.983680Z",
     "iopub.status.busy": "2025-06-11T19:01:05.982781Z",
     "iopub.status.idle": "2025-06-11T19:01:05.992860Z",
     "shell.execute_reply": "2025-06-11T19:01:05.991523Z",
     "shell.execute_reply.started": "2025-06-11T19:01:05.983655Z"
    }
   },
   "outputs": [
    {
     "data": {
      "text/plain": [
       "5"
      ]
     },
     "execution_count": 2,
     "metadata": {},
     "output_type": "execute_result"
    }
   ],
   "source": [
    "apple_q"
   ]
  },
  {
   "cell_type": "markdown",
   "metadata": {
    "id": "wx6RsBHAQd9q"
   },
   "source": [
    "2. Виведіть тип змінної, створеної в завданні (1)."
   ]
  },
  {
   "cell_type": "code",
   "execution_count": 3,
   "metadata": {
    "execution": {
     "iopub.execute_input": "2025-06-11T19:01:28.377107Z",
     "iopub.status.busy": "2025-06-11T19:01:28.375972Z",
     "iopub.status.idle": "2025-06-11T19:01:28.383795Z",
     "shell.execute_reply": "2025-06-11T19:01:28.382634Z",
     "shell.execute_reply.started": "2025-06-11T19:01:28.377081Z"
    },
    "id": "f48l2PhiQi86"
   },
   "outputs": [
    {
     "data": {
      "text/plain": [
       "int"
      ]
     },
     "execution_count": 3,
     "metadata": {},
     "output_type": "execute_result"
    }
   ],
   "source": [
    "type(apple_q)"
   ]
  },
  {
   "cell_type": "markdown",
   "metadata": {
    "id": "UEc59pPcQnva"
   },
   "source": [
    "3. Додайте до значення змінної, створеної в завданні (1) число `12` і виведіть результат на екран з допомогою команди `print()`."
   ]
  },
  {
   "cell_type": "code",
   "execution_count": 5,
   "metadata": {
    "execution": {
     "iopub.execute_input": "2025-06-11T19:02:27.226981Z",
     "iopub.status.busy": "2025-06-11T19:02:27.226326Z",
     "iopub.status.idle": "2025-06-11T19:02:27.231464Z",
     "shell.execute_reply": "2025-06-11T19:02:27.230305Z",
     "shell.execute_reply.started": "2025-06-11T19:02:27.226957Z"
    }
   },
   "outputs": [],
   "source": [
    "apple_q=5+12"
   ]
  },
  {
   "cell_type": "code",
   "execution_count": 6,
   "metadata": {
    "execution": {
     "iopub.execute_input": "2025-06-11T19:02:33.927914Z",
     "iopub.status.busy": "2025-06-11T19:02:33.926869Z",
     "iopub.status.idle": "2025-06-11T19:02:33.932544Z",
     "shell.execute_reply": "2025-06-11T19:02:33.931342Z",
     "shell.execute_reply.started": "2025-06-11T19:02:33.927876Z"
    },
    "id": "gu-vkERpQoCY"
   },
   "outputs": [
    {
     "name": "stdout",
     "output_type": "stream",
     "text": [
      "17\n"
     ]
    }
   ],
   "source": [
    "print(apple_q)"
   ]
  },
  {
   "cell_type": "markdown",
   "metadata": {
    "id": "yOztaNuqqcMy"
   },
   "source": [
    "4. Запустіть код нижче аби створити дві змінні."
   ]
  },
  {
   "cell_type": "code",
   "execution_count": 7,
   "metadata": {
    "execution": {
     "iopub.execute_input": "2025-06-11T19:02:42.481580Z",
     "iopub.status.busy": "2025-06-11T19:02:42.481003Z",
     "iopub.status.idle": "2025-06-11T19:02:42.486462Z",
     "shell.execute_reply": "2025-06-11T19:02:42.485248Z",
     "shell.execute_reply.started": "2025-06-11T19:02:42.481556Z"
    },
    "id": "kbXeQSgcqncV"
   },
   "outputs": [],
   "source": [
    "a = 48\n",
    "b = 3"
   ]
  },
  {
   "cell_type": "code",
   "execution_count": 9,
   "metadata": {
    "execution": {
     "iopub.execute_input": "2025-06-11T19:04:53.813814Z",
     "iopub.status.busy": "2025-06-11T19:04:53.813003Z",
     "iopub.status.idle": "2025-06-11T19:04:53.819872Z",
     "shell.execute_reply": "2025-06-11T19:04:53.818759Z",
     "shell.execute_reply.started": "2025-06-11T19:04:53.813773Z"
    }
   },
   "outputs": [
    {
     "data": {
      "text/plain": [
       "(int, int, float)"
      ]
     },
     "execution_count": 9,
     "metadata": {},
     "output_type": "execute_result"
    }
   ],
   "source": [
    "type(a),type(b),type(c)"
   ]
  },
  {
   "cell_type": "code",
   "execution_count": 8,
   "metadata": {
    "execution": {
     "iopub.execute_input": "2025-06-11T19:03:43.259628Z",
     "iopub.status.busy": "2025-06-11T19:03:43.259031Z",
     "iopub.status.idle": "2025-06-11T19:03:43.263850Z",
     "shell.execute_reply": "2025-06-11T19:03:43.262824Z",
     "shell.execute_reply.started": "2025-06-11T19:03:43.259606Z"
    }
   },
   "outputs": [],
   "source": [
    "c=a/b"
   ]
  },
  {
   "cell_type": "markdown",
   "metadata": {
    "id": "9ojIRMw3qvw8"
   },
   "source": [
    "Створіть нову клітинку нижче цієї з допомогою натискання англійської літери `B`, коли ви НЕ в режимі редагування клітинки. В створеній клітинці створіть змінну `c`, яка буде містити результат ділення `a` на `b`."
   ]
  },
  {
   "cell_type": "markdown",
   "metadata": {
    "id": "XcmIZ24wq4px"
   },
   "source": [
    "Створіть ще одну нову клітинку, тільки тепер вище цієї. Для цього натисніть  англійську літеру `A`, коли ви НЕ в режимі редагування клітинки. Виведіть в новоствореній клітинці значення і тип кожної зі змінних `a`, `b`, `c`. Проаналізуйте результат.\n"
   ]
  },
  {
   "cell_type": "markdown",
   "metadata": {
    "id": "v9rj7B4-sGaG"
   },
   "source": [
    "У Python, коли ви ділите одне ціле число на інше, результат буде автоматично приведений до типу float, якщо він не є цілим числом. Це робиться для того, щоб забезпечити більш точний результат ділення, особливо коли результат міг би бути десятковим числом."
   ]
  },
  {
   "cell_type": "markdown",
   "metadata": {
    "id": "irjcdM8puaEx"
   },
   "source": [
    "5. Перегляньте наступний код, подумайте, що він виведе в результаті, та потім, запустіть його."
   ]
  },
  {
   "cell_type": "code",
   "execution_count": 10,
   "metadata": {
    "execution": {
     "iopub.execute_input": "2025-06-11T19:05:49.743546Z",
     "iopub.status.busy": "2025-06-11T19:05:49.742347Z",
     "iopub.status.idle": "2025-06-11T19:05:49.750789Z",
     "shell.execute_reply": "2025-06-11T19:05:49.749816Z",
     "shell.execute_reply.started": "2025-06-11T19:05:49.743503Z"
    },
    "id": "KmhCY0ttt8rW"
   },
   "outputs": [
    {
     "data": {
      "text/plain": [
       "38"
      ]
     },
     "execution_count": 10,
     "metadata": {},
     "output_type": "execute_result"
    }
   ],
   "source": [
    "a = 10\n",
    "a = 12\n",
    "a = 15\n",
    "\n",
    "b = 4\n",
    "b = 8\n",
    "b = 14\n",
    "\n",
    "c = 3\n",
    "c = 6\n",
    "c = 9\n",
    "\n",
    "\n",
    "a + b + c"
   ]
  },
  {
   "cell_type": "markdown",
   "metadata": {
    "id": "JrUTyGyQufwq"
   },
   "source": [
    "В клітинці нижче закоментуйте деякі рядки так, аби в результаті виконання останнього рядка коду (`a + b + c`) вивелось `17`.\n",
    "Увага! Рядки треба саме закоментувати, а не видалити.\n",
    "Можна зручно коментувати рядки з допомогою комбінації клавіш `Ctrl + /` (`Command + /` для Mac)"
   ]
  },
  {
   "cell_type": "code",
   "execution_count": 11,
   "metadata": {
    "execution": {
     "iopub.execute_input": "2025-06-11T19:06:53.362778Z",
     "iopub.status.busy": "2025-06-11T19:06:53.361993Z",
     "iopub.status.idle": "2025-06-11T19:06:53.369897Z",
     "shell.execute_reply": "2025-06-11T19:06:53.368400Z",
     "shell.execute_reply.started": "2025-06-11T19:06:53.362753Z"
    },
    "id": "R4VXgSQKwVoc"
   },
   "outputs": [
    {
     "data": {
      "text/plain": [
       "17"
      ]
     },
     "execution_count": 11,
     "metadata": {},
     "output_type": "execute_result"
    }
   ],
   "source": [
    "a = 10\n",
    "# a = 12\n",
    "# a = 15\n",
    "\n",
    "b = 4\n",
    "# b = 8\n",
    "# b = 14\n",
    "\n",
    "c = 3\n",
    "# c = 6\n",
    "# c = 9\n",
    "\n",
    "\n",
    "a + b + c"
   ]
  }
 ],
 "metadata": {
  "colab": {
   "provenance": []
  },
  "kernelspec": {
   "display_name": "Python 3 (ipykernel)",
   "language": "python",
   "name": "python3"
  },
  "language_info": {
   "codemirror_mode": {
    "name": "ipython",
    "version": 3
   },
   "file_extension": ".py",
   "mimetype": "text/x-python",
   "name": "python",
   "nbconvert_exporter": "python",
   "pygments_lexer": "ipython3",
   "version": "3.13.3"
  }
 },
 "nbformat": 4,
 "nbformat_minor": 4
}
