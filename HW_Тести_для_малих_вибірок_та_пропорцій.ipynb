{
 "cells": [
  {
   "cell_type": "markdown",
   "id": "e152f6d6",
   "metadata": {
    "ExecuteTime": {
     "end_time": "2022-12-10T14:29:24.703416Z",
     "start_time": "2022-12-10T14:29:24.688485Z"
    },
    "id": "e152f6d6"
   },
   "source": [
    "# Тести для малих вибірок та пропорцій\n",
    "\n"
   ]
  },
  {
   "cell_type": "markdown",
   "id": "abdcef5d",
   "metadata": {
    "id": "abdcef5d"
   },
   "source": [
    "**Завдання 1**. E-commerce компанія після редизайну сайту підозрює, що **середній час до покупки (time-to-purchase)** користувачів **збільшився**.\n",
    "Історично середній час від першого заходу на сайт до покупки становив $\\mu_0 = 123.7$ хвилин.\n",
    "\n",
    "Команда аналітиків випадково обрала дані **7 покупців після редизайну**:\n",
    "`128, 135, 121, 142, 126, 151, 123`\n",
    "\n",
    "З допомогою наявних даних зʼясуйте, чи збільшився середній час покупки після редизайну.\n",
    "\n",
    "Для цього виконайте наступні 6 кроків. Правильне виконання кожного з кроків оцінюється в 1 бал.\n",
    "\n",
    "1. Запишіть нульову та альтернативну гіпотези і визначте тип тесту.\n",
    "2. Обчисліть вибіркові статистики: $\\bar x$, $s$, $n$.\n",
    "3. Оберіть тип тесту та виконайте його (знайдіть критичне значення тесту, статистику тесту та р-значення) будь-яким пасуючим способом, щоб перевірити гіпотезу на рівні значущості $\\alpha = 0.10$.\n",
    "4. Прийміть рішення, чи відхиляєте ви гіпотезу $H_0$ використовуючи p-value.\n",
    "5. Напишіть висновок: чи справді редизайн сайту подовжив час до покупки?\n",
    "6. Чи зміниться ваше рішення при зміні рівня значущості на $\\alpha = 0.05$.\n"
   ]
  },
  {
   "cell_type": "markdown",
   "id": "06f0e492-6c2d-4662-a1f6-e86bc7e49f79",
   "metadata": {},
   "source": [
    " **Гіпотеза**   \n",
    "\n",
    "H₀: μ = 123,7  \n",
    "\n",
    "H₁: μ > 123,7   \n",
    "\n",
    "Тип тесту: правосторонній (one-tailed)"
   ]
  },
  {
   "cell_type": "code",
   "execution_count": 1,
   "id": "BcS4cm11QYpT",
   "metadata": {
    "execution": {
     "iopub.execute_input": "2025-08-31T19:23:55.116778Z",
     "iopub.status.busy": "2025-08-31T19:23:55.115791Z",
     "iopub.status.idle": "2025-08-31T19:24:01.811530Z",
     "shell.execute_reply": "2025-08-31T19:24:01.810834Z",
     "shell.execute_reply.started": "2025-08-31T19:23:55.116750Z"
    },
    "id": "BcS4cm11QYpT"
   },
   "outputs": [],
   "source": [
    "import numpy as np\n",
    "from scipy import stats\n",
    "\n",
    "# Дані з умови\n",
    "time_data = np.array([128, 135, 121, 142, 126, 151, 123])\n",
    "mu0 = 123.7  \n",
    "alpha = 0.10\n",
    "\n",
    "# Крок 1. Обчислимо вибіркову статистику\n",
    "x_bar = np.mean(time_data)\n",
    "s = np.std(time_data, ddof=1)   # стандартне відхилення з n-1\n",
    "n = len(time_data)\n",
    "\n",
    "# Крок 2. Обчислимо t-статистику вручну\n",
    "t_stat = (x_bar - mu0) / (s / np.sqrt(n))\n",
    "\n",
    "# Крок 3. Критичне значення для одностороннього тесту\n",
    "df = n - 1\n",
    "t_crit = stats.t.ppf(alpha, df)\n",
    "\n",
    "# Крок 4. p-value\n",
    "p_value = stats.t.cdf(t_stat, df)"
   ]
  },
  {
   "cell_type": "code",
   "execution_count": 3,
   "id": "812e79fb-634c-4998-9c04-8d810ddd95ba",
   "metadata": {
    "execution": {
     "iopub.execute_input": "2025-08-31T19:28:12.050700Z",
     "iopub.status.busy": "2025-08-31T19:28:12.049502Z",
     "iopub.status.idle": "2025-08-31T19:28:12.058268Z",
     "shell.execute_reply": "2025-08-31T19:28:12.056983Z",
     "shell.execute_reply.started": "2025-08-31T19:28:12.050675Z"
    }
   },
   "outputs": [
    {
     "name": "stdout",
     "output_type": "stream",
     "text": [
      "Вибіркове середнє: 132.29\n",
      "Вибіркове стандартне відхилення: 10.98\n",
      "t-статистика: 2.069\n",
      "Критичне значення (df=6): -1.440\n",
      "p-value: 0.9580\n",
      "Не відхиляємо H0: доказів недостатньо\n"
     ]
    }
   ],
   "source": [
    "print(f\"Вибіркове середнє: {x_bar:.2f}\")\n",
    "print(f\"Вибіркове стандартне відхилення: {s:.2f}\")\n",
    "print(f\"t-статистика: {t_stat:.3f}\")\n",
    "print(f\"Критичне значення (df={df}): {t_crit:.3f}\")\n",
    "print(f\"p-value: {p_value:.4f}\")\n",
    "\n",
    "# Крок 5. Висновок\n",
    "if t_stat < t_crit:\n",
    "    print(f\"Відхиляємо H0: середня ціна на аукціоні менша за 179$ на рівні значущості {alpha}\")\n",
    "else:\n",
    "    print(\"Не відхиляємо H0: доказів недостатньо\")"
   ]
  },
  {
   "cell_type": "code",
   "execution_count": 4,
   "id": "cac7b5d6-abbf-4b36-abed-340fefaf7fc9",
   "metadata": {
    "execution": {
     "iopub.execute_input": "2025-08-31T19:29:00.526189Z",
     "iopub.status.busy": "2025-08-31T19:29:00.525370Z",
     "iopub.status.idle": "2025-08-31T19:29:00.535600Z",
     "shell.execute_reply": "2025-08-31T19:29:00.534427Z",
     "shell.execute_reply.started": "2025-08-31T19:29:00.526166Z"
    }
   },
   "outputs": [
    {
     "name": "stdout",
     "output_type": "stream",
     "text": [
      "Вибіркове середнє: 132.29\n",
      "Вибіркове стандартне відхилення: 10.98\n",
      "t-статистика: 2.069\n",
      "Критичне значення (df=6): -1.943\n",
      "p-value: 0.9580\n",
      "Не відхиляємо H0: доказів недостатньо\n"
     ]
    }
   ],
   "source": [
    "# Дані з умови\n",
    "time_data = np.array([128, 135, 121, 142, 126, 151, 123])\n",
    "mu0 = 123.7  \n",
    "alpha = 0.05\n",
    "\n",
    "# Крок 1. Обчислимо вибіркову статистику\n",
    "x_bar = np.mean(time_data)\n",
    "s = np.std(time_data, ddof=1)   # стандартне відхилення з n-1\n",
    "n = len(time_data)\n",
    "\n",
    "# Крок 2. Обчислимо t-статистику вручну\n",
    "t_stat = (x_bar - mu0) / (s / np.sqrt(n))\n",
    "\n",
    "# Крок 3. Критичне значення для одностороннього тесту\n",
    "df = n - 1\n",
    "t_crit = stats.t.ppf(alpha, df)\n",
    "\n",
    "# Крок 4. p-value\n",
    "p_value = stats.t.cdf(t_stat, df)\n",
    "\n",
    "\n",
    "print(f\"Вибіркове середнє: {x_bar:.2f}\")\n",
    "print(f\"Вибіркове стандартне відхилення: {s:.2f}\")\n",
    "print(f\"t-статистика: {t_stat:.3f}\")\n",
    "print(f\"Критичне значення (df={df}): {t_crit:.3f}\")\n",
    "print(f\"p-value: {p_value:.4f}\")\n",
    "\n",
    "# Крок 5. Висновок\n",
    "if t_stat < t_crit:\n",
    "    print(f\"Відхиляємо H0: середня ціна на аукціоні менша за 179$ на рівні значущості {alpha}\")\n",
    "else:\n",
    "    print(\"Не відхиляємо H0: доказів недостатньо\")"
   ]
  },
  {
   "cell_type": "markdown",
   "id": "2f47fbac-5535-4b68-9db2-26d653376ec6",
   "metadata": {},
   "source": [
    "#### Зміна значущості на більш точну тобто з 0,1 до 0,05 , не змінює результату тесту, а навпаки визначає більш точне критичне значеня, що лежить ще далі від показників нульової гіпотези чим дає нам більше впевненості , що нульова гіпотеза не відхиляється."
   ]
  },
  {
   "cell_type": "markdown",
   "id": "5govLcx8FPSl",
   "metadata": {
    "id": "5govLcx8FPSl"
   },
   "source": [
    "**Завдання 2.**\n",
    "\n",
    "До спеціальної рекламної кампанії **23%** дорослих упізнавали логотип компанії. Після завершення кампанії відділ маркетингу провів опитування: з **1200** випадково відібраних дорослих **311** упізнали логотип.\n",
    "\n",
    "Перевірте на рівні значущості **3%** ($\\alpha=0.03$), чи дають ці дані достатні підстави стверджувати, що **тепер більше ніж 23%** дорослих упізнають логотип компанії. Для розвʼязку використовуйте бібліотеку `statsmodels`.\n",
    "\n",
    "Зробіть висновок, чи зросла впізнаваність логотипу.\n",
    "\n",
    "Додатково, обчисліть довірчий інтревал на заданому рівні значущості і проінтерпретуйте текстом - як він додатково пояснює прийняте нами рішення?"
   ]
  },
  {
   "cell_type": "code",
   "execution_count": 9,
   "id": "rcplRfotId51",
   "metadata": {
    "execution": {
     "iopub.execute_input": "2025-08-31T19:39:51.525198Z",
     "iopub.status.busy": "2025-08-31T19:39:51.524534Z",
     "iopub.status.idle": "2025-08-31T19:39:51.534414Z",
     "shell.execute_reply": "2025-08-31T19:39:51.533310Z",
     "shell.execute_reply.started": "2025-08-31T19:39:51.525175Z"
    },
    "id": "rcplRfotId51"
   },
   "outputs": [
    {
     "name": "stdout",
     "output_type": "stream",
     "text": [
      "🔹 Тест для однієї пропорції\n",
      "Z-статистика = 2.306\n",
      "p-value = 0.0106\n",
      "95% довірчий інтервал: (0.23171700302179205, 0.28661633031154127)\n"
     ]
    }
   ],
   "source": [
    "import statsmodels.api as sm\n",
    "from statsmodels.stats.proportion import proportions_ztest, proportion_confint\n",
    "\n",
    "count = 311  \n",
    "nobs = 1200   \n",
    "p0 = 0.23     \n",
    "\n",
    "# z-тест для пропорції\n",
    "stat, pval = proportions_ztest(count, nobs, p0, alternative='larger')\n",
    "confint = proportion_confint(count, nobs, alpha=0.03, method='normal')\n",
    "\n",
    "print(\"🔹 Тест для однієї пропорції\")\n",
    "print(f\"Z-статистика = {stat:.3f}\")\n",
    "print(f\"p-value = {pval:.4f}\")\n",
    "print(f\"95% довірчий інтервал: {confint}\")"
   ]
  },
  {
   "cell_type": "markdown",
   "id": "3df9a2be-079d-41b4-b7d1-011b64a36468",
   "metadata": {},
   "source": [
    "\n",
    "1. Односторонній тест\n",
    "\n",
    "   * $H_0: p = 0.23$\n",
    "   * $H_1: p > 0.23$\n",
    "   * Оскільки $p\\text{-value} = 0.0106 < 0.03$, відхиляємо $H_0$.\n",
    "     👉 Є статистично значущі докази, що частка тих, хто  впізнає логотип, **більша за 23%**.\n",
    "\n",
    "2. 97% довірчий інтервал (0.2317, 0.2866)\n",
    "\n",
    "   * Це означає, що з імовірністю 97% справжня частка лежить у межах **від 23,2% до 28,6%**.\n",
    "   * Значення 0.23 майже на межі, але трохи нижче інтервалу.\n",
    "   * При **альфа 0,01** ми б не відхилили $H_0$.\n",
    "3. Висновок : упізнаваність зросла і становить 311/1200=0.259, тобто 25.9%"
   ]
  },
  {
   "cell_type": "code",
   "execution_count": null,
   "id": "1ce0304f-f540-461d-a223-b9296e89efcf",
   "metadata": {},
   "outputs": [],
   "source": []
  }
 ],
 "metadata": {
  "colab": {
   "provenance": []
  },
  "hide_input": false,
  "kernelspec": {
   "display_name": "Python 3 (ipykernel)",
   "language": "python",
   "name": "python3"
  },
  "language_info": {
   "codemirror_mode": {
    "name": "ipython",
    "version": 3
   },
   "file_extension": ".py",
   "mimetype": "text/x-python",
   "name": "python",
   "nbconvert_exporter": "python",
   "pygments_lexer": "ipython3",
   "version": "3.13.3"
  },
  "toc": {
   "base_numbering": 1,
   "nav_menu": {},
   "number_sections": true,
   "sideBar": true,
   "skip_h1_title": false,
   "title_cell": "Table of Contents",
   "title_sidebar": "Contents",
   "toc_cell": false,
   "toc_position": {},
   "toc_section_display": true,
   "toc_window_display": false
  },
  "varInspector": {
   "cols": {
    "lenName": 16,
    "lenType": 16,
    "lenVar": 40
   },
   "kernels_config": {
    "python": {
     "delete_cmd_postfix": "",
     "delete_cmd_prefix": "del ",
     "library": "var_list.py",
     "varRefreshCmd": "print(var_dic_list())"
    },
    "r": {
     "delete_cmd_postfix": ") ",
     "delete_cmd_prefix": "rm(",
     "library": "var_list.r",
     "varRefreshCmd": "cat(var_dic_list()) "
    }
   },
   "types_to_exclude": [
    "module",
    "function",
    "builtin_function_or_method",
    "instance",
    "_Feature"
   ],
   "window_display": false
  }
 },
 "nbformat": 4,
 "nbformat_minor": 5
}
