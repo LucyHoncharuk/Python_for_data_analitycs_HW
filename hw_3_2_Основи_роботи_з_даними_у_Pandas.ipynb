{
 "cells": [
  {
   "cell_type": "markdown",
   "metadata": {
    "id": "olyuwbpjrmvn"
   },
   "source": [
    "# Домашнє завдання до теми \"Основи роботи з даними у Pandas\""
   ]
  },
  {
   "cell_type": "markdown",
   "metadata": {
    "id": "vP2PEJyq8Yrj"
   },
   "source": [
    "В цьому домашньому завданні продовжуємо працювати з набором даних `supermarket_sales.csv`."
   ]
  },
  {
   "cell_type": "markdown",
   "metadata": {
    "id": "dh9lfpDb8gBL"
   },
   "source": [
    "0. Імпортуйте бібліотеку pandas та зчитайте дані у змінну `df` типу `pandas.DataFrame`."
   ]
  },
  {
   "cell_type": "code",
   "execution_count": 1,
   "metadata": {
    "execution": {
     "iopub.execute_input": "2025-07-03T13:43:52.746048Z",
     "iopub.status.busy": "2025-07-03T13:43:52.745460Z",
     "iopub.status.idle": "2025-07-03T13:43:55.694544Z",
     "shell.execute_reply": "2025-07-03T13:43:55.693518Z",
     "shell.execute_reply.started": "2025-07-03T13:43:52.746024Z"
    },
    "id": "xBI9gJMK8qnl"
   },
   "outputs": [],
   "source": [
    "import pandas as pd"
   ]
  },
  {
   "cell_type": "code",
   "execution_count": 2,
   "metadata": {
    "execution": {
     "iopub.execute_input": "2025-07-03T13:44:25.665717Z",
     "iopub.status.busy": "2025-07-03T13:44:25.664942Z",
     "iopub.status.idle": "2025-07-03T13:44:26.072058Z",
     "shell.execute_reply": "2025-07-03T13:44:26.070864Z",
     "shell.execute_reply.started": "2025-07-03T13:44:25.665688Z"
    }
   },
   "outputs": [],
   "source": [
    "data_path = '../data/supermarket_sales.csv'\n",
    "df = pd.read_csv(data_path)"
   ]
  },
  {
   "cell_type": "code",
   "execution_count": 3,
   "metadata": {
    "execution": {
     "iopub.execute_input": "2025-07-03T13:45:21.266152Z",
     "iopub.status.busy": "2025-07-03T13:45:21.265373Z",
     "iopub.status.idle": "2025-07-03T13:45:21.276502Z",
     "shell.execute_reply": "2025-07-03T13:45:21.274878Z",
     "shell.execute_reply.started": "2025-07-03T13:45:21.266103Z"
    }
   },
   "outputs": [
    {
     "data": {
      "text/plain": [
       "pandas.core.frame.DataFrame"
      ]
     },
     "execution_count": 3,
     "metadata": {},
     "output_type": "execute_result"
    }
   ],
   "source": [
    "type(df)"
   ]
  },
  {
   "cell_type": "markdown",
   "metadata": {
    "ExecuteTime": {
     "end_time": "2021-09-20T19:44:56.499824Z",
     "start_time": "2021-09-20T19:44:56.496923Z"
    },
    "id": "ca064875"
   },
   "source": [
    "1. За допомогою бібліотеки Pandas виведіть перші 4 і останні 4 записи у наборі даних (це дві окремі команди). Треба саме 4! Не 5."
   ]
  },
  {
   "cell_type": "code",
   "execution_count": 8,
   "metadata": {
    "ExecuteTime": {
     "end_time": "2021-12-08T18:46:42.601691Z",
     "start_time": "2021-12-08T18:46:42.570962Z"
    },
    "execution": {
     "iopub.execute_input": "2025-07-03T13:52:47.597454Z",
     "iopub.status.busy": "2025-07-03T13:52:47.597082Z",
     "iopub.status.idle": "2025-07-03T13:52:47.614923Z",
     "shell.execute_reply": "2025-07-03T13:52:47.613537Z",
     "shell.execute_reply.started": "2025-07-03T13:52:47.597434Z"
    },
    "id": "d095f26b"
   },
   "outputs": [
    {
     "data": {
      "text/html": [
       "<div>\n",
       "<style scoped>\n",
       "    .dataframe tbody tr th:only-of-type {\n",
       "        vertical-align: middle;\n",
       "    }\n",
       "\n",
       "    .dataframe tbody tr th {\n",
       "        vertical-align: top;\n",
       "    }\n",
       "\n",
       "    .dataframe thead th {\n",
       "        text-align: right;\n",
       "    }\n",
       "</style>\n",
       "<table border=\"1\" class=\"dataframe\">\n",
       "  <thead>\n",
       "    <tr style=\"text-align: right;\">\n",
       "      <th></th>\n",
       "      <th>Invoice ID</th>\n",
       "      <th>Branch</th>\n",
       "      <th>City</th>\n",
       "      <th>Customer type</th>\n",
       "      <th>Gender</th>\n",
       "      <th>Product line</th>\n",
       "      <th>Unit price</th>\n",
       "      <th>Quantity</th>\n",
       "      <th>Tax 5%</th>\n",
       "      <th>Total</th>\n",
       "      <th>Date</th>\n",
       "      <th>Time</th>\n",
       "      <th>Payment</th>\n",
       "      <th>cogs</th>\n",
       "      <th>gross margin percentage</th>\n",
       "      <th>gross income</th>\n",
       "      <th>Rating</th>\n",
       "    </tr>\n",
       "  </thead>\n",
       "  <tbody>\n",
       "    <tr>\n",
       "      <th>0</th>\n",
       "      <td>750-67-8428</td>\n",
       "      <td>A</td>\n",
       "      <td>Yangon</td>\n",
       "      <td>Member</td>\n",
       "      <td>Female</td>\n",
       "      <td>Health and beauty</td>\n",
       "      <td>74.69</td>\n",
       "      <td>7</td>\n",
       "      <td>26.1415</td>\n",
       "      <td>548.9715</td>\n",
       "      <td>1/5/2019</td>\n",
       "      <td>13:08</td>\n",
       "      <td>Ewallet</td>\n",
       "      <td>522.83</td>\n",
       "      <td>4.761905</td>\n",
       "      <td>26.1415</td>\n",
       "      <td>9.1</td>\n",
       "    </tr>\n",
       "    <tr>\n",
       "      <th>1</th>\n",
       "      <td>226-31-3081</td>\n",
       "      <td>C</td>\n",
       "      <td>Naypyitaw</td>\n",
       "      <td>Normal</td>\n",
       "      <td>Female</td>\n",
       "      <td>Electronic accessories</td>\n",
       "      <td>15.28</td>\n",
       "      <td>5</td>\n",
       "      <td>3.8200</td>\n",
       "      <td>80.2200</td>\n",
       "      <td>3/8/2019</td>\n",
       "      <td>10:29</td>\n",
       "      <td>Cash</td>\n",
       "      <td>76.40</td>\n",
       "      <td>4.761905</td>\n",
       "      <td>3.8200</td>\n",
       "      <td>9.6</td>\n",
       "    </tr>\n",
       "    <tr>\n",
       "      <th>2</th>\n",
       "      <td>631-41-3108</td>\n",
       "      <td>A</td>\n",
       "      <td>Yangon</td>\n",
       "      <td>Normal</td>\n",
       "      <td>Male</td>\n",
       "      <td>Home and lifestyle</td>\n",
       "      <td>46.33</td>\n",
       "      <td>7</td>\n",
       "      <td>16.2155</td>\n",
       "      <td>340.5255</td>\n",
       "      <td>3/3/2019</td>\n",
       "      <td>13:23</td>\n",
       "      <td>Credit card</td>\n",
       "      <td>324.31</td>\n",
       "      <td>4.761905</td>\n",
       "      <td>16.2155</td>\n",
       "      <td>7.4</td>\n",
       "    </tr>\n",
       "    <tr>\n",
       "      <th>3</th>\n",
       "      <td>123-19-1176</td>\n",
       "      <td>A</td>\n",
       "      <td>Yangon</td>\n",
       "      <td>Member</td>\n",
       "      <td>Male</td>\n",
       "      <td>Health and beauty</td>\n",
       "      <td>58.22</td>\n",
       "      <td>8</td>\n",
       "      <td>23.2880</td>\n",
       "      <td>489.0480</td>\n",
       "      <td>1/27/2019</td>\n",
       "      <td>20:33</td>\n",
       "      <td>Ewallet</td>\n",
       "      <td>465.76</td>\n",
       "      <td>4.761905</td>\n",
       "      <td>23.2880</td>\n",
       "      <td>8.4</td>\n",
       "    </tr>\n",
       "  </tbody>\n",
       "</table>\n",
       "</div>"
      ],
      "text/plain": [
       "    Invoice ID Branch       City Customer type  Gender  \\\n",
       "0  750-67-8428      A     Yangon        Member  Female   \n",
       "1  226-31-3081      C  Naypyitaw        Normal  Female   \n",
       "2  631-41-3108      A     Yangon        Normal    Male   \n",
       "3  123-19-1176      A     Yangon        Member    Male   \n",
       "\n",
       "             Product line  Unit price  Quantity   Tax 5%     Total       Date  \\\n",
       "0       Health and beauty       74.69         7  26.1415  548.9715   1/5/2019   \n",
       "1  Electronic accessories       15.28         5   3.8200   80.2200   3/8/2019   \n",
       "2      Home and lifestyle       46.33         7  16.2155  340.5255   3/3/2019   \n",
       "3       Health and beauty       58.22         8  23.2880  489.0480  1/27/2019   \n",
       "\n",
       "    Time      Payment    cogs  gross margin percentage  gross income  Rating  \n",
       "0  13:08      Ewallet  522.83                 4.761905       26.1415     9.1  \n",
       "1  10:29         Cash   76.40                 4.761905        3.8200     9.6  \n",
       "2  13:23  Credit card  324.31                 4.761905       16.2155     7.4  \n",
       "3  20:33      Ewallet  465.76                 4.761905       23.2880     8.4  "
      ]
     },
     "execution_count": 8,
     "metadata": {},
     "output_type": "execute_result"
    }
   ],
   "source": [
    "df.head(4) "
   ]
  },
  {
   "cell_type": "code",
   "execution_count": 5,
   "metadata": {
    "execution": {
     "iopub.execute_input": "2025-07-03T13:48:15.126369Z",
     "iopub.status.busy": "2025-07-03T13:48:15.125784Z",
     "iopub.status.idle": "2025-07-03T13:48:15.150301Z",
     "shell.execute_reply": "2025-07-03T13:48:15.149290Z",
     "shell.execute_reply.started": "2025-07-03T13:48:15.126345Z"
    }
   },
   "outputs": [
    {
     "data": {
      "text/html": [
       "<div>\n",
       "<style scoped>\n",
       "    .dataframe tbody tr th:only-of-type {\n",
       "        vertical-align: middle;\n",
       "    }\n",
       "\n",
       "    .dataframe tbody tr th {\n",
       "        vertical-align: top;\n",
       "    }\n",
       "\n",
       "    .dataframe thead th {\n",
       "        text-align: right;\n",
       "    }\n",
       "</style>\n",
       "<table border=\"1\" class=\"dataframe\">\n",
       "  <thead>\n",
       "    <tr style=\"text-align: right;\">\n",
       "      <th></th>\n",
       "      <th>Invoice ID</th>\n",
       "      <th>Branch</th>\n",
       "      <th>City</th>\n",
       "      <th>Customer type</th>\n",
       "      <th>Gender</th>\n",
       "      <th>Product line</th>\n",
       "      <th>Unit price</th>\n",
       "      <th>Quantity</th>\n",
       "      <th>Tax 5%</th>\n",
       "      <th>Total</th>\n",
       "      <th>Date</th>\n",
       "      <th>Time</th>\n",
       "      <th>Payment</th>\n",
       "      <th>cogs</th>\n",
       "      <th>gross margin percentage</th>\n",
       "      <th>gross income</th>\n",
       "      <th>Rating</th>\n",
       "    </tr>\n",
       "  </thead>\n",
       "  <tbody>\n",
       "    <tr>\n",
       "      <th>996</th>\n",
       "      <td>303-96-2227</td>\n",
       "      <td>B</td>\n",
       "      <td>Mandalay</td>\n",
       "      <td>Normal</td>\n",
       "      <td>Female</td>\n",
       "      <td>Home and lifestyle</td>\n",
       "      <td>97.38</td>\n",
       "      <td>10</td>\n",
       "      <td>48.690</td>\n",
       "      <td>1022.490</td>\n",
       "      <td>3/2/2019</td>\n",
       "      <td>17:16</td>\n",
       "      <td>Ewallet</td>\n",
       "      <td>973.80</td>\n",
       "      <td>4.761905</td>\n",
       "      <td>48.690</td>\n",
       "      <td>4.4</td>\n",
       "    </tr>\n",
       "    <tr>\n",
       "      <th>997</th>\n",
       "      <td>727-02-1313</td>\n",
       "      <td>A</td>\n",
       "      <td>Yangon</td>\n",
       "      <td>Member</td>\n",
       "      <td>Male</td>\n",
       "      <td>Food and beverages</td>\n",
       "      <td>31.84</td>\n",
       "      <td>1</td>\n",
       "      <td>1.592</td>\n",
       "      <td>33.432</td>\n",
       "      <td>2/9/2019</td>\n",
       "      <td>13:22</td>\n",
       "      <td>Cash</td>\n",
       "      <td>31.84</td>\n",
       "      <td>4.761905</td>\n",
       "      <td>1.592</td>\n",
       "      <td>7.7</td>\n",
       "    </tr>\n",
       "    <tr>\n",
       "      <th>998</th>\n",
       "      <td>347-56-2442</td>\n",
       "      <td>A</td>\n",
       "      <td>Yangon</td>\n",
       "      <td>Normal</td>\n",
       "      <td>Male</td>\n",
       "      <td>Home and lifestyle</td>\n",
       "      <td>65.82</td>\n",
       "      <td>1</td>\n",
       "      <td>3.291</td>\n",
       "      <td>69.111</td>\n",
       "      <td>2/22/2019</td>\n",
       "      <td>15:33</td>\n",
       "      <td>Cash</td>\n",
       "      <td>65.82</td>\n",
       "      <td>4.761905</td>\n",
       "      <td>3.291</td>\n",
       "      <td>4.1</td>\n",
       "    </tr>\n",
       "    <tr>\n",
       "      <th>999</th>\n",
       "      <td>849-09-3807</td>\n",
       "      <td>A</td>\n",
       "      <td>Yangon</td>\n",
       "      <td>Member</td>\n",
       "      <td>Female</td>\n",
       "      <td>Fashion accessories</td>\n",
       "      <td>88.34</td>\n",
       "      <td>7</td>\n",
       "      <td>30.919</td>\n",
       "      <td>649.299</td>\n",
       "      <td>2/18/2019</td>\n",
       "      <td>13:28</td>\n",
       "      <td>Cash</td>\n",
       "      <td>618.38</td>\n",
       "      <td>4.761905</td>\n",
       "      <td>30.919</td>\n",
       "      <td>6.6</td>\n",
       "    </tr>\n",
       "  </tbody>\n",
       "</table>\n",
       "</div>"
      ],
      "text/plain": [
       "      Invoice ID Branch      City Customer type  Gender         Product line  \\\n",
       "996  303-96-2227      B  Mandalay        Normal  Female   Home and lifestyle   \n",
       "997  727-02-1313      A    Yangon        Member    Male   Food and beverages   \n",
       "998  347-56-2442      A    Yangon        Normal    Male   Home and lifestyle   \n",
       "999  849-09-3807      A    Yangon        Member  Female  Fashion accessories   \n",
       "\n",
       "     Unit price  Quantity  Tax 5%     Total       Date   Time  Payment  \\\n",
       "996       97.38        10  48.690  1022.490   3/2/2019  17:16  Ewallet   \n",
       "997       31.84         1   1.592    33.432   2/9/2019  13:22     Cash   \n",
       "998       65.82         1   3.291    69.111  2/22/2019  15:33     Cash   \n",
       "999       88.34         7  30.919   649.299  2/18/2019  13:28     Cash   \n",
       "\n",
       "       cogs  gross margin percentage  gross income  Rating  \n",
       "996  973.80                 4.761905        48.690     4.4  \n",
       "997   31.84                 4.761905         1.592     7.7  \n",
       "998   65.82                 4.761905         3.291     4.1  \n",
       "999  618.38                 4.761905        30.919     6.6  "
      ]
     },
     "execution_count": 5,
     "metadata": {},
     "output_type": "execute_result"
    }
   ],
   "source": [
    "df.tail(4)"
   ]
  },
  {
   "cell_type": "markdown",
   "metadata": {
    "ExecuteTime": {
     "end_time": "2022-11-01T16:50:46.961201Z",
     "start_time": "2022-11-01T16:50:46.955894Z"
    },
    "id": "3e4c4fb3"
   },
   "source": [
    "Очікуваний результат:"
   ]
  },
  {
   "cell_type": "markdown",
   "metadata": {
    "id": "f037ac2b"
   },
   "source": [
    "![](https://drive.google.com/uc?export=view&id=1F5XlzBOOTMsedpsYqz6NnXjIPTDe6jpx)"
   ]
  },
  {
   "cell_type": "markdown",
   "metadata": {
    "id": "167fuYhB_nCP"
   },
   "source": [
    "2. Виведіть рядки даних з індексами з 615 по 619 включно."
   ]
  },
  {
   "cell_type": "code",
   "execution_count": 9,
   "metadata": {
    "execution": {
     "iopub.execute_input": "2025-07-03T13:55:50.936426Z",
     "iopub.status.busy": "2025-07-03T13:55:50.935811Z",
     "iopub.status.idle": "2025-07-03T13:55:50.956423Z",
     "shell.execute_reply": "2025-07-03T13:55:50.955202Z",
     "shell.execute_reply.started": "2025-07-03T13:55:50.936402Z"
    },
    "id": "ytZryG8Z_1f_"
   },
   "outputs": [
    {
     "data": {
      "text/html": [
       "<div>\n",
       "<style scoped>\n",
       "    .dataframe tbody tr th:only-of-type {\n",
       "        vertical-align: middle;\n",
       "    }\n",
       "\n",
       "    .dataframe tbody tr th {\n",
       "        vertical-align: top;\n",
       "    }\n",
       "\n",
       "    .dataframe thead th {\n",
       "        text-align: right;\n",
       "    }\n",
       "</style>\n",
       "<table border=\"1\" class=\"dataframe\">\n",
       "  <thead>\n",
       "    <tr style=\"text-align: right;\">\n",
       "      <th></th>\n",
       "      <th>Invoice ID</th>\n",
       "      <th>Branch</th>\n",
       "      <th>City</th>\n",
       "      <th>Customer type</th>\n",
       "      <th>Gender</th>\n",
       "      <th>Product line</th>\n",
       "      <th>Unit price</th>\n",
       "      <th>Quantity</th>\n",
       "      <th>Tax 5%</th>\n",
       "      <th>Total</th>\n",
       "      <th>Date</th>\n",
       "      <th>Time</th>\n",
       "      <th>Payment</th>\n",
       "      <th>cogs</th>\n",
       "      <th>gross margin percentage</th>\n",
       "      <th>gross income</th>\n",
       "      <th>Rating</th>\n",
       "    </tr>\n",
       "  </thead>\n",
       "  <tbody>\n",
       "    <tr>\n",
       "      <th>615</th>\n",
       "      <td>509-29-3912</td>\n",
       "      <td>A</td>\n",
       "      <td>Yangon</td>\n",
       "      <td>Member</td>\n",
       "      <td>Female</td>\n",
       "      <td>Sports and travel</td>\n",
       "      <td>38.72</td>\n",
       "      <td>9</td>\n",
       "      <td>17.4240</td>\n",
       "      <td>365.9040</td>\n",
       "      <td>3/20/2019</td>\n",
       "      <td>12:24</td>\n",
       "      <td>Ewallet</td>\n",
       "      <td>348.48</td>\n",
       "      <td>4.761905</td>\n",
       "      <td>17.4240</td>\n",
       "      <td>4.2</td>\n",
       "    </tr>\n",
       "    <tr>\n",
       "      <th>616</th>\n",
       "      <td>327-40-9673</td>\n",
       "      <td>B</td>\n",
       "      <td>Mandalay</td>\n",
       "      <td>Member</td>\n",
       "      <td>Male</td>\n",
       "      <td>Sports and travel</td>\n",
       "      <td>72.60</td>\n",
       "      <td>6</td>\n",
       "      <td>21.7800</td>\n",
       "      <td>457.3800</td>\n",
       "      <td>1/13/2019</td>\n",
       "      <td>19:51</td>\n",
       "      <td>Cash</td>\n",
       "      <td>435.60</td>\n",
       "      <td>4.761905</td>\n",
       "      <td>21.7800</td>\n",
       "      <td>6.9</td>\n",
       "    </tr>\n",
       "    <tr>\n",
       "      <th>617</th>\n",
       "      <td>840-19-2096</td>\n",
       "      <td>C</td>\n",
       "      <td>Naypyitaw</td>\n",
       "      <td>Member</td>\n",
       "      <td>Male</td>\n",
       "      <td>Electronic accessories</td>\n",
       "      <td>87.91</td>\n",
       "      <td>5</td>\n",
       "      <td>21.9775</td>\n",
       "      <td>461.5275</td>\n",
       "      <td>3/14/2019</td>\n",
       "      <td>18:10</td>\n",
       "      <td>Ewallet</td>\n",
       "      <td>439.55</td>\n",
       "      <td>4.761905</td>\n",
       "      <td>21.9775</td>\n",
       "      <td>4.4</td>\n",
       "    </tr>\n",
       "    <tr>\n",
       "      <th>618</th>\n",
       "      <td>828-46-6863</td>\n",
       "      <td>A</td>\n",
       "      <td>Yangon</td>\n",
       "      <td>Member</td>\n",
       "      <td>Male</td>\n",
       "      <td>Food and beverages</td>\n",
       "      <td>98.53</td>\n",
       "      <td>6</td>\n",
       "      <td>29.5590</td>\n",
       "      <td>620.7390</td>\n",
       "      <td>1/23/2019</td>\n",
       "      <td>11:22</td>\n",
       "      <td>Credit card</td>\n",
       "      <td>591.18</td>\n",
       "      <td>4.761905</td>\n",
       "      <td>29.5590</td>\n",
       "      <td>4.0</td>\n",
       "    </tr>\n",
       "    <tr>\n",
       "      <th>619</th>\n",
       "      <td>641-96-3695</td>\n",
       "      <td>C</td>\n",
       "      <td>Naypyitaw</td>\n",
       "      <td>Member</td>\n",
       "      <td>Female</td>\n",
       "      <td>Fashion accessories</td>\n",
       "      <td>43.46</td>\n",
       "      <td>6</td>\n",
       "      <td>13.0380</td>\n",
       "      <td>273.7980</td>\n",
       "      <td>2/7/2019</td>\n",
       "      <td>17:55</td>\n",
       "      <td>Ewallet</td>\n",
       "      <td>260.76</td>\n",
       "      <td>4.761905</td>\n",
       "      <td>13.0380</td>\n",
       "      <td>8.5</td>\n",
       "    </tr>\n",
       "  </tbody>\n",
       "</table>\n",
       "</div>"
      ],
      "text/plain": [
       "      Invoice ID Branch       City Customer type  Gender  \\\n",
       "615  509-29-3912      A     Yangon        Member  Female   \n",
       "616  327-40-9673      B   Mandalay        Member    Male   \n",
       "617  840-19-2096      C  Naypyitaw        Member    Male   \n",
       "618  828-46-6863      A     Yangon        Member    Male   \n",
       "619  641-96-3695      C  Naypyitaw        Member  Female   \n",
       "\n",
       "               Product line  Unit price  Quantity   Tax 5%     Total  \\\n",
       "615       Sports and travel       38.72         9  17.4240  365.9040   \n",
       "616       Sports and travel       72.60         6  21.7800  457.3800   \n",
       "617  Electronic accessories       87.91         5  21.9775  461.5275   \n",
       "618      Food and beverages       98.53         6  29.5590  620.7390   \n",
       "619     Fashion accessories       43.46         6  13.0380  273.7980   \n",
       "\n",
       "          Date   Time      Payment    cogs  gross margin percentage  \\\n",
       "615  3/20/2019  12:24      Ewallet  348.48                 4.761905   \n",
       "616  1/13/2019  19:51         Cash  435.60                 4.761905   \n",
       "617  3/14/2019  18:10      Ewallet  439.55                 4.761905   \n",
       "618  1/23/2019  11:22  Credit card  591.18                 4.761905   \n",
       "619   2/7/2019  17:55      Ewallet  260.76                 4.761905   \n",
       "\n",
       "     gross income  Rating  \n",
       "615       17.4240     4.2  \n",
       "616       21.7800     6.9  \n",
       "617       21.9775     4.4  \n",
       "618       29.5590     4.0  \n",
       "619       13.0380     8.5  "
      ]
     },
     "execution_count": 9,
     "metadata": {},
     "output_type": "execute_result"
    }
   ],
   "source": [
    "df[615:620:]"
   ]
  },
  {
   "cell_type": "code",
   "execution_count": null,
   "metadata": {},
   "outputs": [],
   "source": []
  },
  {
   "cell_type": "markdown",
   "metadata": {
    "id": "uMLwIMBlhAcY"
   },
   "source": [
    "Очікуваний результат:"
   ]
  },
  {
   "cell_type": "markdown",
   "metadata": {
    "id": "yxrvqGnNhCsX"
   },
   "source": [
    "![](https://drive.google.com/uc?export=view&id=1Otufe_TXRmjZxWigzBiVBLCAVUfEReXM)"
   ]
  },
  {
   "cell_type": "markdown",
   "metadata": {
    "id": "2d54e0e4"
   },
   "source": [
    "3. Виведіть назви колонок у наборі даних разом з їхніми типами. Це можна зробити кількома способами, важливо аби в результаті були назви колонок і відповідні їм типи."
   ]
  },
  {
   "cell_type": "code",
   "execution_count": 10,
   "metadata": {
    "ExecuteTime": {
     "end_time": "2021-12-08T18:46:42.609601Z",
     "start_time": "2021-12-08T18:46:42.604424Z"
    },
    "execution": {
     "iopub.execute_input": "2025-07-03T13:58:33.131249Z",
     "iopub.status.busy": "2025-07-03T13:58:33.130428Z",
     "iopub.status.idle": "2025-07-03T13:58:33.138681Z",
     "shell.execute_reply": "2025-07-03T13:58:33.137220Z",
     "shell.execute_reply.started": "2025-07-03T13:58:33.131227Z"
    },
    "id": "513f5a99"
   },
   "outputs": [
    {
     "data": {
      "text/plain": [
       "Invoice ID                  object\n",
       "Branch                      object\n",
       "City                        object\n",
       "Customer type               object\n",
       "Gender                      object\n",
       "Product line                object\n",
       "Unit price                 float64\n",
       "Quantity                     int64\n",
       "Tax 5%                     float64\n",
       "Total                      float64\n",
       "Date                        object\n",
       "Time                        object\n",
       "Payment                     object\n",
       "cogs                       float64\n",
       "gross margin percentage    float64\n",
       "gross income               float64\n",
       "Rating                     float64\n",
       "dtype: object"
      ]
     },
     "execution_count": 10,
     "metadata": {},
     "output_type": "execute_result"
    }
   ],
   "source": [
    "df.dtypes"
   ]
  },
  {
   "cell_type": "markdown",
   "metadata": {
    "ExecuteTime": {
     "end_time": "2022-11-01T16:50:46.961201Z",
     "start_time": "2022-11-01T16:50:46.955894Z"
    },
    "id": "3c380f93"
   },
   "source": [
    "Очікуваний результат (один з можливих форматів):"
   ]
  },
  {
   "cell_type": "markdown",
   "metadata": {
    "id": "28f7beff"
   },
   "source": [
    "![](https://drive.google.com/uc?export=view&id=1ASh6-S-_f3X9fTQAPIvnHMFZamTBjNkL)"
   ]
  },
  {
   "cell_type": "markdown",
   "metadata": {
    "id": "aX2LEmuG8xyA"
   },
   "source": [
    "4. Користуючись методом `DataFrame.describe()` виявіть 1, 25, 50, 75 і 99 персентилі колонки `gross income`. Знайдіть, яке значення відповідає 75отму персентилю цієї колонки і що це означає? Як би Ви його пояснили простими словами колегам? Відповідь напишіть текстом в окремій клітинці типу Markdown."
   ]
  },
  {
   "cell_type": "code",
   "execution_count": 14,
   "metadata": {
    "execution": {
     "iopub.execute_input": "2025-07-03T14:05:03.348880Z",
     "iopub.status.busy": "2025-07-03T14:05:03.348549Z",
     "iopub.status.idle": "2025-07-03T14:05:03.359645Z",
     "shell.execute_reply": "2025-07-03T14:05:03.358365Z",
     "shell.execute_reply.started": "2025-07-03T14:05:03.348860Z"
    },
    "id": "Paso6rPV894s"
   },
   "outputs": [
    {
     "data": {
      "text/plain": [
       "count    1000.00\n",
       "mean       15.38\n",
       "std        11.71\n",
       "min         0.51\n",
       "1%          0.91\n",
       "25%         5.92\n",
       "50%        12.09\n",
       "75%        22.45\n",
       "99%        45.25\n",
       "max        49.65\n",
       "Name: gross income, dtype: float64"
      ]
     },
     "metadata": {},
     "output_type": "display_data"
    }
   ],
   "source": [
    "with pd.option_context(\"display.precision\", 2):\n",
    "    display(df['gross income'].describe(percentiles=[0.01,0.25, 0.5, 0.75, 0.99]))"
   ]
  },
  {
   "cell_type": "markdown",
   "metadata": {},
   "source": [
    "## Відповідь: \n",
    "75 персентиль дарівнює 22,45.\n",
    "### Давайте розберемось з данними , що нам повернутись від коду:\n",
    "* так як колонака в нас називається валовий дохід, але значення від 0,51 до 49,65 , тому припускаю, що це відсоткове значення. \n",
    "* всього маємо 1000 рядків даних, середнє значення 15,38 , тобто середня прибутковість 15,38%\n",
    "* стандартне відхилення 11,71, не дуже сильно розкинуті данні відносно середнього, тобто +-11.71 коливається наша прибутковість рахунків\n",
    "### Tепер персентилі :\n",
    "* рахунків які приносять менше 5,92% прибутків, меньше чверті, половина рахунків приносять прибуток від 5,92% до 22,45%, ще чверть рахунків високоприбуткові(в розрізі цього набору данних) і їх прибутковість вище 22,45% і сягає до 49,65%.\n",
    "*  також помічено, що максимум і мінімум не дуже відрісняються від 99 і 1 персентиля відповідно, тому можу примустити, що викидів тут немає.\n",
    "### Висновок:\n",
    "  75 персентиль показує нам, що три чверті данних(більшість) містять інформацію про рахунки прибутковість яких менше 22,45%. 75% інвойсів приносять меньшн або 22,45% валового прибутку."
   ]
  },
  {
   "cell_type": "markdown",
   "metadata": {
    "id": "HX-oXoo4jCuE"
   },
   "source": [
    "Очікуваний результат:"
   ]
  },
  {
   "cell_type": "markdown",
   "metadata": {
    "id": "Qi9Qi8LhjFRw"
   },
   "source": [
    "![](https://drive.google.com/uc?export=view&id=1bDa1YFUWDsPm78Lnpy2geQND8M1HEQiT)"
   ]
  },
  {
   "cell_type": "markdown",
   "metadata": {
    "id": "X2FWqJYr9Eul"
   },
   "source": [
    "5. Виведіть кількість інвойсів за кожним унікальним містом в наборі даних.\n",
    "\n",
    "  Підказка: інвойс - це один рядок в цьому наборі даних, ми можемо цим скористатись аби швидко отримати відповідь."
   ]
  },
  {
   "cell_type": "code",
   "execution_count": 21,
   "metadata": {
    "execution": {
     "iopub.execute_input": "2025-07-03T15:17:10.884025Z",
     "iopub.status.busy": "2025-07-03T15:17:10.883337Z",
     "iopub.status.idle": "2025-07-03T15:17:10.892583Z",
     "shell.execute_reply": "2025-07-03T15:17:10.891432Z",
     "shell.execute_reply.started": "2025-07-03T15:17:10.884005Z"
    },
    "id": "StVtKfWY-13y"
   },
   "outputs": [
    {
     "data": {
      "text/plain": [
       "City\n",
       "Yangon       340\n",
       "Mandalay     332\n",
       "Naypyitaw    328\n",
       "Name: count, dtype: int64"
      ]
     },
     "execution_count": 21,
     "metadata": {},
     "output_type": "execute_result"
    }
   ],
   "source": [
    "df.City.value_counts()"
   ]
  },
  {
   "cell_type": "markdown",
   "metadata": {
    "id": "MxdJBddujhRx"
   },
   "source": [
    "Очікуваний результат:"
   ]
  },
  {
   "cell_type": "markdown",
   "metadata": {
    "id": "DGmeHKZYjoTp"
   },
   "source": [
    "![](https://drive.google.com/uc?export=view&id=1G8c6M875NOW7oU3OtZegTOnyD2y8lhAV)"
   ]
  },
  {
   "cell_type": "markdown",
   "metadata": {
    "id": "-k-yG_rR-3Og"
   },
   "source": [
    "6. Виведіть, який відсоток інвойсів припадає на кожне унікальне місто."
   ]
  },
  {
   "cell_type": "code",
   "execution_count": 20,
   "metadata": {
    "execution": {
     "iopub.execute_input": "2025-07-03T15:17:04.081992Z",
     "iopub.status.busy": "2025-07-03T15:17:04.081558Z",
     "iopub.status.idle": "2025-07-03T15:17:04.091386Z",
     "shell.execute_reply": "2025-07-03T15:17:04.090082Z",
     "shell.execute_reply.started": "2025-07-03T15:17:04.081972Z"
    },
    "id": "_PBLxP7B_LdF"
   },
   "outputs": [
    {
     "data": {
      "text/plain": [
       "City\n",
       "Yangon       0.340\n",
       "Mandalay     0.332\n",
       "Naypyitaw    0.328\n",
       "Name: proportion, dtype: float64"
      ]
     },
     "execution_count": 20,
     "metadata": {},
     "output_type": "execute_result"
    }
   ],
   "source": [
    "df.City.value_counts(normalize=True)"
   ]
  },
  {
   "cell_type": "markdown",
   "metadata": {
    "id": "hk_BB1Uxj_G5"
   },
   "source": [
    "Очікуваний результат:"
   ]
  },
  {
   "cell_type": "markdown",
   "metadata": {
    "id": "vAQ3z60ukBVG"
   },
   "source": [
    "![](https://drive.google.com/uc?export=view&id=1yZZpWhL2y8DX9rSRioYCRh1VbJgcf3fY)"
   ]
  },
  {
   "cell_type": "markdown",
   "metadata": {
    "id": "RUkVnzp_B5uZ"
   },
   "source": [
    "7.1. Використовуючи фільтрацію даних, знайдіть середнє значення `gross income` для міст `Yangon` та `Mandalay`. В якому місті воно більше?\n",
    "\n",
    "7.2 Сформулюйте 3 гіпотези, чому в одному місті gross income вище, як можна дізнатись чи правдива ця гіпотеза з використанням даних (наявних і додаткових), та як висновки з цих гіпотез можна використати для прийняття рішень як підвищити прибуток в мережі супермаркетів. Відповідь напишіть текстом в окремій клітинці типу Markdown.\n",
    "\n",
    "Це завдання - на продуктове мислення. Якщо не знаєте, які гіпотези сформулювати - напишіть ті, які здаються вам зовсім примітивними. Важливо навчитись висловлювати свої гіпотези щодо даних, і з часом та досвідом вони будуть ставати щоразу глибше і точніше. Весь аналіз даних будується на тому, що ми перевіряємо певні гіпотези та робимо висновки і рекоемндації на основі своїх досліджень."
   ]
  },
  {
   "cell_type": "code",
   "execution_count": 41,
   "metadata": {
    "execution": {
     "iopub.execute_input": "2025-07-03T16:25:47.155096Z",
     "iopub.status.busy": "2025-07-03T16:25:47.154732Z",
     "iopub.status.idle": "2025-07-03T16:25:47.162789Z",
     "shell.execute_reply": "2025-07-03T16:25:47.161594Z",
     "shell.execute_reply.started": "2025-07-03T16:25:47.155076Z"
    },
    "id": "8RwoGA7l_OhV"
   },
   "outputs": [
    {
     "data": {
      "text/plain": [
       "np.float64(14.874001470588235)"
      ]
     },
     "execution_count": 41,
     "metadata": {},
     "output_type": "execute_result"
    }
   ],
   "source": [
    "df[df.City == 'Yangon']['gross income'].mean()"
   ]
  },
  {
   "cell_type": "code",
   "execution_count": 42,
   "metadata": {
    "execution": {
     "iopub.execute_input": "2025-07-03T16:26:11.597760Z",
     "iopub.status.busy": "2025-07-03T16:26:11.596789Z",
     "iopub.status.idle": "2025-07-03T16:26:11.604623Z",
     "shell.execute_reply": "2025-07-03T16:26:11.603797Z",
     "shell.execute_reply.started": "2025-07-03T16:26:11.597731Z"
    }
   },
   "outputs": [
    {
     "data": {
      "text/plain": [
       "np.float64(15.232024096385542)"
      ]
     },
     "execution_count": 42,
     "metadata": {},
     "output_type": "execute_result"
    }
   ],
   "source": [
    "df[df.City == 'Mandalay']['gross income'].mean()"
   ]
  },
  {
   "cell_type": "code",
   "execution_count": 43,
   "metadata": {
    "execution": {
     "iopub.execute_input": "2025-07-03T16:26:32.512507Z",
     "iopub.status.busy": "2025-07-03T16:26:32.511905Z",
     "iopub.status.idle": "2025-07-03T16:26:32.536332Z",
     "shell.execute_reply": "2025-07-03T16:26:32.535250Z",
     "shell.execute_reply.started": "2025-07-03T16:26:32.512485Z"
    }
   },
   "outputs": [
    {
     "data": {
      "text/plain": [
       "City\n",
       "Mandalay    15.232024\n",
       "Yangon      14.874001\n",
       "Name: gross income, dtype: float64"
      ]
     },
     "execution_count": 43,
     "metadata": {},
     "output_type": "execute_result"
    }
   ],
   "source": [
    "df[df.City.isin(['Yangon', 'Mandalay'])].groupby('City')['gross income'].mean()"
   ]
  },
  {
   "cell_type": "markdown",
   "metadata": {},
   "source": [
    "### Зважаючи на інформацію яку ми вже знаємо в цих двох місцях не нуже відчутна різниця інвойсів Янгон 340, Мандалай 332, проте ми бачимо що там де більше інвойсів чомусь відсоток прибутку менший, чим це спричинено?\n",
    "#### Гіпотеза 1\n",
    "В одному місті можливо куплять товари які більше прибуткові у чеку. наприклад є категорії товарів з більшою маржею або щось таке.\n",
    "#### Гіпотеза 2\n",
    "В одному інвойсі можлива покупка декількох товарів, тому така різниця ,кількість інвойсім менше, а прибутку більше, бо в 1 чеку 15 товарів.\n",
    "#### Гіпотеза 3\n",
    "Можливо в одному місці проживають бульше клієнтів які мають статус мембер і вони або мають знижку , або навпаки мають накопичувальну картку і куплять частіше саме там .\n",
    "\n",
    "### Висновок\n",
    "Схиляють до теорії про кількість продуктів у чеку, проглянувки ще раз фрйм помітила що вал.прибуток(вп) = такс5%, тотал = ціна за штуку + такс5% * на кількість товару , і ВП пропорційно до тоталу більшується або зменшується, отже на тотал впливає кількість товару і на ВП впливає кількість товару.\n",
    "В Янгоні просто продали меншу кількість товару , а в Мандалай продали більшу кількість товару (по декілька в одному чеку)"
   ]
  },
  {
   "cell_type": "markdown",
   "metadata": {
    "id": "iXq3ODp1khy1"
   },
   "source": [
    "Очікуваний результат:"
   ]
  },
  {
   "cell_type": "markdown",
   "metadata": {
    "id": "4lcu3YwqkkF8"
   },
   "source": [
    "![](https://drive.google.com/uc?export=view&id=1JdXUmK46WcoXUJYP7NS2SJlr2XjBbpQ8)"
   ]
  },
  {
   "cell_type": "markdown",
   "metadata": {
    "id": "wNMcnnPQOrwb"
   },
   "source": [
    "8. Для продовження дослідження різниці у прибутках в магазинах давайте зʼясуємо, чи відрізняється маржа ('gross margin percentage') для різних інвойсів в магазині? Перевірте це програмно на даних виходячи з того функціоналу, який ми вже пройшли у лекціях.\n",
    "\n",
    "Дайте на основі отриманого результату відповідь: \"У всіх всіх інвойсах однакова маржа\" або \"Маржа відрізняється для різних інвойсів\"."
   ]
  },
  {
   "cell_type": "code",
   "execution_count": 49,
   "metadata": {
    "execution": {
     "iopub.execute_input": "2025-07-03T16:56:46.917084Z",
     "iopub.status.busy": "2025-07-03T16:56:46.916371Z",
     "iopub.status.idle": "2025-07-03T16:56:46.922939Z",
     "shell.execute_reply": "2025-07-03T16:56:46.921756Z",
     "shell.execute_reply.started": "2025-07-03T16:56:46.917062Z"
    },
    "id": "mTWYzSVaPNsb"
   },
   "outputs": [
    {
     "name": "stdout",
     "output_type": "stream",
     "text": [
      "У всіх всіх інвойсах однакова маржа\n"
     ]
    }
   ],
   "source": [
    "g = [df['gross margin percentage'].unique()]\n",
    "if len(g) == 1:\n",
    "    print('У всіх всіх інвойсах однакова маржа')\n",
    "else:\n",
    "    print( 'Маржа відрізняється для різних інвойсів')"
   ]
  },
  {
   "cell_type": "markdown",
   "metadata": {
    "id": "YXlTdvOtnYPr"
   },
   "source": [
    "Очікуваний результат: відповідь щодо маржі в усіх інвойсах на основі отриманих результатів"
   ]
  },
  {
   "cell_type": "markdown",
   "metadata": {
    "id": "NF3oAHQOOSN5"
   },
   "source": [
    "9. Врахуовуючи висновок в попередньому завданні, дослідимо як продаються в цих містах різні категорії товарів. Виведіть відсотковий розпоіділ кількості інвойсів по категоріям товарів `Product line` в містах `Yangon` та `Mandalay`."
   ]
  },
  {
   "cell_type": "code",
   "execution_count": 52,
   "metadata": {
    "execution": {
     "iopub.execute_input": "2025-07-03T17:07:06.874536Z",
     "iopub.status.busy": "2025-07-03T17:07:06.873699Z",
     "iopub.status.idle": "2025-07-03T17:07:06.884300Z",
     "shell.execute_reply": "2025-07-03T17:07:06.883093Z",
     "shell.execute_reply.started": "2025-07-03T17:07:06.874513Z"
    },
    "id": "nUgdZmbzQDo4"
   },
   "outputs": [
    {
     "data": {
      "text/plain": [
       "Product line\n",
       "Home and lifestyle        0.191176\n",
       "Electronic accessories    0.176471\n",
       "Sports and travel         0.173529\n",
       "Food and beverages        0.170588\n",
       "Fashion accessories       0.150000\n",
       "Health and beauty         0.138235\n",
       "Name: proportion, dtype: float64"
      ]
     },
     "execution_count": 52,
     "metadata": {},
     "output_type": "execute_result"
    }
   ],
   "source": [
    "df[df.City == 'Yangon']['Product line'].value_counts(normalize=True)"
   ]
  },
  {
   "cell_type": "code",
   "execution_count": 53,
   "metadata": {
    "execution": {
     "iopub.execute_input": "2025-07-03T17:07:33.842710Z",
     "iopub.status.busy": "2025-07-03T17:07:33.842140Z",
     "iopub.status.idle": "2025-07-03T17:07:33.851375Z",
     "shell.execute_reply": "2025-07-03T17:07:33.850291Z",
     "shell.execute_reply.started": "2025-07-03T17:07:33.842666Z"
    }
   },
   "outputs": [
    {
     "data": {
      "text/plain": [
       "Product line\n",
       "Fashion accessories       0.186747\n",
       "Sports and travel         0.186747\n",
       "Electronic accessories    0.165663\n",
       "Health and beauty         0.159639\n",
       "Food and beverages        0.150602\n",
       "Home and lifestyle        0.150602\n",
       "Name: proportion, dtype: float64"
      ]
     },
     "execution_count": 53,
     "metadata": {},
     "output_type": "execute_result"
    }
   ],
   "source": [
    "df[df.City == 'Mandalay']['Product line'].value_counts(normalize=True)"
   ]
  },
  {
   "cell_type": "markdown",
   "metadata": {},
   "source": [
    "#### Перевіряю свою гіпотезу по кількості товарів"
   ]
  },
  {
   "cell_type": "code",
   "execution_count": 57,
   "metadata": {
    "execution": {
     "iopub.execute_input": "2025-07-03T17:11:30.950779Z",
     "iopub.status.busy": "2025-07-03T17:11:30.950080Z",
     "iopub.status.idle": "2025-07-03T17:11:30.958539Z",
     "shell.execute_reply": "2025-07-03T17:11:30.957135Z",
     "shell.execute_reply.started": "2025-07-03T17:11:30.950741Z"
    }
   },
   "outputs": [
    {
     "data": {
      "text/plain": [
       "np.int64(1859)"
      ]
     },
     "execution_count": 57,
     "metadata": {},
     "output_type": "execute_result"
    }
   ],
   "source": [
    "df[df.City == 'Yangon']['Quantity'].sum()"
   ]
  },
  {
   "cell_type": "code",
   "execution_count": 58,
   "metadata": {
    "execution": {
     "iopub.execute_input": "2025-07-03T17:12:00.258187Z",
     "iopub.status.busy": "2025-07-03T17:12:00.257593Z",
     "iopub.status.idle": "2025-07-03T17:12:00.266036Z",
     "shell.execute_reply": "2025-07-03T17:12:00.264777Z",
     "shell.execute_reply.started": "2025-07-03T17:12:00.258165Z"
    }
   },
   "outputs": [
    {
     "data": {
      "text/plain": [
       "np.int64(1820)"
      ]
     },
     "execution_count": 58,
     "metadata": {},
     "output_type": "execute_result"
    }
   ],
   "source": [
    "df[df.City == 'Mandalay']['Quantity'].sum()"
   ]
  },
  {
   "cell_type": "code",
   "execution_count": 68,
   "metadata": {
    "execution": {
     "iopub.execute_input": "2025-07-03T17:24:07.123153Z",
     "iopub.status.busy": "2025-07-03T17:24:07.122286Z",
     "iopub.status.idle": "2025-07-03T17:24:07.132166Z",
     "shell.execute_reply": "2025-07-03T17:24:07.131245Z",
     "shell.execute_reply.started": "2025-07-03T17:24:07.123131Z"
    }
   },
   "outputs": [
    {
     "data": {
      "text/plain": [
       "Product line\n",
       "Fashion accessories       57.153652\n",
       "Sports and travel         56.993253\n",
       "Food and beverages        56.008851\n",
       "Home and lifestyle        55.316937\n",
       "Health and beauty         54.854474\n",
       "Electronic accessories    53.551588\n",
       "Name: Unit price, dtype: float64"
      ]
     },
     "execution_count": 68,
     "metadata": {},
     "output_type": "execute_result"
    }
   ],
   "source": [
    "df.groupby('Product line')['Unit price'].mean().sort_values(ascending=False)"
   ]
  },
  {
   "cell_type": "code",
   "execution_count": 66,
   "metadata": {
    "execution": {
     "iopub.execute_input": "2025-07-03T17:23:15.128458Z",
     "iopub.status.busy": "2025-07-03T17:23:15.127413Z",
     "iopub.status.idle": "2025-07-03T17:23:15.139142Z",
     "shell.execute_reply": "2025-07-03T17:23:15.137527Z",
     "shell.execute_reply.started": "2025-07-03T17:23:15.128435Z"
    }
   },
   "outputs": [
    {
     "data": {
      "text/plain": [
       "Product line\n",
       "Home and lifestyle        371\n",
       "Sports and travel         333\n",
       "Electronic accessories    322\n",
       "Food and beverages        313\n",
       "Fashion accessories       263\n",
       "Health and beauty         257\n",
       "Name: Quantity, dtype: int64"
      ]
     },
     "execution_count": 66,
     "metadata": {},
     "output_type": "execute_result"
    }
   ],
   "source": [
    "df[df['City'] == 'Yangon'].groupby('Product line')['Quantity'].sum().sort_values(ascending=False)"
   ]
  },
  {
   "cell_type": "code",
   "execution_count": 69,
   "metadata": {
    "execution": {
     "iopub.execute_input": "2025-07-03T17:24:41.891104Z",
     "iopub.status.busy": "2025-07-03T17:24:41.890453Z",
     "iopub.status.idle": "2025-07-03T17:24:41.902172Z",
     "shell.execute_reply": "2025-07-03T17:24:41.900977Z",
     "shell.execute_reply.started": "2025-07-03T17:24:41.891080Z"
    }
   },
   "outputs": [
    {
     "data": {
      "text/plain": [
       "Product line\n",
       "Sports and travel         322\n",
       "Health and beauty         320\n",
       "Electronic accessories    316\n",
       "Fashion accessories       297\n",
       "Home and lifestyle        295\n",
       "Food and beverages        270\n",
       "Name: Quantity, dtype: int64"
      ]
     },
     "execution_count": 69,
     "metadata": {},
     "output_type": "execute_result"
    }
   ],
   "source": [
    "df[df['City'] == 'Mandalay'].groupby('Product line')['Quantity'].sum().sort_values(ascending=False)"
   ]
  },
  {
   "cell_type": "code",
   "execution_count": 70,
   "metadata": {
    "execution": {
     "iopub.execute_input": "2025-07-03T17:30:31.064424Z",
     "iopub.status.busy": "2025-07-03T17:30:31.063572Z",
     "iopub.status.idle": "2025-07-03T17:30:31.077001Z",
     "shell.execute_reply": "2025-07-03T17:30:31.075493Z",
     "shell.execute_reply.started": "2025-07-03T17:30:31.064399Z"
    }
   },
   "outputs": [
    {
     "data": {
      "text/plain": [
       "Product line\n",
       "Sports and travel         19036.38\n",
       "Health and beauty         19029.20\n",
       "Home and lifestyle        16713.49\n",
       "Electronic accessories    16239.47\n",
       "Fashion accessories       15631.73\n",
       "Food and beverages        14490.37\n",
       "Name: cogs, dtype: float64"
      ]
     },
     "execution_count": 70,
     "metadata": {},
     "output_type": "execute_result"
    }
   ],
   "source": [
    "df[df['City'] == 'Mandalay'].groupby('Product line')['cogs'].sum().sort_values(ascending=False)"
   ]
  },
  {
   "cell_type": "code",
   "execution_count": 71,
   "metadata": {
    "execution": {
     "iopub.execute_input": "2025-07-03T17:31:02.491777Z",
     "iopub.status.busy": "2025-07-03T17:31:02.490972Z",
     "iopub.status.idle": "2025-07-03T17:31:02.502219Z",
     "shell.execute_reply": "2025-07-03T17:31:02.501154Z",
     "shell.execute_reply.started": "2025-07-03T17:31:02.491752Z"
    }
   },
   "outputs": [
    {
     "data": {
      "text/plain": [
       "Product line\n",
       "Home and lifestyle        21349.71\n",
       "Sports and travel         18450.19\n",
       "Electronic accessories    17444.87\n",
       "Food and beverages        16345.81\n",
       "Fashion accessories       15554.77\n",
       "Health and beauty         11997.86\n",
       "Name: cogs, dtype: float64"
      ]
     },
     "execution_count": 71,
     "metadata": {},
     "output_type": "execute_result"
    }
   ],
   "source": [
    "df[df['City'] == 'Yangon'].groupby('Product line')['cogs'].sum().sort_values(ascending=False)"
   ]
  },
  {
   "cell_type": "markdown",
   "metadata": {
    "id": "vFhFKSl7meGY"
   },
   "source": [
    "Очікуваний результат для кожного з міст:"
   ]
  },
  {
   "cell_type": "markdown",
   "metadata": {
    "id": "pzpOAqu1miuo"
   },
   "source": [
    "![](https://drive.google.com/uc?export=view&id=1IbG58YK5KVqC-wCnllF1btgEgfWTbi_O)"
   ]
  },
  {
   "cell_type": "markdown",
   "metadata": {
    "id": "imwzMiV4mrXn"
   },
   "source": [
    "![](https://drive.google.com/uc?export=view&id=1aKOkLmlMq1sOh4GbwyaQyjfhNJzdU4Yh)"
   ]
  }
 ],
 "metadata": {
  "colab": {
   "provenance": []
  },
  "kernelspec": {
   "display_name": "Python 3 (ipykernel)",
   "language": "python",
   "name": "python3"
  },
  "language_info": {
   "codemirror_mode": {
    "name": "ipython",
    "version": 3
   },
   "file_extension": ".py",
   "mimetype": "text/x-python",
   "name": "python",
   "nbconvert_exporter": "python",
   "pygments_lexer": "ipython3",
   "version": "3.13.3"
  }
 },
 "nbformat": 4,
 "nbformat_minor": 4
}
