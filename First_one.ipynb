{
 "cells": [
  {
   "cell_type": "code",
   "execution_count": 1,
   "id": "9b02a003-cdcc-44d8-8ea3-727fa6efe001",
   "metadata": {
    "execution": {
     "iopub.execute_input": "2025-06-05T14:23:10.802065Z",
     "iopub.status.busy": "2025-06-05T14:23:10.801374Z",
     "iopub.status.idle": "2025-06-05T14:23:10.807398Z",
     "shell.execute_reply": "2025-06-05T14:23:10.806262Z",
     "shell.execute_reply.started": "2025-06-05T14:23:10.802040Z"
    }
   },
   "outputs": [],
   "source": [
    "a='My name '"
   ]
  },
  {
   "cell_type": "code",
   "execution_count": 3,
   "id": "a693b593-5e1b-46e3-8ea0-53d67730e544",
   "metadata": {
    "execution": {
     "iopub.execute_input": "2025-06-05T14:24:35.948978Z",
     "iopub.status.busy": "2025-06-05T14:24:35.948043Z",
     "iopub.status.idle": "2025-06-05T14:24:35.956131Z",
     "shell.execute_reply": "2025-06-05T14:24:35.955020Z",
     "shell.execute_reply.started": "2025-06-05T14:24:35.948954Z"
    }
   },
   "outputs": [
    {
     "name": "stdout",
     "output_type": "stream",
     "text": [
      "My name \n"
     ]
    }
   ],
   "source": [
    "print (a)"
   ]
  },
  {
   "cell_type": "code",
   "execution_count": 5,
   "id": "25caad9b-1867-4464-86bb-b4f6cfa84428",
   "metadata": {
    "execution": {
     "iopub.execute_input": "2025-06-05T14:25:18.033295Z",
     "iopub.status.busy": "2025-06-05T14:25:18.032124Z",
     "iopub.status.idle": "2025-06-05T14:25:18.037946Z",
     "shell.execute_reply": "2025-06-05T14:25:18.036915Z",
     "shell.execute_reply.started": "2025-06-05T14:25:18.033273Z"
    }
   },
   "outputs": [],
   "source": [
    "c='Lucy'"
   ]
  },
  {
   "cell_type": "code",
   "execution_count": 6,
   "id": "5d4450c6-ba85-4b34-83dd-896eddb4230b",
   "metadata": {
    "execution": {
     "iopub.execute_input": "2025-06-05T14:25:45.009417Z",
     "iopub.status.busy": "2025-06-05T14:25:45.008760Z",
     "iopub.status.idle": "2025-06-05T14:25:45.013882Z",
     "shell.execute_reply": "2025-06-05T14:25:45.012831Z",
     "shell.execute_reply.started": "2025-06-05T14:25:45.009397Z"
    }
   },
   "outputs": [
    {
     "name": "stdout",
     "output_type": "stream",
     "text": [
      "My name Lucy\n"
     ]
    }
   ],
   "source": [
    "print (a+c)"
   ]
  }
 ],
 "metadata": {
  "kernelspec": {
   "display_name": "Python 3 (ipykernel)",
   "language": "python",
   "name": "python3"
  },
  "language_info": {
   "codemirror_mode": {
    "name": "ipython",
    "version": 3
   },
   "file_extension": ".py",
   "mimetype": "text/x-python",
   "name": "python",
   "nbconvert_exporter": "python",
   "pygments_lexer": "ipython3",
   "version": "3.13.3"
  }
 },
 "nbformat": 4,
 "nbformat_minor": 5
}
