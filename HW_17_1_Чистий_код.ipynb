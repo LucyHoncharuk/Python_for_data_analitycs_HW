{
 "cells": [
  {
   "cell_type": "markdown",
   "id": "aed503f1",
   "metadata": {
    "ExecuteTime": {
     "end_time": "2023-07-27T20:14:32.871852Z",
     "start_time": "2023-07-27T20:14:31.036121Z"
    },
    "id": "aed503f1"
   },
   "source": [
    "У завданнях 1-4. Вам наданий простий код на Python, який не відповідає вказівкам PEP8. Ваше завдання — відредагувати код так, аби він відповідав PEP8. Напишіть після редагуванню коду, дотримання яких правил з pep8 ви досягли в відредагованій версі, наприклад\n",
    "```\n",
    "- додала пробіли навколо бінарного оператора\n",
    "- додала два порожні рядки між визначеннями функцій\n",
    "і тд\n",
    "```\n",
    "Також можна зазанчити використані правила коментарями по коду, а не окремим повідомленням.\n",
    "\n",
    "Відредагований код має виконувати весь той самий функціонал, але бути написаний відповідно до вимог до гарного коду на Python! Не забудьте запустити відредагований код, він має бути робочим."
   ]
  },
  {
   "cell_type": "markdown",
   "id": "e7fea147",
   "metadata": {
    "id": "e7fea147"
   },
   "source": [
    "Завдання 1."
   ]
  },
  {
   "cell_type": "code",
   "execution_count": 1,
   "id": "f63d84d7",
   "metadata": {
    "ExecuteTime": {
     "end_time": "2023-07-29T17:02:37.075783Z",
     "start_time": "2023-07-29T17:02:37.035259Z"
    },
    "execution": {
     "iopub.execute_input": "2025-10-12T18:10:28.842467Z",
     "iopub.status.busy": "2025-10-12T18:10:28.841551Z",
     "iopub.status.idle": "2025-10-12T18:10:28.855411Z",
     "shell.execute_reply": "2025-10-12T18:10:28.854483Z",
     "shell.execute_reply.started": "2025-10-12T18:10:28.842445Z"
    },
    "id": "f63d84d7"
   },
   "outputs": [
    {
     "name": "stdout",
     "output_type": "stream",
     "text": [
      "Hello, John\n"
     ]
    },
    {
     "data": {
      "text/plain": [
       "None"
      ]
     },
     "metadata": {},
     "output_type": "display_data"
    },
    {
     "data": {
      "text/plain": [
       "8"
      ]
     },
     "metadata": {},
     "output_type": "display_data"
    }
   ],
   "source": [
    "def greet(name):print(f\"Hello, {name}\")\n",
    "def add(n1,n2):return n1+n2\n",
    "\n",
    "x = 5;y = 3\n",
    "display(greet(\"John\"),add(x,y))\n"
   ]
  },
  {
   "cell_type": "code",
   "execution_count": 2,
   "id": "41b7e672",
   "metadata": {
    "execution": {
     "iopub.execute_input": "2025-10-12T18:10:35.285407Z",
     "iopub.status.busy": "2025-10-12T18:10:35.284745Z",
     "iopub.status.idle": "2025-10-12T18:10:35.291249Z",
     "shell.execute_reply": "2025-10-12T18:10:35.289947Z",
     "shell.execute_reply.started": "2025-10-12T18:10:35.285383Z"
    },
    "id": "41b7e672"
   },
   "outputs": [
    {
     "name": "stdout",
     "output_type": "stream",
     "text": [
      "Hello, John\n",
      "8\n"
     ]
    }
   ],
   "source": [
    "def greet(name):\n",
    "    print(f\"Hello, {name}\")\n",
    "\n",
    "\n",
    "def add(n1, n2):\n",
    "    return n1 + n2\n",
    "\n",
    "\n",
    "x = 5\n",
    "y = 3\n",
    "\n",
    "greet(\"John\")\n",
    "print(add(x, y))"
   ]
  },
  {
   "cell_type": "markdown",
   "id": "85b7a0b4-ca7f-44ec-b466-cb0e8d536928",
   "metadata": {},
   "source": [
    "-додала два порожні рядки між визначеннями функцій\n",
    "-додала пробіли навколо операторів =, +, \n",
    "-розділила кілька інструкцій, що були в одному рядку, на окремі рядки."
   ]
  },
  {
   "cell_type": "markdown",
   "id": "cea88baf",
   "metadata": {
    "id": "cea88baf"
   },
   "source": [
    "Завдання 2."
   ]
  },
  {
   "cell_type": "code",
   "execution_count": null,
   "id": "dfb6d2b5",
   "metadata": {
    "ExecuteTime": {
     "end_time": "2023-07-29T17:05:49.706098Z",
     "start_time": "2023-07-29T17:05:49.688255Z"
    },
    "id": "dfb6d2b5"
   },
   "outputs": [],
   "source": [
    "from math import *\n",
    "def calcArea(r):return pi*r**2\n",
    "def calcCircumference(r):return 2*pi*r\n",
    "\n",
    "radius=5\n",
    "print(\"Area:\",calcArea(radius),\"Circumference:\",calcCircumference(radius))"
   ]
  },
  {
   "cell_type": "code",
   "execution_count": 5,
   "id": "df263672",
   "metadata": {
    "execution": {
     "iopub.execute_input": "2025-10-12T18:18:51.895628Z",
     "iopub.status.busy": "2025-10-12T18:18:51.895308Z",
     "iopub.status.idle": "2025-10-12T18:18:51.901930Z",
     "shell.execute_reply": "2025-10-12T18:18:51.900313Z",
     "shell.execute_reply.started": "2025-10-12T18:18:51.895609Z"
    },
    "id": "df263672"
   },
   "outputs": [
    {
     "name": "stdout",
     "output_type": "stream",
     "text": [
      "Area: 78.53981633974483 Circumference: 31.41592653589793\n"
     ]
    }
   ],
   "source": [
    "from math import pi\n",
    "\n",
    "\n",
    "def calc_area(r):\n",
    "    \"\"\"Обчислює площу кола.\"\"\"\n",
    "    return pi * r ** 2 \n",
    "\n",
    "\n",
    "def calc_circumference(r):\n",
    "    \"\"\"Обчислює довжину кола.\"\"\"\n",
    "    return 2 * pi * r  \n",
    "\n",
    "\n",
    "radius = 5  \n",
    "\n",
    "# Розділено виклик функцій для кращої читабельності\n",
    "print(\n",
    "    \"Area:\", calc_area(radius),\n",
    "    \"Circumference:\", calc_circumference(radius)\n",
    ")\n"
   ]
  },
  {
   "cell_type": "code",
   "execution_count": null,
   "id": "5acaab90-96e4-4979-9573-ff9177754591",
   "metadata": {},
   "outputs": [],
   "source": [
    "-додано пробіли навколо операторів\n",
    "-Замінила from math import * на явний імпорт from math import pi.\n",
    "-імена функцій маленькими і з нижнім прочерком\n",
    "-додала два порожні рядки між визначеннями функцій.\n",
    "-додала докстрінги "
   ]
  },
  {
   "cell_type": "markdown",
   "id": "1fd691b7",
   "metadata": {
    "id": "1fd691b7"
   },
   "source": [
    "Завдання 3."
   ]
  },
  {
   "cell_type": "code",
   "execution_count": null,
   "id": "1d5acb2d",
   "metadata": {
    "ExecuteTime": {
     "end_time": "2023-07-29T17:06:18.612622Z",
     "start_time": "2023-07-29T17:06:18.598477Z"
    },
    "id": "1d5acb2d"
   },
   "outputs": [],
   "source": [
    "class animal: pass\n",
    "class dog(animal):\n",
    "    def __init__(self,name):\n",
    "        self.name=name\n",
    "        self.type='Dog'"
   ]
  },
  {
   "cell_type": "code",
   "execution_count": 6,
   "id": "0d4b2b8a",
   "metadata": {
    "execution": {
     "iopub.execute_input": "2025-10-12T18:22:19.988799Z",
     "iopub.status.busy": "2025-10-12T18:22:19.988364Z",
     "iopub.status.idle": "2025-10-12T18:22:19.994072Z",
     "shell.execute_reply": "2025-10-12T18:22:19.993171Z",
     "shell.execute_reply.started": "2025-10-12T18:22:19.988776Z"
    },
    "id": "0d4b2b8a"
   },
   "outputs": [],
   "source": [
    "class Animal:\n",
    "    \"\"\"Базовий клас для тварин.\"\"\"\n",
    "    pass\n",
    "\n",
    "\n",
    "class Dog(Animal):\n",
    "    \"\"\"Клас, що представляє собаку.\"\"\"\n",
    "\n",
    "    def __init__(self, name):\n",
    "        \"\"\"Ініціалізація атрибутів собаки.\"\"\"\n",
    "        self.name = name  # додано пробіли навколо =\n",
    "        self.type = \"Dog\"\n"
   ]
  },
  {
   "cell_type": "code",
   "execution_count": null,
   "id": "38d9341d-3b44-4464-ab21-1a0b88af0762",
   "metadata": {},
   "outputs": [],
   "source": [
    "-назви класів — з великої літери \n",
    "-додала два порожні рядки між визначеннями функцій.\n",
    "-додала докстрінги \n",
    "-вирівняно відступи у 4 пробіли.\n"
   ]
  },
  {
   "cell_type": "markdown",
   "id": "7d1d4f5d",
   "metadata": {
    "id": "7d1d4f5d"
   },
   "source": [
    "Завдання 4."
   ]
  },
  {
   "cell_type": "code",
   "execution_count": null,
   "id": "a91c1cc4",
   "metadata": {
    "ExecuteTime": {
     "end_time": "2023-07-29T17:06:47.180263Z",
     "start_time": "2023-07-29T17:06:47.173617Z"
    },
    "id": "a91c1cc4"
   },
   "outputs": [],
   "source": [
    "list=[1,2,3,4,5]\n",
    "for i in range(len(list)):print(list[i])"
   ]
  },
  {
   "cell_type": "code",
   "execution_count": 7,
   "id": "c0f9541a",
   "metadata": {
    "execution": {
     "iopub.execute_input": "2025-10-12T18:23:07.250119Z",
     "iopub.status.busy": "2025-10-12T18:23:07.249045Z",
     "iopub.status.idle": "2025-10-12T18:23:07.255083Z",
     "shell.execute_reply": "2025-10-12T18:23:07.253914Z",
     "shell.execute_reply.started": "2025-10-12T18:23:07.250081Z"
    },
    "id": "c0f9541a"
   },
   "outputs": [
    {
     "name": "stdout",
     "output_type": "stream",
     "text": [
      "1\n",
      "2\n",
      "3\n",
      "4\n",
      "5\n"
     ]
    }
   ],
   "source": [
    "numbers = [1, 2, 3, 4, 5] \n",
    "\n",
    "for i in range(len(numbers)):\n",
    "    print(numbers[i])  \n"
   ]
  },
  {
   "cell_type": "code",
   "execution_count": null,
   "id": "4b1fb995-acef-4e54-a6d4-a599f979c106",
   "metadata": {},
   "outputs": [],
   "source": [
    "-змінила ім’я змінної  щоб не перекривати вбудований тип list.\n",
    "-додано пробіли після ком у списку [1, 2, 3, 4, 5].\n",
    "-перенесено інструкцію print() на новий рядок, а не в один рядок із for.\n",
    "-відступ — 4 пробіли."
   ]
  },
  {
   "cell_type": "markdown",
   "id": "8b0487e6",
   "metadata": {
    "id": "8b0487e6"
   },
   "source": [
    "5.У вас є DataFrame df, що представляє результати тестів студентів з математики, англійської мови та історії. Поточний код обчислює середній бал для кожного студента шляхом ітерації за рядками DataFrame за допомогою iterrows().\n",
    "\n",
    "Ваше завдання полягає в тому, щоб змінити код так, аби уникнути використання iterrows() і замість цього застосувати більш ефективне та читабельне рішення відповідно до правил, озвучених у лекції. Рефакторинг треба зробити лише частині, де рахуються середні, імпорт і визначення датафрейму лишаємо без змін."
   ]
  },
  {
   "cell_type": "code",
   "execution_count": 8,
   "id": "5b3cc648",
   "metadata": {
    "ExecuteTime": {
     "end_time": "2023-07-29T17:15:55.926882Z",
     "start_time": "2023-07-29T17:15:55.686415Z"
    },
    "execution": {
     "iopub.execute_input": "2025-10-12T18:25:06.937612Z",
     "iopub.status.busy": "2025-10-12T18:25:06.936962Z",
     "iopub.status.idle": "2025-10-12T18:25:10.485444Z",
     "shell.execute_reply": "2025-10-12T18:25:10.484681Z",
     "shell.execute_reply.started": "2025-10-12T18:25:06.937588Z"
    },
    "id": "5b3cc648"
   },
   "outputs": [],
   "source": [
    "import pandas as pd\n",
    "\n",
    "df = pd.DataFrame({\n",
    "    'student': ['Alice', 'Bob', 'Charlie', 'David'],\n",
    "    'math_score': [89, 94, 77, 85],\n",
    "    'english_score': [92, 88, 79, 85],\n",
    "    'history_score': [84, 92, 81, 89]\n",
    "})"
   ]
  },
  {
   "cell_type": "code",
   "execution_count": 9,
   "id": "f5858889",
   "metadata": {
    "ExecuteTime": {
     "end_time": "2023-07-29T17:15:55.926882Z",
     "start_time": "2023-07-29T17:15:55.686415Z"
    },
    "execution": {
     "iopub.execute_input": "2025-10-12T18:26:21.098792Z",
     "iopub.status.busy": "2025-10-12T18:26:21.098323Z",
     "iopub.status.idle": "2025-10-12T18:26:21.110900Z",
     "shell.execute_reply": "2025-10-12T18:26:21.109803Z",
     "shell.execute_reply.started": "2025-10-12T18:26:21.098768Z"
    },
    "id": "f5858889"
   },
   "outputs": [],
   "source": [
    "averages = []\n",
    "for _, row in df.iterrows():\n",
    "    averages.append((row['math_score'] + row['english_score'] + row['history_score']) / 3)\n",
    "\n",
    "df['average_score'] = averages"
   ]
  },
  {
   "cell_type": "code",
   "execution_count": 10,
   "id": "74cea4fc",
   "metadata": {
    "execution": {
     "iopub.execute_input": "2025-10-12T18:26:45.616609Z",
     "iopub.status.busy": "2025-10-12T18:26:45.616224Z",
     "iopub.status.idle": "2025-10-12T18:26:45.627043Z",
     "shell.execute_reply": "2025-10-12T18:26:45.625846Z",
     "shell.execute_reply.started": "2025-10-12T18:26:45.616589Z"
    },
    "id": "74cea4fc"
   },
   "outputs": [],
   "source": [
    "\n",
    "df[\"average_score\"] = (\n",
    "    df[[\"math_score\", \"english_score\", \"history_score\"]].mean(axis=1)\n",
    ")\n"
   ]
  },
  {
   "cell_type": "markdown",
   "id": "34fb1db9",
   "metadata": {
    "id": "34fb1db9"
   },
   "source": [
    "6.У Вас є великий DataFrame df, що представляє транзакції продажу в магазині. Цей DataFrame містить понад 1 мільйон рядків і кілька стовпців, зокрема «product_name», «product_category», «product_price» і «transaction_date».\n",
    "\n",
    "І «product_name», і «product_category» є рядками, що представляють численні, але обмежені унікальні назви продуктів і категорії відповідно.\n",
    "\n",
    "Напишіть код для ефективного перетворення стовпців «product_name» і «product_category» на категорійний тип для ефективного використання пам’яті.\n",
    "Спробуйте вирішити це завдання, мінімізуючи використання пам'яті та зберігаючи читабельність коду. Крім того, виміряйте використання пам’яті до та після перетворення, щоб продемонструвати підвищення ефективності.\n",
    "\n",
    "Порівняйте кількість памʼяті, яку займає наданий набір даних і новий, створений Вами. В лекції був приклад. В скільки разів менше памʼяті займає новий датафрейм?"
   ]
  },
  {
   "cell_type": "code",
   "execution_count": 11,
   "id": "d4926909",
   "metadata": {
    "ExecuteTime": {
     "end_time": "2023-07-29T21:19:30.009527Z",
     "start_time": "2023-07-29T21:19:29.595210Z"
    },
    "execution": {
     "iopub.execute_input": "2025-10-12T18:28:18.330276Z",
     "iopub.status.busy": "2025-10-12T18:28:18.329220Z",
     "iopub.status.idle": "2025-10-12T18:28:18.663599Z",
     "shell.execute_reply": "2025-10-12T18:28:18.662486Z",
     "shell.execute_reply.started": "2025-10-12T18:28:18.330254Z"
    },
    "id": "d4926909"
   },
   "outputs": [],
   "source": [
    "import pandas as pd\n",
    "import numpy as np\n",
    "\n",
    "np.random.seed(0)\n",
    "\n",
    "products = ['apple', 'banana', 'cherry', 'dates', 'elderberry']\n",
    "categories = ['fruit', 'fruit', 'fruit', 'fruit', 'fruit']\n",
    "\n",
    "N_ROWS = 10**6\n",
    "df = pd.DataFrame({\n",
    "    'product_name': np.random.choice(products, N_ROWS),\n",
    "    'product_category': np.random.choice(categories, N_ROWS),\n",
    "    'product_price': np.random.uniform(1, 10, N_ROWS),\n",
    "    'transaction_date': pd.date_range(start='1/1/2000', periods=N_ROWS, freq='h')\n",
    "})\n"
   ]
  },
  {
   "cell_type": "code",
   "execution_count": 12,
   "id": "25e731ac-cde5-4cff-9ff2-f8c8c940a65c",
   "metadata": {
    "execution": {
     "iopub.execute_input": "2025-10-12T18:29:32.358676Z",
     "iopub.status.busy": "2025-10-12T18:29:32.357608Z",
     "iopub.status.idle": "2025-10-12T18:29:32.891756Z",
     "shell.execute_reply": "2025-10-12T18:29:32.890780Z",
     "shell.execute_reply.started": "2025-10-12T18:29:32.358652Z"
    }
   },
   "outputs": [
    {
     "name": "stdout",
     "output_type": "stream",
     "text": [
      "Використання пам'яті ДО: 119.59 MB\n",
      "Використання пам'яті ПІСЛЯ: 17.17 MB\n",
      "Пам'ять зменшилася приблизно у 7.0 раз(и)\n"
     ]
    }
   ],
   "source": [
    "# 📏 Вимір пам'яті до оптимізації\n",
    "memory_before = df.memory_usage(deep=True).sum() / 1024**2\n",
    "print(f\"Використання пам'яті ДО: {memory_before:.2f} MB\")\n",
    "\n",
    "# ⚙️ Оптимізація: перетворення на категорійний тип\n",
    "df[\"product_name\"] = df[\"product_name\"].astype(\"category\")\n",
    "df[\"product_category\"] = df[\"product_category\"].astype(\"category\")\n",
    "\n",
    "# 📏 Вимір пам'яті після оптимізації\n",
    "memory_after = df.memory_usage(deep=True).sum() / 1024**2\n",
    "print(f\"Використання пам'яті ПІСЛЯ: {memory_after:.2f} MB\")\n",
    "\n",
    "# 📉 Порівняння ефективності\n",
    "reduction_ratio = memory_before / memory_after\n",
    "print(f\"Пам'ять зменшилася приблизно у {reduction_ratio:.1f} раз(и)\")"
   ]
  },
  {
   "cell_type": "markdown",
   "id": "131cc08d",
   "metadata": {
    "id": "131cc08d"
   },
   "source": [
    "7.В цьому завданні кілька пунктів. Треба виконати усі послідовно.   \n",
    "    7.1. Завантажте дані у pandas dataframe з файла `ecommerce_data.csv`. Обовʼязково при завантаженні вкажіть параметр `encoding = 'ISO-8859-1'`, без нього буде помилка.  \n",
    "    7.2. Заповніть пропущені значення в колонці CustomerID на -1 та перетворіть тип цієї колонки на str, адже зараз вона типу float, а це не правильний тип даних для ідентифікатора клієнта.  \n",
    "    7.3. З допомогою бібліотеки sweetviz побудуйте html звіт, який порівнює дані для країни \"Germany\" і країни \"France\". У Вас можуть виникнути багато попереджень (Warning), їх рекомендую вимкнути наступним шматком коду   \n",
    "    \n",
    "   \n",
    "    import warnings\n",
    "\n",
    "    with warnings.catch_warnings(record=True):\n",
    "        # your code\n",
    "    \n",
    "    \n",
    "   7.4.Напишіть 5 відмінностей для двох зазначених країн на основі побудованого звіту, без виконання додаткового аналізу іншими інструментами."
   ]
  },
  {
   "cell_type": "code",
   "execution_count": 17,
   "id": "17200e77",
   "metadata": {
    "execution": {
     "iopub.execute_input": "2025-10-12T18:37:06.947845Z",
     "iopub.status.busy": "2025-10-12T18:37:06.946793Z",
     "iopub.status.idle": "2025-10-12T18:37:07.562311Z",
     "shell.execute_reply": "2025-10-12T18:37:07.561541Z",
     "shell.execute_reply.started": "2025-10-12T18:37:06.947819Z"
    },
    "id": "17200e77"
   },
   "outputs": [],
   "source": [
    "df_ecommerce = pd.read_csv(\"D:/Studing DATA/Model_python/data/ecommerce_data.csv\",encoding=\"ISO-8859-1\")\n"
   ]
  },
  {
   "cell_type": "code",
   "execution_count": 18,
   "id": "248b15c4-31d6-4a58-9e11-7322c16afd9d",
   "metadata": {
    "execution": {
     "iopub.execute_input": "2025-10-12T18:37:08.629123Z",
     "iopub.status.busy": "2025-10-12T18:37:08.628586Z",
     "iopub.status.idle": "2025-10-12T18:37:08.940754Z",
     "shell.execute_reply": "2025-10-12T18:37:08.939430Z",
     "shell.execute_reply.started": "2025-10-12T18:37:08.629038Z"
    }
   },
   "outputs": [],
   "source": [
    "df_ecommerce[\"CustomerID\"] = df_ecommerce[\"CustomerID\"].fillna(-1)\n",
    "\n",
    "df_ecommerce[\"CustomerID\"] = df_ecommerce[\"CustomerID\"].astype(str)\n"
   ]
  },
  {
   "cell_type": "code",
   "execution_count": null,
   "id": "1533a4a4-3277-41e7-b147-b09678f35c8d",
   "metadata": {},
   "outputs": [],
   "source": [
    "import sweetviz as sv\n",
    "import warnings\n",
    "import numpy as np\n",
    "print(np.__version__) \n",
    "\n",
    "# Фільтруємо дані для Німеччини і Франції\n",
    "df_germany = df_ecommerce[df_ecommerce[\"Country\"] == \"Germany\"]\n",
    "df_france = df_ecommerce[df_ecommerce[\"Country\"] == \"France\"]\n",
    "\n",
    "# Вимкнення попереджень\n",
    "with warnings.catch_warnings(record=True):\n",
    "    warnings.simplefilter(\"ignore\")\n",
    "    warnings.simplefilter(action='ignore', category=FutureWarning)\n",
    "    warnings.simplefilter(action='ignore', category=DeprecationWarning)# ігноруємо всі warning\n",
    "\n",
    "    # Створюємо звіт Sweetviz для порівняння\n",
    "    report = sv.compare([df_germany, \"Germany\"], [df_france, \"France\"])\n",
    "\n",
    "    # Генеруємо HTML файл\n",
    "    report.show_html(\"Germany_vs_France_report.html\")"
   ]
  },
  {
   "cell_type": "markdown",
   "id": "07ae375a",
   "metadata": {
    "ExecuteTime": {
     "end_time": "2023-07-30T18:55:42.650457Z",
     "start_time": "2023-07-30T18:55:42.635729Z"
    },
    "id": "07ae375a"
   },
   "source": [
    "8.З допомогою ChatGPT виявіть, чи є та які помилки в наступному коді.  \n",
    "Попросіть після цього переписати код із дотриманням PEP8. Проаналізуйте результат. Чи справді ChatGPT виправив всі стилістичні помилки? Якщо ні, напишіть йому ще кілька запитів, аби код відповідав вимогам PEP8.  \n",
    "Вставте фінальну версію коду з чату у ноутбук та запустіть на заданому списку. Має вертатись 50.  \n",
    "Напишіть, які промпти (інструкції) при зверненні до ChatGPT ви застосували та додайте скріншот(-и) з промптами та відповідями чата.  \n",
    "Якщо зробили висновки при виконанні цього завдання, то діліться також :)\n",
    "\n",
    "**ЯК ВСТАВИТИ СКРІНШОТ в Jupyter Notebook** :\n",
    "1. Створіть нову Markdown клітинку\n",
    "2. В новоствореній клітинці обираєте в меню Jupyter Notebook Edit -> Insert Image\n",
    "3. Обираєте картинку\n",
    "4. В клітинці має зʼявитись текст, який містить картинку. Запустіть клітинку.\n",
    "\n",
    "Або можна просто перетягнути картинку в Markdown клітинку."
   ]
  },
  {
   "cell_type": "code",
   "execution_count": 29,
   "id": "a5c010c4",
   "metadata": {
    "ExecuteTime": {
     "end_time": "2023-07-30T19:16:20.977219Z",
     "start_time": "2023-07-30T19:16:20.973688Z"
    },
    "execution": {
     "iopub.execute_input": "2025-10-12T18:56:51.274241Z",
     "iopub.status.busy": "2025-10-12T18:56:51.273216Z",
     "iopub.status.idle": "2025-10-12T18:56:51.279287Z",
     "shell.execute_reply": "2025-10-12T18:56:51.278066Z",
     "shell.execute_reply.started": "2025-10-12T18:56:51.274216Z"
    },
    "id": "a5c010c4"
   },
   "outputs": [],
   "source": [
    "def CalculateVariance(nl):\n",
    "    sum_list = 0\n",
    "    for n in nl:\n",
    "        sum_list = sum_list + n\n",
    "    mean = sum_list / len(nl)\n",
    "    sum_squares = 0\n",
    "    for n in nl:\n",
    "        sum_squares = sum_squares + n**2\n",
    "    mean_squares = sum_squares / len(nl)\n",
    "    return mean_squares"
   ]
  },
  {
   "cell_type": "code",
   "execution_count": 30,
   "id": "24bb3f81",
   "metadata": {
    "ExecuteTime": {
     "end_time": "2023-07-30T19:16:09.201841Z",
     "start_time": "2023-07-30T19:16:09.199174Z"
    },
    "execution": {
     "iopub.execute_input": "2025-10-12T18:56:53.940238Z",
     "iopub.status.busy": "2025-10-12T18:56:53.939595Z",
     "iopub.status.idle": "2025-10-12T18:56:53.944895Z",
     "shell.execute_reply": "2025-10-12T18:56:53.943653Z",
     "shell.execute_reply.started": "2025-10-12T18:56:53.940215Z"
    },
    "id": "24bb3f81"
   },
   "outputs": [],
   "source": [
    "input_list = [75, 80, 85, 90, 95]"
   ]
  },
  {
   "cell_type": "code",
   "execution_count": 32,
   "id": "3e65df0c-f3a6-4382-96b3-0792a4902755",
   "metadata": {
    "execution": {
     "iopub.execute_input": "2025-10-12T19:00:42.531780Z",
     "iopub.status.busy": "2025-10-12T19:00:42.531073Z",
     "iopub.status.idle": "2025-10-12T19:00:42.538867Z",
     "shell.execute_reply": "2025-10-12T19:00:42.537622Z",
     "shell.execute_reply.started": "2025-10-12T19:00:42.531756Z"
    }
   },
   "outputs": [
    {
     "name": "stdout",
     "output_type": "stream",
     "text": [
      "50.0\n"
     ]
    }
   ],
   "source": [
    "def calculate_variance(numbers):\n",
    "    \"\"\"Обчислює дисперсію списку чисел.\"\"\"\n",
    "    \n",
    "    mean_value = sum(numbers) / len(numbers)\n",
    "    sum_squared_diff = 0\n",
    "    for n in numbers:\n",
    "        sum_squared_diff += (n - mean_value) ** 2\n",
    "\n",
    "    variance = sum_squared_diff / len(numbers)\n",
    "    return variance\n",
    "\n",
    "\n",
    "input_list = [75, 80, 85, 90, 95]\n",
    "\n",
    "result = calculate_variance(input_list)\n",
    "print(result)  \n"
   ]
  },
  {
   "cell_type": "code",
   "execution_count": null,
   "id": "ba7bc518-9125-401a-9839-778e29d7fa60",
   "metadata": {},
   "outputs": [],
   "source": [
    "Назва функції та змінних за PEP8: calculate_variance, numbers, mean_value, sum_squared_diff.\n",
    "\n",
    "Пробіли навколо операторів =, +, **.\n",
    "\n",
    "Додано порожні рядки між логічними блоками.\n",
    "\n",
    "Додано docstring для функції.\n",
    "\n",
    "Логіка розрахунку дисперсії виправлена, щоб на вхідному списку [75, 80, 85, 90, 95] результат був 50."
   ]
  },
  {
   "attachments": {
    "b5201700-cc62-4dab-a748-1ca7f6098a30.JPG": {
     "image/jpeg": "[encoded data removed]"
    }
   },
   "cell_type": "markdown",
   "id": "6f7e31bf-d530-470b-8ba2-96a52e5df025",
   "metadata": {},
   "source": [
    "![Записати.JPG](attachment:b5201700-cc62-4dab-a748-1ca7f6098a30.JPG)"
   ]
  }
 ],
 "metadata": {
  "colab": {
   "provenance": []
  },
  "kernelspec": {
   "display_name": "Python 3 (ipykernel)",
   "language": "python",
   "name": "python3"
  },
  "language_info": {
   "codemirror_mode": {
    "name": "ipython",
    "version": 3
   },
   "file_extension": ".py",
   "mimetype": "text/x-python",
   "name": "python",
   "nbconvert_exporter": "python",
   "pygments_lexer": "ipython3",
   "version": "3.13.3"
  },
  "toc": {
   "base_numbering": 1,
   "nav_menu": {},
   "number_sections": true,
   "sideBar": true,
   "skip_h1_title": false,
   "title_cell": "Table of Contents",
   "title_sidebar": "Contents",
   "toc_cell": false,
   "toc_position": {},
   "toc_section_display": true,
   "toc_window_display": false
  }
 },
 "nbformat": 4,
 "nbformat_minor": 5
}
