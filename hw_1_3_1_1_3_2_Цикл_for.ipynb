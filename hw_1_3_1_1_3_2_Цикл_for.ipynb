{
 "cells": [
  {
   "cell_type": "markdown",
   "metadata": {
    "id": "W8lqt6zd9axA"
   },
   "source": [
    "#Домашнє завдання до теми \"Цикл for\""
   ]
  },
  {
   "cell_type": "markdown",
   "metadata": {
    "id": "iXzoNTu604kH"
   },
   "source": [
    "0. Розігрів. Напишіть цикл, який виводить на екран числа від 1 до 10 включно."
   ]
  },
  {
   "cell_type": "code",
   "execution_count": 4,
   "metadata": {
    "execution": {
     "iopub.execute_input": "2025-06-21T08:36:55.221031Z",
     "iopub.status.busy": "2025-06-21T08:36:55.220612Z",
     "iopub.status.idle": "2025-06-21T08:36:55.226037Z",
     "shell.execute_reply": "2025-06-21T08:36:55.225177Z",
     "shell.execute_reply.started": "2025-06-21T08:36:55.221009Z"
    },
    "id": "zpwypSSp0MVm"
   },
   "outputs": [
    {
     "name": "stdout",
     "output_type": "stream",
     "text": [
      "1\n",
      "2\n",
      "3\n",
      "4\n",
      "5\n",
      "6\n",
      "7\n",
      "8\n",
      "9\n",
      "10\n"
     ]
    }
   ],
   "source": [
    "for i in range (1,11):\n",
    "    print(i)"
   ]
  },
  {
   "cell_type": "markdown",
   "metadata": {
    "id": "JmWR8uze094H"
   },
   "source": [
    "**Початок покладено!**"
   ]
  },
  {
   "cell_type": "markdown",
   "metadata": {
    "id": "OJX3yG-Blplu"
   },
   "source": [
    "1. Задайте список `numbers`, який містить значення від 0 до 9 включно. Використовуючи цикл `for`, обчисліть суму елементів в створеному списку та виведіть фінальну суму на екран."
   ]
  },
  {
   "cell_type": "code",
   "execution_count": 22,
   "metadata": {
    "execution": {
     "iopub.execute_input": "2025-06-21T16:44:06.361960Z",
     "iopub.status.busy": "2025-06-21T16:44:06.360299Z",
     "iopub.status.idle": "2025-06-21T16:44:06.377195Z",
     "shell.execute_reply": "2025-06-21T16:44:06.374390Z",
     "shell.execute_reply.started": "2025-06-21T16:44:06.361870Z"
    },
    "id": "sSX30A5yuvUQ"
   },
   "outputs": [
    {
     "name": "stdout",
     "output_type": "stream",
     "text": [
      "45\n"
     ]
    }
   ],
   "source": [
    "numbers = list(range(10))\n",
    "first = 0\n",
    "for num in numbers:\n",
    "    first += num  \n",
    "\n",
    "print(first)"
   ]
  },
  {
   "cell_type": "code",
   "execution_count": 42,
   "metadata": {
    "execution": {
     "iopub.execute_input": "2025-06-21T17:06:51.799583Z",
     "iopub.status.busy": "2025-06-21T17:06:51.799187Z",
     "iopub.status.idle": "2025-06-21T17:06:51.806225Z",
     "shell.execute_reply": "2025-06-21T17:06:51.805230Z",
     "shell.execute_reply.started": "2025-06-21T17:06:51.799562Z"
    }
   },
   "outputs": [
    {
     "name": "stdout",
     "output_type": "stream",
     "text": [
      "45\n"
     ]
    }
   ],
   "source": [
    "num_sum=sum(list(range(10)))\n",
    "print(num_sum)"
   ]
  },
  {
   "cell_type": "markdown",
   "metadata": {
    "id": "6Tb2Kx_jmD5b"
   },
   "source": [
    "2. Використовуючи цикл  `for` виведіть для кожного елементу списку `numbers`,який ми створили в завданні 1, чи цей елемент дорівнює 5. Тобто після виконання циклу на екрані має бути 10 bool значень."
   ]
  },
  {
   "cell_type": "code",
   "execution_count": 11,
   "metadata": {
    "execution": {
     "iopub.execute_input": "2025-06-21T08:48:30.066891Z",
     "iopub.status.busy": "2025-06-21T08:48:30.066051Z",
     "iopub.status.idle": "2025-06-21T08:48:30.071905Z",
     "shell.execute_reply": "2025-06-21T08:48:30.070814Z",
     "shell.execute_reply.started": "2025-06-21T08:48:30.066866Z"
    },
    "id": "Ls8ZW8DWuwHC"
   },
   "outputs": [
    {
     "name": "stdout",
     "output_type": "stream",
     "text": [
      "False\n",
      "False\n",
      "False\n",
      "False\n",
      "False\n",
      "True\n",
      "False\n",
      "False\n",
      "False\n",
      "False\n"
     ]
    }
   ],
   "source": [
    "for num in numbers:\n",
    "    print(num == 5)"
   ]
  },
  {
   "cell_type": "markdown",
   "metadata": {
    "id": "ddFE1naOmp7Q"
   },
   "source": [
    "3. Використовуючи цикл  `for` для кожного елементу списку `numbers`, який ми створили в завданні 1, виявіть, чи цей елемент ділиться на 2 без остачі, та запишіть результат у новий список `numbers_divisible_by_2`.\n",
    "\n",
    "Увага! Виконання завдання відрізняється від попереднього тим, що тепер ми результат обчислення на кожній ітерації записуємо у новий список. До того ж ми тут виконуємо іншу математичну операцію.\n",
    "\n",
    "Виведіть фільнальний список `numbers_divisible_by_2` на екран."
   ]
  },
  {
   "cell_type": "code",
   "execution_count": 14,
   "metadata": {
    "execution": {
     "iopub.execute_input": "2025-06-21T08:55:28.894528Z",
     "iopub.status.busy": "2025-06-21T08:55:28.893677Z",
     "iopub.status.idle": "2025-06-21T08:55:28.900301Z",
     "shell.execute_reply": "2025-06-21T08:55:28.899343Z",
     "shell.execute_reply.started": "2025-06-21T08:55:28.894489Z"
    },
    "id": "S2Pk_W12uyDo"
   },
   "outputs": [
    {
     "name": "stdout",
     "output_type": "stream",
     "text": [
      "[True, False, True, False, True, False, True, False, True, False]\n"
     ]
    }
   ],
   "source": [
    "numbers_divisible_by_2=[]\n",
    "for num in numbers:\n",
    "    numbers_divisible_by_2.append(num % 2 == 0)  \n",
    "\n",
    "print(numbers_divisible_by_2) \n"
   ]
  },
  {
   "cell_type": "markdown",
   "metadata": {
    "id": "cwvpWeVGnUGB"
   },
   "source": [
    "Очікуваний результат: `[True, False, True, False, True, False, True, False, True, False]`"
   ]
  },
  {
   "cell_type": "markdown",
   "metadata": {
    "id": "0rgeGpJ3utVN"
   },
   "source": [
    "4. Задано два списки в клітинці нижче - `a` і `b`. Створіть цикл, результатом якого буде список `result`, що містить елементи типу bool і який фактично каже,\n",
    "\"чи на цьому індексі елементи наших двох списків співпадають\". Приклад:\n",
    "```\n",
    "a = [1, 2, 3, 6]\n",
    "b = [1, 7, 3, 6]\n",
    "# ми виконали поелементне порівняння двох списків і отримали новий список result\n",
    "# result містить наступний результат -> [True, False, True, True]\n",
    "```\n",
    "В кінці виведіть вміст result на екран.\n",
    "\n",
    "<details>\n",
    "<summary>Підказка</summary>\n",
    "\n",
    "Аби порівняти елементи в циклі - треба створити цикл по індексам елементів. Зважаючи, що наші списки - одної довжини, цей підхід дозволить нам отримати чітко те, що треба.\n",
    "\n",
    "**Просунутий варіант.** Альтернативно можна створити цикл, який на кожній ітерації має доступ до двох елементів - по одному з кожного списка, для цього треба скористатись функцією `zip` - приклад [тут](https://realpython.com/python-zip-function/#traversing-lists-in-parallel)\n",
    "</details>\n"
   ]
  },
  {
   "cell_type": "code",
   "execution_count": 15,
   "metadata": {
    "execution": {
     "iopub.execute_input": "2025-06-21T16:34:14.389045Z",
     "iopub.status.busy": "2025-06-21T16:34:14.386863Z",
     "iopub.status.idle": "2025-06-21T16:34:14.432684Z",
     "shell.execute_reply": "2025-06-21T16:34:14.428935Z",
     "shell.execute_reply.started": "2025-06-21T16:34:14.388751Z"
    },
    "id": "IIYG41pWdJiG"
   },
   "outputs": [],
   "source": [
    "a = [64, 93, 60, 95, 66, 9, 15, 55, 77, 28, 74, 100, 13, 1, 85, 48, 66, 65, 59, 32]\n",
    "b = [64, 93, 60, 95, 66, 9, 15, 56, 77, 28, 74, 100, 13, 1, 85, 48, 67, 65, 59, 32]"
   ]
  },
  {
   "cell_type": "code",
   "execution_count": 19,
   "metadata": {
    "execution": {
     "iopub.execute_input": "2025-06-21T16:40:54.716718Z",
     "iopub.status.busy": "2025-06-21T16:40:54.714859Z",
     "iopub.status.idle": "2025-06-21T16:40:54.735771Z",
     "shell.execute_reply": "2025-06-21T16:40:54.732746Z",
     "shell.execute_reply.started": "2025-06-21T16:40:54.716639Z"
    },
    "id": "XgZwTwr4u2lA"
   },
   "outputs": [
    {
     "name": "stdout",
     "output_type": "stream",
     "text": [
      "[True, True, True, True, True, True, True, False, True, True, True, True, True, True, True, True, False, True, True, True]\n"
     ]
    }
   ],
   "source": [
    "result=[]\n",
    "for i in range(len(a)):\n",
    "    result.append(a[i] == b[i])\n",
    "\n",
    "print(result)\n",
    "    "
   ]
  },
  {
   "cell_type": "code",
   "execution_count": 20,
   "metadata": {
    "execution": {
     "iopub.execute_input": "2025-06-21T16:41:55.499233Z",
     "iopub.status.busy": "2025-06-21T16:41:55.497042Z",
     "iopub.status.idle": "2025-06-21T16:41:55.518277Z",
     "shell.execute_reply": "2025-06-21T16:41:55.513941Z",
     "shell.execute_reply.started": "2025-06-21T16:41:55.499152Z"
    }
   },
   "outputs": [
    {
     "name": "stdout",
     "output_type": "stream",
     "text": [
      "[True, True, True, True, True, True, True, False, True, True, True, True, True, True, True, True, False, True, True, True]\n"
     ]
    }
   ],
   "source": [
    "result = []\n",
    "\n",
    "for num_a, num_b in zip(a, b):\n",
    "    result.append(num_a == num_b)\n",
    "\n",
    "print(result)"
   ]
  },
  {
   "cell_type": "markdown",
   "metadata": {
    "id": "0Z2cObcTutVO"
   },
   "source": [
    "5. Нижче задано список `numbers`. Виконайте клітинку з його заданням.\n",
    "\n",
    "  Давайте знайдемо середнє арифметичне значення елементів списку `numbers` округлене до 2 цифр після коми та запишемо його у змінну `numbers_mean`. Для цього виконаємо два простих кроки.\n",
    "\n",
    "  1) Знайдіть суму всіх елементів списку `numbers` та запишіть її у змінну `numbers_sum`. Можна з використанням циклу, а можна і без.\n",
    "\n",
    "  2) Обчисліть `numbers_mean` шляхом ділення суми елементів у списку на їх кількість. Кількість елементів в списку - це його довжина.\n",
    "\n",
    "  Виведіть `numbers_mean`, округлений до 2 цифр після коми, на екран.\n",
    "\n",
    "  **Підказка**: округлити число можна з використанням вбудованої функції Python [round()](https://docs.python.org/3/library/functions.html#round)."
   ]
  },
  {
   "cell_type": "code",
   "execution_count": 23,
   "metadata": {
    "execution": {
     "iopub.execute_input": "2025-06-21T16:45:57.007827Z",
     "iopub.status.busy": "2025-06-21T16:45:57.006069Z",
     "iopub.status.idle": "2025-06-21T16:45:57.025936Z",
     "shell.execute_reply": "2025-06-21T16:45:57.022176Z",
     "shell.execute_reply.started": "2025-06-21T16:45:57.007686Z"
    },
    "id": "TwuOmLpeutVO"
   },
   "outputs": [],
   "source": [
    "numbers = [42, 51, 29, 2, 13, 44, 80, 66, 16]"
   ]
  },
  {
   "cell_type": "code",
   "execution_count": 25,
   "metadata": {
    "execution": {
     "iopub.execute_input": "2025-06-21T16:46:44.982336Z",
     "iopub.status.busy": "2025-06-21T16:46:44.980267Z",
     "iopub.status.idle": "2025-06-21T16:46:44.995265Z",
     "shell.execute_reply": "2025-06-21T16:46:44.992408Z",
     "shell.execute_reply.started": "2025-06-21T16:46:44.982250Z"
    },
    "id": "R-qDvKVcu6e1"
   },
   "outputs": [
    {
     "name": "stdout",
     "output_type": "stream",
     "text": [
      "343\n"
     ]
    }
   ],
   "source": [
    "numbers_sum=sum(numbers)\n",
    "print(numbers_sum)"
   ]
  },
  {
   "cell_type": "code",
   "execution_count": 28,
   "metadata": {
    "execution": {
     "iopub.execute_input": "2025-06-21T16:49:59.073072Z",
     "iopub.status.busy": "2025-06-21T16:49:59.071459Z",
     "iopub.status.idle": "2025-06-21T16:49:59.088024Z",
     "shell.execute_reply": "2025-06-21T16:49:59.084702Z",
     "shell.execute_reply.started": "2025-06-21T16:49:59.072995Z"
    }
   },
   "outputs": [
    {
     "name": "stdout",
     "output_type": "stream",
     "text": [
      "38.11\n"
     ]
    }
   ],
   "source": [
    "numbers_mean = numbers_sum/len(numbers)\n",
    "print(round(numbers_mean,2))"
   ]
  },
  {
   "cell_type": "markdown",
   "metadata": {
    "id": "pSdssHuuutVQ"
   },
   "source": [
    "Очікуваний результат: `38.11`"
   ]
  },
  {
   "cell_type": "markdown",
   "metadata": {
    "id": "JsevSvVtutVQ"
   },
   "source": [
    "6. Задано список `a` і елемент `element`. Перевірте програмно чи є в списку `a` елемент `element` з допомогою інструкцій `if ... else`. Виведіть на екран відповідь \"Так, є\", якщо цей елемент в списку присутній, або \"Ні, нема\", якщо його там немає.\n",
    "Важливо це зробити без використання імпортів будь-яких бібліотек.\n",
    "\n",
    "  Тут цикла немає :) Але це завдання - підготовче до наступного."
   ]
  },
  {
   "cell_type": "code",
   "execution_count": 29,
   "metadata": {
    "execution": {
     "iopub.execute_input": "2025-06-21T16:50:42.011287Z",
     "iopub.status.busy": "2025-06-21T16:50:42.008180Z",
     "iopub.status.idle": "2025-06-21T16:50:42.023536Z",
     "shell.execute_reply": "2025-06-21T16:50:42.020338Z",
     "shell.execute_reply.started": "2025-06-21T16:50:42.011192Z"
    },
    "id": "TqkTdlN_utVQ"
   },
   "outputs": [],
   "source": [
    "a = [64, 93, 60, 95, 66, 9, 15, 55, 77, 28, 74, 100, 13, 1, 85, 48, 66, 65, 59, 32]\n",
    "element = 33"
   ]
  },
  {
   "cell_type": "code",
   "execution_count": 35,
   "metadata": {
    "execution": {
     "iopub.execute_input": "2025-06-21T16:55:36.435436Z",
     "iopub.status.busy": "2025-06-21T16:55:36.433487Z",
     "iopub.status.idle": "2025-06-21T16:55:36.451924Z",
     "shell.execute_reply": "2025-06-21T16:55:36.448776Z",
     "shell.execute_reply.started": "2025-06-21T16:55:36.435298Z"
    }
   },
   "outputs": [
    {
     "name": "stdout",
     "output_type": "stream",
     "text": [
      "No, it is not\n"
     ]
    }
   ],
   "source": [
    "if a == element:\n",
    "        print(\"Yes,it is\")\n",
    "else:\n",
    "        print(\"No, it is not\")"
   ]
  },
  {
   "cell_type": "markdown",
   "metadata": {
    "id": "QKjmv4j0utVR"
   },
   "source": [
    "7. Тепер у нас не один елемент, а кілька. Вони наведені в змінній `elements`. За допомогою циклу і інструкцій `if ... else` для кожного елемента списку `elements` перевірте, чи він є в списку `a`.\n",
    "Виведіть на екран відповідь \"Так, є елемент <вставити значення елемента>\", якщо елемент в списку присутній, або \"Ні, нема елемента <вставити значення елемента>\", якщо його там немає."
   ]
  },
  {
   "cell_type": "code",
   "execution_count": 36,
   "metadata": {
    "execution": {
     "iopub.execute_input": "2025-06-21T16:56:46.188601Z",
     "iopub.status.busy": "2025-06-21T16:56:46.188037Z",
     "iopub.status.idle": "2025-06-21T16:56:46.193422Z",
     "shell.execute_reply": "2025-06-21T16:56:46.192468Z",
     "shell.execute_reply.started": "2025-06-21T16:56:46.188560Z"
    },
    "id": "TF3nT5TMutVR"
   },
   "outputs": [],
   "source": [
    "elements = [44, 66, 77, 100]"
   ]
  },
  {
   "cell_type": "code",
   "execution_count": 39,
   "metadata": {
    "execution": {
     "iopub.execute_input": "2025-06-21T17:04:12.571203Z",
     "iopub.status.busy": "2025-06-21T17:04:12.570781Z",
     "iopub.status.idle": "2025-06-21T17:04:12.577233Z",
     "shell.execute_reply": "2025-06-21T17:04:12.575987Z",
     "shell.execute_reply.started": "2025-06-21T17:04:12.571183Z"
    },
    "id": "pQD5InOQvG1d"
   },
   "outputs": [
    {
     "name": "stdout",
     "output_type": "stream",
     "text": [
      "Ні, нема елемента 44\n",
      "Так, є елемент 66\n",
      "Так, є елемент 77\n",
      "Так, є елемент 100\n"
     ]
    }
   ],
   "source": [
    "for current_element in elements:\n",
    "    if current_element in a:\n",
    "        print(f\"Так, є елемент {current_element}\")\n",
    "    else:\n",
    "        print(f\"Ні, нема елемента {current_element}\")\n",
    "    "
   ]
  }
 ],
 "metadata": {
  "colab": {
   "provenance": []
  },
  "kernelspec": {
   "display_name": "Python 3 (ipykernel)",
   "language": "python",
   "name": "python3"
  },
  "language_info": {
   "codemirror_mode": {
    "name": "ipython",
    "version": 3
   },
   "file_extension": ".py",
   "mimetype": "text/x-python",
   "name": "python",
   "nbconvert_exporter": "python",
   "pygments_lexer": "ipython3",
   "version": "3.13.3"
  }
 },
 "nbformat": 4,
 "nbformat_minor": 4
}
