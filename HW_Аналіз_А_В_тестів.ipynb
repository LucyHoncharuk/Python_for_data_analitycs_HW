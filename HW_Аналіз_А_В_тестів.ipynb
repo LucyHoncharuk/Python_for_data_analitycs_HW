{
 "cells": [
  {
   "cell_type": "markdown",
   "metadata": {
    "ExecuteTime": {
     "end_time": "2022-12-10T17:43:42.137588Z",
     "start_time": "2022-12-10T17:43:42.124712Z"
    },
    "id": "f41183ed"
   },
   "source": [
    "## Аналіз A/B-тестів\n",
    "\n",
    "Ви - аналітик даних в ІТ-компанії і до вас надійшла задача проаналізувати дані A/B тесту в популярній [грі Cookie Cats](https://www.facebook.com/cookiecatsgame). Це - гра-головоломка в стилі «з’єднай три», де гравець повинен з’єднати плитки одного кольору, щоб очистити дошку та виграти рівень. На дошці також зображені співаючі котики :)\n",
    "\n",
    "Під час проходження гри гравці стикаються з воротами, які змушують їх чекати деякий час, перш ніж вони зможуть прогресувати або зробити покупку в додатку.\n",
    "\n",
    "У цьому блоці завдань ми проаналізуємо результати A/B тесту, коли перші ворота в Cookie Cats було переміщено з рівня 30 на рівень 40. Зокрема, ми хочемо зрозуміти, як це вплинуло на утримання (retention) гравців. Тобто хочемо зрозуміти, чи переміщення воріт на 10 рівнів пізніше якимось чином вплинуло на те, що користувачі перестають грати в гру раніше чи пізніше з точки зору кількості їх днів з моменту встановлення гри.\n",
    "\n",
    "Будемо працювати з даними з файлу `cookie_cats.csv`. Колонки в даних наступні:\n",
    "\n",
    "- `userid` - унікальний номер, який ідентифікує кожного гравця.\n",
    "- `version` - чи потрапив гравець в контрольну групу (gate_30 - ворота на 30 рівні) чи тестову групу (gate_40 - ворота на 40 рівні).\n",
    "- `sum_gamerounds` - кількість ігрових раундів, зіграних гравцем протягом першого тижня після встановлення\n",
    "- `retention_1` - чи через 1 день після встановлення гравець повернувся і почав грати?\n",
    "- `retention_7` - чи через 7 днів після встановлення гравець повернувся і почав грати?\n",
    "\n",
    "Коли гравець встановлював гру, його випадковим чином призначали до групи gate_30 або gate_40."
   ]
  },
  {
   "cell_type": "code",
   "execution_count": 34,
   "metadata": {
    "execution": {
     "iopub.execute_input": "2025-09-01T15:53:52.674079Z",
     "iopub.status.busy": "2025-09-01T15:53:52.673286Z",
     "iopub.status.idle": "2025-09-01T15:53:52.680493Z",
     "shell.execute_reply": "2025-09-01T15:53:52.679240Z",
     "shell.execute_reply.started": "2025-09-01T15:53:52.674041Z"
    }
   },
   "outputs": [],
   "source": [
    "import numpy as np\n",
    "import pandas as pd\n",
    "import scipy.stats as stats\n",
    "import statsmodels.stats.api as sms\n",
    "import matplotlib as mpl\n",
    "import matplotlib.pyplot as plt\n",
    "import seaborn as sns\n",
    "from math import ceil\n",
    "from statsmodels.stats.proportion import proportions_ztest, proportion_confint\n",
    "%matplotlib inline"
   ]
  },
  {
   "cell_type": "code",
   "execution_count": 22,
   "metadata": {
    "execution": {
     "iopub.execute_input": "2025-09-01T15:40:35.764029Z",
     "iopub.status.busy": "2025-09-01T15:40:35.763484Z",
     "iopub.status.idle": "2025-09-01T15:40:35.815552Z",
     "shell.execute_reply": "2025-09-01T15:40:35.814329Z",
     "shell.execute_reply.started": "2025-09-01T15:40:35.763976Z"
    }
   },
   "outputs": [],
   "source": [
    "df = pd.read_csv(\"D:/Studing DATA/Model_python/data/statistical_hypothesis/statistical_hypothesis/cookie_cats.csv\")"
   ]
  },
  {
   "cell_type": "code",
   "execution_count": 25,
   "metadata": {
    "execution": {
     "iopub.execute_input": "2025-09-01T15:41:17.099558Z",
     "iopub.status.busy": "2025-09-01T15:41:17.099208Z",
     "iopub.status.idle": "2025-09-01T15:41:17.109253Z",
     "shell.execute_reply": "2025-09-01T15:41:17.108223Z",
     "shell.execute_reply.started": "2025-09-01T15:41:17.099536Z"
    }
   },
   "outputs": [
    {
     "data": {
      "text/html": [
       "<div>\n",
       "<style scoped>\n",
       "    .dataframe tbody tr th:only-of-type {\n",
       "        vertical-align: middle;\n",
       "    }\n",
       "\n",
       "    .dataframe tbody tr th {\n",
       "        vertical-align: top;\n",
       "    }\n",
       "\n",
       "    .dataframe thead th {\n",
       "        text-align: right;\n",
       "    }\n",
       "</style>\n",
       "<table border=\"1\" class=\"dataframe\">\n",
       "  <thead>\n",
       "    <tr style=\"text-align: right;\">\n",
       "      <th></th>\n",
       "      <th>userid</th>\n",
       "      <th>version</th>\n",
       "      <th>sum_gamerounds</th>\n",
       "      <th>retention_1</th>\n",
       "      <th>retention_7</th>\n",
       "    </tr>\n",
       "  </thead>\n",
       "  <tbody>\n",
       "    <tr>\n",
       "      <th>0</th>\n",
       "      <td>116</td>\n",
       "      <td>gate_30</td>\n",
       "      <td>3</td>\n",
       "      <td>0</td>\n",
       "      <td>0</td>\n",
       "    </tr>\n",
       "    <tr>\n",
       "      <th>1</th>\n",
       "      <td>337</td>\n",
       "      <td>gate_30</td>\n",
       "      <td>38</td>\n",
       "      <td>1</td>\n",
       "      <td>0</td>\n",
       "    </tr>\n",
       "    <tr>\n",
       "      <th>2</th>\n",
       "      <td>377</td>\n",
       "      <td>gate_40</td>\n",
       "      <td>165</td>\n",
       "      <td>1</td>\n",
       "      <td>0</td>\n",
       "    </tr>\n",
       "    <tr>\n",
       "      <th>3</th>\n",
       "      <td>483</td>\n",
       "      <td>gate_40</td>\n",
       "      <td>1</td>\n",
       "      <td>0</td>\n",
       "      <td>0</td>\n",
       "    </tr>\n",
       "    <tr>\n",
       "      <th>4</th>\n",
       "      <td>488</td>\n",
       "      <td>gate_40</td>\n",
       "      <td>179</td>\n",
       "      <td>1</td>\n",
       "      <td>1</td>\n",
       "    </tr>\n",
       "  </tbody>\n",
       "</table>\n",
       "</div>"
      ],
      "text/plain": [
       "   userid  version  sum_gamerounds  retention_1  retention_7\n",
       "0     116  gate_30               3            0            0\n",
       "1     337  gate_30              38            1            0\n",
       "2     377  gate_40             165            1            0\n",
       "3     483  gate_40               1            0            0\n",
       "4     488  gate_40             179            1            1"
      ]
     },
     "execution_count": 25,
     "metadata": {},
     "output_type": "execute_result"
    }
   ],
   "source": [
    "df.head()"
   ]
  },
  {
   "cell_type": "code",
   "execution_count": 26,
   "metadata": {
    "execution": {
     "iopub.execute_input": "2025-09-01T15:41:21.068237Z",
     "iopub.status.busy": "2025-09-01T15:41:21.067322Z",
     "iopub.status.idle": "2025-09-01T15:41:21.073893Z",
     "shell.execute_reply": "2025-09-01T15:41:21.072797Z",
     "shell.execute_reply.started": "2025-09-01T15:41:21.068213Z"
    }
   },
   "outputs": [],
   "source": [
    "df['retention_1'] = df['retention_1'].astype(int)\n",
    "df['retention_7'] = df['retention_7'].astype(int)"
   ]
  },
  {
   "cell_type": "code",
   "execution_count": 27,
   "metadata": {
    "execution": {
     "iopub.execute_input": "2025-09-01T15:41:22.979291Z",
     "iopub.status.busy": "2025-09-01T15:41:22.978232Z",
     "iopub.status.idle": "2025-09-01T15:41:22.994034Z",
     "shell.execute_reply": "2025-09-01T15:41:22.992666Z",
     "shell.execute_reply.started": "2025-09-01T15:41:22.979267Z"
    }
   },
   "outputs": [
    {
     "name": "stdout",
     "output_type": "stream",
     "text": [
      "<class 'pandas.core.frame.DataFrame'>\n",
      "RangeIndex: 90189 entries, 0 to 90188\n",
      "Data columns (total 5 columns):\n",
      " #   Column          Non-Null Count  Dtype \n",
      "---  ------          --------------  ----- \n",
      " 0   userid          90189 non-null  int64 \n",
      " 1   version         90189 non-null  object\n",
      " 2   sum_gamerounds  90189 non-null  int64 \n",
      " 3   retention_1     90189 non-null  int64 \n",
      " 4   retention_7     90189 non-null  int64 \n",
      "dtypes: int64(4), object(1)\n",
      "memory usage: 3.4+ MB\n"
     ]
    }
   ],
   "source": [
    "df.info()"
   ]
  },
  {
   "cell_type": "markdown",
   "metadata": {
    "id": "XKhHA3eiueo0"
   },
   "source": [
    "1. Для початку, уявімо, що ми тільки плануємо проведення зазначеного А/B-тесту і хочемо зрозуміти, дані про скількох користувачів нам треба зібрати, аби досягнути відчутного ефекту. Відчутним ефектом ми вважатимемо збільшення утримання на 1% після внесення зміни. Обчисліть, скільки користувачів сумарно нам треба аби досягнути такого ефекту, якщо продакт менеджер нам повідомив, що базове утримання є 19%."
   ]
  },
  {
   "cell_type": "code",
   "execution_count": 28,
   "metadata": {
    "execution": {
     "iopub.execute_input": "2025-09-01T15:41:36.812457Z",
     "iopub.status.busy": "2025-09-01T15:41:36.811795Z",
     "iopub.status.idle": "2025-09-01T15:41:36.817136Z",
     "shell.execute_reply": "2025-09-01T15:41:36.816097Z",
     "shell.execute_reply.started": "2025-09-01T15:41:36.812393Z"
    },
    "id": "TcZ32BcIufKU"
   },
   "outputs": [],
   "source": [
    "effect_size = sms.proportion_effectsize(0.20, 0.19)"
   ]
  },
  {
   "cell_type": "code",
   "execution_count": 29,
   "metadata": {
    "execution": {
     "iopub.execute_input": "2025-09-01T15:41:38.781155Z",
     "iopub.status.busy": "2025-09-01T15:41:38.780687Z",
     "iopub.status.idle": "2025-09-01T15:41:38.788024Z",
     "shell.execute_reply": "2025-09-01T15:41:38.786435Z",
     "shell.execute_reply.started": "2025-09-01T15:41:38.781118Z"
    }
   },
   "outputs": [
    {
     "data": {
      "text/plain": [
       "np.float64(0.025241594409087353)"
      ]
     },
     "execution_count": 29,
     "metadata": {},
     "output_type": "execute_result"
    }
   ],
   "source": [
    "effect_size"
   ]
  },
  {
   "cell_type": "code",
   "execution_count": 30,
   "metadata": {
    "execution": {
     "iopub.execute_input": "2025-09-01T15:41:44.105676Z",
     "iopub.status.busy": "2025-09-01T15:41:44.105233Z",
     "iopub.status.idle": "2025-09-01T15:41:44.123417Z",
     "shell.execute_reply": "2025-09-01T15:41:44.122180Z",
     "shell.execute_reply.started": "2025-09-01T15:41:44.105654Z"
    }
   },
   "outputs": [
    {
     "name": "stdout",
     "output_type": "stream",
     "text": [
      "24638\n"
     ]
    }
   ],
   "source": [
    "required_n = sms.NormalIndPower().solve_power(\n",
    "    effect_size,\n",
    "    power=0.8,\n",
    "    alpha=0.05,\n",
    "    ratio=1\n",
    "    )                                                  # Розрахунок необхідного розміру вибірки\n",
    "\n",
    "required_n = ceil(required_n)                          # Округлення до наступного цілого числа\n",
    "\n",
    "print(required_n)"
   ]
  },
  {
   "cell_type": "markdown",
   "metadata": {
    "id": "22f03df4"
   },
   "source": [
    "2. Зчитайте дані АВ тесту у змінну `df` та виведіть середнє значення показника показник `retention_7` (утримання на 7 день) по версіям гри. Сформулюйте гіпотезу: яка версія дає краще утримання через 7 днів після встановлення гри?"
   ]
  },
  {
   "cell_type": "code",
   "execution_count": 32,
   "metadata": {
    "execution": {
     "iopub.execute_input": "2025-09-01T15:46:36.866281Z",
     "iopub.status.busy": "2025-09-01T15:46:36.865315Z",
     "iopub.status.idle": "2025-09-01T15:46:36.916725Z",
     "shell.execute_reply": "2025-09-01T15:46:36.915345Z",
     "shell.execute_reply.started": "2025-09-01T15:46:36.866256Z"
    },
    "id": "MVzMTs-jh22b"
   },
   "outputs": [
    {
     "name": "stdout",
     "output_type": "stream",
     "text": [
      "Середнє retention_7 для gate_30 - 19.02%\n",
      "Середнє retention_7 для gate_40 - 18.20%\n"
     ]
    }
   ],
   "source": [
    "df_gate30 = df[df['version'] == 'gate_30']\n",
    "ret_7_mean_30 = df_gate30['retention_7'].mean()\n",
    "\n",
    "df_gate40 = df[df['version'] == 'gate_40']\n",
    "ret_7_mean_40 = df_gate40['retention_7'].mean()\n",
    "\n",
    "print(f\"Середнє retention_7 для gate_30 - {ret_7_mean_30*100:.2f}%\")\n",
    "print(f\"Середнє retention_7 для gate_40 - {ret_7_mean_40*100:.2f}%\")"
   ]
  },
  {
   "cell_type": "markdown",
   "metadata": {
    "execution": {
     "iopub.execute_input": "2025-09-01T15:51:05.834966Z",
     "iopub.status.busy": "2025-09-01T15:51:05.834299Z",
     "iopub.status.idle": "2025-09-01T15:51:05.843243Z",
     "shell.execute_reply": "2025-09-01T15:51:05.841802Z",
     "shell.execute_reply.started": "2025-09-01T15:51:05.834943Z"
    }
   },
   "source": [
    "\n",
    "**Гіпотези**   \n",
    "\n",
    "H₀: μ = 19 % (всі користувачі утримуються )  \n",
    "H₁: μ != 19 (після переміщення гейту на 40 рівень утримання змінилось)  \n",
    "Тип тесту: двосторонній  \n",
    "\n",
    "Видно наочно , що переміщення гейту вплинуло на утримання , середнє зменшилось тому не бачу сенсу перевіряти чи воно зросло,а от взагалі чи ця зміна значна треба перевірити.\n"
   ]
  },
  {
   "cell_type": "markdown",
   "metadata": {
    "id": "74e9c6ca"
   },
   "source": [
    "3. Перевірте з допомогою пасуючого варіанту z-тесту, чи дає якась з версій гри кращий показник `retention_7` на рівні значущості 0.05. Обчисліть також довірчі інтервали для варіантів до переміщення воріт і після. Виведіть результат у форматі:\n",
    "\n",
    "    ```\n",
    "    z statistic: ...\n",
    "    p-value: ...\n",
    "    Довірчий інтервал 95% для групи control: [..., ...]\n",
    "    Довірчий інтервал 95% для групи treatment: [..., ...]\n",
    "    ```\n",
    "\n",
    "    де замість `...` - обчислені значення.\n",
    "    \n",
    "    В якості висновку дайте відповідь на два питання:  \n",
    "\n",
    "      1. Чи є статистична значущою різниця між поведінкою користувачів у різних версіях гри?   \n",
    "      2. Чи перетинаються довірчі інтервали утримання користувачів з різних версій гри? Про що це каже?  \n"
   ]
  },
  {
   "cell_type": "code",
   "execution_count": 35,
   "metadata": {
    "execution": {
     "iopub.execute_input": "2025-09-01T15:59:32.484572Z",
     "iopub.status.busy": "2025-09-01T15:59:32.483900Z",
     "iopub.status.idle": "2025-09-01T15:59:32.535681Z",
     "shell.execute_reply": "2025-09-01T15:59:32.535084Z",
     "shell.execute_reply.started": "2025-09-01T15:59:32.484534Z"
    }
   },
   "outputs": [],
   "source": [
    "control_sample = df[df['version'] == 'gate_30'].sample(n=required_n, random_state=22)\n",
    "treatment_sample = df[df['version'] == 'gate_40'].sample(n=required_n, random_state=22)\n",
    "\n",
    "ab_test = pd.concat([control_sample, treatment_sample], axis=0)\n",
    "ab_test.reset_index(drop=True, inplace=True)"
   ]
  },
  {
   "cell_type": "code",
   "execution_count": 36,
   "metadata": {
    "execution": {
     "iopub.execute_input": "2025-09-01T15:59:51.761389Z",
     "iopub.status.busy": "2025-09-01T15:59:51.760715Z",
     "iopub.status.idle": "2025-09-01T15:59:51.772304Z",
     "shell.execute_reply": "2025-09-01T15:59:51.770827Z",
     "shell.execute_reply.started": "2025-09-01T15:59:51.761364Z"
    }
   },
   "outputs": [
    {
     "data": {
      "text/html": [
       "<div>\n",
       "<style scoped>\n",
       "    .dataframe tbody tr th:only-of-type {\n",
       "        vertical-align: middle;\n",
       "    }\n",
       "\n",
       "    .dataframe tbody tr th {\n",
       "        vertical-align: top;\n",
       "    }\n",
       "\n",
       "    .dataframe thead th {\n",
       "        text-align: right;\n",
       "    }\n",
       "</style>\n",
       "<table border=\"1\" class=\"dataframe\">\n",
       "  <thead>\n",
       "    <tr style=\"text-align: right;\">\n",
       "      <th></th>\n",
       "      <th>userid</th>\n",
       "      <th>version</th>\n",
       "      <th>sum_gamerounds</th>\n",
       "      <th>retention_1</th>\n",
       "      <th>retention_7</th>\n",
       "    </tr>\n",
       "  </thead>\n",
       "  <tbody>\n",
       "    <tr>\n",
       "      <th>0</th>\n",
       "      <td>7540471</td>\n",
       "      <td>gate_30</td>\n",
       "      <td>45</td>\n",
       "      <td>1</td>\n",
       "      <td>0</td>\n",
       "    </tr>\n",
       "    <tr>\n",
       "      <th>1</th>\n",
       "      <td>3589138</td>\n",
       "      <td>gate_30</td>\n",
       "      <td>21</td>\n",
       "      <td>1</td>\n",
       "      <td>0</td>\n",
       "    </tr>\n",
       "    <tr>\n",
       "      <th>2</th>\n",
       "      <td>3177668</td>\n",
       "      <td>gate_30</td>\n",
       "      <td>14</td>\n",
       "      <td>1</td>\n",
       "      <td>0</td>\n",
       "    </tr>\n",
       "    <tr>\n",
       "      <th>3</th>\n",
       "      <td>2133884</td>\n",
       "      <td>gate_30</td>\n",
       "      <td>26</td>\n",
       "      <td>0</td>\n",
       "      <td>0</td>\n",
       "    </tr>\n",
       "    <tr>\n",
       "      <th>4</th>\n",
       "      <td>492763</td>\n",
       "      <td>gate_30</td>\n",
       "      <td>39</td>\n",
       "      <td>1</td>\n",
       "      <td>1</td>\n",
       "    </tr>\n",
       "  </tbody>\n",
       "</table>\n",
       "</div>"
      ],
      "text/plain": [
       "    userid  version  sum_gamerounds  retention_1  retention_7\n",
       "0  7540471  gate_30              45            1            0\n",
       "1  3589138  gate_30              21            1            0\n",
       "2  3177668  gate_30              14            1            0\n",
       "3  2133884  gate_30              26            0            0\n",
       "4   492763  gate_30              39            1            1"
      ]
     },
     "execution_count": 36,
     "metadata": {},
     "output_type": "execute_result"
    }
   ],
   "source": [
    "ab_test.head()"
   ]
  },
  {
   "cell_type": "code",
   "execution_count": 37,
   "metadata": {
    "execution": {
     "iopub.execute_input": "2025-09-01T16:00:58.488901Z",
     "iopub.status.busy": "2025-09-01T16:00:58.488133Z",
     "iopub.status.idle": "2025-09-01T16:00:58.500027Z",
     "shell.execute_reply": "2025-09-01T16:00:58.498785Z",
     "shell.execute_reply.started": "2025-09-01T16:00:58.488875Z"
    }
   },
   "outputs": [
    {
     "data": {
      "text/plain": [
       "version\n",
       "gate_30    24638\n",
       "gate_40    24638\n",
       "Name: count, dtype: int64"
      ]
     },
     "execution_count": 37,
     "metadata": {},
     "output_type": "execute_result"
    }
   ],
   "source": [
    "ab_test['version'].value_counts()"
   ]
  },
  {
   "cell_type": "code",
   "execution_count": 38,
   "metadata": {
    "execution": {
     "iopub.execute_input": "2025-09-01T16:01:55.129330Z",
     "iopub.status.busy": "2025-09-01T16:01:55.128596Z",
     "iopub.status.idle": "2025-09-01T16:01:55.309518Z",
     "shell.execute_reply": "2025-09-01T16:01:55.308670Z",
     "shell.execute_reply.started": "2025-09-01T16:01:55.129277Z"
    }
   },
   "outputs": [
    {
     "data": {
      "text/html": [
       "<style type=\"text/css\">\n",
       "</style>\n",
       "<table id=\"T_1dc65\">\n",
       "  <thead>\n",
       "    <tr>\n",
       "      <th class=\"blank level0\" >&nbsp;</th>\n",
       "      <th id=\"T_1dc65_level0_col0\" class=\"col_heading level0 col0\" >conversion_rate</th>\n",
       "      <th id=\"T_1dc65_level0_col1\" class=\"col_heading level0 col1\" >std_deviation</th>\n",
       "      <th id=\"T_1dc65_level0_col2\" class=\"col_heading level0 col2\" >std_error</th>\n",
       "    </tr>\n",
       "    <tr>\n",
       "      <th class=\"index_name level0\" >version</th>\n",
       "      <th class=\"blank col0\" >&nbsp;</th>\n",
       "      <th class=\"blank col1\" >&nbsp;</th>\n",
       "      <th class=\"blank col2\" >&nbsp;</th>\n",
       "    </tr>\n",
       "  </thead>\n",
       "  <tbody>\n",
       "    <tr>\n",
       "      <th id=\"T_1dc65_level0_row0\" class=\"row_heading level0 row0\" >gate_30</th>\n",
       "      <td id=\"T_1dc65_row0_col0\" class=\"data row0 col0\" >0.18914</td>\n",
       "      <td id=\"T_1dc65_row0_col1\" class=\"data row0 col1\" >0.39163</td>\n",
       "      <td id=\"T_1dc65_row0_col2\" class=\"data row0 col2\" >0.00249</td>\n",
       "    </tr>\n",
       "    <tr>\n",
       "      <th id=\"T_1dc65_level0_row1\" class=\"row_heading level0 row1\" >gate_40</th>\n",
       "      <td id=\"T_1dc65_row1_col0\" class=\"data row1 col0\" >0.17798</td>\n",
       "      <td id=\"T_1dc65_row1_col1\" class=\"data row1 col1\" >0.38250</td>\n",
       "      <td id=\"T_1dc65_row1_col2\" class=\"data row1 col2\" >0.00244</td>\n",
       "    </tr>\n",
       "  </tbody>\n",
       "</table>\n"
      ],
      "text/plain": [
       "<pandas.io.formats.style.Styler at 0x16a322ec050>"
      ]
     },
     "execution_count": 38,
     "metadata": {},
     "output_type": "execute_result"
    }
   ],
   "source": [
    "conversion_rates = ab_test.groupby('version')['retention_7']\n",
    "conversion_rates = conversion_rates.agg(['mean', 'std', stats.sem])\n",
    "conversion_rates.columns = ['conversion_rate', 'std_deviation', 'std_error']\n",
    "\n",
    "\n",
    "conversion_rates.style.format('{:.5f}')"
   ]
  },
  {
   "cell_type": "code",
   "execution_count": 39,
   "metadata": {
    "execution": {
     "iopub.execute_input": "2025-09-01T16:03:32.677108Z",
     "iopub.status.busy": "2025-09-01T16:03:32.676550Z",
     "iopub.status.idle": "2025-09-01T16:03:32.694524Z",
     "shell.execute_reply": "2025-09-01T16:03:32.693695Z",
     "shell.execute_reply.started": "2025-09-01T16:03:32.677083Z"
    }
   },
   "outputs": [],
   "source": [
    "control_results = ab_test[ab_test['version'] == 'gate_30']['retention_7']\n",
    "treatment_results = ab_test[ab_test['version'] == 'gate_40']['retention_7']"
   ]
  },
  {
   "cell_type": "code",
   "execution_count": 40,
   "metadata": {
    "execution": {
     "iopub.execute_input": "2025-09-01T16:03:34.612068Z",
     "iopub.status.busy": "2025-09-01T16:03:34.611017Z",
     "iopub.status.idle": "2025-09-01T16:03:34.617486Z",
     "shell.execute_reply": "2025-09-01T16:03:34.616388Z",
     "shell.execute_reply.started": "2025-09-01T16:03:34.612043Z"
    },
    "id": "kXQE4gyjh5MS"
   },
   "outputs": [],
   "source": [
    "n_con = control_results.count()\n",
    "n_treat = treatment_results.count()\n",
    "successes = [control_results.sum(), treatment_results.sum()]\n",
    "nobs = [n_con, n_treat]"
   ]
  },
  {
   "cell_type": "code",
   "execution_count": 41,
   "metadata": {
    "execution": {
     "iopub.execute_input": "2025-09-01T16:03:46.024948Z",
     "iopub.status.busy": "2025-09-01T16:03:46.024350Z",
     "iopub.status.idle": "2025-09-01T16:03:46.031888Z",
     "shell.execute_reply": "2025-09-01T16:03:46.030729Z",
     "shell.execute_reply.started": "2025-09-01T16:03:46.024923Z"
    }
   },
   "outputs": [
    {
     "data": {
      "text/plain": [
       "[np.int64(4660), np.int64(4385)]"
      ]
     },
     "execution_count": 41,
     "metadata": {},
     "output_type": "execute_result"
    }
   ],
   "source": [
    "successes"
   ]
  },
  {
   "cell_type": "code",
   "execution_count": 43,
   "metadata": {
    "execution": {
     "iopub.execute_input": "2025-09-01T16:06:22.274078Z",
     "iopub.status.busy": "2025-09-01T16:06:22.273557Z",
     "iopub.status.idle": "2025-09-01T16:06:22.282293Z",
     "shell.execute_reply": "2025-09-01T16:06:22.281319Z",
     "shell.execute_reply.started": "2025-09-01T16:06:22.274054Z"
    }
   },
   "outputs": [
    {
     "name": "stdout",
     "output_type": "stream",
     "text": [
      "z statistic: 3.20\n",
      "p-value: 0.001\n",
      "Довірчий інтервал 95% для групи control: [0.184, 0.194]\n",
      "Довірчий інтервал 95% для групи treatment: [0.173, 0.183]\n"
     ]
    }
   ],
   "source": [
    "z_stat, pval = proportions_ztest(successes, nobs=nobs,alternative='two-sided')\n",
    "(lower_con, lower_treat), (upper_con, upper_treat) = proportion_confint(successes, nobs=nobs, alpha=0.05)\n",
    "\n",
    "print(f'z statistic: {z_stat:.2f}')\n",
    "print(f'p-value: {pval:.3f}')\n",
    "print(f'Довірчий інтервал 95% для групи control: [{lower_con:.3f}, {upper_con:.3f}]')\n",
    "print(f'Довірчий інтервал 95% для групи treatment: [{lower_treat:.3f}, {upper_treat:.3f}]')"
   ]
  },
  {
   "cell_type": "markdown",
   "metadata": {},
   "source": [
    "   В якості висновку дайте відповідь на два питання:  \n",
    "\n",
    "      1. Чи є статистична значущою різниця між поведінкою користувачів у різних версіях гри?  \n",
    "      \n",
    "      Так є! таким чином відхиляємо нульову гіпотезу. Ще раніше ми побачили, що переміщення знизило утримання, а тест довів, що це зниження дійсно шкідливе для утримання.\n",
    "      \n",
    "      2. Чи перетинаються довірчі інтервали утримання користувачів з різних версій гри? Про що це каже?  \n",
    "      \n",
    "      Візуально це підтверджує результати тесту: зміна є значущою.Тобто з високою ймовірністю можна сказати, що ретеншн для gate_40 справді нижчий, ніж для gate_30, а не просто випадкове коливання."
   ]
  },
  {
   "cell_type": "markdown",
   "metadata": {
    "ExecuteTime": {
     "end_time": "2022-12-10T20:50:10.709766Z",
     "start_time": "2022-12-10T20:50:10.639999Z"
    },
    "id": "076cd867"
   },
   "source": [
    "4. Виконайте тест Хі-квадрат на рівні значущості 5% аби визначити, чи є залежність між версією гри та утриманням гравця на 7ий день після реєстрації.\n",
    "\n",
    "    - Напишіть, як для цього тесту будуть сформульовані гіпотези.\n",
    "    - Проведіть обчислення, виведіть p-значення і напишіть висновок за результатами тесту.\n"
   ]
  },
  {
   "cell_type": "markdown",
   "metadata": {
    "id": "kcwD-91Fh84n"
   },
   "source": [
    "**Гіпотези:**\n",
    "\n",
    "* $H_0$: утримання однакова у всіх версіях.\n",
    "* $H_a$: є різниця  між версіями.\n"
   ]
  },
  {
   "cell_type": "code",
   "execution_count": 51,
   "metadata": {
    "execution": {
     "iopub.execute_input": "2025-09-01T16:28:16.069554Z",
     "iopub.status.busy": "2025-09-01T16:28:16.069061Z",
     "iopub.status.idle": "2025-09-01T16:28:16.100849Z",
     "shell.execute_reply": "2025-09-01T16:28:16.099668Z",
     "shell.execute_reply.started": "2025-09-01T16:28:16.069530Z"
    }
   },
   "outputs": [
    {
     "data": {
      "text/html": [
       "<div>\n",
       "<style scoped>\n",
       "    .dataframe tbody tr th:only-of-type {\n",
       "        vertical-align: middle;\n",
       "    }\n",
       "\n",
       "    .dataframe tbody tr th {\n",
       "        vertical-align: top;\n",
       "    }\n",
       "\n",
       "    .dataframe thead th {\n",
       "        text-align: right;\n",
       "    }\n",
       "</style>\n",
       "<table border=\"1\" class=\"dataframe\">\n",
       "  <thead>\n",
       "    <tr style=\"text-align: right;\">\n",
       "      <th>retention_7</th>\n",
       "      <th>0</th>\n",
       "      <th>1</th>\n",
       "    </tr>\n",
       "    <tr>\n",
       "      <th>version</th>\n",
       "      <th></th>\n",
       "      <th></th>\n",
       "    </tr>\n",
       "  </thead>\n",
       "  <tbody>\n",
       "    <tr>\n",
       "      <th>gate_30</th>\n",
       "      <td>19978</td>\n",
       "      <td>4660</td>\n",
       "    </tr>\n",
       "    <tr>\n",
       "      <th>gate_40</th>\n",
       "      <td>20253</td>\n",
       "      <td>4385</td>\n",
       "    </tr>\n",
       "  </tbody>\n",
       "</table>\n",
       "</div>"
      ],
      "text/plain": [
       "retention_7      0     1\n",
       "version                 \n",
       "gate_30      19978  4660\n",
       "gate_40      20253  4385"
      ]
     },
     "execution_count": 51,
     "metadata": {},
     "output_type": "execute_result"
    }
   ],
   "source": [
    "pd.crosstab(ab_test['version'], ab_test['retention_7'])"
   ]
  },
  {
   "cell_type": "code",
   "execution_count": 52,
   "metadata": {
    "execution": {
     "iopub.execute_input": "2025-09-01T16:28:50.599122Z",
     "iopub.status.busy": "2025-09-01T16:28:50.598180Z",
     "iopub.status.idle": "2025-09-01T16:28:50.616881Z",
     "shell.execute_reply": "2025-09-01T16:28:50.615759Z",
     "shell.execute_reply.started": "2025-09-01T16:28:50.599067Z"
    }
   },
   "outputs": [],
   "source": [
    "crosstab = pd.crosstab(ab_test['version'], ab_test['retention_7'])"
   ]
  },
  {
   "cell_type": "code",
   "execution_count": 53,
   "metadata": {
    "execution": {
     "iopub.execute_input": "2025-09-01T16:29:03.038298Z",
     "iopub.status.busy": "2025-09-01T16:29:03.037487Z",
     "iopub.status.idle": "2025-09-01T16:29:03.044045Z",
     "shell.execute_reply": "2025-09-01T16:29:03.043122Z",
     "shell.execute_reply.started": "2025-09-01T16:29:03.038274Z"
    }
   },
   "outputs": [
    {
     "name": "stdout",
     "output_type": "stream",
     "text": [
      "χ² = 10.166\n",
      "p-value = 0.00143\n",
      "Ступені свободи = 1\n",
      "Очікувані частоти:\n",
      " [[20115.5  4522.5]\n",
      " [20115.5  4522.5]]\n"
     ]
    }
   ],
   "source": [
    "chi2, p, dof, expected = stats.chi2_contingency(crosstab)\n",
    "\n",
    "print(f\"χ² = {chi2:.3f}\")\n",
    "print(f\"p-value = {p:.5f}\")\n",
    "print(f\"Ступені свободи = {dof}\")\n",
    "print(\"Очікувані частоти:\\n\", expected)"
   ]
  },
  {
   "cell_type": "markdown",
   "metadata": {},
   "source": [
    "Інтерпретація:\n",
    "\n",
    "p-value = 0.00143 < 0.05 - відхиляємо H₀.\n",
    "\n",
    "Тобто різниця у retention між версіями статистично значуща."
   ]
  }
 ],
 "metadata": {
  "colab": {
   "provenance": []
  },
  "kernelspec": {
   "display_name": "Python 3 (ipykernel)",
   "language": "python",
   "name": "python3"
  },
  "language_info": {
   "codemirror_mode": {
    "name": "ipython",
    "version": 3
   },
   "file_extension": ".py",
   "mimetype": "text/x-python",
   "name": "python",
   "nbconvert_exporter": "python",
   "pygments_lexer": "ipython3",
   "version": "3.13.3"
  }
 },
 "nbformat": 4,
 "nbformat_minor": 4
}
