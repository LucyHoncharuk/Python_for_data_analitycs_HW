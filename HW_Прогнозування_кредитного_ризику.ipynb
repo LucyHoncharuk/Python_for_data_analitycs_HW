{
 "cells": [
  {
   "cell_type": "markdown",
   "metadata": {
    "id": "36ctxlwEft5w"
   },
   "source": [
    "# Домашнє завдання: Прогнозування кредитного ризику\n",
    "\n",
    "## Мета завдання\n",
    "Застосувати знання з лекції для побудови моделі логістичної регресії, що прогнозує ймовірність дефолту за кредитом, іншими словами, що людина не поверне кредит. Ви пройдете весь цикл: від дослідницького аналізу до оцінки якості класифікаційної моделі.\n",
    "\n",
    "## Опис датасету\n",
    "**Credit Risk Dataset** містить інформацію про 32,000+ позичальників з такими параметрами:\n",
    "- **person_age**: Вік позичальника\n",
    "- **person_income**: Річний дохід\n",
    "- **person_home_ownership**: Тип володіння житлом\n",
    "- **person_emp_length**: Стаж роботи (в роках)\n",
    "- **loan_intent**: Мета кредиту\n",
    "- **loan_grade**: Кредитний рейтинг (A - кращий, F - гірший)\n",
    "- **loan_amnt**: Сума кредиту\n",
    "- **loan_int_rate**: Процентна ставка\n",
    "- **loan_status**: Статус кредиту (0 = сплачено, 1 = дефолт) - **цільова змінна**\n",
    "- **loan_percent_income**: Відношення кредиту до доходу\n",
    "- **cb_person_default_on_file**: Історія дефолтів (Y/N)\n",
    "- **cb_person_cred_hist_length**: Довжина кредитної історії\n",
    "\n",
    "---\n",
    "\n",
    "## Завдання 1: Завантаження та перший огляд даних (1 бал)\n",
    "\n",
    "**Що потрібно зробити:**\n",
    "1. Завантажте дані з файлу `credit_risk_dataset.csv`\n",
    "2. Виведіть розмір датасету\n",
    "3. Покажіть перші 5 рядків\n",
    "4. Виведіть загальну інформацію про дані (кількість записів, типи колонок)\n",
    "5. Перевірте розподіл цільової змінної (відсотк даних для кожного класу)\n",
    "\n",
    "Дайте висновок, це задача збалансованої чи незбалансованої класифікації.\n"
   ]
  },
  {
   "cell_type": "code",
   "execution_count": 8,
   "metadata": {
    "execution": {
     "iopub.execute_input": "2025-09-20T08:43:37.679807Z",
     "iopub.status.busy": "2025-09-20T08:43:37.679062Z",
     "iopub.status.idle": "2025-09-20T08:43:44.780668Z",
     "shell.execute_reply": "2025-09-20T08:43:44.780062Z",
     "shell.execute_reply.started": "2025-09-20T08:43:37.679785Z"
    }
   },
   "outputs": [],
   "source": [
    "import pandas as pd\n",
    "import numpy as np\n",
    "import seaborn as sns\n",
    "import matplotlib.pyplot as plt"
   ]
  },
  {
   "cell_type": "code",
   "execution_count": 3,
   "metadata": {
    "execution": {
     "iopub.execute_input": "2025-09-20T08:40:31.821790Z",
     "iopub.status.busy": "2025-09-20T08:40:31.821437Z",
     "iopub.status.idle": "2025-09-20T08:40:31.997630Z",
     "shell.execute_reply": "2025-09-20T08:40:31.996657Z",
     "shell.execute_reply.started": "2025-09-20T08:40:31.821770Z"
    }
   },
   "outputs": [
    {
     "data": {
      "text/plain": [
       "(32581, 12)"
      ]
     },
     "execution_count": 3,
     "metadata": {},
     "output_type": "execute_result"
    }
   ],
   "source": [
    "df = pd.read_csv(\"D:/Studing DATA/Model_python/data/credit_risk_dataset.csv\")\n",
    "df.shape"
   ]
  },
  {
   "cell_type": "code",
   "execution_count": 5,
   "metadata": {
    "execution": {
     "iopub.execute_input": "2025-09-20T08:40:58.700769Z",
     "iopub.status.busy": "2025-09-20T08:40:58.700378Z",
     "iopub.status.idle": "2025-09-20T08:40:58.716255Z",
     "shell.execute_reply": "2025-09-20T08:40:58.714932Z",
     "shell.execute_reply.started": "2025-09-20T08:40:58.700751Z"
    }
   },
   "outputs": [
    {
     "data": {
      "text/html": [
       "<div>\n",
       "<style scoped>\n",
       "    .dataframe tbody tr th:only-of-type {\n",
       "        vertical-align: middle;\n",
       "    }\n",
       "\n",
       "    .dataframe tbody tr th {\n",
       "        vertical-align: top;\n",
       "    }\n",
       "\n",
       "    .dataframe thead th {\n",
       "        text-align: right;\n",
       "    }\n",
       "</style>\n",
       "<table border=\"1\" class=\"dataframe\">\n",
       "  <thead>\n",
       "    <tr style=\"text-align: right;\">\n",
       "      <th></th>\n",
       "      <th>person_age</th>\n",
       "      <th>person_income</th>\n",
       "      <th>person_home_ownership</th>\n",
       "      <th>person_emp_length</th>\n",
       "      <th>loan_intent</th>\n",
       "      <th>loan_grade</th>\n",
       "      <th>loan_amnt</th>\n",
       "      <th>loan_int_rate</th>\n",
       "      <th>loan_status</th>\n",
       "      <th>loan_percent_income</th>\n",
       "      <th>cb_person_default_on_file</th>\n",
       "      <th>cb_person_cred_hist_length</th>\n",
       "    </tr>\n",
       "  </thead>\n",
       "  <tbody>\n",
       "    <tr>\n",
       "      <th>0</th>\n",
       "      <td>22</td>\n",
       "      <td>59000</td>\n",
       "      <td>RENT</td>\n",
       "      <td>123.0</td>\n",
       "      <td>PERSONAL</td>\n",
       "      <td>D</td>\n",
       "      <td>35000</td>\n",
       "      <td>16.02</td>\n",
       "      <td>1</td>\n",
       "      <td>0.59</td>\n",
       "      <td>Y</td>\n",
       "      <td>3</td>\n",
       "    </tr>\n",
       "    <tr>\n",
       "      <th>1</th>\n",
       "      <td>21</td>\n",
       "      <td>9600</td>\n",
       "      <td>OWN</td>\n",
       "      <td>5.0</td>\n",
       "      <td>EDUCATION</td>\n",
       "      <td>B</td>\n",
       "      <td>1000</td>\n",
       "      <td>11.14</td>\n",
       "      <td>0</td>\n",
       "      <td>0.10</td>\n",
       "      <td>N</td>\n",
       "      <td>2</td>\n",
       "    </tr>\n",
       "    <tr>\n",
       "      <th>2</th>\n",
       "      <td>25</td>\n",
       "      <td>9600</td>\n",
       "      <td>MORTGAGE</td>\n",
       "      <td>1.0</td>\n",
       "      <td>MEDICAL</td>\n",
       "      <td>C</td>\n",
       "      <td>5500</td>\n",
       "      <td>12.87</td>\n",
       "      <td>1</td>\n",
       "      <td>0.57</td>\n",
       "      <td>N</td>\n",
       "      <td>3</td>\n",
       "    </tr>\n",
       "    <tr>\n",
       "      <th>3</th>\n",
       "      <td>23</td>\n",
       "      <td>65500</td>\n",
       "      <td>RENT</td>\n",
       "      <td>4.0</td>\n",
       "      <td>MEDICAL</td>\n",
       "      <td>C</td>\n",
       "      <td>35000</td>\n",
       "      <td>15.23</td>\n",
       "      <td>1</td>\n",
       "      <td>0.53</td>\n",
       "      <td>N</td>\n",
       "      <td>2</td>\n",
       "    </tr>\n",
       "    <tr>\n",
       "      <th>4</th>\n",
       "      <td>24</td>\n",
       "      <td>54400</td>\n",
       "      <td>RENT</td>\n",
       "      <td>8.0</td>\n",
       "      <td>MEDICAL</td>\n",
       "      <td>C</td>\n",
       "      <td>35000</td>\n",
       "      <td>14.27</td>\n",
       "      <td>1</td>\n",
       "      <td>0.55</td>\n",
       "      <td>Y</td>\n",
       "      <td>4</td>\n",
       "    </tr>\n",
       "  </tbody>\n",
       "</table>\n",
       "</div>"
      ],
      "text/plain": [
       "   person_age  person_income person_home_ownership  person_emp_length  \\\n",
       "0          22          59000                  RENT              123.0   \n",
       "1          21           9600                   OWN                5.0   \n",
       "2          25           9600              MORTGAGE                1.0   \n",
       "3          23          65500                  RENT                4.0   \n",
       "4          24          54400                  RENT                8.0   \n",
       "\n",
       "  loan_intent loan_grade  loan_amnt  loan_int_rate  loan_status  \\\n",
       "0    PERSONAL          D      35000          16.02            1   \n",
       "1   EDUCATION          B       1000          11.14            0   \n",
       "2     MEDICAL          C       5500          12.87            1   \n",
       "3     MEDICAL          C      35000          15.23            1   \n",
       "4     MEDICAL          C      35000          14.27            1   \n",
       "\n",
       "   loan_percent_income cb_person_default_on_file  cb_person_cred_hist_length  \n",
       "0                 0.59                         Y                           3  \n",
       "1                 0.10                         N                           2  \n",
       "2                 0.57                         N                           3  \n",
       "3                 0.53                         N                           2  \n",
       "4                 0.55                         Y                           4  "
      ]
     },
     "execution_count": 5,
     "metadata": {},
     "output_type": "execute_result"
    }
   ],
   "source": [
    "df.head()"
   ]
  },
  {
   "cell_type": "code",
   "execution_count": 10,
   "metadata": {
    "execution": {
     "iopub.execute_input": "2025-09-20T08:44:42.980046Z",
     "iopub.status.busy": "2025-09-20T08:44:42.979379Z",
     "iopub.status.idle": "2025-09-20T08:44:42.999821Z",
     "shell.execute_reply": "2025-09-20T08:44:42.998201Z",
     "shell.execute_reply.started": "2025-09-20T08:44:42.980024Z"
    }
   },
   "outputs": [
    {
     "name": "stdout",
     "output_type": "stream",
     "text": [
      "<class 'pandas.core.frame.DataFrame'>\n",
      "RangeIndex: 32581 entries, 0 to 32580\n",
      "Data columns (total 12 columns):\n",
      " #   Column                      Non-Null Count  Dtype  \n",
      "---  ------                      --------------  -----  \n",
      " 0   person_age                  32581 non-null  int64  \n",
      " 1   person_income               32581 non-null  int64  \n",
      " 2   person_home_ownership       32581 non-null  object \n",
      " 3   person_emp_length           31686 non-null  float64\n",
      " 4   loan_intent                 32581 non-null  object \n",
      " 5   loan_grade                  32581 non-null  object \n",
      " 6   loan_amnt                   32581 non-null  int64  \n",
      " 7   loan_int_rate               29465 non-null  float64\n",
      " 8   loan_status                 32581 non-null  int64  \n",
      " 9   loan_percent_income         32581 non-null  float64\n",
      " 10  cb_person_default_on_file   32581 non-null  object \n",
      " 11  cb_person_cred_hist_length  32581 non-null  int64  \n",
      "dtypes: float64(3), int64(5), object(4)\n",
      "memory usage: 3.0+ MB\n"
     ]
    }
   ],
   "source": [
    "df.info()"
   ]
  },
  {
   "cell_type": "code",
   "execution_count": 7,
   "metadata": {
    "execution": {
     "iopub.execute_input": "2025-09-20T08:42:37.535439Z",
     "iopub.status.busy": "2025-09-20T08:42:37.535111Z",
     "iopub.status.idle": "2025-09-20T08:42:37.546835Z",
     "shell.execute_reply": "2025-09-20T08:42:37.545860Z",
     "shell.execute_reply.started": "2025-09-20T08:42:37.535419Z"
    },
    "id": "g8YlpLiKnLMJ"
   },
   "outputs": [
    {
     "name": "stdout",
     "output_type": "stream",
     "text": [
      "Розподіл цільової змінної:\n",
      "             Count    Percent\n",
      "loan_status                  \n",
      "0            25473  78.183604\n",
      "1             7108  21.816396\n"
     ]
    }
   ],
   "source": [
    "print(\"Розподіл цільової змінної:\")\n",
    "loan_counts = df['loan_status'].value_counts()\n",
    "loan_percent = df['loan_status'].value_counts(normalize=True) * 100\n",
    "print(pd.DataFrame({'Count': loan_counts, 'Percent': loan_percent}))\n"
   ]
  },
  {
   "cell_type": "markdown",
   "metadata": {
    "id": "QrOHadsKft5y"
   },
   "source": [
    "\n",
    "---\n",
    "\n",
    "## Завдання 2: Дослідницький аналіз даних (EDA) (4 бали)\n",
    "\n",
    "**Що потрібно зробити:**\n",
    "1. Обчисліть відсоток пропущених значень в колонках. За наявності пропущених значень - заповніть їх медіаною для числових колонок і найбільш частим значеннмя для категоріальних.\n",
    "2. Проаналізуйте розподіл числових змінних.\n",
    "3. Знайдіть та обробіть викиди в колонці person_income з допомогою [Interquartile range](https://uk.wikipedia.org/wiki/%D0%9C%D1%96%D0%B6%D0%BA%D0%B2%D0%B0%D1%80%D1%82%D0%B8%D0%BB%D1%8C%D0%BD%D0%B8%D0%B9_%D1%80%D0%BE%D0%B7%D0%BC%D0%B0%D1%85).\n",
    "4. Проаналізуйте категоріальні змінні відносно цільової та частоту зустрічання різних значень в них.\n",
    "5. Візуалізуйте взаємозв'язок ознак з цільовою змінною.\n"
   ]
  },
  {
   "cell_type": "code",
   "execution_count": 9,
   "metadata": {
    "execution": {
     "iopub.execute_input": "2025-09-20T08:44:07.278869Z",
     "iopub.status.busy": "2025-09-20T08:44:07.277869Z",
     "iopub.status.idle": "2025-09-20T08:44:07.292729Z",
     "shell.execute_reply": "2025-09-20T08:44:07.291503Z",
     "shell.execute_reply.started": "2025-09-20T08:44:07.278844Z"
    },
    "id": "vEd9GlZKnNO7"
   },
   "outputs": [
    {
     "name": "stdout",
     "output_type": "stream",
     "text": [
      "Відсоток пропущених значень у колонках:\n",
      "person_age                    0.000000\n",
      "person_income                 0.000000\n",
      "person_home_ownership         0.000000\n",
      "person_emp_length             2.747000\n",
      "loan_intent                   0.000000\n",
      "loan_grade                    0.000000\n",
      "loan_amnt                     0.000000\n",
      "loan_int_rate                 9.563856\n",
      "loan_status                   0.000000\n",
      "loan_percent_income           0.000000\n",
      "cb_person_default_on_file     0.000000\n",
      "cb_person_cred_hist_length    0.000000\n",
      "dtype: float64\n"
     ]
    }
   ],
   "source": [
    "missing_percent = df.isna().mean() * 100\n",
    "print(\"Відсоток пропущених значень у колонках:\")\n",
    "print(missing_percent)"
   ]
  },
  {
   "cell_type": "code",
   "execution_count": 12,
   "metadata": {
    "execution": {
     "iopub.execute_input": "2025-09-20T08:45:58.733544Z",
     "iopub.status.busy": "2025-09-20T08:45:58.733060Z",
     "iopub.status.idle": "2025-09-20T08:45:58.767154Z",
     "shell.execute_reply": "2025-09-20T08:45:58.766218Z",
     "shell.execute_reply.started": "2025-09-20T08:45:58.733493Z"
    }
   },
   "outputs": [],
   "source": [
    "for col in df.columns:\n",
    "    if df[col].dtype in ['int64', 'float64']:\n",
    "        median_value = df[col].median()\n",
    "        df[col] = df[col].fillna(median_value)  \n",
    "    else:\n",
    "        mode_value = df[col].mode()[0]\n",
    "        df[col] = df[col].fillna(mode_value)  \n"
   ]
  },
  {
   "cell_type": "code",
   "execution_count": 13,
   "metadata": {
    "execution": {
     "iopub.execute_input": "2025-09-20T08:46:42.037037Z",
     "iopub.status.busy": "2025-09-20T08:46:42.036620Z",
     "iopub.status.idle": "2025-09-20T08:46:42.082086Z",
     "shell.execute_reply": "2025-09-20T08:46:42.080683Z",
     "shell.execute_reply.started": "2025-09-20T08:46:42.036998Z"
    }
   },
   "outputs": [
    {
     "name": "stdout",
     "output_type": "stream",
     "text": [
      "Опис числових колонок:\n",
      "         person_age  person_income  person_emp_length     loan_amnt  \\\n",
      "count  32581.000000   3.258100e+04       32581.000000  32581.000000   \n",
      "mean      27.734600   6.607485e+04           4.767994   9589.371106   \n",
      "std        6.348078   6.198312e+04           4.087372   6322.086646   \n",
      "min       20.000000   4.000000e+03           0.000000    500.000000   \n",
      "25%       23.000000   3.850000e+04           2.000000   5000.000000   \n",
      "50%       26.000000   5.500000e+04           4.000000   8000.000000   \n",
      "75%       30.000000   7.920000e+04           7.000000  12200.000000   \n",
      "max      144.000000   6.000000e+06         123.000000  35000.000000   \n",
      "\n",
      "       loan_int_rate   loan_status  loan_percent_income  \\\n",
      "count   32581.000000  32581.000000         32581.000000   \n",
      "mean       11.009620      0.218164             0.170203   \n",
      "std         3.081611      0.413006             0.106782   \n",
      "min         5.420000      0.000000             0.000000   \n",
      "25%         8.490000      0.000000             0.090000   \n",
      "50%        10.990000      0.000000             0.150000   \n",
      "75%        13.110000      0.000000             0.230000   \n",
      "max        23.220000      1.000000             0.830000   \n",
      "\n",
      "       cb_person_cred_hist_length  \n",
      "count                32581.000000  \n",
      "mean                     5.804211  \n",
      "std                      4.055001  \n",
      "min                      2.000000  \n",
      "25%                      3.000000  \n",
      "50%                      4.000000  \n",
      "75%                      8.000000  \n",
      "max                     30.000000  \n"
     ]
    }
   ],
   "source": [
    "numerical_cols = df.select_dtypes(include=['int64', 'float64']).columns\n",
    "print(\"Опис числових колонок:\")\n",
    "print(df[numerical_cols].describe())"
   ]
  },
  {
   "cell_type": "code",
   "execution_count": 24,
   "metadata": {
    "execution": {
     "iopub.execute_input": "2025-09-20T08:57:40.837695Z",
     "iopub.status.busy": "2025-09-20T08:57:40.837215Z",
     "iopub.status.idle": "2025-09-20T08:57:44.283610Z",
     "shell.execute_reply": "2025-09-20T08:57:44.282471Z",
     "shell.execute_reply.started": "2025-09-20T08:57:40.837672Z"
    }
   },
   "outputs": [
    {
     "data": {
      "image/png": "[encoded data removed]",
      "text/plain": [
       "<Figure size 600x400 with 1 Axes>"
      ]
     },
     "metadata": {},
     "output_type": "display_data"
    },
    {
     "data": {
      "image/png": "[encoded data removed]",
      "text/plain": [
       "<Figure size 600x400 with 1 Axes>"
      ]
     },
     "metadata": {},
     "output_type": "display_data"
    },
    {
     "data": {
      "image/png": "[encoded data removed]",
      "text/plain": [
       "<Figure size 600x400 with 1 Axes>"
      ]
     },
     "metadata": {},
     "output_type": "display_data"
    },
    {
     "data": {
      "image/png": "[encoded data removed]",
      "text/plain": [
       "<Figure size 600x400 with 1 Axes>"
      ]
     },
     "metadata": {},
     "output_type": "display_data"
    },
    {
     "data": {
      "image/png": "[encoded data removed]",
      "text/plain": [
       "<Figure size 600x400 with 1 Axes>"
      ]
     },
     "metadata": {},
     "output_type": "display_data"
    },
    {
     "data": {
      "image/png": "[encoded data removed]",
      "text/plain": [
       "<Figure size 600x400 with 1 Axes>"
      ]
     },
     "metadata": {},
     "output_type": "display_data"
    },
    {
     "data": {
      "image/png": "[encoded data removed]",
      "text/plain": [
       "<Figure size 600x400 with 1 Axes>"
      ]
     },
     "metadata": {},
     "output_type": "display_data"
    },
    {
     "data": {
      "image/png": "[encoded data removed]",
      "text/plain": [
       "<Figure size 600x400 with 1 Axes>"
      ]
     },
     "metadata": {},
     "output_type": "display_data"
    }
   ],
   "source": [
    "# Візуалізація розподілу числових змінних\n",
    "for col in numerical_cols:\n",
    "    plt.figure(figsize=(6,4))\n",
    "    sns.histplot(df[col], kde=True, bins=30)\n",
    "    plt.title(f'Розподіл {col}')\n",
    "    plt.show()"
   ]
  },
  {
   "cell_type": "code",
   "execution_count": null,
   "metadata": {},
   "outputs": [],
   "source": []
  },
  {
   "cell_type": "code",
   "execution_count": 15,
   "metadata": {
    "execution": {
     "iopub.execute_input": "2025-09-20T08:48:15.293439Z",
     "iopub.status.busy": "2025-09-20T08:48:15.292916Z",
     "iopub.status.idle": "2025-09-20T08:48:15.306792Z",
     "shell.execute_reply": "2025-09-20T08:48:15.301676Z",
     "shell.execute_reply.started": "2025-09-20T08:48:15.293418Z"
    }
   },
   "outputs": [],
   "source": [
    "Q1 = df['person_income'].quantile(0.25)\n",
    "Q3 = df['person_income'].quantile(0.75)\n",
    "IQR = Q3 - Q1\n",
    "lower_bound = Q1 - 1.5 * IQR\n",
    "upper_bound = Q3 + 1.5 * IQR\n",
    "\n",
    "# Відкинути викиди або обмежити значення\n",
    "df['person_income'] = np.where(df['person_income'] < lower_bound, lower_bound, df['person_income'])\n",
    "df['person_income'] = np.where(df['person_income'] > upper_bound, upper_bound, df['person_income'])"
   ]
  },
  {
   "cell_type": "code",
   "execution_count": 18,
   "metadata": {
    "execution": {
     "iopub.execute_input": "2025-09-20T08:49:43.652712Z",
     "iopub.status.busy": "2025-09-20T08:49:43.652201Z",
     "iopub.status.idle": "2025-09-20T08:49:43.719474Z",
     "shell.execute_reply": "2025-09-20T08:49:43.718331Z",
     "shell.execute_reply.started": "2025-09-20T08:49:43.652674Z"
    }
   },
   "outputs": [
    {
     "name": "stdout",
     "output_type": "stream",
     "text": [
      "\n",
      "Колонка: person_home_ownership\n",
      "person_home_ownership\n",
      "RENT        16446\n",
      "MORTGAGE    13444\n",
      "OWN          2584\n",
      "OTHER         107\n",
      "Name: count, dtype: int64\n",
      "loan_status                    0          1\n",
      "person_home_ownership                      \n",
      "MORTGAGE               87.429337  12.570663\n",
      "OTHER                  69.158879  30.841121\n",
      "OWN                    92.530960   7.469040\n",
      "RENT                   68.430013  31.569987\n",
      "\n",
      "Колонка: loan_intent\n",
      "loan_intent\n",
      "EDUCATION            6453\n",
      "MEDICAL              6071\n",
      "VENTURE              5719\n",
      "PERSONAL             5521\n",
      "DEBTCONSOLIDATION    5212\n",
      "HOMEIMPROVEMENT      3605\n",
      "Name: count, dtype: int64\n",
      "loan_status                0          1\n",
      "loan_intent                            \n",
      "DEBTCONSOLIDATION  71.412126  28.587874\n",
      "EDUCATION          82.783202  17.216798\n",
      "HOMEIMPROVEMENT    73.897365  26.102635\n",
      "MEDICAL            73.299292  26.700708\n",
      "PERSONAL           80.112298  19.887702\n",
      "VENTURE            85.189718  14.810282\n",
      "\n",
      "Колонка: loan_grade\n",
      "loan_grade\n",
      "A    10777\n",
      "B    10451\n",
      "C     6458\n",
      "D     3626\n",
      "E      964\n",
      "F      241\n",
      "G       64\n",
      "Name: count, dtype: int64\n",
      "loan_status          0          1\n",
      "loan_grade                       \n",
      "A            90.043611   9.956389\n",
      "B            83.724046  16.275954\n",
      "C            79.266027  20.733973\n",
      "D            40.954220  59.045780\n",
      "E            35.580913  64.419087\n",
      "F            29.460581  70.539419\n",
      "G             1.562500  98.437500\n",
      "\n",
      "Колонка: cb_person_default_on_file\n",
      "cb_person_default_on_file\n",
      "N    26836\n",
      "Y     5745\n",
      "Name: count, dtype: int64\n",
      "loan_status                        0          1\n",
      "cb_person_default_on_file                      \n",
      "N                          81.606797  18.393203\n",
      "Y                          62.193211  37.806789\n"
     ]
    }
   ],
   "source": [
    " # Аналіз категоріальних змінних\n",
    "categorical_cols = df.select_dtypes(include=['object', 'category']).columns\n",
    "for col in categorical_cols:\n",
    "    print(f\"\\nКолонка: {col}\")\n",
    "    print(df[col].value_counts())\n",
    "    print(df.groupby(col)['loan_status'].value_counts(normalize=True).unstack() * 100)"
   ]
  },
  {
   "cell_type": "code",
   "execution_count": 25,
   "metadata": {
    "execution": {
     "iopub.execute_input": "2025-09-20T08:58:18.107183Z",
     "iopub.status.busy": "2025-09-20T08:58:18.106835Z",
     "iopub.status.idle": "2025-09-20T08:58:18.435828Z",
     "shell.execute_reply": "2025-09-20T08:58:18.434854Z",
     "shell.execute_reply.started": "2025-09-20T08:58:18.107164Z"
    }
   },
   "outputs": [
    {
     "name": "stdout",
     "output_type": "stream",
     "text": [
      "                            person_age  person_income  person_emp_length  \\\n",
      "person_age                    1.000000       0.117981           0.161454   \n",
      "person_income                 0.117981       1.000000           0.198751   \n",
      "person_emp_length             0.161454       0.198751           1.000000   \n",
      "loan_amnt                     0.050787       0.420091           0.113851   \n",
      "loan_int_rate                 0.011853      -0.017050          -0.051262   \n",
      "loan_status                  -0.021629      -0.245934          -0.082182   \n",
      "loan_percent_income          -0.042411      -0.367245          -0.054134   \n",
      "cb_person_cred_hist_length    0.859133       0.093901           0.143069   \n",
      "\n",
      "                            loan_amnt  loan_int_rate  loan_status  \\\n",
      "person_age                   0.050787       0.011853    -0.021629   \n",
      "person_income                0.420091      -0.017050    -0.245934   \n",
      "person_emp_length            0.113851      -0.051262    -0.082182   \n",
      "loan_amnt                    1.000000       0.139483     0.105376   \n",
      "loan_int_rate                0.139483       1.000000     0.319360   \n",
      "loan_status                  0.105376       0.319360     1.000000   \n",
      "loan_percent_income          0.572612       0.114514     0.379366   \n",
      "cb_person_cred_hist_length   0.041967       0.015762    -0.015529   \n",
      "\n",
      "                            loan_percent_income  cb_person_cred_hist_length  \n",
      "person_age                            -0.042411                    0.859133  \n",
      "person_income                         -0.367245                    0.093901  \n",
      "person_emp_length                     -0.054134                    0.143069  \n",
      "loan_amnt                              0.572612                    0.041967  \n",
      "loan_int_rate                          0.114514                    0.015762  \n",
      "loan_status                            0.379366                   -0.015529  \n",
      "loan_percent_income                    1.000000                   -0.031690  \n",
      "cb_person_cred_hist_length            -0.031690                    1.000000  \n"
     ]
    },
    {
     "data": {
      "image/png": "[encoded data removed]",
      "text/plain": [
       "<Figure size 1000x800 with 2 Axes>"
      ]
     },
     "metadata": {},
     "output_type": "display_data"
    }
   ],
   "source": [
    "# Вибираємо числові колонки (включаючи цільову, якщо вона числова)\n",
    "numerical_cols = df.select_dtypes(include=['int64', 'float64']).columns\n",
    "\n",
    "# Обчислюємо кореляційну матрицю\n",
    "corr_matrix = df[numerical_cols].corr()\n",
    "\n",
    "# Виводимо матрицю\n",
    "print(corr_matrix)\n",
    "\n",
    "# Візуалізація за допомогою heatmap\n",
    "plt.figure(figsize=(10,8))\n",
    "sns.heatmap(corr_matrix, annot=True, fmt=\".2f\", cmap=\"coolwarm\", cbar=True)\n",
    "plt.title(\"Кореляційна матриця числових ознак\")\n",
    "plt.show()"
   ]
  },
  {
   "cell_type": "code",
   "execution_count": 27,
   "metadata": {
    "execution": {
     "iopub.execute_input": "2025-09-20T08:59:51.587748Z",
     "iopub.status.busy": "2025-09-20T08:59:51.587363Z",
     "iopub.status.idle": "2025-09-20T08:59:52.368928Z",
     "shell.execute_reply": "2025-09-20T08:59:52.367756Z",
     "shell.execute_reply.started": "2025-09-20T08:59:51.587729Z"
    }
   },
   "outputs": [
    {
     "data": {
      "image/png": "[encoded data removed]",
      "text/plain": [
       "<Figure size 800x400 with 1 Axes>"
      ]
     },
     "metadata": {},
     "output_type": "display_data"
    },
    {
     "data": {
      "image/png": "[encoded data removed]",
      "text/plain": [
       "<Figure size 800x400 with 1 Axes>"
      ]
     },
     "metadata": {},
     "output_type": "display_data"
    },
    {
     "data": {
      "image/png": "[encoded data removed]",
      "text/plain": [
       "<Figure size 800x400 with 1 Axes>"
      ]
     },
     "metadata": {},
     "output_type": "display_data"
    },
    {
     "data": {
      "image/png": "[encoded data removed]",
      "text/plain": [
       "<Figure size 800x400 with 1 Axes>"
      ]
     },
     "metadata": {},
     "output_type": "display_data"
    }
   ],
   "source": [
    "# Для категоріальних ознак\n",
    "for col in categorical_cols:\n",
    "    plt.figure(figsize=(8,4))\n",
    "    sns.countplot(x=col, hue='loan_status', data=df)\n",
    "    plt.title(f'{col} vs loan_status')\n",
    "    plt.xticks(rotation=45)\n",
    "    plt.show()"
   ]
  },
  {
   "cell_type": "markdown",
   "metadata": {
    "id": "4sfnR971ft5z"
   },
   "source": [
    "\n",
    "---\n",
    "\n",
    "## Завдання 3: Аналіз кореляцій та Feature Engineering (3 бали)\n",
    "\n",
    "**Що потрібно зробити:**\n",
    "1. Побудуйте матрицю кореляцій для числових змінних.\n",
    "2. Закодуйте категоріальні змінні.\n",
    "3. Виберіть фінальний набір ознак, можна лишити всі, якщо ви вважаєте, що це - доцільно.\n",
    "\n"
   ]
  },
  {
   "cell_type": "code",
   "execution_count": 29,
   "metadata": {
    "execution": {
     "iopub.execute_input": "2025-09-20T09:02:18.288600Z",
     "iopub.status.busy": "2025-09-20T09:02:18.287814Z",
     "iopub.status.idle": "2025-09-20T09:02:18.318476Z",
     "shell.execute_reply": "2025-09-20T09:02:18.317777Z",
     "shell.execute_reply.started": "2025-09-20T09:02:18.288561Z"
    },
    "id": "Gf2I-_rGnN49"
   },
   "outputs": [
    {
     "name": "stdout",
     "output_type": "stream",
     "text": [
      "Фінальний набір ознак:\n",
      "Index(['person_age', 'person_income', 'person_emp_length', 'loan_amnt',\n",
      "       'loan_int_rate', 'loan_percent_income', 'cb_person_cred_hist_length',\n",
      "       'person_home_ownership_OTHER', 'person_home_ownership_OWN',\n",
      "       'person_home_ownership_RENT', 'loan_intent_EDUCATION',\n",
      "       'loan_intent_HOMEIMPROVEMENT', 'loan_intent_MEDICAL',\n",
      "       'loan_intent_PERSONAL', 'loan_intent_VENTURE', 'loan_grade_B',\n",
      "       'loan_grade_C', 'loan_grade_D', 'loan_grade_E', 'loan_grade_F',\n",
      "       'loan_grade_G', 'cb_person_default_on_file_Y'],\n",
      "      dtype='object')\n"
     ]
    }
   ],
   "source": [
    "# Вибір категоріальних колонок\n",
    "categorical_cols = df.select_dtypes(include=['object', 'category']).columns\n",
    "\n",
    " # Кодування категоріальних змінних\n",
    "df_encoded = pd.get_dummies(df, columns=categorical_cols, drop_first=True)\n",
    "\n",
    "\n",
    "final_features = df_encoded.columns.drop('loan_status')  # якщо loan_status - цільова\n",
    "\n",
    "print(\"Фінальний набір ознак:\")\n",
    "print(final_features)"
   ]
  },
  {
   "cell_type": "markdown",
   "metadata": {
    "id": "XC9htj3Oft5z"
   },
   "source": [
    "\n",
    "---\n",
    "\n",
    "## Завдання 4: Підготовка даних та навчання моделі (3 бали)\n",
    "\n",
    "**Що потрібно зробити:**\n",
    "1. Розділіть дані на X та y\n",
    "2. Поділіть на навчальну та тестову вибірки\n",
    "3. Застосуйте масштабування\n",
    "4. Навчіть модель логістичної регресії\n",
    "5. Зробіть прогнози на тренувальній та тестовій вибірках.\n",
    "\n"
   ]
  },
  {
   "cell_type": "code",
   "execution_count": 30,
   "metadata": {
    "execution": {
     "iopub.execute_input": "2025-09-20T09:02:55.905244Z",
     "iopub.status.busy": "2025-09-20T09:02:55.904658Z",
     "iopub.status.idle": "2025-09-20T09:02:57.192916Z",
     "shell.execute_reply": "2025-09-20T09:02:57.192306Z",
     "shell.execute_reply.started": "2025-09-20T09:02:55.905222Z"
    },
    "id": "TRWnvaUZnOYS"
   },
   "outputs": [],
   "source": [
    "from sklearn.model_selection import train_test_split\n",
    "from sklearn.preprocessing import StandardScaler\n",
    "from sklearn.linear_model import LogisticRegression\n",
    "from sklearn.metrics import accuracy_score, classification_report"
   ]
  },
  {
   "cell_type": "code",
   "execution_count": 31,
   "metadata": {
    "execution": {
     "iopub.execute_input": "2025-09-20T09:04:40.136581Z",
     "iopub.status.busy": "2025-09-20T09:04:40.135381Z",
     "iopub.status.idle": "2025-09-20T09:04:40.142950Z",
     "shell.execute_reply": "2025-09-20T09:04:40.141917Z",
     "shell.execute_reply.started": "2025-09-20T09:04:40.136557Z"
    }
   },
   "outputs": [],
   "source": [
    "X = df_encoded[final_features]\n",
    "y = df_encoded['loan_status'] "
   ]
  },
  {
   "cell_type": "code",
   "execution_count": 32,
   "metadata": {
    "execution": {
     "iopub.execute_input": "2025-09-20T09:05:40.916757Z",
     "iopub.status.busy": "2025-09-20T09:05:40.916151Z",
     "iopub.status.idle": "2025-09-20T09:05:40.952657Z",
     "shell.execute_reply": "2025-09-20T09:05:40.951194Z",
     "shell.execute_reply.started": "2025-09-20T09:05:40.916725Z"
    }
   },
   "outputs": [
    {
     "name": "stdout",
     "output_type": "stream",
     "text": [
      "Train: 26064 клієнтів\n",
      "Test: 6517 клієнтів\n",
      "Відтік в train: 21.8%\n",
      "Відтік в test: 21.8%\n"
     ]
    }
   ],
   "source": [
    "X_train, X_test, y_train, y_test = train_test_split(\n",
    "    X, y,\n",
    "    test_size=0.2,\n",
    "    random_state=42,\n",
    "    stratify=y  # Важливо! Зберігаємо пропорції класів\n",
    ")\n",
    "\n",
    "print(f\"Train: {X_train.shape[0]} клієнтів\")\n",
    "print(f\"Test: {X_test.shape[0]} клієнтів\")\n",
    "print(f\"Відтік в train: {y_train.mean():.1%}\")\n",
    "print(f\"Відтік в test: {y_test.mean():.1%}\")"
   ]
  },
  {
   "cell_type": "code",
   "execution_count": 33,
   "metadata": {
    "execution": {
     "iopub.execute_input": "2025-09-20T09:06:13.014881Z",
     "iopub.status.busy": "2025-09-20T09:06:13.013987Z",
     "iopub.status.idle": "2025-09-20T09:06:13.056382Z",
     "shell.execute_reply": "2025-09-20T09:06:13.055548Z",
     "shell.execute_reply.started": "2025-09-20T09:06:13.014844Z"
    }
   },
   "outputs": [],
   "source": [
    "scaler = StandardScaler()\n",
    "X_train_scaled = scaler.fit_transform(X_train)\n",
    "X_test_scaled = scaler.transform(X_test)\n"
   ]
  },
  {
   "cell_type": "code",
   "execution_count": 34,
   "metadata": {
    "execution": {
     "iopub.execute_input": "2025-09-20T09:06:22.413112Z",
     "iopub.status.busy": "2025-09-20T09:06:22.411986Z",
     "iopub.status.idle": "2025-09-20T09:06:22.538221Z",
     "shell.execute_reply": "2025-09-20T09:06:22.537134Z",
     "shell.execute_reply.started": "2025-09-20T09:06:22.413058Z"
    }
   },
   "outputs": [
    {
     "data": {
      "text/html": [
       "<style>#sk-container-id-1 {\n",
       "  /* Definition of color scheme common for light and dark mode */\n",
       "  --sklearn-color-text: #000;\n",
       "  --sklearn-color-text-muted: #666;\n",
       "  --sklearn-color-line: gray;\n",
       "  /* Definition of color scheme for unfitted estimators */\n",
       "  --sklearn-color-unfitted-level-0: #fff5e6;\n",
       "  --sklearn-color-unfitted-level-1: #f6e4d2;\n",
       "  --sklearn-color-unfitted-level-2: #ffe0b3;\n",
       "  --sklearn-color-unfitted-level-3: chocolate;\n",
       "  /* Definition of color scheme for fitted estimators */\n",
       "  --sklearn-color-fitted-level-0: #f0f8ff;\n",
       "  --sklearn-color-fitted-level-1: #d4ebff;\n",
       "  --sklearn-color-fitted-level-2: #b3dbfd;\n",
       "  --sklearn-color-fitted-level-3: cornflowerblue;\n",
       "\n",
       "  /* Specific color for light theme */\n",
       "  --sklearn-color-text-on-default-background: var(--sg-text-color, var(--theme-code-foreground, var(--jp-content-font-color1, black)));\n",
       "  --sklearn-color-background: var(--sg-background-color, var(--theme-background, var(--jp-layout-color0, white)));\n",
       "  --sklearn-color-border-box: var(--sg-text-color, var(--theme-code-foreground, var(--jp-content-font-color1, black)));\n",
       "  --sklearn-color-icon: #696969;\n",
       "\n",
       "  @media (prefers-color-scheme: dark) {\n",
       "    /* Redefinition of color scheme for dark theme */\n",
       "    --sklearn-color-text-on-default-background: var(--sg-text-color, var(--theme-code-foreground, var(--jp-content-font-color1, white)));\n",
       "    --sklearn-color-background: var(--sg-background-color, var(--theme-background, var(--jp-layout-color0, #111)));\n",
       "    --sklearn-color-border-box: var(--sg-text-color, var(--theme-code-foreground, var(--jp-content-font-color1, white)));\n",
       "    --sklearn-color-icon: #878787;\n",
       "  }\n",
       "}\n",
       "\n",
       "#sk-container-id-1 {\n",
       "  color: var(--sklearn-color-text);\n",
       "}\n",
       "\n",
       "#sk-container-id-1 pre {\n",
       "  padding: 0;\n",
       "}\n",
       "\n",
       "#sk-container-id-1 input.sk-hidden--visually {\n",
       "  border: 0;\n",
       "  clip: rect(1px 1px 1px 1px);\n",
       "  clip: rect(1px, 1px, 1px, 1px);\n",
       "  height: 1px;\n",
       "  margin: -1px;\n",
       "  overflow: hidden;\n",
       "  padding: 0;\n",
       "  position: absolute;\n",
       "  width: 1px;\n",
       "}\n",
       "\n",
       "#sk-container-id-1 div.sk-dashed-wrapped {\n",
       "  border: 1px dashed var(--sklearn-color-line);\n",
       "  margin: 0 0.4em 0.5em 0.4em;\n",
       "  box-sizing: border-box;\n",
       "  padding-bottom: 0.4em;\n",
       "  background-color: var(--sklearn-color-background);\n",
       "}\n",
       "\n",
       "#sk-container-id-1 div.sk-container {\n",
       "  /* jupyter's `normalize.less` sets `[hidden] { display: none; }`\n",
       "     but bootstrap.min.css set `[hidden] { display: none !important; }`\n",
       "     so we also need the `!important` here to be able to override the\n",
       "     default hidden behavior on the sphinx rendered scikit-learn.org.\n",
       "     See: https://github.com/scikit-learn/scikit-learn/issues/21755 */\n",
       "  display: inline-block !important;\n",
       "  position: relative;\n",
       "}\n",
       "\n",
       "#sk-container-id-1 div.sk-text-repr-fallback {\n",
       "  display: none;\n",
       "}\n",
       "\n",
       "div.sk-parallel-item,\n",
       "div.sk-serial,\n",
       "div.sk-item {\n",
       "  /* draw centered vertical line to link estimators */\n",
       "  background-image: linear-gradient(var(--sklearn-color-text-on-default-background), var(--sklearn-color-text-on-default-background));\n",
       "  background-size: 2px 100%;\n",
       "  background-repeat: no-repeat;\n",
       "  background-position: center center;\n",
       "}\n",
       "\n",
       "/* Parallel-specific style estimator block */\n",
       "\n",
       "#sk-container-id-1 div.sk-parallel-item::after {\n",
       "  content: \"\";\n",
       "  width: 100%;\n",
       "  border-bottom: 2px solid var(--sklearn-color-text-on-default-background);\n",
       "  flex-grow: 1;\n",
       "}\n",
       "\n",
       "#sk-container-id-1 div.sk-parallel {\n",
       "  display: flex;\n",
       "  align-items: stretch;\n",
       "  justify-content: center;\n",
       "  background-color: var(--sklearn-color-background);\n",
       "  position: relative;\n",
       "}\n",
       "\n",
       "#sk-container-id-1 div.sk-parallel-item {\n",
       "  display: flex;\n",
       "  flex-direction: column;\n",
       "}\n",
       "\n",
       "#sk-container-id-1 div.sk-parallel-item:first-child::after {\n",
       "  align-self: flex-end;\n",
       "  width: 50%;\n",
       "}\n",
       "\n",
       "#sk-container-id-1 div.sk-parallel-item:last-child::after {\n",
       "  align-self: flex-start;\n",
       "  width: 50%;\n",
       "}\n",
       "\n",
       "#sk-container-id-1 div.sk-parallel-item:only-child::after {\n",
       "  width: 0;\n",
       "}\n",
       "\n",
       "/* Serial-specific style estimator block */\n",
       "\n",
       "#sk-container-id-1 div.sk-serial {\n",
       "  display: flex;\n",
       "  flex-direction: column;\n",
       "  align-items: center;\n",
       "  background-color: var(--sklearn-color-background);\n",
       "  padding-right: 1em;\n",
       "  padding-left: 1em;\n",
       "}\n",
       "\n",
       "\n",
       "/* Toggleable style: style used for estimator/Pipeline/ColumnTransformer box that is\n",
       "clickable and can be expanded/collapsed.\n",
       "- Pipeline and ColumnTransformer use this feature and define the default style\n",
       "- Estimators will overwrite some part of the style using the `sk-estimator` class\n",
       "*/\n",
       "\n",
       "/* Pipeline and ColumnTransformer style (default) */\n",
       "\n",
       "#sk-container-id-1 div.sk-toggleable {\n",
       "  /* Default theme specific background. It is overwritten whether we have a\n",
       "  specific estimator or a Pipeline/ColumnTransformer */\n",
       "  background-color: var(--sklearn-color-background);\n",
       "}\n",
       "\n",
       "/* Toggleable label */\n",
       "#sk-container-id-1 label.sk-toggleable__label {\n",
       "  cursor: pointer;\n",
       "  display: flex;\n",
       "  width: 100%;\n",
       "  margin-bottom: 0;\n",
       "  padding: 0.5em;\n",
       "  box-sizing: border-box;\n",
       "  text-align: center;\n",
       "  align-items: start;\n",
       "  justify-content: space-between;\n",
       "  gap: 0.5em;\n",
       "}\n",
       "\n",
       "#sk-container-id-1 label.sk-toggleable__label .caption {\n",
       "  font-size: 0.6rem;\n",
       "  font-weight: lighter;\n",
       "  color: var(--sklearn-color-text-muted);\n",
       "}\n",
       "\n",
       "#sk-container-id-1 label.sk-toggleable__label-arrow:before {\n",
       "  /* Arrow on the left of the label */\n",
       "  content: \"▸\";\n",
       "  float: left;\n",
       "  margin-right: 0.25em;\n",
       "  color: var(--sklearn-color-icon);\n",
       "}\n",
       "\n",
       "#sk-container-id-1 label.sk-toggleable__label-arrow:hover:before {\n",
       "  color: var(--sklearn-color-text);\n",
       "}\n",
       "\n",
       "/* Toggleable content - dropdown */\n",
       "\n",
       "#sk-container-id-1 div.sk-toggleable__content {\n",
       "  display: none;\n",
       "  text-align: left;\n",
       "  /* unfitted */\n",
       "  background-color: var(--sklearn-color-unfitted-level-0);\n",
       "}\n",
       "\n",
       "#sk-container-id-1 div.sk-toggleable__content.fitted {\n",
       "  /* fitted */\n",
       "  background-color: var(--sklearn-color-fitted-level-0);\n",
       "}\n",
       "\n",
       "#sk-container-id-1 div.sk-toggleable__content pre {\n",
       "  margin: 0.2em;\n",
       "  border-radius: 0.25em;\n",
       "  color: var(--sklearn-color-text);\n",
       "  /* unfitted */\n",
       "  background-color: var(--sklearn-color-unfitted-level-0);\n",
       "}\n",
       "\n",
       "#sk-container-id-1 div.sk-toggleable__content.fitted pre {\n",
       "  /* unfitted */\n",
       "  background-color: var(--sklearn-color-fitted-level-0);\n",
       "}\n",
       "\n",
       "#sk-container-id-1 input.sk-toggleable__control:checked~div.sk-toggleable__content {\n",
       "  /* Expand drop-down */\n",
       "  display: block;\n",
       "  width: 100%;\n",
       "  overflow: visible;\n",
       "}\n",
       "\n",
       "#sk-container-id-1 input.sk-toggleable__control:checked~label.sk-toggleable__label-arrow:before {\n",
       "  content: \"▾\";\n",
       "}\n",
       "\n",
       "/* Pipeline/ColumnTransformer-specific style */\n",
       "\n",
       "#sk-container-id-1 div.sk-label input.sk-toggleable__control:checked~label.sk-toggleable__label {\n",
       "  color: var(--sklearn-color-text);\n",
       "  background-color: var(--sklearn-color-unfitted-level-2);\n",
       "}\n",
       "\n",
       "#sk-container-id-1 div.sk-label.fitted input.sk-toggleable__control:checked~label.sk-toggleable__label {\n",
       "  background-color: var(--sklearn-color-fitted-level-2);\n",
       "}\n",
       "\n",
       "/* Estimator-specific style */\n",
       "\n",
       "/* Colorize estimator box */\n",
       "#sk-container-id-1 div.sk-estimator input.sk-toggleable__control:checked~label.sk-toggleable__label {\n",
       "  /* unfitted */\n",
       "  background-color: var(--sklearn-color-unfitted-level-2);\n",
       "}\n",
       "\n",
       "#sk-container-id-1 div.sk-estimator.fitted input.sk-toggleable__control:checked~label.sk-toggleable__label {\n",
       "  /* fitted */\n",
       "  background-color: var(--sklearn-color-fitted-level-2);\n",
       "}\n",
       "\n",
       "#sk-container-id-1 div.sk-label label.sk-toggleable__label,\n",
       "#sk-container-id-1 div.sk-label label {\n",
       "  /* The background is the default theme color */\n",
       "  color: var(--sklearn-color-text-on-default-background);\n",
       "}\n",
       "\n",
       "/* On hover, darken the color of the background */\n",
       "#sk-container-id-1 div.sk-label:hover label.sk-toggleable__label {\n",
       "  color: var(--sklearn-color-text);\n",
       "  background-color: var(--sklearn-color-unfitted-level-2);\n",
       "}\n",
       "\n",
       "/* Label box, darken color on hover, fitted */\n",
       "#sk-container-id-1 div.sk-label.fitted:hover label.sk-toggleable__label.fitted {\n",
       "  color: var(--sklearn-color-text);\n",
       "  background-color: var(--sklearn-color-fitted-level-2);\n",
       "}\n",
       "\n",
       "/* Estimator label */\n",
       "\n",
       "#sk-container-id-1 div.sk-label label {\n",
       "  font-family: monospace;\n",
       "  font-weight: bold;\n",
       "  display: inline-block;\n",
       "  line-height: 1.2em;\n",
       "}\n",
       "\n",
       "#sk-container-id-1 div.sk-label-container {\n",
       "  text-align: center;\n",
       "}\n",
       "\n",
       "/* Estimator-specific */\n",
       "#sk-container-id-1 div.sk-estimator {\n",
       "  font-family: monospace;\n",
       "  border: 1px dotted var(--sklearn-color-border-box);\n",
       "  border-radius: 0.25em;\n",
       "  box-sizing: border-box;\n",
       "  margin-bottom: 0.5em;\n",
       "  /* unfitted */\n",
       "  background-color: var(--sklearn-color-unfitted-level-0);\n",
       "}\n",
       "\n",
       "#sk-container-id-1 div.sk-estimator.fitted {\n",
       "  /* fitted */\n",
       "  background-color: var(--sklearn-color-fitted-level-0);\n",
       "}\n",
       "\n",
       "/* on hover */\n",
       "#sk-container-id-1 div.sk-estimator:hover {\n",
       "  /* unfitted */\n",
       "  background-color: var(--sklearn-color-unfitted-level-2);\n",
       "}\n",
       "\n",
       "#sk-container-id-1 div.sk-estimator.fitted:hover {\n",
       "  /* fitted */\n",
       "  background-color: var(--sklearn-color-fitted-level-2);\n",
       "}\n",
       "\n",
       "/* Specification for estimator info (e.g. \"i\" and \"?\") */\n",
       "\n",
       "/* Common style for \"i\" and \"?\" */\n",
       "\n",
       ".sk-estimator-doc-link,\n",
       "a:link.sk-estimator-doc-link,\n",
       "a:visited.sk-estimator-doc-link {\n",
       "  float: right;\n",
       "  font-size: smaller;\n",
       "  line-height: 1em;\n",
       "  font-family: monospace;\n",
       "  background-color: var(--sklearn-color-background);\n",
       "  border-radius: 1em;\n",
       "  height: 1em;\n",
       "  width: 1em;\n",
       "  text-decoration: none !important;\n",
       "  margin-left: 0.5em;\n",
       "  text-align: center;\n",
       "  /* unfitted */\n",
       "  border: var(--sklearn-color-unfitted-level-1) 1pt solid;\n",
       "  color: var(--sklearn-color-unfitted-level-1);\n",
       "}\n",
       "\n",
       ".sk-estimator-doc-link.fitted,\n",
       "a:link.sk-estimator-doc-link.fitted,\n",
       "a:visited.sk-estimator-doc-link.fitted {\n",
       "  /* fitted */\n",
       "  border: var(--sklearn-color-fitted-level-1) 1pt solid;\n",
       "  color: var(--sklearn-color-fitted-level-1);\n",
       "}\n",
       "\n",
       "/* On hover */\n",
       "div.sk-estimator:hover .sk-estimator-doc-link:hover,\n",
       ".sk-estimator-doc-link:hover,\n",
       "div.sk-label-container:hover .sk-estimator-doc-link:hover,\n",
       ".sk-estimator-doc-link:hover {\n",
       "  /* unfitted */\n",
       "  background-color: var(--sklearn-color-unfitted-level-3);\n",
       "  color: var(--sklearn-color-background);\n",
       "  text-decoration: none;\n",
       "}\n",
       "\n",
       "div.sk-estimator.fitted:hover .sk-estimator-doc-link.fitted:hover,\n",
       ".sk-estimator-doc-link.fitted:hover,\n",
       "div.sk-label-container:hover .sk-estimator-doc-link.fitted:hover,\n",
       ".sk-estimator-doc-link.fitted:hover {\n",
       "  /* fitted */\n",
       "  background-color: var(--sklearn-color-fitted-level-3);\n",
       "  color: var(--sklearn-color-background);\n",
       "  text-decoration: none;\n",
       "}\n",
       "\n",
       "/* Span, style for the box shown on hovering the info icon */\n",
       ".sk-estimator-doc-link span {\n",
       "  display: none;\n",
       "  z-index: 9999;\n",
       "  position: relative;\n",
       "  font-weight: normal;\n",
       "  right: .2ex;\n",
       "  padding: .5ex;\n",
       "  margin: .5ex;\n",
       "  width: min-content;\n",
       "  min-width: 20ex;\n",
       "  max-width: 50ex;\n",
       "  color: var(--sklearn-color-text);\n",
       "  box-shadow: 2pt 2pt 4pt #999;\n",
       "  /* unfitted */\n",
       "  background: var(--sklearn-color-unfitted-level-0);\n",
       "  border: .5pt solid var(--sklearn-color-unfitted-level-3);\n",
       "}\n",
       "\n",
       ".sk-estimator-doc-link.fitted span {\n",
       "  /* fitted */\n",
       "  background: var(--sklearn-color-fitted-level-0);\n",
       "  border: var(--sklearn-color-fitted-level-3);\n",
       "}\n",
       "\n",
       ".sk-estimator-doc-link:hover span {\n",
       "  display: block;\n",
       "}\n",
       "\n",
       "/* \"?\"-specific style due to the `<a>` HTML tag */\n",
       "\n",
       "#sk-container-id-1 a.estimator_doc_link {\n",
       "  float: right;\n",
       "  font-size: 1rem;\n",
       "  line-height: 1em;\n",
       "  font-family: monospace;\n",
       "  background-color: var(--sklearn-color-background);\n",
       "  border-radius: 1rem;\n",
       "  height: 1rem;\n",
       "  width: 1rem;\n",
       "  text-decoration: none;\n",
       "  /* unfitted */\n",
       "  color: var(--sklearn-color-unfitted-level-1);\n",
       "  border: var(--sklearn-color-unfitted-level-1) 1pt solid;\n",
       "}\n",
       "\n",
       "#sk-container-id-1 a.estimator_doc_link.fitted {\n",
       "  /* fitted */\n",
       "  border: var(--sklearn-color-fitted-level-1) 1pt solid;\n",
       "  color: var(--sklearn-color-fitted-level-1);\n",
       "}\n",
       "\n",
       "/* On hover */\n",
       "#sk-container-id-1 a.estimator_doc_link:hover {\n",
       "  /* unfitted */\n",
       "  background-color: var(--sklearn-color-unfitted-level-3);\n",
       "  color: var(--sklearn-color-background);\n",
       "  text-decoration: none;\n",
       "}\n",
       "\n",
       "#sk-container-id-1 a.estimator_doc_link.fitted:hover {\n",
       "  /* fitted */\n",
       "  background-color: var(--sklearn-color-fitted-level-3);\n",
       "}\n",
       "\n",
       ".estimator-table summary {\n",
       "    padding: .5rem;\n",
       "    font-family: monospace;\n",
       "    cursor: pointer;\n",
       "}\n",
       "\n",
       ".estimator-table details[open] {\n",
       "    padding-left: 0.1rem;\n",
       "    padding-right: 0.1rem;\n",
       "    padding-bottom: 0.3rem;\n",
       "}\n",
       "\n",
       ".estimator-table .parameters-table {\n",
       "    margin-left: auto !important;\n",
       "    margin-right: auto !important;\n",
       "}\n",
       "\n",
       ".estimator-table .parameters-table tr:nth-child(odd) {\n",
       "    background-color: #fff;\n",
       "}\n",
       "\n",
       ".estimator-table .parameters-table tr:nth-child(even) {\n",
       "    background-color: #f6f6f6;\n",
       "}\n",
       "\n",
       ".estimator-table .parameters-table tr:hover {\n",
       "    background-color: #e0e0e0;\n",
       "}\n",
       "\n",
       ".estimator-table table td {\n",
       "    border: 1px solid rgba(106, 105, 104, 0.232);\n",
       "}\n",
       "\n",
       ".user-set td {\n",
       "    color:rgb(255, 94, 0);\n",
       "    text-align: left;\n",
       "}\n",
       "\n",
       ".user-set td.value pre {\n",
       "    color:rgb(255, 94, 0) !important;\n",
       "    background-color: transparent !important;\n",
       "}\n",
       "\n",
       ".default td {\n",
       "    color: black;\n",
       "    text-align: left;\n",
       "}\n",
       "\n",
       ".user-set td i,\n",
       ".default td i {\n",
       "    color: black;\n",
       "}\n",
       "\n",
       ".copy-paste-icon {\n",
       "    background-image: url(data:image/svg+xml;base64,PHN2ZyB4bWxucz0iaHR0cDovL3d3dy53My5vcmcvMjAwMC9zdmciIHZpZXdCb3g9IjAgMCA0NDggNTEyIj48IS0tIUZvbnQgQXdlc29tZSBGcmVlIDYuNy4yIGJ5IEBmb250YXdlc29tZSAtIGh0dHBzOi8vZm9udGF3ZXNvbWUuY29tIExpY2Vuc2UgLSBodHRwczovL2ZvbnRhd2Vzb21lLmNvbS9saWNlbnNlL2ZyZWUgQ29weXJpZ2h0IDIwMjUgRm9udGljb25zLCBJbmMuLS0+PHBhdGggZD0iTTIwOCAwTDMzMi4xIDBjMTIuNyAwIDI0LjkgNS4xIDMzLjkgMTQuMWw2Ny45IDY3LjljOSA5IDE0LjEgMjEuMiAxNC4xIDMzLjlMNDQ4IDMzNmMwIDI2LjUtMjEuNSA0OC00OCA0OGwtMTkyIDBjLTI2LjUgMC00OC0yMS41LTQ4LTQ4bDAtMjg4YzAtMjYuNSAyMS41LTQ4IDQ4LTQ4ek00OCAxMjhsODAgMCAwIDY0LTY0IDAgMCAyNTYgMTkyIDAgMC0zMiA2NCAwIDAgNDhjMCAyNi41LTIxLjUgNDgtNDggNDhMNDggNTEyYy0yNi41IDAtNDgtMjEuNS00OC00OEwwIDE3NmMwLTI2LjUgMjEuNS00OCA0OC00OHoiLz48L3N2Zz4=);\n",
       "    background-repeat: no-repeat;\n",
       "    background-size: 14px 14px;\n",
       "    background-position: 0;\n",
       "    display: inline-block;\n",
       "    width: 14px;\n",
       "    height: 14px;\n",
       "    cursor: pointer;\n",
       "}\n",
       "</style><body><div id=\"sk-container-id-1\" class=\"sk-top-container\"><div class=\"sk-text-repr-fallback\"><pre>LogisticRegression(max_iter=1000, random_state=42)</pre><b>In a Jupyter environment, please rerun this cell to show the HTML representation or trust the notebook. <br />On GitHub, the HTML representation is unable to render, please try loading this page with nbviewer.org.</b></div><div class=\"sk-container\" hidden><div class=\"sk-item\"><div class=\"sk-estimator fitted sk-toggleable\"><input class=\"sk-toggleable__control sk-hidden--visually\" id=\"sk-estimator-id-1\" type=\"checkbox\" checked><label for=\"sk-estimator-id-1\" class=\"sk-toggleable__label fitted sk-toggleable__label-arrow\"><div><div>LogisticRegression</div></div><div><a class=\"sk-estimator-doc-link fitted\" rel=\"noreferrer\" target=\"_blank\" href=\"https://scikit-learn.org/1.7/modules/generated/sklearn.linear_model.LogisticRegression.html\">?<span>Documentation for LogisticRegression</span></a><span class=\"sk-estimator-doc-link fitted\">i<span>Fitted</span></span></div></label><div class=\"sk-toggleable__content fitted\" data-param-prefix=\"\">\n",
       "        <div class=\"estimator-table\">\n",
       "            <details>\n",
       "                <summary>Parameters</summary>\n",
       "                <table class=\"parameters-table\">\n",
       "                  <tbody>\n",
       "                    \n",
       "        <tr class=\"default\">\n",
       "            <td><i class=\"copy-paste-icon\"\n",
       "                 onclick=\"copyToClipboard('penalty',\n",
       "                          this.parentElement.nextElementSibling)\"\n",
       "            ></i></td>\n",
       "            <td class=\"param\">penalty&nbsp;</td>\n",
       "            <td class=\"value\">&#x27;l2&#x27;</td>\n",
       "        </tr>\n",
       "    \n",
       "\n",
       "        <tr class=\"default\">\n",
       "            <td><i class=\"copy-paste-icon\"\n",
       "                 onclick=\"copyToClipboard('dual',\n",
       "                          this.parentElement.nextElementSibling)\"\n",
       "            ></i></td>\n",
       "            <td class=\"param\">dual&nbsp;</td>\n",
       "            <td class=\"value\">False</td>\n",
       "        </tr>\n",
       "    \n",
       "\n",
       "        <tr class=\"default\">\n",
       "            <td><i class=\"copy-paste-icon\"\n",
       "                 onclick=\"copyToClipboard('tol',\n",
       "                          this.parentElement.nextElementSibling)\"\n",
       "            ></i></td>\n",
       "            <td class=\"param\">tol&nbsp;</td>\n",
       "            <td class=\"value\">0.0001</td>\n",
       "        </tr>\n",
       "    \n",
       "\n",
       "        <tr class=\"default\">\n",
       "            <td><i class=\"copy-paste-icon\"\n",
       "                 onclick=\"copyToClipboard('C',\n",
       "                          this.parentElement.nextElementSibling)\"\n",
       "            ></i></td>\n",
       "            <td class=\"param\">C&nbsp;</td>\n",
       "            <td class=\"value\">1.0</td>\n",
       "        </tr>\n",
       "    \n",
       "\n",
       "        <tr class=\"default\">\n",
       "            <td><i class=\"copy-paste-icon\"\n",
       "                 onclick=\"copyToClipboard('fit_intercept',\n",
       "                          this.parentElement.nextElementSibling)\"\n",
       "            ></i></td>\n",
       "            <td class=\"param\">fit_intercept&nbsp;</td>\n",
       "            <td class=\"value\">True</td>\n",
       "        </tr>\n",
       "    \n",
       "\n",
       "        <tr class=\"default\">\n",
       "            <td><i class=\"copy-paste-icon\"\n",
       "                 onclick=\"copyToClipboard('intercept_scaling',\n",
       "                          this.parentElement.nextElementSibling)\"\n",
       "            ></i></td>\n",
       "            <td class=\"param\">intercept_scaling&nbsp;</td>\n",
       "            <td class=\"value\">1</td>\n",
       "        </tr>\n",
       "    \n",
       "\n",
       "        <tr class=\"default\">\n",
       "            <td><i class=\"copy-paste-icon\"\n",
       "                 onclick=\"copyToClipboard('class_weight',\n",
       "                          this.parentElement.nextElementSibling)\"\n",
       "            ></i></td>\n",
       "            <td class=\"param\">class_weight&nbsp;</td>\n",
       "            <td class=\"value\">None</td>\n",
       "        </tr>\n",
       "    \n",
       "\n",
       "        <tr class=\"user-set\">\n",
       "            <td><i class=\"copy-paste-icon\"\n",
       "                 onclick=\"copyToClipboard('random_state',\n",
       "                          this.parentElement.nextElementSibling)\"\n",
       "            ></i></td>\n",
       "            <td class=\"param\">random_state&nbsp;</td>\n",
       "            <td class=\"value\">42</td>\n",
       "        </tr>\n",
       "    \n",
       "\n",
       "        <tr class=\"default\">\n",
       "            <td><i class=\"copy-paste-icon\"\n",
       "                 onclick=\"copyToClipboard('solver',\n",
       "                          this.parentElement.nextElementSibling)\"\n",
       "            ></i></td>\n",
       "            <td class=\"param\">solver&nbsp;</td>\n",
       "            <td class=\"value\">&#x27;lbfgs&#x27;</td>\n",
       "        </tr>\n",
       "    \n",
       "\n",
       "        <tr class=\"user-set\">\n",
       "            <td><i class=\"copy-paste-icon\"\n",
       "                 onclick=\"copyToClipboard('max_iter',\n",
       "                          this.parentElement.nextElementSibling)\"\n",
       "            ></i></td>\n",
       "            <td class=\"param\">max_iter&nbsp;</td>\n",
       "            <td class=\"value\">1000</td>\n",
       "        </tr>\n",
       "    \n",
       "\n",
       "        <tr class=\"default\">\n",
       "            <td><i class=\"copy-paste-icon\"\n",
       "                 onclick=\"copyToClipboard('multi_class',\n",
       "                          this.parentElement.nextElementSibling)\"\n",
       "            ></i></td>\n",
       "            <td class=\"param\">multi_class&nbsp;</td>\n",
       "            <td class=\"value\">&#x27;deprecated&#x27;</td>\n",
       "        </tr>\n",
       "    \n",
       "\n",
       "        <tr class=\"default\">\n",
       "            <td><i class=\"copy-paste-icon\"\n",
       "                 onclick=\"copyToClipboard('verbose',\n",
       "                          this.parentElement.nextElementSibling)\"\n",
       "            ></i></td>\n",
       "            <td class=\"param\">verbose&nbsp;</td>\n",
       "            <td class=\"value\">0</td>\n",
       "        </tr>\n",
       "    \n",
       "\n",
       "        <tr class=\"default\">\n",
       "            <td><i class=\"copy-paste-icon\"\n",
       "                 onclick=\"copyToClipboard('warm_start',\n",
       "                          this.parentElement.nextElementSibling)\"\n",
       "            ></i></td>\n",
       "            <td class=\"param\">warm_start&nbsp;</td>\n",
       "            <td class=\"value\">False</td>\n",
       "        </tr>\n",
       "    \n",
       "\n",
       "        <tr class=\"default\">\n",
       "            <td><i class=\"copy-paste-icon\"\n",
       "                 onclick=\"copyToClipboard('n_jobs',\n",
       "                          this.parentElement.nextElementSibling)\"\n",
       "            ></i></td>\n",
       "            <td class=\"param\">n_jobs&nbsp;</td>\n",
       "            <td class=\"value\">None</td>\n",
       "        </tr>\n",
       "    \n",
       "\n",
       "        <tr class=\"default\">\n",
       "            <td><i class=\"copy-paste-icon\"\n",
       "                 onclick=\"copyToClipboard('l1_ratio',\n",
       "                          this.parentElement.nextElementSibling)\"\n",
       "            ></i></td>\n",
       "            <td class=\"param\">l1_ratio&nbsp;</td>\n",
       "            <td class=\"value\">None</td>\n",
       "        </tr>\n",
       "    \n",
       "                  </tbody>\n",
       "                </table>\n",
       "            </details>\n",
       "        </div>\n",
       "    </div></div></div></div></div><script>function copyToClipboard(text, element) {\n",
       "    // Get the parameter prefix from the closest toggleable content\n",
       "    const toggleableContent = element.closest('.sk-toggleable__content');\n",
       "    const paramPrefix = toggleableContent ? toggleableContent.dataset.paramPrefix : '';\n",
       "    const fullParamName = paramPrefix ? `${paramPrefix}${text}` : text;\n",
       "\n",
       "    const originalStyle = element.style;\n",
       "    const computedStyle = window.getComputedStyle(element);\n",
       "    const originalWidth = computedStyle.width;\n",
       "    const originalHTML = element.innerHTML.replace('Copied!', '');\n",
       "\n",
       "    navigator.clipboard.writeText(fullParamName)\n",
       "        .then(() => {\n",
       "            element.style.width = originalWidth;\n",
       "            element.style.color = 'green';\n",
       "            element.innerHTML = \"Copied!\";\n",
       "\n",
       "            setTimeout(() => {\n",
       "                element.innerHTML = originalHTML;\n",
       "                element.style = originalStyle;\n",
       "            }, 2000);\n",
       "        })\n",
       "        .catch(err => {\n",
       "            console.error('Failed to copy:', err);\n",
       "            element.style.color = 'red';\n",
       "            element.innerHTML = \"Failed!\";\n",
       "            setTimeout(() => {\n",
       "                element.innerHTML = originalHTML;\n",
       "                element.style = originalStyle;\n",
       "            }, 2000);\n",
       "        });\n",
       "    return false;\n",
       "}\n",
       "\n",
       "document.querySelectorAll('.fa-regular.fa-copy').forEach(function(element) {\n",
       "    const toggleableContent = element.closest('.sk-toggleable__content');\n",
       "    const paramPrefix = toggleableContent ? toggleableContent.dataset.paramPrefix : '';\n",
       "    const paramName = element.parentElement.nextElementSibling.textContent.trim();\n",
       "    const fullParamName = paramPrefix ? `${paramPrefix}${paramName}` : paramName;\n",
       "\n",
       "    element.setAttribute('title', fullParamName);\n",
       "});\n",
       "</script></body>"
      ],
      "text/plain": [
       "LogisticRegression(max_iter=1000, random_state=42)"
      ]
     },
     "execution_count": 34,
     "metadata": {},
     "output_type": "execute_result"
    }
   ],
   "source": [
    "model = LogisticRegression(max_iter=1000, random_state=42)\n",
    "model.fit(X_train_scaled, y_train)"
   ]
  },
  {
   "cell_type": "code",
   "execution_count": 35,
   "metadata": {
    "execution": {
     "iopub.execute_input": "2025-09-20T09:06:35.201684Z",
     "iopub.status.busy": "2025-09-20T09:06:35.200749Z",
     "iopub.status.idle": "2025-09-20T09:06:35.208883Z",
     "shell.execute_reply": "2025-09-20T09:06:35.207726Z",
     "shell.execute_reply.started": "2025-09-20T09:06:35.201660Z"
    }
   },
   "outputs": [],
   "source": [
    "y_train_pred = model.predict(X_train_scaled)\n",
    "y_test_pred = model.predict(X_test_scaled)"
   ]
  },
  {
   "cell_type": "code",
   "execution_count": 38,
   "metadata": {
    "execution": {
     "iopub.execute_input": "2025-09-20T09:09:01.142929Z",
     "iopub.status.busy": "2025-09-20T09:09:01.142265Z",
     "iopub.status.idle": "2025-09-20T09:09:01.154538Z",
     "shell.execute_reply": "2025-09-20T09:09:01.153391Z",
     "shell.execute_reply.started": "2025-09-20T09:09:01.142906Z"
    }
   },
   "outputs": [],
   "source": [
    "# Прогнозуємо класи\n",
    "y_pred = model.predict(X_test_scaled)\n",
    "\n",
    "# Прогнозуємо ймовірності\n",
    "y_pred_proba = model.predict_proba(X_test_scaled)"
   ]
  },
  {
   "cell_type": "code",
   "execution_count": 43,
   "metadata": {
    "execution": {
     "iopub.execute_input": "2025-09-20T09:10:22.032418Z",
     "iopub.status.busy": "2025-09-20T09:10:22.031772Z",
     "iopub.status.idle": "2025-09-20T09:10:22.042132Z",
     "shell.execute_reply": "2025-09-20T09:10:22.041113Z",
     "shell.execute_reply.started": "2025-09-20T09:10:22.032398Z"
    }
   },
   "outputs": [
    {
     "name": "stdout",
     "output_type": "stream",
     "text": [
      "   Реальний кредит  Прогноз  Ймовірність відмови кредит  \\\n",
      "0                0        0                       0.887   \n",
      "1                0        0                       0.911   \n",
      "2                0        0                       0.992   \n",
      "3                0        0                       0.927   \n",
      "4                0        0                       0.994   \n",
      "\n",
      "   Ймовірність отримати кредит  \n",
      "0                        0.113  \n",
      "1                        0.089  \n",
      "2                        0.008  \n",
      "3                        0.073  \n",
      "4                        0.006  \n"
     ]
    }
   ],
   "source": [
    "# Приклад прогнозів для перших 5 клієнтів\n",
    "sample_predictions = pd.DataFrame({\n",
    "    'Реальний кредит': y_test.values[:5],\n",
    "    'Прогноз': y_pred[:5],\n",
    "    'Ймовірність відмови кредит': y_pred_proba[:5, 0].round(3),\n",
    "    'Ймовірність отримати кредит': y_pred_proba[:5, 1].round(3)\n",
    "})\n",
    "print(sample_predictions)"
   ]
  },
  {
   "cell_type": "code",
   "execution_count": 36,
   "metadata": {
    "execution": {
     "iopub.execute_input": "2025-09-20T09:06:47.776841Z",
     "iopub.status.busy": "2025-09-20T09:06:47.776267Z",
     "iopub.status.idle": "2025-09-20T09:06:47.798203Z",
     "shell.execute_reply": "2025-09-20T09:06:47.796766Z",
     "shell.execute_reply.started": "2025-09-20T09:06:47.776819Z"
    }
   },
   "outputs": [
    {
     "name": "stdout",
     "output_type": "stream",
     "text": [
      "Точність на тренувальній вибірці: 0.8666743400859422\n",
      "Точність на тестовій вибірці: 0.8669633266840571\n",
      "\n",
      "Звіт класифікації для тестової вибірки:\n",
      "               precision    recall  f1-score   support\n",
      "\n",
      "           0       0.89      0.95      0.92      5095\n",
      "           1       0.77      0.56      0.65      1422\n",
      "\n",
      "    accuracy                           0.87      6517\n",
      "   macro avg       0.83      0.76      0.78      6517\n",
      "weighted avg       0.86      0.87      0.86      6517\n",
      "\n"
     ]
    }
   ],
   "source": [
    "print(\"Точність на тренувальній вибірці:\", accuracy_score(y_train, y_train_pred))\n",
    "print(\"Точність на тестовій вибірці:\", accuracy_score(y_test, y_test_pred))\n",
    "print(\"\\nЗвіт класифікації для тестової вибірки:\\n\", classification_report(y_test, y_test_pred))"
   ]
  },
  {
   "cell_type": "markdown",
   "metadata": {
    "id": "UT9h2VSift5z"
   },
   "source": [
    "\n",
    "---\n",
    "\n",
    "## Завдання 5: Оцінка якості моделі (4 бали)\n",
    "\n",
    "**Що потрібно зробити:**\n",
    "1. Побудуйте confusion matrix.\n",
    "2. Обчисліть основні метрики (accuracy, precision, recall, f1).\n",
    "3. Побудуйте ROC-криву та обчисліть AUC\n",
    "4. Проаналізуйте важливість ознак.\n",
    "5. Зробіть висновки про якість моделі та які ознаки найбільше впливають на прогноз.\n"
   ]
  },
  {
   "cell_type": "code",
   "execution_count": 45,
   "metadata": {
    "execution": {
     "iopub.execute_input": "2025-09-20T09:12:26.222635Z",
     "iopub.status.busy": "2025-09-20T09:12:26.221802Z",
     "iopub.status.idle": "2025-09-20T09:12:26.227712Z",
     "shell.execute_reply": "2025-09-20T09:12:26.226728Z",
     "shell.execute_reply.started": "2025-09-20T09:12:26.222557Z"
    }
   },
   "outputs": [],
   "source": [
    "from sklearn.metrics import (\n",
    "    confusion_matrix, ConfusionMatrixDisplay,\n",
    "    accuracy_score, precision_score, recall_score, f1_score,\n",
    "    roc_curve, roc_auc_score\n",
    ")"
   ]
  },
  {
   "cell_type": "code",
   "execution_count": 46,
   "metadata": {
    "execution": {
     "iopub.execute_input": "2025-09-20T09:12:28.260470Z",
     "iopub.status.busy": "2025-09-20T09:12:28.259585Z",
     "iopub.status.idle": "2025-09-20T09:12:28.397069Z",
     "shell.execute_reply": "2025-09-20T09:12:28.396202Z",
     "shell.execute_reply.started": "2025-09-20T09:12:28.260430Z"
    },
    "id": "uypT7JPjnO6j"
   },
   "outputs": [
    {
     "data": {
      "image/png": "[encoded data removed]",
      "text/plain": [
       "<Figure size 640x480 with 2 Axes>"
      ]
     },
     "metadata": {},
     "output_type": "display_data"
    }
   ],
   "source": [
    "# 1. Confusion matrix\n",
    "cm = confusion_matrix(y_test, y_test_pred)\n",
    "disp = ConfusionMatrixDisplay(confusion_matrix=cm, display_labels=model.classes_)\n",
    "disp.plot(cmap='Blues')\n",
    "plt.title(\"Confusion Matrix\")\n",
    "plt.show()"
   ]
  },
  {
   "cell_type": "code",
   "execution_count": 50,
   "metadata": {
    "execution": {
     "iopub.execute_input": "2025-09-20T09:14:28.107262Z",
     "iopub.status.busy": "2025-09-20T09:14:28.106902Z",
     "iopub.status.idle": "2025-09-20T09:14:28.128962Z",
     "shell.execute_reply": "2025-09-20T09:14:28.127674Z",
     "shell.execute_reply.started": "2025-09-20T09:14:28.107243Z"
    }
   },
   "outputs": [
    {
     "name": "stdout",
     "output_type": "stream",
     "text": [
      "МЕТРИКИ ЯКОСТІ МОДЕЛІ:\n",
      "Accuracy (Точність):    0.867\n",
      "Precision (Влучність):  0.766\n",
      "Recall (Повнота):       0.563\n",
      "F1-score:               0.649\n"
     ]
    }
   ],
   "source": [
    "from sklearn.metrics import accuracy_score, precision_score, recall_score, f1_score\n",
    "\n",
    "accuracy = accuracy_score(y_test, y_pred)\n",
    "precision = precision_score(y_test, y_pred)\n",
    "recall = recall_score(y_test, y_pred)\n",
    "f1 = f1_score(y_test, y_pred)\n",
    "\n",
    "print(\"МЕТРИКИ ЯКОСТІ МОДЕЛІ:\")\n",
    "print(f\"Accuracy (Точність):    {accuracy:.3f}\")\n",
    "print(f\"Precision (Влучність):  {precision:.3f}\")\n",
    "print(f\"Recall (Повнота):       {recall:.3f}\")\n",
    "print(f\"F1-score:               {f1:.3f}\")"
   ]
  },
  {
   "cell_type": "code",
   "execution_count": 51,
   "metadata": {
    "execution": {
     "iopub.execute_input": "2025-09-20T09:14:42.331653Z",
     "iopub.status.busy": "2025-09-20T09:14:42.331275Z",
     "iopub.status.idle": "2025-09-20T09:14:43.805092Z",
     "shell.execute_reply": "2025-09-20T09:14:43.803947Z",
     "shell.execute_reply.started": "2025-09-20T09:14:42.331634Z"
    }
   },
   "outputs": [
    {
     "data": {
      "application/vnd.plotly.v1+json": {
       "config": {
        "plotlyServerURL": "https://plot.ly"
       },
       "data": [
        {
         "mode": "lines",
         "name": "ROC (AUC = 0.870)",
         "type": "scatter",
         "x": {
          "bdata": "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",
          "dtype": "f8"
         },
         "y": {
          "bdata": "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",
          "dtype": "f8"
         }
        },
        {
         "line": {
          "dash": "dash"
         },
         "mode": "lines",
         "name": "Випадковий класифікатор",
         "type": "scatter",
         "x": [
          0,
          1
         ],
         "y": [
          0,
          1
         ]
        }
       ],
       "layout": {
        "height": 500,
        "template": {
         "data": {
          "bar": [
           {
            "error_x": {
             "color": "#2a3f5f"
            },
            "error_y": {
             "color": "#2a3f5f"
            },
            "marker": {
             "line": {
              "color": "#E5ECF6",
              "width": 0.5
             },
             "pattern": {
              "fillmode": "overlay",
              "size": 10,
              "solidity": 0.2
             }
            },
            "type": "bar"
           }
          ],
          "barpolar": [
           {
            "marker": {
             "line": {
              "color": "#E5ECF6",
              "width": 0.5
             },
             "pattern": {
              "fillmode": "overlay",
              "size": 10,
              "solidity": 0.2
             }
            },
            "type": "barpolar"
           }
          ],
          "carpet": [
           {
            "aaxis": {
             "endlinecolor": "#2a3f5f",
             "gridcolor": "white",
             "linecolor": "white",
             "minorgridcolor": "white",
             "startlinecolor": "#2a3f5f"
            },
            "baxis": {
             "endlinecolor": "#2a3f5f",
             "gridcolor": "white",
             "linecolor": "white",
             "minorgridcolor": "white",
             "startlinecolor": "#2a3f5f"
            },
            "type": "carpet"
           }
          ],
          "choropleth": [
           {
            "colorbar": {
             "outlinewidth": 0,
             "ticks": ""
            },
            "type": "choropleth"
           }
          ],
          "contour": [
           {
            "colorbar": {
             "outlinewidth": 0,
             "ticks": ""
            },
            "colorscale": [
             [
              0,
              "#0d0887"
             ],
             [
              0.1111111111111111,
              "#46039f"
             ],
             [
              0.2222222222222222,
              "#7201a8"
             ],
             [
              0.3333333333333333,
              "#9c179e"
             ],
             [
              0.4444444444444444,
              "#bd3786"
             ],
             [
              0.5555555555555556,
              "#d8576b"
             ],
             [
              0.6666666666666666,
              "#ed7953"
             ],
             [
              0.7777777777777778,
              "#fb9f3a"
             ],
             [
              0.8888888888888888,
              "#fdca26"
             ],
             [
              1,
              "#f0f921"
             ]
            ],
            "type": "contour"
           }
          ],
          "contourcarpet": [
           {
            "colorbar": {
             "outlinewidth": 0,
             "ticks": ""
            },
            "type": "contourcarpet"
           }
          ],
          "heatmap": [
           {
            "colorbar": {
             "outlinewidth": 0,
             "ticks": ""
            },
            "colorscale": [
             [
              0,
              "#0d0887"
             ],
             [
              0.1111111111111111,
              "#46039f"
             ],
             [
              0.2222222222222222,
              "#7201a8"
             ],
             [
              0.3333333333333333,
              "#9c179e"
             ],
             [
              0.4444444444444444,
              "#bd3786"
             ],
             [
              0.5555555555555556,
              "#d8576b"
             ],
             [
              0.6666666666666666,
              "#ed7953"
             ],
             [
              0.7777777777777778,
              "#fb9f3a"
             ],
             [
              0.8888888888888888,
              "#fdca26"
             ],
             [
              1,
              "#f0f921"
             ]
            ],
            "type": "heatmap"
           }
          ],
          "histogram": [
           {
            "marker": {
             "pattern": {
              "fillmode": "overlay",
              "size": 10,
              "solidity": 0.2
             }
            },
            "type": "histogram"
           }
          ],
          "histogram2d": [
           {
            "colorbar": {
             "outlinewidth": 0,
             "ticks": ""
            },
            "colorscale": [
             [
              0,
              "#0d0887"
             ],
             [
              0.1111111111111111,
              "#46039f"
             ],
             [
              0.2222222222222222,
              "#7201a8"
             ],
             [
              0.3333333333333333,
              "#9c179e"
             ],
             [
              0.4444444444444444,
              "#bd3786"
             ],
             [
              0.5555555555555556,
              "#d8576b"
             ],
             [
              0.6666666666666666,
              "#ed7953"
             ],
             [
              0.7777777777777778,
              "#fb9f3a"
             ],
             [
              0.8888888888888888,
              "#fdca26"
             ],
             [
              1,
              "#f0f921"
             ]
            ],
            "type": "histogram2d"
           }
          ],
          "histogram2dcontour": [
           {
            "colorbar": {
             "outlinewidth": 0,
             "ticks": ""
            },
            "colorscale": [
             [
              0,
              "#0d0887"
             ],
             [
              0.1111111111111111,
              "#46039f"
             ],
             [
              0.2222222222222222,
              "#7201a8"
             ],
             [
              0.3333333333333333,
              "#9c179e"
             ],
             [
              0.4444444444444444,
              "#bd3786"
             ],
             [
              0.5555555555555556,
              "#d8576b"
             ],
             [
              0.6666666666666666,
              "#ed7953"
             ],
             [
              0.7777777777777778,
              "#fb9f3a"
             ],
             [
              0.8888888888888888,
              "#fdca26"
             ],
             [
              1,
              "#f0f921"
             ]
            ],
            "type": "histogram2dcontour"
           }
          ],
          "mesh3d": [
           {
            "colorbar": {
             "outlinewidth": 0,
             "ticks": ""
            },
            "type": "mesh3d"
           }
          ],
          "parcoords": [
           {
            "line": {
             "colorbar": {
              "outlinewidth": 0,
              "ticks": ""
             }
            },
            "type": "parcoords"
           }
          ],
          "pie": [
           {
            "automargin": true,
            "type": "pie"
           }
          ],
          "scatter": [
           {
            "fillpattern": {
             "fillmode": "overlay",
             "size": 10,
             "solidity": 0.2
            },
            "type": "scatter"
           }
          ],
          "scatter3d": [
           {
            "line": {
             "colorbar": {
              "outlinewidth": 0,
              "ticks": ""
             }
            },
            "marker": {
             "colorbar": {
              "outlinewidth": 0,
              "ticks": ""
             }
            },
            "type": "scatter3d"
           }
          ],
          "scattercarpet": [
           {
            "marker": {
             "colorbar": {
              "outlinewidth": 0,
              "ticks": ""
             }
            },
            "type": "scattercarpet"
           }
          ],
          "scattergeo": [
           {
            "marker": {
             "colorbar": {
              "outlinewidth": 0,
              "ticks": ""
             }
            },
            "type": "scattergeo"
           }
          ],
          "scattergl": [
           {
            "marker": {
             "colorbar": {
              "outlinewidth": 0,
              "ticks": ""
             }
            },
            "type": "scattergl"
           }
          ],
          "scattermap": [
           {
            "marker": {
             "colorbar": {
              "outlinewidth": 0,
              "ticks": ""
             }
            },
            "type": "scattermap"
           }
          ],
          "scattermapbox": [
           {
            "marker": {
             "colorbar": {
              "outlinewidth": 0,
              "ticks": ""
             }
            },
            "type": "scattermapbox"
           }
          ],
          "scatterpolar": [
           {
            "marker": {
             "colorbar": {
              "outlinewidth": 0,
              "ticks": ""
             }
            },
            "type": "scatterpolar"
           }
          ],
          "scatterpolargl": [
           {
            "marker": {
             "colorbar": {
              "outlinewidth": 0,
              "ticks": ""
             }
            },
            "type": "scatterpolargl"
           }
          ],
          "scatterternary": [
           {
            "marker": {
             "colorbar": {
              "outlinewidth": 0,
              "ticks": ""
             }
            },
            "type": "scatterternary"
           }
          ],
          "surface": [
           {
            "colorbar": {
             "outlinewidth": 0,
             "ticks": ""
            },
            "colorscale": [
             [
              0,
              "#0d0887"
             ],
             [
              0.1111111111111111,
              "#46039f"
             ],
             [
              0.2222222222222222,
              "#7201a8"
             ],
             [
              0.3333333333333333,
              "#9c179e"
             ],
             [
              0.4444444444444444,
              "#bd3786"
             ],
             [
              0.5555555555555556,
              "#d8576b"
             ],
             [
              0.6666666666666666,
              "#ed7953"
             ],
             [
              0.7777777777777778,
              "#fb9f3a"
             ],
             [
              0.8888888888888888,
              "#fdca26"
             ],
             [
              1,
              "#f0f921"
             ]
            ],
            "type": "surface"
           }
          ],
          "table": [
           {
            "cells": {
             "fill": {
              "color": "#EBF0F8"
             },
             "line": {
              "color": "white"
             }
            },
            "header": {
             "fill": {
              "color": "#C8D4E3"
             },
             "line": {
              "color": "white"
             }
            },
            "type": "table"
           }
          ]
         },
         "layout": {
          "annotationdefaults": {
           "arrowcolor": "#2a3f5f",
           "arrowhead": 0,
           "arrowwidth": 1
          },
          "autotypenumbers": "strict",
          "coloraxis": {
           "colorbar": {
            "outlinewidth": 0,
            "ticks": ""
           }
          },
          "colorscale": {
           "diverging": [
            [
             0,
             "#8e0152"
            ],
            [
             0.1,
             "#c51b7d"
            ],
            [
             0.2,
             "#de77ae"
            ],
            [
             0.3,
             "#f1b6da"
            ],
            [
             0.4,
             "#fde0ef"
            ],
            [
             0.5,
             "#f7f7f7"
            ],
            [
             0.6,
             "#e6f5d0"
            ],
            [
             0.7,
             "#b8e186"
            ],
            [
             0.8,
             "#7fbc41"
            ],
            [
             0.9,
             "#4d9221"
            ],
            [
             1,
             "#276419"
            ]
           ],
           "sequential": [
            [
             0,
             "#0d0887"
            ],
            [
             0.1111111111111111,
             "#46039f"
            ],
            [
             0.2222222222222222,
             "#7201a8"
            ],
            [
             0.3333333333333333,
             "#9c179e"
            ],
            [
             0.4444444444444444,
             "#bd3786"
            ],
            [
             0.5555555555555556,
             "#d8576b"
            ],
            [
             0.6666666666666666,
             "#ed7953"
            ],
            [
             0.7777777777777778,
             "#fb9f3a"
            ],
            [
             0.8888888888888888,
             "#fdca26"
            ],
            [
             1,
             "#f0f921"
            ]
           ],
           "sequentialminus": [
            [
             0,
             "#0d0887"
            ],
            [
             0.1111111111111111,
             "#46039f"
            ],
            [
             0.2222222222222222,
             "#7201a8"
            ],
            [
             0.3333333333333333,
             "#9c179e"
            ],
            [
             0.4444444444444444,
             "#bd3786"
            ],
            [
             0.5555555555555556,
             "#d8576b"
            ],
            [
             0.6666666666666666,
             "#ed7953"
            ],
            [
             0.7777777777777778,
             "#fb9f3a"
            ],
            [
             0.8888888888888888,
             "#fdca26"
            ],
            [
             1,
             "#f0f921"
            ]
           ]
          },
          "colorway": [
           "#636efa",
           "#EF553B",
           "#00cc96",
           "#ab63fa",
           "#FFA15A",
           "#19d3f3",
           "#FF6692",
           "#B6E880",
           "#FF97FF",
           "#FECB52"
          ],
          "font": {
           "color": "#2a3f5f"
          },
          "geo": {
           "bgcolor": "white",
           "lakecolor": "white",
           "landcolor": "#E5ECF6",
           "showlakes": true,
           "showland": true,
           "subunitcolor": "white"
          },
          "hoverlabel": {
           "align": "left"
          },
          "hovermode": "closest",
          "mapbox": {
           "style": "light"
          },
          "paper_bgcolor": "white",
          "plot_bgcolor": "#E5ECF6",
          "polar": {
           "angularaxis": {
            "gridcolor": "white",
            "linecolor": "white",
            "ticks": ""
           },
           "bgcolor": "#E5ECF6",
           "radialaxis": {
            "gridcolor": "white",
            "linecolor": "white",
            "ticks": ""
           }
          },
          "scene": {
           "xaxis": {
            "backgroundcolor": "#E5ECF6",
            "gridcolor": "white",
            "gridwidth": 2,
            "linecolor": "white",
            "showbackground": true,
            "ticks": "",
            "zerolinecolor": "white"
           },
           "yaxis": {
            "backgroundcolor": "#E5ECF6",
            "gridcolor": "white",
            "gridwidth": 2,
            "linecolor": "white",
            "showbackground": true,
            "ticks": "",
            "zerolinecolor": "white"
           },
           "zaxis": {
            "backgroundcolor": "#E5ECF6",
            "gridcolor": "white",
            "gridwidth": 2,
            "linecolor": "white",
            "showbackground": true,
            "ticks": "",
            "zerolinecolor": "white"
           }
          },
          "shapedefaults": {
           "line": {
            "color": "#2a3f5f"
           }
          },
          "ternary": {
           "aaxis": {
            "gridcolor": "white",
            "linecolor": "white",
            "ticks": ""
           },
           "baxis": {
            "gridcolor": "white",
            "linecolor": "white",
            "ticks": ""
           },
           "bgcolor": "#E5ECF6",
           "caxis": {
            "gridcolor": "white",
            "linecolor": "white",
            "ticks": ""
           }
          },
          "title": {
           "x": 0.05
          },
          "xaxis": {
           "automargin": true,
           "gridcolor": "white",
           "linecolor": "white",
           "ticks": "",
           "title": {
            "standoff": 15
           },
           "zerolinecolor": "white",
           "zerolinewidth": 2
          },
          "yaxis": {
           "automargin": true,
           "gridcolor": "white",
           "linecolor": "white",
           "ticks": "",
           "title": {
            "standoff": 15
           },
           "zerolinecolor": "white",
           "zerolinewidth": 2
          }
         }
        },
        "title": {
         "text": "ROC-крива"
        },
        "xaxis": {
         "title": {
          "text": "False Positive Rate"
         }
        },
        "yaxis": {
         "title": {
          "text": "True Positive Rate"
         }
        }
       }
      },
      "image/png": "[encoded data removed]"
     },
     "metadata": {},
     "output_type": "display_data"
    }
   ],
   "source": [
    "from sklearn.metrics import roc_curve, roc_auc_score\n",
    "\n",
    "# Обчислюємо ROC\n",
    "fpr, tpr, thresholds = roc_curve(y_test, y_pred_proba[:, 1])\n",
    "auc = roc_auc_score(y_test, y_pred_proba[:, 1])\n",
    "\n",
    "# Візуалізація\n",
    "fig = go.Figure()\n",
    "fig.add_trace(go.Scatter(x=fpr, y=tpr, mode='lines', name=f'ROC (AUC = {auc:.3f})'))\n",
    "fig.add_trace(go.Scatter(x=[0, 1], y=[0, 1], mode='lines', line=dict(dash='dash'),\n",
    "                        name='Випадковий класифікатор'))\n",
    "fig.update_layout(\n",
    "    title='ROC-крива',\n",
    "    xaxis_title='False Positive Rate',\n",
    "    yaxis_title='True Positive Rate',\n",
    "    height=500\n",
    ")\n",
    "fig.show()"
   ]
  },
  {
   "cell_type": "code",
   "execution_count": 52,
   "metadata": {
    "execution": {
     "iopub.execute_input": "2025-09-20T09:15:22.536359Z",
     "iopub.status.busy": "2025-09-20T09:15:22.535491Z",
     "iopub.status.idle": "2025-09-20T09:15:22.549817Z",
     "shell.execute_reply": "2025-09-20T09:15:22.548833Z",
     "shell.execute_reply.started": "2025-09-20T09:15:22.536319Z"
    }
   },
   "outputs": [
    {
     "data": {
      "text/html": [
       "<div>\n",
       "<style scoped>\n",
       "    .dataframe tbody tr th:only-of-type {\n",
       "        vertical-align: middle;\n",
       "    }\n",
       "\n",
       "    .dataframe tbody tr th {\n",
       "        vertical-align: top;\n",
       "    }\n",
       "\n",
       "    .dataframe thead th {\n",
       "        text-align: right;\n",
       "    }\n",
       "</style>\n",
       "<table border=\"1\" class=\"dataframe\">\n",
       "  <thead>\n",
       "    <tr style=\"text-align: right;\">\n",
       "      <th></th>\n",
       "      <th>feature</th>\n",
       "      <th>coefficient</th>\n",
       "      <th>abs_coefficient</th>\n",
       "    </tr>\n",
       "  </thead>\n",
       "  <tbody>\n",
       "    <tr>\n",
       "      <th>5</th>\n",
       "      <td>loan_percent_income</td>\n",
       "      <td>1.254270</td>\n",
       "      <td>1.254270</td>\n",
       "    </tr>\n",
       "    <tr>\n",
       "      <th>17</th>\n",
       "      <td>loan_grade_D</td>\n",
       "      <td>0.822317</td>\n",
       "      <td>0.822317</td>\n",
       "    </tr>\n",
       "    <tr>\n",
       "      <th>18</th>\n",
       "      <td>loan_grade_E</td>\n",
       "      <td>0.481755</td>\n",
       "      <td>0.481755</td>\n",
       "    </tr>\n",
       "    <tr>\n",
       "      <th>3</th>\n",
       "      <td>loan_amnt</td>\n",
       "      <td>-0.467390</td>\n",
       "      <td>0.467390</td>\n",
       "    </tr>\n",
       "    <tr>\n",
       "      <th>8</th>\n",
       "      <td>person_home_ownership_OWN</td>\n",
       "      <td>-0.445162</td>\n",
       "      <td>0.445162</td>\n",
       "    </tr>\n",
       "    <tr>\n",
       "      <th>9</th>\n",
       "      <td>person_home_ownership_RENT</td>\n",
       "      <td>0.420598</td>\n",
       "      <td>0.420598</td>\n",
       "    </tr>\n",
       "    <tr>\n",
       "      <th>14</th>\n",
       "      <td>loan_intent_VENTURE</td>\n",
       "      <td>-0.411387</td>\n",
       "      <td>0.411387</td>\n",
       "    </tr>\n",
       "    <tr>\n",
       "      <th>10</th>\n",
       "      <td>loan_intent_EDUCATION</td>\n",
       "      <td>-0.319694</td>\n",
       "      <td>0.319694</td>\n",
       "    </tr>\n",
       "    <tr>\n",
       "      <th>19</th>\n",
       "      <td>loan_grade_F</td>\n",
       "      <td>0.282783</td>\n",
       "      <td>0.282783</td>\n",
       "    </tr>\n",
       "    <tr>\n",
       "      <th>20</th>\n",
       "      <td>loan_grade_G</td>\n",
       "      <td>0.273675</td>\n",
       "      <td>0.273675</td>\n",
       "    </tr>\n",
       "    <tr>\n",
       "      <th>13</th>\n",
       "      <td>loan_intent_PERSONAL</td>\n",
       "      <td>-0.215281</td>\n",
       "      <td>0.215281</td>\n",
       "    </tr>\n",
       "    <tr>\n",
       "      <th>16</th>\n",
       "      <td>loan_grade_C</td>\n",
       "      <td>0.181801</td>\n",
       "      <td>0.181801</td>\n",
       "    </tr>\n",
       "    <tr>\n",
       "      <th>1</th>\n",
       "      <td>person_income</td>\n",
       "      <td>-0.161912</td>\n",
       "      <td>0.161912</td>\n",
       "    </tr>\n",
       "    <tr>\n",
       "      <th>4</th>\n",
       "      <td>loan_int_rate</td>\n",
       "      <td>0.143763</td>\n",
       "      <td>0.143763</td>\n",
       "    </tr>\n",
       "    <tr>\n",
       "      <th>15</th>\n",
       "      <td>loan_grade_B</td>\n",
       "      <td>0.124947</td>\n",
       "      <td>0.124947</td>\n",
       "    </tr>\n",
       "    <tr>\n",
       "      <th>12</th>\n",
       "      <td>loan_intent_MEDICAL</td>\n",
       "      <td>-0.057592</td>\n",
       "      <td>0.057592</td>\n",
       "    </tr>\n",
       "    <tr>\n",
       "      <th>2</th>\n",
       "      <td>person_emp_length</td>\n",
       "      <td>-0.056108</td>\n",
       "      <td>0.056108</td>\n",
       "    </tr>\n",
       "    <tr>\n",
       "      <th>11</th>\n",
       "      <td>loan_intent_HOMEIMPROVEMENT</td>\n",
       "      <td>0.033799</td>\n",
       "      <td>0.033799</td>\n",
       "    </tr>\n",
       "    <tr>\n",
       "      <th>7</th>\n",
       "      <td>person_home_ownership_OTHER</td>\n",
       "      <td>0.029166</td>\n",
       "      <td>0.029166</td>\n",
       "    </tr>\n",
       "    <tr>\n",
       "      <th>0</th>\n",
       "      <td>person_age</td>\n",
       "      <td>-0.020641</td>\n",
       "      <td>0.020641</td>\n",
       "    </tr>\n",
       "    <tr>\n",
       "      <th>21</th>\n",
       "      <td>cb_person_default_on_file_Y</td>\n",
       "      <td>0.013458</td>\n",
       "      <td>0.013458</td>\n",
       "    </tr>\n",
       "    <tr>\n",
       "      <th>6</th>\n",
       "      <td>cb_person_cred_hist_length</td>\n",
       "      <td>0.010427</td>\n",
       "      <td>0.010427</td>\n",
       "    </tr>\n",
       "  </tbody>\n",
       "</table>\n",
       "</div>"
      ],
      "text/plain": [
       "                        feature  coefficient  abs_coefficient\n",
       "5           loan_percent_income     1.254270         1.254270\n",
       "17                 loan_grade_D     0.822317         0.822317\n",
       "18                 loan_grade_E     0.481755         0.481755\n",
       "3                     loan_amnt    -0.467390         0.467390\n",
       "8     person_home_ownership_OWN    -0.445162         0.445162\n",
       "9    person_home_ownership_RENT     0.420598         0.420598\n",
       "14          loan_intent_VENTURE    -0.411387         0.411387\n",
       "10        loan_intent_EDUCATION    -0.319694         0.319694\n",
       "19                 loan_grade_F     0.282783         0.282783\n",
       "20                 loan_grade_G     0.273675         0.273675\n",
       "13         loan_intent_PERSONAL    -0.215281         0.215281\n",
       "16                 loan_grade_C     0.181801         0.181801\n",
       "1                 person_income    -0.161912         0.161912\n",
       "4                 loan_int_rate     0.143763         0.143763\n",
       "15                 loan_grade_B     0.124947         0.124947\n",
       "12          loan_intent_MEDICAL    -0.057592         0.057592\n",
       "2             person_emp_length    -0.056108         0.056108\n",
       "11  loan_intent_HOMEIMPROVEMENT     0.033799         0.033799\n",
       "7   person_home_ownership_OTHER     0.029166         0.029166\n",
       "0                    person_age    -0.020641         0.020641\n",
       "21  cb_person_default_on_file_Y     0.013458         0.013458\n",
       "6    cb_person_cred_hist_length     0.010427         0.010427"
      ]
     },
     "execution_count": 52,
     "metadata": {},
     "output_type": "execute_result"
    }
   ],
   "source": [
    "# Отримуємо коефіцієнти моделі\n",
    "feature_importance = pd.DataFrame({\n",
    "    'feature': X.columns,\n",
    "    'coefficient': model.coef_[0],\n",
    "    'abs_coefficient': np.abs(model.coef_[0])\n",
    "}).sort_values('abs_coefficient', ascending=False)\n",
    "\n",
    "feature_importance"
   ]
  },
  {
   "cell_type": "markdown",
   "metadata": {},
   "source": [
    "#### Висновки\n",
    "\n",
    "Модель досить точна, але слабка в повноті виявлення ризикових кредитів. Для фінансового застосування можливо варто оптимізувати поріг або використовувати додаткові методи (наприклад, Random Forest, XGBoost).\n",
    "\n",
    "Найважливіші фактори ризику:\n",
    "\n",
    "Висока частка доходу, що йде на кредит (loan_percent_income)\n",
    "\n",
    "Клас кредиту (loan_grade)\n",
    "\n",
    "Статус власності житла (OWN/RENT)\n",
    "\n",
    "Менш впливові ознаки (person_age, cb_person_cred_hist_length) можна розглядати для скорочення набору ознак."
   ]
  },
  {
   "cell_type": "markdown",
   "metadata": {
    "id": "zPUsht4Nft50"
   },
   "source": [
    "\n",
    "---\n",
    "\n",
    "## Завдання 6: Оптимізація порогу та бізнес-аналіз (2 бали)\n",
    "\n",
    "**Що потрібно зробити:**\n",
    "1. Проаналізуйте метрики precision, recall, F1 при різних порогах класифікації (мінімум - 5 різних порогів). Візуалізуйте як змінюються метрики якості при зміні порогу.\n",
    "2. Оберіть оптимальний поріг для бізнес-задачі - можна обрати виходячи з попереднього пункту, або додати своїх роздумів і обрати інший.\n",
    "\n"
   ]
  },
  {
   "cell_type": "code",
   "execution_count": 54,
   "metadata": {
    "execution": {
     "iopub.execute_input": "2025-09-20T09:18:33.588867Z",
     "iopub.status.busy": "2025-09-20T09:18:33.588479Z",
     "iopub.status.idle": "2025-09-20T09:18:34.649001Z",
     "shell.execute_reply": "2025-09-20T09:18:34.647925Z",
     "shell.execute_reply.started": "2025-09-20T09:18:33.588849Z"
    }
   },
   "outputs": [
    {
     "data": {
      "application/vnd.plotly.v1+json": {
       "config": {
        "plotlyServerURL": "https://plot.ly"
       },
       "data": [
        {
         "hovertemplate": "variable=precision<br>Поріг=%{x}<br>Значення метрики=%{y}<extra></extra>",
         "legendgroup": "precision",
         "line": {
          "color": "#636efa",
          "dash": "solid"
         },
         "marker": {
          "symbol": "circle"
         },
         "mode": "lines",
         "name": "precision",
         "orientation": "v",
         "showlegend": true,
         "type": "scatter",
         "x": {
          "bdata": "mpmZmZmZuT80MzMzMzPDP5uZmZmZmck/AQAAAAAA0D80MzMzMzPTP2hmZmZmZtY/nJmZmZmZ2T/OzMzMzMzcPwEAAAAAAOA/m5mZmZmZ4T81MzMzMzPjP87MzMzMzOQ/aGZmZmZm5j8CAAAAAADoP5uZmZmZmek/NTMzMzMz6z8=",
          "dtype": "f8"
         },
         "xaxis": "x",
         "y": {
          "bdata": "6PmFgZ5f2D+TuX6K7kDdP+bTgSngyeA/oA4Fa6Fz4j/n5ubm5ubjP4pmPHQ9OeU/3rIUqkdP5j+D3tsprYvnPzyfHjdjf+g/vWSkBgh/6T+hSj9zGtzpP7rmjQtgfuo/oeGk7stj6z+c+PWWOj3sP6zMrzK/yuw/8XxdsdHQ7T8=",
          "dtype": "f8"
         },
         "yaxis": "y"
        },
        {
         "hovertemplate": "variable=recall<br>Поріг=%{x}<br>Значення метрики=%{y}<extra></extra>",
         "legendgroup": "recall",
         "line": {
          "color": "#EF553B",
          "dash": "solid"
         },
         "marker": {
          "symbol": "circle"
         },
         "mode": "lines",
         "name": "recall",
         "orientation": "v",
         "showlegend": true,
         "type": "scatter",
         "x": {
          "bdata": "mpmZmZmZuT80MzMzMzPDP5uZmZmZmck/AQAAAAAA0D80MzMzMzPTP2hmZmZmZtY/nJmZmZmZ2T/OzMzMzMzcPwEAAAAAAOA/m5mZmZmZ4T81MzMzMzPjP87MzMzMzOQ/aGZmZmZm5j8CAAAAAADoP5uZmZmZmek/NTMzMzMz6z8=",
          "dtype": "f8"
         },
         "xaxis": "x",
         "y": {
          "bdata": "gY3RdpoV7D95x3r9wNjqPwoFfk6qoek/nDC/q8VN6D+SRuRKUNfmP76ZA1rKwuU/6tpgdXaR5D97BqLSkT3jP3NAS1m4AOI/nV0kjciV4D8kewai0pHdPw+DzPhLa9o/kTQiV4K61j8VCvycVEPTPzQZdohTKNA/0Fv3J+eSyD8=",
          "dtype": "f8"
         },
         "yaxis": "y"
        },
        {
         "hovertemplate": "variable=f1<br>Поріг=%{x}<br>Значення метрики=%{y}<extra></extra>",
         "legendgroup": "f1",
         "line": {
          "color": "#00cc96",
          "dash": "solid"
         },
         "marker": {
          "symbol": "circle"
         },
         "mode": "lines",
         "name": "f1",
         "orientation": "v",
         "showlegend": true,
         "type": "scatter",
         "x": {
          "bdata": "mpmZmZmZuT80MzMzMzPDP5uZmZmZmck/AQAAAAAA0D80MzMzMzPTP2hmZmZmZtY/nJmZmZmZ2T/OzMzMzMzcPwEAAAAAAOA/m5mZmZmZ4T81MzMzMzPjP87MzMzMzOQ/aGZmZmZm5j8CAAAAAADoP5uZmZmZmek/NTMzMzMz6z8=",
          "dtype": "f8"
         },
         "xaxis": "x",
         "y": {
          "bdata": "ObHRlWb/4D/8vu/7vu/iPw0lOIzQSeQ/ZygISSz65D/bAx8xPUXlP9InfdInfeU/JKUxZlFn5T8tLS0tLS3lPxH/YgIDweQ/6YGLg94Y5D8TiFR6PNDiP9fbfqAYoeE/ZRbMSUkQ4D+t4yAJVLrcP2zLbU8HPNk/S9jNbyFg1D8=",
          "dtype": "f8"
         },
         "yaxis": "y"
        }
       ],
       "layout": {
        "legend": {
         "title": {
          "text": "variable"
         },
         "tracegroupgap": 0
        },
        "template": {
         "data": {
          "bar": [
           {
            "error_x": {
             "color": "#2a3f5f"
            },
            "error_y": {
             "color": "#2a3f5f"
            },
            "marker": {
             "line": {
              "color": "#E5ECF6",
              "width": 0.5
             },
             "pattern": {
              "fillmode": "overlay",
              "size": 10,
              "solidity": 0.2
             }
            },
            "type": "bar"
           }
          ],
          "barpolar": [
           {
            "marker": {
             "line": {
              "color": "#E5ECF6",
              "width": 0.5
             },
             "pattern": {
              "fillmode": "overlay",
              "size": 10,
              "solidity": 0.2
             }
            },
            "type": "barpolar"
           }
          ],
          "carpet": [
           {
            "aaxis": {
             "endlinecolor": "#2a3f5f",
             "gridcolor": "white",
             "linecolor": "white",
             "minorgridcolor": "white",
             "startlinecolor": "#2a3f5f"
            },
            "baxis": {
             "endlinecolor": "#2a3f5f",
             "gridcolor": "white",
             "linecolor": "white",
             "minorgridcolor": "white",
             "startlinecolor": "#2a3f5f"
            },
            "type": "carpet"
           }
          ],
          "choropleth": [
           {
            "colorbar": {
             "outlinewidth": 0,
             "ticks": ""
            },
            "type": "choropleth"
           }
          ],
          "contour": [
           {
            "colorbar": {
             "outlinewidth": 0,
             "ticks": ""
            },
            "colorscale": [
             [
              0,
              "#0d0887"
             ],
             [
              0.1111111111111111,
              "#46039f"
             ],
             [
              0.2222222222222222,
              "#7201a8"
             ],
             [
              0.3333333333333333,
              "#9c179e"
             ],
             [
              0.4444444444444444,
              "#bd3786"
             ],
             [
              0.5555555555555556,
              "#d8576b"
             ],
             [
              0.6666666666666666,
              "#ed7953"
             ],
             [
              0.7777777777777778,
              "#fb9f3a"
             ],
             [
              0.8888888888888888,
              "#fdca26"
             ],
             [
              1,
              "#f0f921"
             ]
            ],
            "type": "contour"
           }
          ],
          "contourcarpet": [
           {
            "colorbar": {
             "outlinewidth": 0,
             "ticks": ""
            },
            "type": "contourcarpet"
           }
          ],
          "heatmap": [
           {
            "colorbar": {
             "outlinewidth": 0,
             "ticks": ""
            },
            "colorscale": [
             [
              0,
              "#0d0887"
             ],
             [
              0.1111111111111111,
              "#46039f"
             ],
             [
              0.2222222222222222,
              "#7201a8"
             ],
             [
              0.3333333333333333,
              "#9c179e"
             ],
             [
              0.4444444444444444,
              "#bd3786"
             ],
             [
              0.5555555555555556,
              "#d8576b"
             ],
             [
              0.6666666666666666,
              "#ed7953"
             ],
             [
              0.7777777777777778,
              "#fb9f3a"
             ],
             [
              0.8888888888888888,
              "#fdca26"
             ],
             [
              1,
              "#f0f921"
             ]
            ],
            "type": "heatmap"
           }
          ],
          "histogram": [
           {
            "marker": {
             "pattern": {
              "fillmode": "overlay",
              "size": 10,
              "solidity": 0.2
             }
            },
            "type": "histogram"
           }
          ],
          "histogram2d": [
           {
            "colorbar": {
             "outlinewidth": 0,
             "ticks": ""
            },
            "colorscale": [
             [
              0,
              "#0d0887"
             ],
             [
              0.1111111111111111,
              "#46039f"
             ],
             [
              0.2222222222222222,
              "#7201a8"
             ],
             [
              0.3333333333333333,
              "#9c179e"
             ],
             [
              0.4444444444444444,
              "#bd3786"
             ],
             [
              0.5555555555555556,
              "#d8576b"
             ],
             [
              0.6666666666666666,
              "#ed7953"
             ],
             [
              0.7777777777777778,
              "#fb9f3a"
             ],
             [
              0.8888888888888888,
              "#fdca26"
             ],
             [
              1,
              "#f0f921"
             ]
            ],
            "type": "histogram2d"
           }
          ],
          "histogram2dcontour": [
           {
            "colorbar": {
             "outlinewidth": 0,
             "ticks": ""
            },
            "colorscale": [
             [
              0,
              "#0d0887"
             ],
             [
              0.1111111111111111,
              "#46039f"
             ],
             [
              0.2222222222222222,
              "#7201a8"
             ],
             [
              0.3333333333333333,
              "#9c179e"
             ],
             [
              0.4444444444444444,
              "#bd3786"
             ],
             [
              0.5555555555555556,
              "#d8576b"
             ],
             [
              0.6666666666666666,
              "#ed7953"
             ],
             [
              0.7777777777777778,
              "#fb9f3a"
             ],
             [
              0.8888888888888888,
              "#fdca26"
             ],
             [
              1,
              "#f0f921"
             ]
            ],
            "type": "histogram2dcontour"
           }
          ],
          "mesh3d": [
           {
            "colorbar": {
             "outlinewidth": 0,
             "ticks": ""
            },
            "type": "mesh3d"
           }
          ],
          "parcoords": [
           {
            "line": {
             "colorbar": {
              "outlinewidth": 0,
              "ticks": ""
             }
            },
            "type": "parcoords"
           }
          ],
          "pie": [
           {
            "automargin": true,
            "type": "pie"
           }
          ],
          "scatter": [
           {
            "fillpattern": {
             "fillmode": "overlay",
             "size": 10,
             "solidity": 0.2
            },
            "type": "scatter"
           }
          ],
          "scatter3d": [
           {
            "line": {
             "colorbar": {
              "outlinewidth": 0,
              "ticks": ""
             }
            },
            "marker": {
             "colorbar": {
              "outlinewidth": 0,
              "ticks": ""
             }
            },
            "type": "scatter3d"
           }
          ],
          "scattercarpet": [
           {
            "marker": {
             "colorbar": {
              "outlinewidth": 0,
              "ticks": ""
             }
            },
            "type": "scattercarpet"
           }
          ],
          "scattergeo": [
           {
            "marker": {
             "colorbar": {
              "outlinewidth": 0,
              "ticks": ""
             }
            },
            "type": "scattergeo"
           }
          ],
          "scattergl": [
           {
            "marker": {
             "colorbar": {
              "outlinewidth": 0,
              "ticks": ""
             }
            },
            "type": "scattergl"
           }
          ],
          "scattermap": [
           {
            "marker": {
             "colorbar": {
              "outlinewidth": 0,
              "ticks": ""
             }
            },
            "type": "scattermap"
           }
          ],
          "scattermapbox": [
           {
            "marker": {
             "colorbar": {
              "outlinewidth": 0,
              "ticks": ""
             }
            },
            "type": "scattermapbox"
           }
          ],
          "scatterpolar": [
           {
            "marker": {
             "colorbar": {
              "outlinewidth": 0,
              "ticks": ""
             }
            },
            "type": "scatterpolar"
           }
          ],
          "scatterpolargl": [
           {
            "marker": {
             "colorbar": {
              "outlinewidth": 0,
              "ticks": ""
             }
            },
            "type": "scatterpolargl"
           }
          ],
          "scatterternary": [
           {
            "marker": {
             "colorbar": {
              "outlinewidth": 0,
              "ticks": ""
             }
            },
            "type": "scatterternary"
           }
          ],
          "surface": [
           {
            "colorbar": {
             "outlinewidth": 0,
             "ticks": ""
            },
            "colorscale": [
             [
              0,
              "#0d0887"
             ],
             [
              0.1111111111111111,
              "#46039f"
             ],
             [
              0.2222222222222222,
              "#7201a8"
             ],
             [
              0.3333333333333333,
              "#9c179e"
             ],
             [
              0.4444444444444444,
              "#bd3786"
             ],
             [
              0.5555555555555556,
              "#d8576b"
             ],
             [
              0.6666666666666666,
              "#ed7953"
             ],
             [
              0.7777777777777778,
              "#fb9f3a"
             ],
             [
              0.8888888888888888,
              "#fdca26"
             ],
             [
              1,
              "#f0f921"
             ]
            ],
            "type": "surface"
           }
          ],
          "table": [
           {
            "cells": {
             "fill": {
              "color": "#EBF0F8"
             },
             "line": {
              "color": "white"
             }
            },
            "header": {
             "fill": {
              "color": "#C8D4E3"
             },
             "line": {
              "color": "white"
             }
            },
            "type": "table"
           }
          ]
         },
         "layout": {
          "annotationdefaults": {
           "arrowcolor": "#2a3f5f",
           "arrowhead": 0,
           "arrowwidth": 1
          },
          "autotypenumbers": "strict",
          "coloraxis": {
           "colorbar": {
            "outlinewidth": 0,
            "ticks": ""
           }
          },
          "colorscale": {
           "diverging": [
            [
             0,
             "#8e0152"
            ],
            [
             0.1,
             "#c51b7d"
            ],
            [
             0.2,
             "#de77ae"
            ],
            [
             0.3,
             "#f1b6da"
            ],
            [
             0.4,
             "#fde0ef"
            ],
            [
             0.5,
             "#f7f7f7"
            ],
            [
             0.6,
             "#e6f5d0"
            ],
            [
             0.7,
             "#b8e186"
            ],
            [
             0.8,
             "#7fbc41"
            ],
            [
             0.9,
             "#4d9221"
            ],
            [
             1,
             "#276419"
            ]
           ],
           "sequential": [
            [
             0,
             "#0d0887"
            ],
            [
             0.1111111111111111,
             "#46039f"
            ],
            [
             0.2222222222222222,
             "#7201a8"
            ],
            [
             0.3333333333333333,
             "#9c179e"
            ],
            [
             0.4444444444444444,
             "#bd3786"
            ],
            [
             0.5555555555555556,
             "#d8576b"
            ],
            [
             0.6666666666666666,
             "#ed7953"
            ],
            [
             0.7777777777777778,
             "#fb9f3a"
            ],
            [
             0.8888888888888888,
             "#fdca26"
            ],
            [
             1,
             "#f0f921"
            ]
           ],
           "sequentialminus": [
            [
             0,
             "#0d0887"
            ],
            [
             0.1111111111111111,
             "#46039f"
            ],
            [
             0.2222222222222222,
             "#7201a8"
            ],
            [
             0.3333333333333333,
             "#9c179e"
            ],
            [
             0.4444444444444444,
             "#bd3786"
            ],
            [
             0.5555555555555556,
             "#d8576b"
            ],
            [
             0.6666666666666666,
             "#ed7953"
            ],
            [
             0.7777777777777778,
             "#fb9f3a"
            ],
            [
             0.8888888888888888,
             "#fdca26"
            ],
            [
             1,
             "#f0f921"
            ]
           ]
          },
          "colorway": [
           "#636efa",
           "#EF553B",
           "#00cc96",
           "#ab63fa",
           "#FFA15A",
           "#19d3f3",
           "#FF6692",
           "#B6E880",
           "#FF97FF",
           "#FECB52"
          ],
          "font": {
           "color": "#2a3f5f"
          },
          "geo": {
           "bgcolor": "white",
           "lakecolor": "white",
           "landcolor": "#E5ECF6",
           "showlakes": true,
           "showland": true,
           "subunitcolor": "white"
          },
          "hoverlabel": {
           "align": "left"
          },
          "hovermode": "closest",
          "mapbox": {
           "style": "light"
          },
          "paper_bgcolor": "white",
          "plot_bgcolor": "#E5ECF6",
          "polar": {
           "angularaxis": {
            "gridcolor": "white",
            "linecolor": "white",
            "ticks": ""
           },
           "bgcolor": "#E5ECF6",
           "radialaxis": {
            "gridcolor": "white",
            "linecolor": "white",
            "ticks": ""
           }
          },
          "scene": {
           "xaxis": {
            "backgroundcolor": "#E5ECF6",
            "gridcolor": "white",
            "gridwidth": 2,
            "linecolor": "white",
            "showbackground": true,
            "ticks": "",
            "zerolinecolor": "white"
           },
           "yaxis": {
            "backgroundcolor": "#E5ECF6",
            "gridcolor": "white",
            "gridwidth": 2,
            "linecolor": "white",
            "showbackground": true,
            "ticks": "",
            "zerolinecolor": "white"
           },
           "zaxis": {
            "backgroundcolor": "#E5ECF6",
            "gridcolor": "white",
            "gridwidth": 2,
            "linecolor": "white",
            "showbackground": true,
            "ticks": "",
            "zerolinecolor": "white"
           }
          },
          "shapedefaults": {
           "line": {
            "color": "#2a3f5f"
           }
          },
          "ternary": {
           "aaxis": {
            "gridcolor": "white",
            "linecolor": "white",
            "ticks": ""
           },
           "baxis": {
            "gridcolor": "white",
            "linecolor": "white",
            "ticks": ""
           },
           "bgcolor": "#E5ECF6",
           "caxis": {
            "gridcolor": "white",
            "linecolor": "white",
            "ticks": ""
           }
          },
          "title": {
           "x": 0.05
          },
          "xaxis": {
           "automargin": true,
           "gridcolor": "white",
           "linecolor": "white",
           "ticks": "",
           "title": {
            "standoff": 15
           },
           "zerolinecolor": "white",
           "zerolinewidth": 2
          },
          "yaxis": {
           "automargin": true,
           "gridcolor": "white",
           "linecolor": "white",
           "ticks": "",
           "title": {
            "standoff": 15
           },
           "zerolinecolor": "white",
           "zerolinewidth": 2
          }
         }
        },
        "title": {
         "text": "Метрики при різних порогах рішення"
        },
        "xaxis": {
         "anchor": "y",
         "domain": [
          0,
          1
         ],
         "title": {
          "text": "Поріг"
         }
        },
        "yaxis": {
         "anchor": "x",
         "domain": [
          0,
          1
         ],
         "title": {
          "text": "Значення метрики"
         }
        }
       }
      },
      "image/png": "[encoded data removed]"
     },
     "metadata": {},
     "output_type": "display_data"
    }
   ],
   "source": [
    " # Аналіз різних порогів\n",
    "thresholds = np.arange(0.1, 0.9, 0.05)\n",
    "metrics_by_threshold = []\n",
    "\n",
    "for threshold in thresholds:\n",
    "    y_pred_custom = (y_pred_proba[:, 1] >= threshold).astype(int)\n",
    "\n",
    "    metrics_by_threshold.append({\n",
    "        'threshold': threshold,\n",
    "        'precision': precision_score(y_test, y_pred_custom),\n",
    "        'recall': recall_score(y_test, y_pred_custom),\n",
    "        'f1': f1_score(y_test, y_pred_custom)\n",
    "    })\n",
    "\n",
    "metrics_df = pd.DataFrame(metrics_by_threshold)\n",
    "\n",
    "# Візуалізація\n",
    "fig = px.line(\n",
    "    metrics_df.melt(id_vars='threshold'),\n",
    "    x='threshold',\n",
    "    y='value',\n",
    "    color='variable',\n",
    "    title='Метрики при різних порогах рішення',\n",
    "    labels={'value': 'Значення метрики', 'threshold': 'Поріг'},\n",
    ")\n",
    "fig.show()"
   ]
  },
  {
   "cell_type": "markdown",
   "metadata": {},
   "source": [
    "Тобт оптимальний поріг який оптимізує точність - 0.362."
   ]
  },
  {
   "cell_type": "markdown",
   "metadata": {
    "id": "Lu2iZ9CYft50"
   },
   "source": [
    "\n",
    "---\n",
    "\n",
    "## Завдання 7 (Опціональне): Покращення моделі та висновки (2 бали)\n",
    "\n",
    "**Що потрібно зробити:**\n",
    "\n",
    "На цих же даних навчіть DecisionTreeClassifier та RandomForestClassifier. Яка з трьох моделей дає найкращий результат на тестовому наборі?\n",
    "\n",
    "Поріг класифікації можна для порівняння якостей моделей використовувати стандартний 0.5, або той, що ви виявили, як оптимальний на попередньому кроці.\n"
   ]
  },
  {
   "cell_type": "code",
   "execution_count": 56,
   "metadata": {
    "execution": {
     "iopub.execute_input": "2025-09-20T09:25:26.890835Z",
     "iopub.status.busy": "2025-09-20T09:25:26.890233Z",
     "iopub.status.idle": "2025-09-20T09:25:30.245884Z",
     "shell.execute_reply": "2025-09-20T09:25:30.244809Z",
     "shell.execute_reply.started": "2025-09-20T09:25:26.890815Z"
    },
    "id": "YAvnanT6mfJ1"
   },
   "outputs": [
    {
     "name": "stdout",
     "output_type": "stream",
     "text": [
      "\n",
      "Метрики для Logistic Regression (threshold=0.362):\n",
      "Accuracy: 0.855\n",
      "Precision: 0.668\n",
      "Recall: 0.667\n",
      "F1-score: 0.668\n",
      "\n",
      "Метрики для Decision Tree (threshold=0.362):\n",
      "Accuracy: 0.887\n",
      "Precision: 0.730\n",
      "Recall: 0.762\n",
      "F1-score: 0.746\n",
      "\n",
      "Метрики для Random Forest (threshold=0.362):\n",
      "Accuracy: 0.921\n",
      "Precision: 0.865\n",
      "Recall: 0.755\n",
      "F1-score: 0.806\n"
     ]
    }
   ],
   "source": [
    "from sklearn.tree import DecisionTreeClassifier\n",
    "from sklearn.ensemble import RandomForestClassifier\n",
    "\n",
    "\n",
    "threshold = 0.362  # новий поріг\n",
    "\n",
    "# -----------------------------\n",
    "# 1. Decision Tree\n",
    "dt_model = DecisionTreeClassifier(random_state=42)\n",
    "dt_model.fit(X_train, y_train)\n",
    "y_dt_prob = dt_model.predict_proba(X_test)[:,1]\n",
    "y_dt_pred = (y_dt_prob >= threshold).astype(int)\n",
    "\n",
    "# 2. Random Forest\n",
    "rf_model = RandomForestClassifier(n_estimators=100, random_state=42)\n",
    "rf_model.fit(X_train, y_train)\n",
    "y_rf_prob = rf_model.predict_proba(X_test)[:,1]\n",
    "y_rf_pred = (y_rf_prob >= threshold).astype(int)\n",
    "\n",
    "# 3. Logistic Regression (якщо ще не навчена)\n",
    "y_lr_prob = model.predict_proba(X_test_scaled)[:,1]  # модель логістичної регресії\n",
    "y_lr_pred = (y_lr_prob >= threshold).astype(int)\n",
    "\n",
    "# -----------------------------\n",
    "# Функція для оцінки метрик\n",
    "def evaluate_model(y_true, y_pred, model_name):\n",
    "    print(f\"\\nМетрики для {model_name} (threshold={threshold}):\")\n",
    "    print(f\"Accuracy: {accuracy_score(y_true, y_pred):.3f}\")\n",
    "    print(f\"Precision: {precision_score(y_true, y_pred):.3f}\")\n",
    "    print(f\"Recall: {recall_score(y_true, y_pred):.3f}\")\n",
    "    print(f\"F1-score: {f1_score(y_true, y_pred):.3f}\")\n",
    "\n",
    "# -----------------------------\n",
    "# Оцінка всіх моделей\n",
    "evaluate_model(y_test, y_lr_pred, \"Logistic Regression\")\n",
    "evaluate_model(y_test, y_dt_pred, \"Decision Tree\")\n",
    "evaluate_model(y_test, y_rf_pred, \"Random Forest\")\n",
    "\n"
   ]
  },
  {
   "cell_type": "markdown",
   "metadata": {},
   "source": [
    "#### Висновок:\n",
    "\n",
    "Accuracy: найвища у Random Forest (0.921) — модель найточніше класифікує всі випадки.\n",
    "\n",
    "Precision: найвища у Random Forest (0.865) — серед передбачених дефолтів більшість справжні.\n",
    "\n",
    "Recall: трохи вище у Decision Tree (0.762), але Random Forest теж близький (0.755).\n",
    "\n",
    "F1-score: найвищий у Random Forest (0.806) — найкращий баланс між Precision і Recall.\n",
    "\n",
    "### Найкраща модель: Random Forest\n",
    "\n",
    "Вона зберігає високий Precision і хороший Recall при порозі 0.362, забезпечуючи збалансовану якість прогнозу.\n",
    "\n",
    "Decision Tree добре показує Recall, але Precision нижче.\n",
    "\n",
    "Logistic Regression відстає за всіма метриками.\n",
    "\n",
    "Якщо хочеш, можу побудувати графік для наочності порівняння F1, Precision, Recall для трьох моделей при цьому порозі."
   ]
  },
  {
   "cell_type": "code",
   "execution_count": 57,
   "metadata": {
    "execution": {
     "iopub.execute_input": "2025-09-20T09:28:05.938425Z",
     "iopub.status.busy": "2025-09-20T09:28:05.937706Z",
     "iopub.status.idle": "2025-09-20T09:28:06.060985Z",
     "shell.execute_reply": "2025-09-20T09:28:06.059740Z",
     "shell.execute_reply.started": "2025-09-20T09:28:05.938389Z"
    }
   },
   "outputs": [
    {
     "data": {
      "image/png": "[encoded data removed]",
      "text/plain": [
       "<Figure size 640x480 with 2 Axes>"
      ]
     },
     "metadata": {},
     "output_type": "display_data"
    }
   ],
   "source": [
    "from sklearn.metrics import confusion_matrix, ConfusionMatrixDisplay\n",
    "import matplotlib.pyplot as plt\n",
    "\n",
    "# Confusion matrix для Random Forest\n",
    "cm_rf = confusion_matrix(y_test, y_rf_pred)  # y_rf_pred — прогноз з порогом 0.362\n",
    "disp_rf = ConfusionMatrixDisplay(confusion_matrix=cm_rf, display_labels=rf_model.classes_)\n",
    "disp_rf.plot(cmap='Blues')\n",
    "plt.title(\"Confusion Matrix - Random Forest (threshold=0.362)\")\n",
    "plt.show()\n"
   ]
  },
  {
   "cell_type": "markdown",
   "metadata": {},
   "source": [
    "# Знизився показник FP з 622 до 349, а FN з 245 до 168 "
   ]
  }
 ],
 "metadata": {
  "colab": {
   "provenance": []
  },
  "kernelspec": {
   "display_name": "Python 3 (ipykernel)",
   "language": "python",
   "name": "python3"
  },
  "language_info": {
   "codemirror_mode": {
    "name": "ipython",
    "version": 3
   },
   "file_extension": ".py",
   "mimetype": "text/x-python",
   "name": "python",
   "nbconvert_exporter": "python",
   "pygments_lexer": "ipython3",
   "version": "3.13.3"
  }
 },
 "nbformat": 4,
 "nbformat_minor": 4
}
