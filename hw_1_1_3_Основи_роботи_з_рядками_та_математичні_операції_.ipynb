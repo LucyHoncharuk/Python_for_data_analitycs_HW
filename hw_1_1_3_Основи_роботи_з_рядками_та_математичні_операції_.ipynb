{
 "cells": [
  {
   "cell_type": "markdown",
   "metadata": {
    "id": "9ngpqNFm8w1a"
   },
   "source": [
    "# Домашнє завдання до теми \"Основи роботи з рядками та математичні операції\""
   ]
  },
  {
   "cell_type": "markdown",
   "metadata": {
    "id": "DEkQSeSyTum-"
   },
   "source": [
    "1. Створіть змінні `a`, `b`, `c` та `d`, задайте їм значення відповідно 101, 210, 111, 402, та обчисліть з допомогою Python наступний вираз:  $$ \\frac{(a+b) * c}{d} $$\n",
    "\n",
    "**Важливо**: тут ми маємо обчислити значення саме з використанням змінних, а не просто чисел, як би ми робили у калькуряторі. Змінні потрібні аби за бажання ми могли змінити їх значення та не переписувати код обчислення виразу, бо він буде працювати для різних значень змінних."
   ]
  },
  {
   "cell_type": "code",
   "execution_count": 13,
   "metadata": {
    "execution": {
     "iopub.execute_input": "2025-06-15T14:39:35.181123Z",
     "iopub.status.busy": "2025-06-15T14:39:35.180346Z",
     "iopub.status.idle": "2025-06-15T14:39:35.188490Z",
     "shell.execute_reply": "2025-06-15T14:39:35.187232Z",
     "shell.execute_reply.started": "2025-06-15T14:39:35.181098Z"
    },
    "id": "u1ICQq5L3eKH"
   },
   "outputs": [
    {
     "data": {
      "text/plain": [
       "85.8731343283582"
      ]
     },
     "execution_count": 13,
     "metadata": {},
     "output_type": "execute_result"
    }
   ],
   "source": [
    "a = 101\n",
    "b = 210\n",
    "c = 111\n",
    "d = 402\n",
    "\n",
    "f = (a + b) * c\n",
    "g = f / d\n",
    "\n",
    "g"
   ]
  },
  {
   "cell_type": "markdown",
   "metadata": {
    "id": "FnBVPt7G3bcR"
   },
   "source": [
    "Очікувана відповідь: 85.8731343283582"
   ]
  },
  {
   "cell_type": "markdown",
   "metadata": {
    "id": "HI3eEYZRT4Cn"
   },
   "source": [
    "2. Якою буде остача від ділення числа 11283 на 89? Обчисліть з допомогою Python."
   ]
  },
  {
   "cell_type": "code",
   "execution_count": 14,
   "metadata": {
    "execution": {
     "iopub.execute_input": "2025-06-15T14:41:16.087408Z",
     "iopub.status.busy": "2025-06-15T14:41:16.087013Z",
     "iopub.status.idle": "2025-06-15T14:41:16.094451Z",
     "shell.execute_reply": "2025-06-15T14:41:16.093516Z",
     "shell.execute_reply.started": "2025-06-15T14:41:16.087385Z"
    },
    "id": "ejZc3ng_TpgY"
   },
   "outputs": [
    {
     "data": {
      "text/plain": [
       "69"
      ]
     },
     "execution_count": 14,
     "metadata": {},
     "output_type": "execute_result"
    }
   ],
   "source": [
    "a = 11283\n",
    "b = 89 \n",
    "c = a % b\n",
    "\n",
    "c"
   ]
  },
  {
   "cell_type": "markdown",
   "metadata": {
    "id": "RO02CqdqT9oG"
   },
   "source": [
    "3. Скільки цілих разів поміститься число 89 в 11283? (Або що те саме: який буде результат цілочисельного ділення 11283 на 89?)"
   ]
  },
  {
   "cell_type": "code",
   "execution_count": 17,
   "metadata": {
    "execution": {
     "iopub.execute_input": "2025-06-15T14:42:32.411270Z",
     "iopub.status.busy": "2025-06-15T14:42:32.410171Z",
     "iopub.status.idle": "2025-06-15T14:42:32.417108Z",
     "shell.execute_reply": "2025-06-15T14:42:32.416092Z",
     "shell.execute_reply.started": "2025-06-15T14:42:32.411238Z"
    },
    "id": "KEUb9lO5T_PI"
   },
   "outputs": [
    {
     "data": {
      "text/plain": [
       "126"
      ]
     },
     "execution_count": 17,
     "metadata": {},
     "output_type": "execute_result"
    }
   ],
   "source": [
    "d = a // b\n",
    "d"
   ]
  },
  {
   "cell_type": "markdown",
   "metadata": {
    "id": "5fnIPumiT_rt"
   },
   "source": [
    "4. Запишіть у змінну `name` ваше імʼя."
   ]
  },
  {
   "cell_type": "code",
   "execution_count": 23,
   "metadata": {
    "execution": {
     "iopub.execute_input": "2025-06-15T14:47:45.354033Z",
     "iopub.status.busy": "2025-06-15T14:47:45.353328Z",
     "iopub.status.idle": "2025-06-15T14:47:45.357932Z",
     "shell.execute_reply": "2025-06-15T14:47:45.356896Z",
     "shell.execute_reply.started": "2025-06-15T14:47:45.354010Z"
    },
    "id": "xP7Mbq45UFlV"
   },
   "outputs": [],
   "source": [
    "name = 'Liudmyla'"
   ]
  },
  {
   "cell_type": "markdown",
   "metadata": {
    "id": "fR9TqY79UNDL"
   },
   "source": [
    "5. Запишіть у змінну `surname` ваше прізвище."
   ]
  },
  {
   "cell_type": "code",
   "execution_count": 26,
   "metadata": {
    "execution": {
     "iopub.execute_input": "2025-06-15T14:48:03.111537Z",
     "iopub.status.busy": "2025-06-15T14:48:03.110791Z",
     "iopub.status.idle": "2025-06-15T14:48:03.116248Z",
     "shell.execute_reply": "2025-06-15T14:48:03.115005Z",
     "shell.execute_reply.started": "2025-06-15T14:48:03.111514Z"
    },
    "id": "0qHjyMyvUOM1"
   },
   "outputs": [],
   "source": [
    "surname = 'Honcharuk'"
   ]
  },
  {
   "cell_type": "code",
   "execution_count": 36,
   "metadata": {
    "execution": {
     "iopub.execute_input": "2025-06-15T14:55:51.232777Z",
     "iopub.status.busy": "2025-06-15T14:55:51.232239Z",
     "iopub.status.idle": "2025-06-15T14:55:51.238858Z",
     "shell.execute_reply": "2025-06-15T14:55:51.237445Z",
     "shell.execute_reply.started": "2025-06-15T14:55:51.232755Z"
    }
   },
   "outputs": [
    {
     "data": {
      "text/plain": [
       "str"
      ]
     },
     "execution_count": 36,
     "metadata": {},
     "output_type": "execute_result"
    }
   ],
   "source": [
    "type(surname)"
   ]
  },
  {
   "cell_type": "markdown",
   "metadata": {
    "id": "zqKncQLwUOxh"
   },
   "source": [
    "6. Сконкатенуйте імʼя та прізвище в одну фразу через пробіл. Запишіть результат у нову змінну `name_surname` та виведіть результат на екран.  "
   ]
  },
  {
   "cell_type": "code",
   "execution_count": 28,
   "metadata": {
    "execution": {
     "iopub.execute_input": "2025-06-15T14:48:18.826540Z",
     "iopub.status.busy": "2025-06-15T14:48:18.825743Z",
     "iopub.status.idle": "2025-06-15T14:48:18.830871Z",
     "shell.execute_reply": "2025-06-15T14:48:18.829682Z",
     "shell.execute_reply.started": "2025-06-15T14:48:18.826516Z"
    },
    "id": "8E-blvN-UTPg"
   },
   "outputs": [],
   "source": [
    "name_surname = name + \" \" + surname"
   ]
  },
  {
   "cell_type": "code",
   "execution_count": 29,
   "metadata": {
    "execution": {
     "iopub.execute_input": "2025-06-15T14:48:20.676224Z",
     "iopub.status.busy": "2025-06-15T14:48:20.675294Z",
     "iopub.status.idle": "2025-06-15T14:48:20.681025Z",
     "shell.execute_reply": "2025-06-15T14:48:20.679962Z",
     "shell.execute_reply.started": "2025-06-15T14:48:20.676201Z"
    }
   },
   "outputs": [
    {
     "name": "stdout",
     "output_type": "stream",
     "text": [
      "Liudmyla Honcharuk\n"
     ]
    }
   ],
   "source": [
    "print(name_surname)\n"
   ]
  },
  {
   "cell_type": "markdown",
   "metadata": {
    "id": "_Unl7EXlUgYn"
   },
   "source": [
    "Очікувана відповідь (тільки з вашими даними): 'Hanna Pylieva'"
   ]
  },
  {
   "cell_type": "markdown",
   "metadata": {
    "id": "z-3FI0IrUT0U"
   },
   "source": [
    "7. Зробіть усі літери змінної `name_surname` заглавними використовуючи метод рядків в Python:"
   ]
  },
  {
   "cell_type": "code",
   "execution_count": 32,
   "metadata": {
    "execution": {
     "iopub.execute_input": "2025-06-15T14:51:55.769344Z",
     "iopub.status.busy": "2025-06-15T14:51:55.768840Z",
     "iopub.status.idle": "2025-06-15T14:51:55.774242Z",
     "shell.execute_reply": "2025-06-15T14:51:55.773222Z",
     "shell.execute_reply.started": "2025-06-15T14:51:55.769323Z"
    },
    "id": "9ahIwyT5UblY"
   },
   "outputs": [
    {
     "name": "stdout",
     "output_type": "stream",
     "text": [
      "LIUDMYLA HONCHARUK\n"
     ]
    }
   ],
   "source": [
    "print(name_surname.upper())"
   ]
  },
  {
   "cell_type": "markdown",
   "metadata": {
    "id": "6PDcqfmdUcLo"
   },
   "source": [
    "Очікувана відповідь (тільки з вашими даними): 'HANNA PYLIEVA'"
   ]
  },
  {
   "cell_type": "markdown",
   "metadata": {
    "id": "qNl8KxeXUtnL"
   },
   "source": [
    "8. Виведіть третю літеру вашого `name_surname`. Тут уважно, треба саме третя літера. Згадайте, з якого значення починається індексування значень в Python."
   ]
  },
  {
   "cell_type": "code",
   "execution_count": 33,
   "metadata": {
    "execution": {
     "iopub.execute_input": "2025-06-15T14:53:37.992772Z",
     "iopub.status.busy": "2025-06-15T14:53:37.992111Z",
     "iopub.status.idle": "2025-06-15T14:53:37.999006Z",
     "shell.execute_reply": "2025-06-15T14:53:37.997839Z",
     "shell.execute_reply.started": "2025-06-15T14:53:37.992748Z"
    },
    "id": "Tp7stqAhUvJz"
   },
   "outputs": [
    {
     "data": {
      "text/plain": [
       "'d'"
      ]
     },
     "execution_count": 33,
     "metadata": {},
     "output_type": "execute_result"
    }
   ],
   "source": [
    "name_surname[3]"
   ]
  },
  {
   "cell_type": "markdown",
   "metadata": {
    "id": "GYWHqb3UUvqk"
   },
   "source": [
    "Очікувана відповідь (тільки з вашими даними): 'n'"
   ]
  },
  {
   "cell_type": "markdown",
   "metadata": {
    "id": "1f3cc1a7",
    "pycharm": {
     "name": "#%% md\n"
    }
   },
   "source": [
    "9. Виведіть першу та останню літеру вашого прізвища."
   ]
  },
  {
   "cell_type": "code",
   "execution_count": 34,
   "metadata": {
    "execution": {
     "iopub.execute_input": "2025-06-15T14:54:40.445349Z",
     "iopub.status.busy": "2025-06-15T14:54:40.444723Z",
     "iopub.status.idle": "2025-06-15T14:54:40.451607Z",
     "shell.execute_reply": "2025-06-15T14:54:40.450128Z",
     "shell.execute_reply.started": "2025-06-15T14:54:40.445325Z"
    },
    "id": "s1ZgN3xuUyB8"
   },
   "outputs": [
    {
     "data": {
      "text/plain": [
       "9"
      ]
     },
     "execution_count": 34,
     "metadata": {},
     "output_type": "execute_result"
    }
   ],
   "source": [
    "len(surname)"
   ]
  },
  {
   "cell_type": "code",
   "execution_count": 48,
   "metadata": {
    "execution": {
     "iopub.execute_input": "2025-06-15T14:59:50.670682Z",
     "iopub.status.busy": "2025-06-15T14:59:50.670017Z",
     "iopub.status.idle": "2025-06-15T14:59:50.675917Z",
     "shell.execute_reply": "2025-06-15T14:59:50.674618Z",
     "shell.execute_reply.started": "2025-06-15T14:59:50.670661Z"
    }
   },
   "outputs": [
    {
     "name": "stdout",
     "output_type": "stream",
     "text": [
      "H k\n"
     ]
    }
   ],
   "source": [
    "print ( \n",
    "    surname[0],\n",
    "    surname[8] )\n",
    "    "
   ]
  },
  {
   "cell_type": "code",
   "execution_count": 49,
   "metadata": {
    "execution": {
     "iopub.execute_input": "2025-06-15T15:00:59.472654Z",
     "iopub.status.busy": "2025-06-15T15:00:59.471758Z",
     "iopub.status.idle": "2025-06-15T15:00:59.479058Z",
     "shell.execute_reply": "2025-06-15T15:00:59.477992Z",
     "shell.execute_reply.started": "2025-06-15T15:00:59.472615Z"
    }
   },
   "outputs": [
    {
     "data": {
      "text/plain": [
       "'Hk'"
      ]
     },
     "execution_count": 49,
     "metadata": {},
     "output_type": "execute_result"
    }
   ],
   "source": [
    "j = surname [0] + surname[8]\n",
    "j "
   ]
  },
  {
   "cell_type": "code",
   "execution_count": 52,
   "metadata": {
    "execution": {
     "iopub.execute_input": "2025-06-15T15:02:18.980964Z",
     "iopub.status.busy": "2025-06-15T15:02:18.980464Z",
     "iopub.status.idle": "2025-06-15T15:02:18.987399Z",
     "shell.execute_reply": "2025-06-15T15:02:18.986534Z",
     "shell.execute_reply.started": "2025-06-15T15:02:18.980942Z"
    }
   },
   "outputs": [
    {
     "data": {
      "text/plain": [
       "('H', 'k')"
      ]
     },
     "execution_count": 52,
     "metadata": {},
     "output_type": "execute_result"
    }
   ],
   "source": [
    "surname[0],surname[8]"
   ]
  },
  {
   "cell_type": "markdown",
   "metadata": {
    "id": "KjlFjjhHVAt2"
   },
   "source": [
    "Очікувана відповідь (тільки з вашими даними): ('P', 'a')"
   ]
  },
  {
   "cell_type": "markdown",
   "metadata": {
    "id": "UYLoho3DVMt2"
   },
   "source": [
    "10. Виведіть довжину вашого прізвища."
   ]
  },
  {
   "cell_type": "code",
   "execution_count": 53,
   "metadata": {
    "execution": {
     "iopub.execute_input": "2025-06-15T15:02:42.067147Z",
     "iopub.status.busy": "2025-06-15T15:02:42.066794Z",
     "iopub.status.idle": "2025-06-15T15:02:42.073814Z",
     "shell.execute_reply": "2025-06-15T15:02:42.072742Z",
     "shell.execute_reply.started": "2025-06-15T15:02:42.067123Z"
    },
    "id": "0TPJBh0LVA8q"
   },
   "outputs": [
    {
     "data": {
      "text/plain": [
       "9"
      ]
     },
     "execution_count": 53,
     "metadata": {},
     "output_type": "execute_result"
    }
   ],
   "source": [
    "len(surname)"
   ]
  },
  {
   "cell_type": "markdown",
   "metadata": {
    "id": "9FaxqvVgVRYW"
   },
   "source": [
    "Очікувана відповідь (тільки з вашими даними): 7\n"
   ]
  },
  {
   "cell_type": "markdown",
   "metadata": {
    "id": "JN2wxSlGVVAj"
   },
   "source": [
    "11. Виведіть кількість літер `a` у столиці Мадагаскару `Antananarivo`. Важливо врахувати всі літери, як великі, так і маленькі."
   ]
  },
  {
   "cell_type": "code",
   "execution_count": 63,
   "metadata": {
    "execution": {
     "iopub.execute_input": "2025-06-15T15:15:04.677021Z",
     "iopub.status.busy": "2025-06-15T15:15:04.676225Z",
     "iopub.status.idle": "2025-06-15T15:15:04.682237Z",
     "shell.execute_reply": "2025-06-15T15:15:04.681170Z",
     "shell.execute_reply.started": "2025-06-15T15:15:04.676985Z"
    },
    "id": "LCeHHz9bVUgL"
   },
   "outputs": [
    {
     "name": "stdout",
     "output_type": "stream",
     "text": [
      "0\n"
     ]
    }
   ],
   "source": [
    "s = 'Antananarivo'\n",
    "v = s.lower()\n",
    "print(v.find(\"a\"))"
   ]
  },
  {
   "cell_type": "code",
   "execution_count": 66,
   "metadata": {
    "execution": {
     "iopub.execute_input": "2025-06-15T15:19:08.034737Z",
     "iopub.status.busy": "2025-06-15T15:19:08.033968Z",
     "iopub.status.idle": "2025-06-15T15:19:08.040067Z",
     "shell.execute_reply": "2025-06-15T15:19:08.038920Z",
     "shell.execute_reply.started": "2025-06-15T15:19:08.034715Z"
    }
   },
   "outputs": [
    {
     "name": "stdout",
     "output_type": "stream",
     "text": [
      "4\n"
     ]
    }
   ],
   "source": [
    "s = 'Antananarivo'\n",
    "count = s.lower().count(\"a\")\n",
    "print(count)\n"
   ]
  },
  {
   "cell_type": "markdown",
   "metadata": {
    "id": "Ux4SQiuSVo92"
   },
   "source": [
    "Очікувана відповідь: 4"
   ]
  },
  {
   "cell_type": "markdown",
   "metadata": {
    "id": "mwEs0xnmVtes"
   },
   "source": [
    "12. Створіть рядок `my_string` зі значенням: \"The quick brown fox jumps over the lazy dog!!!\".   \n",
    "Перевірте, чи починається рядок `my_string` з \"The\" і чи закінчується він \"dog!\". Виведіть результати на екран."
   ]
  },
  {
   "cell_type": "code",
   "execution_count": 68,
   "metadata": {
    "execution": {
     "iopub.execute_input": "2025-06-15T15:21:27.027494Z",
     "iopub.status.busy": "2025-06-15T15:21:27.027092Z",
     "iopub.status.idle": "2025-06-15T15:21:27.032284Z",
     "shell.execute_reply": "2025-06-15T15:21:27.031316Z",
     "shell.execute_reply.started": "2025-06-15T15:21:27.027471Z"
    },
    "id": "VlXDNpXcVs59"
   },
   "outputs": [
    {
     "name": "stdout",
     "output_type": "stream",
     "text": [
      "True\n",
      "True\n"
     ]
    }
   ],
   "source": [
    "my_string = \"The quick brown fox jumps over the lazy dog!!!\"\n",
    "print(my_string.startswith(\"The\"))\n",
    "print(my_string.endswith(\"dog!!!\"))"
   ]
  },
  {
   "cell_type": "markdown",
   "metadata": {
    "id": "Yc-UwtqvV_h0"
   },
   "source": [
    "13. Розділіть рядок `my_string` на список окремих слів, а потім з'єднайте всі слова через нижнє підкреслювання. Виведіть результат на екран."
   ]
  },
  {
   "cell_type": "code",
   "execution_count": 69,
   "metadata": {
    "execution": {
     "iopub.execute_input": "2025-06-15T15:22:26.112630Z",
     "iopub.status.busy": "2025-06-15T15:22:26.111451Z",
     "iopub.status.idle": "2025-06-15T15:22:26.117626Z",
     "shell.execute_reply": "2025-06-15T15:22:26.116454Z",
     "shell.execute_reply.started": "2025-06-15T15:22:26.112597Z"
    },
    "id": "m5I48Ii-WDSK"
   },
   "outputs": [
    {
     "name": "stdout",
     "output_type": "stream",
     "text": [
      "['The', 'quick', 'brown', 'fox', 'jumps', 'over', 'the', 'lazy', 'dog!!!']\n"
     ]
    }
   ],
   "source": [
    "print(my_string.split())"
   ]
  },
  {
   "cell_type": "code",
   "execution_count": 70,
   "metadata": {
    "execution": {
     "iopub.execute_input": "2025-06-15T15:23:39.374513Z",
     "iopub.status.busy": "2025-06-15T15:23:39.373553Z",
     "iopub.status.idle": "2025-06-15T15:23:39.379818Z",
     "shell.execute_reply": "2025-06-15T15:23:39.378994Z",
     "shell.execute_reply.started": "2025-06-15T15:23:39.374475Z"
    }
   },
   "outputs": [
    {
     "name": "stdout",
     "output_type": "stream",
     "text": [
      "The_quick_brown_fox_jumps_over_the_lazy_dog!!!\n"
     ]
    }
   ],
   "source": [
    "print(\"_\".join(['The', 'quick', 'brown', 'fox', 'jumps', 'over', 'the', 'lazy', 'dog!!!']))"
   ]
  },
  {
   "cell_type": "markdown",
   "metadata": {
    "id": "UqvD1_jIXRhx"
   },
   "source": [
    "Очікуваний результат: `The_quick_brown_fox_jumps_over_the_lazy_dog!!!`"
   ]
  }
 ],
 "metadata": {
  "colab": {
   "provenance": []
  },
  "kernelspec": {
   "display_name": "Python 3 (ipykernel)",
   "language": "python",
   "name": "python3"
  },
  "language_info": {
   "codemirror_mode": {
    "name": "ipython",
    "version": 3
   },
   "file_extension": ".py",
   "mimetype": "text/x-python",
   "name": "python",
   "nbconvert_exporter": "python",
   "pygments_lexer": "ipython3",
   "version": "3.13.3"
  }
 },
 "nbformat": 4,
 "nbformat_minor": 4
}
