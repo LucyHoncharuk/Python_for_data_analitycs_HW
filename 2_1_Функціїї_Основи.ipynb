{
 "cells": [
  {
   "cell_type": "markdown",
   "metadata": {
    "id": "QtHabST6Ez_n"
   },
   "source": [
    "# Домашнє завдання до теми \"Functions\""
   ]
  },
  {
   "cell_type": "markdown",
   "metadata": {
    "id": "6pg_NzFq5_kO"
   },
   "source": [
    "1. Напишіть фукнцію `print_message`, яка виводить на екран \"Я програмую на Python💪\" і викличіть цю фукнцію 5 разів (найкраще це зробити в циклі).\n",
    "\n",
    "  **Увага**: фукнція має робити чітко лише зазначений функціонал. Наявність додаткового функціоналу і аргументів, які не потрібні для виконання безпосередньо завдання, буде вважатись помилкою."
   ]
  },
  {
   "cell_type": "code",
   "execution_count": 7,
   "metadata": {
    "execution": {
     "iopub.execute_input": "2025-06-22T10:48:13.803041Z",
     "iopub.status.busy": "2025-06-22T10:48:13.802647Z",
     "iopub.status.idle": "2025-06-22T10:48:13.807632Z",
     "shell.execute_reply": "2025-06-22T10:48:13.806604Z",
     "shell.execute_reply.started": "2025-06-22T10:48:13.803017Z"
    },
    "id": "RbXsfwI_D8ql"
   },
   "outputs": [],
   "source": [
    "def print_message():\n",
    "    return\"Я програмую на Python💪\""
   ]
  },
  {
   "cell_type": "code",
   "execution_count": 8,
   "metadata": {
    "execution": {
     "iopub.execute_input": "2025-06-22T10:48:16.019658Z",
     "iopub.status.busy": "2025-06-22T10:48:16.018922Z",
     "iopub.status.idle": "2025-06-22T10:48:16.024258Z",
     "shell.execute_reply": "2025-06-22T10:48:16.023253Z",
     "shell.execute_reply.started": "2025-06-22T10:48:16.019636Z"
    }
   },
   "outputs": [
    {
     "name": "stdout",
     "output_type": "stream",
     "text": [
      "Я програмую на Python💪\n",
      "Я програмую на Python💪\n",
      "Я програмую на Python💪\n",
      "Я програмую на Python💪\n",
      "Я програмую на Python💪\n"
     ]
    }
   ],
   "source": [
    "i = 1\n",
    "while i<6:\n",
    "    i+=1\n",
    "    print(print_message())"
   ]
  },
  {
   "cell_type": "markdown",
   "metadata": {
    "id": "oyRpWRXWBL9N"
   },
   "source": [
    "2. Напишіть функцію `calculation` яка приймає на вхід 4 аргументи типу int - `a`, `b`, `c`, `d` і вертає результат обчислення такої формули: $ (a + b - c) * d $.\n",
    "\n",
    "  Викличте функцію на наступному наборі аргументів і виведіть результат на екран:\n",
    "  ```\n",
    "  a = 16\n",
    "  b = 4\n",
    "  c = 9\n",
    "  d = 3\n",
    "  ```"
   ]
  },
  {
   "cell_type": "code",
   "execution_count": 9,
   "metadata": {
    "execution": {
     "iopub.execute_input": "2025-06-22T10:48:29.245314Z",
     "iopub.status.busy": "2025-06-22T10:48:29.244919Z",
     "iopub.status.idle": "2025-06-22T10:48:29.249985Z",
     "shell.execute_reply": "2025-06-22T10:48:29.249050Z",
     "shell.execute_reply.started": "2025-06-22T10:48:29.245272Z"
    },
    "id": "Ggt2tx6kD-LS"
   },
   "outputs": [],
   "source": [
    "def calculation(a,b,c,d):\n",
    "    return(a+b-c)*d"
   ]
  },
  {
   "cell_type": "code",
   "execution_count": 10,
   "metadata": {
    "execution": {
     "iopub.execute_input": "2025-06-22T10:48:31.709241Z",
     "iopub.status.busy": "2025-06-22T10:48:31.708861Z",
     "iopub.status.idle": "2025-06-22T10:48:31.715711Z",
     "shell.execute_reply": "2025-06-22T10:48:31.714721Z",
     "shell.execute_reply.started": "2025-06-22T10:48:31.709219Z"
    }
   },
   "outputs": [
    {
     "data": {
      "text/plain": [
       "33"
      ]
     },
     "execution_count": 10,
     "metadata": {},
     "output_type": "execute_result"
    }
   ],
   "source": [
    "a = 16\n",
    "b = 4\n",
    "c = 9\n",
    "d = 3\n",
    "calculation(a,b,c,d)"
   ]
  },
  {
   "cell_type": "code",
   "execution_count": 14,
   "metadata": {
    "execution": {
     "iopub.execute_input": "2025-06-22T10:50:57.460220Z",
     "iopub.status.busy": "2025-06-22T10:50:57.459837Z",
     "iopub.status.idle": "2025-06-22T10:50:57.467168Z",
     "shell.execute_reply": "2025-06-22T10:50:57.466122Z",
     "shell.execute_reply.started": "2025-06-22T10:50:57.460195Z"
    }
   },
   "outputs": [
    {
     "data": {
      "text/plain": [
       "11"
      ]
     },
     "execution_count": 14,
     "metadata": {},
     "output_type": "execute_result"
    }
   ],
   "source": [
    "h= a + b - c\n",
    "h\n",
    "# check"
   ]
  },
  {
   "cell_type": "markdown",
   "metadata": {
    "id": "5hf1CbllDU_t"
   },
   "source": [
    "3. Напишіть функцію, яка додає до аргумента 15 і вертає результат додавання. Викличте функцію, передаючи в якості аргументів кожну з наступних змінних по черзі, і виведіть кожного разу результат на екран.\n",
    "```\n",
    "x = 9\n",
    "y = 14\n",
    "z = -19\n",
    "```"
   ]
  },
  {
   "cell_type": "code",
   "execution_count": 15,
   "metadata": {
    "execution": {
     "iopub.execute_input": "2025-06-22T10:51:08.125572Z",
     "iopub.status.busy": "2025-06-22T10:51:08.125069Z",
     "iopub.status.idle": "2025-06-22T10:51:08.130785Z",
     "shell.execute_reply": "2025-06-22T10:51:08.129539Z",
     "shell.execute_reply.started": "2025-06-22T10:51:08.125551Z"
    },
    "id": "GvEs_nUtD_Cd"
   },
   "outputs": [],
   "source": [
    "def add(a,b):\n",
    "    a = 15\n",
    "    return a + b"
   ]
  },
  {
   "cell_type": "code",
   "execution_count": 16,
   "metadata": {
    "execution": {
     "iopub.execute_input": "2025-06-22T10:51:49.309805Z",
     "iopub.status.busy": "2025-06-22T10:51:49.309266Z",
     "iopub.status.idle": "2025-06-22T10:51:49.316673Z",
     "shell.execute_reply": "2025-06-22T10:51:49.315583Z",
     "shell.execute_reply.started": "2025-06-22T10:51:49.309781Z"
    }
   },
   "outputs": [
    {
     "data": {
      "text/plain": [
       "24"
      ]
     },
     "execution_count": 16,
     "metadata": {},
     "output_type": "execute_result"
    }
   ],
   "source": [
    "x = 9\n",
    "y = 14\n",
    "z = -19\n",
    "add(a,x)"
   ]
  },
  {
   "cell_type": "code",
   "execution_count": 17,
   "metadata": {
    "execution": {
     "iopub.execute_input": "2025-06-22T10:52:02.675725Z",
     "iopub.status.busy": "2025-06-22T10:52:02.675212Z",
     "iopub.status.idle": "2025-06-22T10:52:02.682377Z",
     "shell.execute_reply": "2025-06-22T10:52:02.681104Z",
     "shell.execute_reply.started": "2025-06-22T10:52:02.675701Z"
    }
   },
   "outputs": [
    {
     "data": {
      "text/plain": [
       "29"
      ]
     },
     "execution_count": 17,
     "metadata": {},
     "output_type": "execute_result"
    }
   ],
   "source": [
    "add(a,y)"
   ]
  },
  {
   "cell_type": "code",
   "execution_count": 18,
   "metadata": {
    "execution": {
     "iopub.execute_input": "2025-06-22T10:52:23.130391Z",
     "iopub.status.busy": "2025-06-22T10:52:23.129689Z",
     "iopub.status.idle": "2025-06-22T10:52:23.137121Z",
     "shell.execute_reply": "2025-06-22T10:52:23.135791Z",
     "shell.execute_reply.started": "2025-06-22T10:52:23.130366Z"
    }
   },
   "outputs": [
    {
     "data": {
      "text/plain": [
       "-4"
      ]
     },
     "execution_count": 18,
     "metadata": {},
     "output_type": "execute_result"
    }
   ],
   "source": [
    "add(a,z)"
   ]
  },
  {
   "cell_type": "markdown",
   "metadata": {
    "id": "bUuVBhie53uK"
   },
   "source": [
    "4. Напишіть функцію `multipy_numbers`, яка приймає два числа як аргументи і повертає їх добуток.\n",
    "\n",
    "  Викличіть функцію `multipy_numbers` на парах чисел\n",
    "- 10 і 2\n",
    "- 7 і 8\n",
    "- 1024 і 999.\n",
    "  \n",
    "  Виведіть результат кожного виклику.\n",
    "  При виконанні цього завдання з використанням циклу - отримаєте 2х балів за нього :)"
   ]
  },
  {
   "cell_type": "code",
   "execution_count": 39,
   "metadata": {
    "execution": {
     "iopub.execute_input": "2025-06-22T11:43:53.624422Z",
     "iopub.status.busy": "2025-06-22T11:43:53.624120Z",
     "iopub.status.idle": "2025-06-22T11:43:53.628753Z",
     "shell.execute_reply": "2025-06-22T11:43:53.627850Z",
     "shell.execute_reply.started": "2025-06-22T11:43:53.624402Z"
    },
    "id": "cDqrgZ4YEAKj"
   },
   "outputs": [],
   "source": [
    "def multipy_numbers(f):\n",
    "    f = (a,b)\n",
    "    return a * b\n",
    "    # проби"
   ]
  },
  {
   "cell_type": "code",
   "execution_count": 21,
   "metadata": {
    "execution": {
     "iopub.execute_input": "2025-06-22T11:30:29.633965Z",
     "iopub.status.busy": "2025-06-22T11:30:29.633385Z",
     "iopub.status.idle": "2025-06-22T11:30:29.638494Z",
     "shell.execute_reply": "2025-06-22T11:30:29.637240Z",
     "shell.execute_reply.started": "2025-06-22T11:30:29.633944Z"
    }
   },
   "outputs": [],
   "source": [
    "m_num_list=[(10,2),(7,8),(1024,999)]"
   ]
  },
  {
   "cell_type": "code",
   "execution_count": 30,
   "metadata": {
    "execution": {
     "iopub.execute_input": "2025-06-22T11:38:44.731529Z",
     "iopub.status.busy": "2025-06-22T11:38:44.730985Z",
     "iopub.status.idle": "2025-06-22T11:38:44.737781Z",
     "shell.execute_reply": "2025-06-22T11:38:44.736530Z",
     "shell.execute_reply.started": "2025-06-22T11:38:44.731505Z"
    }
   },
   "outputs": [
    {
     "data": {
      "text/plain": [
       "list"
      ]
     },
     "execution_count": 30,
     "metadata": {},
     "output_type": "execute_result"
    }
   ],
   "source": [
    "type(m_num_list)"
   ]
  },
  {
   "cell_type": "code",
   "execution_count": 40,
   "metadata": {
    "execution": {
     "iopub.execute_input": "2025-06-22T11:43:57.057895Z",
     "iopub.status.busy": "2025-06-22T11:43:57.057095Z",
     "iopub.status.idle": "2025-06-22T11:43:57.063345Z",
     "shell.execute_reply": "2025-06-22T11:43:57.062010Z",
     "shell.execute_reply.started": "2025-06-22T11:43:57.057871Z"
    }
   },
   "outputs": [
    {
     "name": "stdout",
     "output_type": "stream",
     "text": [
      "1022976\n",
      "1022976\n",
      "1022976\n"
     ]
    }
   ],
   "source": [
    "for el in m_num_list:\n",
    "    multipy_numbers(el)\n",
    "    print(multipy_numbers(el))\n",
    "      # проби"
   ]
  },
  {
   "cell_type": "code",
   "execution_count": 43,
   "metadata": {
    "execution": {
     "iopub.execute_input": "2025-06-22T11:44:41.311019Z",
     "iopub.status.busy": "2025-06-22T11:44:41.310171Z",
     "iopub.status.idle": "2025-06-22T11:44:41.315130Z",
     "shell.execute_reply": "2025-06-22T11:44:41.314062Z",
     "shell.execute_reply.started": "2025-06-22T11:44:41.310995Z"
    }
   },
   "outputs": [],
   "source": [
    "def multipy_numbers(a, b):\n",
    "    return a * b"
   ]
  },
  {
   "cell_type": "code",
   "execution_count": 44,
   "metadata": {
    "execution": {
     "iopub.execute_input": "2025-06-22T11:44:43.168343Z",
     "iopub.status.busy": "2025-06-22T11:44:43.167636Z",
     "iopub.status.idle": "2025-06-22T11:44:43.173015Z",
     "shell.execute_reply": "2025-06-22T11:44:43.172086Z",
     "shell.execute_reply.started": "2025-06-22T11:44:43.168320Z"
    }
   },
   "outputs": [
    {
     "name": "stdout",
     "output_type": "stream",
     "text": [
      "20\n",
      "56\n",
      "1022976\n"
     ]
    }
   ],
   "source": [
    "for a, b in m_num_list:\n",
    "    multipy_numbers(a, b)\n",
    "    print(multipy_numbers(a, b))\n",
    "# вірний варіант"
   ]
  },
  {
   "cell_type": "markdown",
   "metadata": {
    "id": "I03t46k27dDZ"
   },
   "source": [
    "5. **Ділення з перевіркою типів.**  \n",
    "\n",
    "  1. Напишіть функцію `int_division` яка приймає на вхід два аргументи типу `int` - `a` і `b`, і виконує ділення першого аргумента на другий: `a/b`. При цьому функція перед діленням перевіряє, чи другий аргумент не дорівнює 0. Якщо другий аргумент не 0, фукнція вертає результат ділення, інакше - замість виконання ділення, вертає повідомлення на екран \"Не можу виконати ділення на 0\".\n",
    "\n",
    "    Якщо типи, надані у функцію, не `int` - функція виводить повідомлення \"Не працюю з такими типами даних.\".\n",
    "\n",
    "  2. Запустіть функцію на наступних парах чисел:\n",
    "- 12 і 6\n",
    "- 20 і 0\n",
    "- 112 і 10\n",
    "- 99 і 0\n",
    "- 11 i 1.1\n",
    "\n",
    "    і виведіть на екран повідомлення \"Результат роботи функції: \" - і далі те, що повернула функція.\n",
    "\n",
    "  3. Дайте відповідь на питання: \"Чому в деяких випадках функція повернула None?\""
   ]
  },
  {
   "cell_type": "code",
   "execution_count": 50,
   "metadata": {
    "execution": {
     "iopub.execute_input": "2025-06-22T11:55:09.666136Z",
     "iopub.status.busy": "2025-06-22T11:55:09.664925Z",
     "iopub.status.idle": "2025-06-22T11:55:09.671038Z",
     "shell.execute_reply": "2025-06-22T11:55:09.669975Z",
     "shell.execute_reply.started": "2025-06-22T11:55:09.666095Z"
    }
   },
   "outputs": [],
   "source": [
    "division_list=[(12,6),(20,0),(112,10),(99,0),(11,1.1)]"
   ]
  },
  {
   "cell_type": "code",
   "execution_count": 70,
   "metadata": {
    "execution": {
     "iopub.execute_input": "2025-06-22T12:17:47.102513Z",
     "iopub.status.busy": "2025-06-22T12:17:47.101255Z",
     "iopub.status.idle": "2025-06-22T12:17:47.107684Z",
     "shell.execute_reply": "2025-06-22T12:17:47.106180Z",
     "shell.execute_reply.started": "2025-06-22T12:17:47.102486Z"
    }
   },
   "outputs": [],
   "source": [
    "# функція яка не ділить на 0\n",
    "def  int_division(a: int, b: int) -> int:\n",
    "    if b == 0:\n",
    "        return \"Не можу виконати ділення на 0\"\n",
    "    return a / b"
   ]
  },
  {
   "cell_type": "code",
   "execution_count": 57,
   "metadata": {
    "execution": {
     "iopub.execute_input": "2025-06-22T12:00:26.732633Z",
     "iopub.status.busy": "2025-06-22T12:00:26.731710Z",
     "iopub.status.idle": "2025-06-22T12:00:26.737955Z",
     "shell.execute_reply": "2025-06-22T12:00:26.737003Z",
     "shell.execute_reply.started": "2025-06-22T12:00:26.732591Z"
    }
   },
   "outputs": [
    {
     "name": "stdout",
     "output_type": "stream",
     "text": [
      "2.0\n",
      "Не можу виконати ділення на 0\n",
      "11.2\n",
      "Не можу виконати ділення на 0\n",
      "10.0\n"
     ]
    }
   ],
   "source": [
    "for a, b in division_list:\n",
    "    int_division(a, b)\n",
    "    print(int_division(a, b))"
   ]
  },
  {
   "cell_type": "code",
   "execution_count": 67,
   "metadata": {
    "execution": {
     "iopub.execute_input": "2025-06-22T12:13:29.992567Z",
     "iopub.status.busy": "2025-06-22T12:13:29.991963Z",
     "iopub.status.idle": "2025-06-22T12:13:29.997508Z",
     "shell.execute_reply": "2025-06-22T12:13:29.996295Z",
     "shell.execute_reply.started": "2025-06-22T12:13:29.992543Z"
    },
    "id": "1-EQhxrAEEAb"
   },
   "outputs": [],
   "source": [
    "# функція яка не ділить на 0 та яка не працює лише з цілими числами\n",
    "def int_division(a, b):\n",
    "    if b == 0:\n",
    "        return \"Не можу виконати ділення на 0\"\n",
    "    if not isinstance(a, int) or not isinstance(b, int):\n",
    "        return \"Не працюю з такими типами даних.\"\n",
    "    return a / b"
   ]
  },
  {
   "cell_type": "code",
   "execution_count": 68,
   "metadata": {
    "execution": {
     "iopub.execute_input": "2025-06-22T12:13:33.138167Z",
     "iopub.status.busy": "2025-06-22T12:13:33.137726Z",
     "iopub.status.idle": "2025-06-22T12:13:33.144190Z",
     "shell.execute_reply": "2025-06-22T12:13:33.142874Z",
     "shell.execute_reply.started": "2025-06-22T12:13:33.138129Z"
    }
   },
   "outputs": [
    {
     "name": "stdout",
     "output_type": "stream",
     "text": [
      "Результат роботи функції: 2.0\n",
      "Результат роботи функції: Не можу виконати ділення на 0\n",
      "Результат роботи функції: 11.2\n",
      "Результат роботи функції: Не можу виконати ділення на 0\n",
      "Результат роботи функції: Не працюю з такими типами даних.\n"
     ]
    }
   ],
   "source": [
    "for a, b in division_list:\n",
    "    result = int_division(a, b)\n",
    "    print(f\"Результат роботи функції: {result}\")"
   ]
  },
  {
   "cell_type": "markdown",
   "metadata": {
    "execution": {
     "iopub.execute_input": "2025-06-22T12:14:36.814887Z",
     "iopub.status.busy": "2025-06-22T12:14:36.814124Z",
     "iopub.status.idle": "2025-06-22T12:14:36.822392Z",
     "shell.execute_reply": "2025-06-22T12:14:36.821047Z",
     "shell.execute_reply.started": "2025-06-22T12:14:36.814861Z"
    }
   },
   "source": [
    " Дайте відповідь на питання: \"Чому в деяких випадках функція повернула None?\"\n",
    "\n",
    " В мене ніде не видало None, що я не так роблю?\n"
   ]
  },
  {
   "cell_type": "code",
   "execution_count": 82,
   "metadata": {
    "execution": {
     "iopub.execute_input": "2025-06-22T12:29:40.453358Z",
     "iopub.status.busy": "2025-06-22T12:29:40.452809Z",
     "iopub.status.idle": "2025-06-22T12:29:40.459118Z",
     "shell.execute_reply": "2025-06-22T12:29:40.457862Z",
     "shell.execute_reply.started": "2025-06-22T12:29:40.453320Z"
    }
   },
   "outputs": [],
   "source": [
    "# розбиралась з різницею  returt та print\n",
    "def int_division(a, b):\n",
    "    if b == 0:\n",
    "        return \"Не можу виконати ділення на 0\"\n",
    "    print( a / b)\n",
    "    if not isinstance(a, int) or not isinstance(b, int):\n",
    "        print(\"Не працюю з такими типами даних.\")"
   ]
  },
  {
   "cell_type": "code",
   "execution_count": 83,
   "metadata": {
    "execution": {
     "iopub.execute_input": "2025-06-22T12:29:42.890100Z",
     "iopub.status.busy": "2025-06-22T12:29:42.889349Z",
     "iopub.status.idle": "2025-06-22T12:29:42.895128Z",
     "shell.execute_reply": "2025-06-22T12:29:42.894353Z",
     "shell.execute_reply.started": "2025-06-22T12:29:42.890075Z"
    }
   },
   "outputs": [
    {
     "name": "stdout",
     "output_type": "stream",
     "text": [
      "2.0\n",
      "Результат роботи функції: None\n",
      "Результат роботи функції: Не можу виконати ділення на 0\n",
      "11.2\n",
      "Результат роботи функції: None\n",
      "Результат роботи функції: Не можу виконати ділення на 0\n",
      "10.0\n",
      "Не працюю з такими типами даних.\n",
      "Результат роботи функції: None\n"
     ]
    }
   ],
   "source": [
    "for a, b in division_list:\n",
    "    result = int_division(a, b)\n",
    "    print(f\"Результат роботи функції: {result}\")"
   ]
  }
 ],
 "metadata": {
  "colab": {
   "provenance": []
  },
  "kernelspec": {
   "display_name": "Python 3 (ipykernel)",
   "language": "python",
   "name": "python3"
  },
  "language_info": {
   "codemirror_mode": {
    "name": "ipython",
    "version": 3
   },
   "file_extension": ".py",
   "mimetype": "text/x-python",
   "name": "python",
   "nbconvert_exporter": "python",
   "pygments_lexer": "ipython3",
   "version": "3.13.3"
  }
 },
 "nbformat": 4,
 "nbformat_minor": 4
}
